{
  "nbformat": 4,
  "nbformat_minor": 0,
  "metadata": {
    "colab": {
      "provenance": [],
      "authorship_tag": "ABX9TyMpTQGpBxtTYI01mh4ysqhm",
      "include_colab_link": true
    },
    "kernelspec": {
      "name": "python3",
      "display_name": "Python 3"
    },
    "language_info": {
      "name": "python"
    }
  },
  "cells": [
    {
      "cell_type": "markdown",
      "metadata": {
        "id": "view-in-github",
        "colab_type": "text"
      },
      "source": [
        "<a href=\"https://colab.research.google.com/github/im-vne/Snakes-or-No-Snakes/blob/main/800_model.ipynb\" target=\"_parent\"><img src=\"https://colab.research.google.com/assets/colab-badge.svg\" alt=\"Open In Colab\"/></a>"
      ]
    },
    {
      "cell_type": "markdown",
      "metadata": {
        "id": "qNvBBBhXQzi3"
      },
      "source": [
        "# Model building and evaluation\n",
        "\n",
        "This notebook contains the main two methods: CNN and logistic regression. For side analyses see their specific notebook."
      ]
    },
    {
      "cell_type": "code",
      "execution_count": 34,
      "metadata": {
        "colab": {
          "base_uri": "https://localhost:8080/"
        },
        "id": "lIyROfMHQ8HS",
        "outputId": "b4fb57de-6225-4d57-fa2b-ec638635a1be"
      },
      "outputs": [
        {
          "output_type": "stream",
          "name": "stdout",
          "text": [
            "Drive already mounted at /content/drive/; to attempt to forcibly remount, call drive.mount(\"/content/drive/\", force_remount=True).\n"
          ]
        }
      ],
      "source": [
        "from google.colab import drive\n",
        "drive.mount('/content/drive/')"
      ]
    },
    {
      "cell_type": "code",
      "execution_count": 35,
      "metadata": {
        "id": "-PIXpkD_W4Uu",
        "colab": {
          "base_uri": "https://localhost:8080/",
          "height": 36
        },
        "outputId": "624baae2-8fbc-42d0-ae1b-c9289c5e779c"
      },
      "outputs": [
        {
          "output_type": "execute_result",
          "data": {
            "text/plain": [
              "'/content'"
            ],
            "application/vnd.google.colaboratory.intrinsic+json": {
              "type": "string"
            }
          },
          "metadata": {},
          "execution_count": 35
        }
      ],
      "source": [
        "import os # work with system\n",
        "import cv2 # work with images\n",
        "import numpy as np # arrays and numerical analysis\n",
        "import matplotlib.pyplot as plt # for data plots\n",
        "\n",
        "\n",
        "import sklearn.linear_model # linear models\n",
        "from sklearn.model_selection import train_test_split # data splitting\n",
        "from sklearn import metrics # model evaluation\n",
        "import tensorflow.keras as keras\n",
        "import tensorflow as tf\n",
        "from tensorflow.keras import datasets, layers, models\n",
        "import random # for random sampling\n",
        "\n",
        "import pandas as pd\n",
        "\n",
        "os.getcwd()\n",
        "### set working directory in data folder\n",
        "#os.chdir(\"drive/Shareddrives/Capstone 2023/Data/MicrosoftSnakeAlgorithmProject\")"
      ]
    },
    {
      "cell_type": "code",
      "source": [
        "from google.colab import drive\n",
        "drive.mount('/content/drive')"
      ],
      "metadata": {
        "colab": {
          "base_uri": "https://localhost:8080/"
        },
        "id": "5JYPxf0R7ykA",
        "outputId": "abab60cd-1a1d-4b3c-9027-2fa3a31ff530"
      },
      "execution_count": 36,
      "outputs": [
        {
          "output_type": "stream",
          "name": "stdout",
          "text": [
            "Drive already mounted at /content/drive; to attempt to forcibly remount, call drive.mount(\"/content/drive\", force_remount=True).\n"
          ]
        }
      ]
    },
    {
      "cell_type": "code",
      "source": [
        "df = pd.read_csv(\"/content/drive/Shareddrives/Capstone 2023/Data/Time_Data/cumulative_organized_Data_Path.csv\")\n",
        "first_column = df.columns[0]\n",
        "df = df.drop([first_column], axis=1)\n",
        "print(df.head(5))\n",
        "print(df.tail(5))"
      ],
      "metadata": {
        "colab": {
          "base_uri": "https://localhost:8080/"
        },
        "id": "iwUIlLkY-L6N",
        "outputId": "f482bcd9-db79-46a2-d200-a5a096f1bbdc"
      },
      "execution_count": 37,
      "outputs": [
        {
          "output_type": "stream",
          "name": "stdout",
          "text": [
            "   Snake                 Date location camera  \\\n",
            "0      1  2016-03-08 07:36:30      LPS   TSP1   \n",
            "1      1  2016-03-08 07:37:00      LPS   TSP1   \n",
            "2      1  2016-03-08 07:37:30      LPS   TSP1   \n",
            "3      1  2016-03-08 07:38:00      LPS   TSP1   \n",
            "4      1  2016-03-13 14:46:00      LPS   TSP1   \n",
            "\n",
            "                                                Path  cumsum_snakes  \\\n",
            "0  /content/drive/Shareddrives/Capstone 2023/Data...              1   \n",
            "1  /content/drive/Shareddrives/Capstone 2023/Data...              2   \n",
            "2  /content/drive/Shareddrives/Capstone 2023/Data...              3   \n",
            "3  /content/drive/Shareddrives/Capstone 2023/Data...              4   \n",
            "4  /content/drive/Shareddrives/Capstone 2023/Data...              5   \n",
            "\n",
            "   cumsum_snakes_total  cumsum_snakes_location  cumsum_snakes_camera  \n",
            "0                    1                       1                     1  \n",
            "1                    2                       2                     2  \n",
            "2                    3                       3                     3  \n",
            "3                    4                       4                     4  \n",
            "4                    5                       5                     5  \n",
            "       Snake                 Date location  camera  \\\n",
            "23270      0  2019-10-13 14:54:00      LPS  APTR12   \n",
            "23271      0  2019-10-13 14:54:30      LPS  APTR12   \n",
            "23272      0  2019-10-13 14:55:00      LPS  APTR12   \n",
            "23273      0  2019-10-13 14:55:30      LPS  APTR12   \n",
            "23274      0  2019-10-13 14:56:00      LPS  APTR12   \n",
            "\n",
            "                                                    Path  cumsum_snakes  \\\n",
            "23270  /content/drive/Shareddrives/Capstone 2023/Data...           2129   \n",
            "23271  /content/drive/Shareddrives/Capstone 2023/Data...           2129   \n",
            "23272  /content/drive/Shareddrives/Capstone 2023/Data...           2129   \n",
            "23273  /content/drive/Shareddrives/Capstone 2023/Data...           2129   \n",
            "23274  /content/drive/Shareddrives/Capstone 2023/Data...           2129   \n",
            "\n",
            "       cumsum_snakes_total  cumsum_snakes_location  cumsum_snakes_camera  \n",
            "23270                 4203                    2129                   277  \n",
            "23271                 4203                    2129                   277  \n",
            "23272                 4203                    2129                   277  \n",
            "23273                 4203                    2129                   277  \n",
            "23274                 4203                    2129                   277  \n"
          ]
        }
      ]
    },
    {
      "cell_type": "code",
      "source": [
        "print(\"Total unique cameras:\")\n",
        "print(len(df.camera.unique()))\n",
        "print(\" \")\n",
        "\n",
        "print(\"max images per camera:\")\n",
        "print(df.cumsum_snakes_camera.value_counts().max())\n",
        "print(\"min images per camera:\")\n",
        "print(df.cumsum_snakes_camera.value_counts().min())\n",
        "\n"
      ],
      "metadata": {
        "colab": {
          "base_uri": "https://localhost:8080/"
        },
        "id": "0lWnlbaotn_O",
        "outputId": "d8e5572c-a08e-4bb7-8396-b046ccb53031"
      },
      "execution_count": 38,
      "outputs": [
        {
          "output_type": "stream",
          "name": "stdout",
          "text": [
            "Total unique cameras:\n",
            "65\n",
            " \n",
            "max images per camera:\n",
            "3534\n",
            "min images per camera:\n",
            "1\n"
          ]
        }
      ]
    },
    {
      "cell_type": "code",
      "source": [
        "#find number of samples per camera based on # of images needed\n",
        "#greater than 6 to allow cv\n",
        "#['TSP1', 'WF14', 'WF3', 'WF4', 'WF7']\n",
        "# have less than or equal to 6\n",
        "\n",
        "df01 = df.loc[(df['cumsum_snakes_camera'] >= 6 )]\n",
        "print(df01.head(5))\n",
        "\n",
        "#empty = []\n",
        "#ind = []\n",
        "#for x, i in df01.groupby('camera'):\n",
        "#    row = i.sample()\n",
        "#    empty.append(x)\n",
        "\n",
        "\n",
        "\n",
        "\n",
        "#print(len(empty))\n",
        "#print(empty)\n",
        "##I need to make sure every camera has had a snake in it\n",
        "#totcamlen = len(df.camera.unique())\n",
        "#print(totcamlen)\n",
        "#totimgsnake = len(df)\n",
        "#totcamlensnake = len(dfsnakenew.camera.unique())\n",
        "#totimgsnakepart = len(dfsnakenew.camera.unique())\n",
        "\n",
        "#print(totcamlensnake)\n",
        "\n",
        "#print(\" \")\n",
        "#print(totimgsnakepart)\n",
        "#print(totimgsnake)\n",
        "#totimg = len(df)\n",
        "#samplesize = 400\n",
        "#400/65\n",
        "\n",
        "##two cameras only have a cumsum of 1 snake appearance\n"
      ],
      "metadata": {
        "colab": {
          "base_uri": "https://localhost:8080/"
        },
        "id": "c778wnorRsGt",
        "outputId": "781b5733-c4ae-4b2b-e323-744337c6670c"
      },
      "execution_count": 39,
      "outputs": [
        {
          "output_type": "stream",
          "name": "stdout",
          "text": [
            "   Snake                 Date location camera  \\\n",
            "5      1  2016-03-13 16:15:30      LPS   TSP1   \n",
            "6      1  2016-03-13 16:16:00      LPS   TSP1   \n",
            "7      1  2016-03-13 16:16:30      LPS   TSP1   \n",
            "8      1  2016-03-13 16:17:00      LPS   TSP1   \n",
            "9      1  2016-03-13 16:17:30      LPS   TSP1   \n",
            "\n",
            "                                                Path  cumsum_snakes  \\\n",
            "5  /content/drive/Shareddrives/Capstone 2023/Data...              6   \n",
            "6  /content/drive/Shareddrives/Capstone 2023/Data...              7   \n",
            "7  /content/drive/Shareddrives/Capstone 2023/Data...              8   \n",
            "8  /content/drive/Shareddrives/Capstone 2023/Data...              9   \n",
            "9  /content/drive/Shareddrives/Capstone 2023/Data...             10   \n",
            "\n",
            "   cumsum_snakes_total  cumsum_snakes_location  cumsum_snakes_camera  \n",
            "5                    6                       6                     6  \n",
            "6                    7                       7                     7  \n",
            "7                    8                       8                     8  \n",
            "8                    9                       9                     9  \n",
            "9                   10                      10                    10  \n"
          ]
        }
      ]
    },
    {
      "cell_type": "code",
      "source": [
        "def resample_classes(files, labels, seed = 1):\n",
        "\n",
        "  '''\n",
        "  files and labels should both be np arrays\n",
        "  '''\n",
        "\n",
        "  # set seed for reproducibility (and possibly error computation)\n",
        "  random.seed(seed)\n",
        "  # get number of minority class (snakes)\n",
        "  n_minority = np.where(labels == 1)[0].shape[0]\n",
        "\n",
        "  # sample from indices corresponding to empty images\n",
        "  # downsample_idx should have as many indices as there are snake images\n",
        "  downsample_idx = np.array(random.sample(list(np.where(labels == 0)[0]), n_minority))\n",
        "  # final indices should have snakes and downsampled empties\n",
        "  out_index = np.concatenate((np.where(labels == 1)[0], downsample_idx))\n",
        "\n",
        "  # subset to resampled data - classes now balanced\n",
        "  filenames_resampled = files[out_index]\n",
        "  labels_resampled = labels[out_index]\n",
        "\n",
        "  print(f'total samples: {out_index.shape[0]}')\n",
        "  print(f'empty samples: {downsample_idx.shape[0]}')\n",
        "  print(f'snake samples: {n_minority}')\n",
        "\n",
        "  return filenames_resampled, labels_resampled"
      ],
      "metadata": {
        "id": "3s29VmctRl0t"
      },
      "execution_count": 40,
      "outputs": []
    },
    {
      "cell_type": "code",
      "source": [
        "df01\n",
        "print(df01.head(5))\n",
        "\n",
        "## This will return total original snakes of 4203\n",
        "## This includes cameras with 6 or less images\n",
        "labels = df['Snake']\n",
        "files = df['Path']\n",
        "\n",
        "#######\n",
        "\n",
        "##This will return less images\n",
        "## This is due to removing cameras with less than 6 images\n",
        "\n",
        "\n",
        "## Remove faulty image\n",
        "empty_img = \"MicrosoftSnakeAlgorithmProject/Snake_Images/FL_Snakes/WF8/IMG_7087.JPG\"\n",
        "df01 = df01[df01.Path != empty_img]\n",
        "\n",
        "labels = df01['Snake']\n",
        "print(len(labels))\n",
        "files = df01['Path']\n",
        "print(len(files))\n",
        "\n",
        "  # set seed for reproducibility (and possibly error computation)\n",
        "random.seed(1212)\n",
        "  # get number of minority class (snakes)\n",
        "n_minority = np.where(labels == 1)[0].shape[0]\n",
        "\n",
        "  # sample from indices corresponding to empty images\n",
        "  # downsample_idx should have as many indices as there are snake images\n",
        "downsample_idx = np.array(random.sample(list(np.where(labels == 0)[0]), n_minority))\n",
        "  # final indices should have snakes and downsampled empties\n",
        "out_index = np.concatenate((np.where(labels == 1)[0], downsample_idx))\n",
        "\n",
        "  # subset to resampled data - classes now balanced\n",
        "filenames_resampled = files.iloc[out_index]\n",
        "labels_resampled = labels.iloc[out_index]\n",
        "\n",
        "print(f'total samples: {out_index.shape[0]}')\n",
        "print(f'empty samples: {downsample_idx.shape[0]}')\n",
        "print(f'snake samples: {n_minority}')\n"
      ],
      "metadata": {
        "colab": {
          "base_uri": "https://localhost:8080/"
        },
        "id": "qiQrVhihfdSH",
        "outputId": "2c5619e8-f947-44f5-8c64-fab330f2ea73"
      },
      "execution_count": 41,
      "outputs": [
        {
          "output_type": "stream",
          "name": "stdout",
          "text": [
            "   Snake                 Date location camera  \\\n",
            "5      1  2016-03-13 16:15:30      LPS   TSP1   \n",
            "6      1  2016-03-13 16:16:00      LPS   TSP1   \n",
            "7      1  2016-03-13 16:16:30      LPS   TSP1   \n",
            "8      1  2016-03-13 16:17:00      LPS   TSP1   \n",
            "9      1  2016-03-13 16:17:30      LPS   TSP1   \n",
            "\n",
            "                                                Path  cumsum_snakes  \\\n",
            "5  /content/drive/Shareddrives/Capstone 2023/Data...              6   \n",
            "6  /content/drive/Shareddrives/Capstone 2023/Data...              7   \n",
            "7  /content/drive/Shareddrives/Capstone 2023/Data...              8   \n",
            "8  /content/drive/Shareddrives/Capstone 2023/Data...              9   \n",
            "9  /content/drive/Shareddrives/Capstone 2023/Data...             10   \n",
            "\n",
            "   cumsum_snakes_total  cumsum_snakes_location  cumsum_snakes_camera  \n",
            "5                    6                       6                     6  \n",
            "6                    7                       7                     7  \n",
            "7                    8                       8                     8  \n",
            "8                    9                       9                     9  \n",
            "9                   10                      10                    10  \n",
            "15265\n",
            "15265\n",
            "total samples: 7776\n",
            "empty samples: 3888\n",
            "snake samples: 3888\n"
          ]
        }
      ]
    },
    {
      "cell_type": "code",
      "source": [
        "##0.9046 comes from 1 - (4203*0.1)\n",
        "train = 0.2\n",
        "test = 0.9\n",
        "\n",
        "train, test = train_test_split(df01, test_size=1-train, random_state=1, stratify=df01[['camera','Snake']])\n",
        "\n",
        "print(\"Train\")\n",
        "print(train.Snake.value_counts())\n",
        "#print(train.camera.value_counts())\n",
        "print(len(train.camera.value_counts()))\n",
        "print(\"Test amount\")\n",
        "print(test.Snake.value_counts())\n",
        "\n",
        "train = 0.2\n",
        "\n",
        "x_train, x_test, y_train, y_test = train_test_split(files, labels, test_size = 1-train, stratify = df01[['camera','Snake']], shuffle = True, random_state = 1)\n",
        "\n",
        "print(\"Train\")\n",
        "#print(x_train.value_counts())\n",
        "print(y_train.value_counts())\n",
        "print(\"Test\")\n",
        "#print(x_test.value_counts())\n",
        "print(y_test.value_counts())\n",
        "\n",
        "x_val, x_test, y_val, y_test = train_test_split(\n",
        "      x_test, y_test, test_size = .99, stratify = y_test, shuffle = True, random_state = 1)\n",
        "\n",
        "print(f'train: {x_train.shape[0]} ({x_train.shape[0]/labels.shape[0]*100:.2f}%)')\n",
        "print(f'val: {x_val.shape[0]} ({x_val.shape[0]/labels.shape[0]*100:.2f}%)')\n",
        "print(f'test: {x_test.shape[0]} ({x_test.shape[0]/labels.shape[0]*100:.2f}%)')"
      ],
      "metadata": {
        "colab": {
          "base_uri": "https://localhost:8080/"
        },
        "id": "XEuQCp0D_pxr",
        "outputId": "90ee1f3e-0e9f-4537-c873-54cb9c98c957"
      },
      "execution_count": 42,
      "outputs": [
        {
          "output_type": "stream",
          "name": "stdout",
          "text": [
            "Train\n",
            "0    2272\n",
            "1     781\n",
            "Name: Snake, dtype: int64\n",
            "59\n",
            "Test amount\n",
            "0    9105\n",
            "1    3107\n",
            "Name: Snake, dtype: int64\n",
            "Train\n",
            "0    2272\n",
            "1     781\n",
            "Name: Snake, dtype: int64\n",
            "Test\n",
            "0    9105\n",
            "1    3107\n",
            "Name: Snake, dtype: int64\n",
            "train: 3053 (20.00%)\n",
            "val: 122 (0.80%)\n",
            "test: 12090 (79.20%)\n"
          ]
        }
      ]
    },
    {
      "cell_type": "code",
      "source": [
        "def count_split(data): # much better would be to count 0 and 1 in y_*\n",
        "\n",
        "  data = list(data)\n",
        "  snake = [x for x in data if \"Snake_Images\" in x]\n",
        "  empty = [x for x in data if \"Empty\" in x]\n",
        "\n",
        "  print(f'total: {len(data)}')\n",
        "  print(f'snake: {len(snake)} ({len(snake)/len(data)*100:.2f}%)')\n",
        "  print(f'empty: {len(empty)} ({len(empty)/len(data)*100:.2f}%)')"
      ],
      "metadata": {
        "id": "VEjA1vqW8WOU"
      },
      "execution_count": 43,
      "outputs": []
    },
    {
      "cell_type": "code",
      "source": [
        "print()\n",
        "count_split(x_train)\n",
        "count_split(x_val)\n",
        "count_split(x_test)\n",
        "print()"
      ],
      "metadata": {
        "colab": {
          "base_uri": "https://localhost:8080/"
        },
        "id": "31iRHc3qRT4z",
        "outputId": "49fef1bc-fdb4-4d2b-8d80-723c18166f66"
      },
      "execution_count": 44,
      "outputs": [
        {
          "output_type": "stream",
          "name": "stdout",
          "text": [
            "\n",
            "total: 3053\n",
            "snake: 781 (25.58%)\n",
            "empty: 2272 (74.42%)\n",
            "total: 122\n",
            "snake: 31 (25.41%)\n",
            "empty: 91 (74.59%)\n",
            "total: 12090\n",
            "snake: 3076 (25.44%)\n",
            "empty: 9014 (74.56%)\n",
            "\n"
          ]
        }
      ]
    },
    {
      "cell_type": "code",
      "source": [
        "tf.config.list_physical_devices('GPU')"
      ],
      "metadata": {
        "colab": {
          "base_uri": "https://localhost:8080/"
        },
        "id": "HcCLIxzcvdzC",
        "outputId": "4667dfa9-0be9-40cc-ef4d-8ea89c0371d2"
      },
      "execution_count": 45,
      "outputs": [
        {
          "output_type": "execute_result",
          "data": {
            "text/plain": [
              "[]"
            ]
          },
          "metadata": {},
          "execution_count": 45
        }
      ]
    },
    {
      "cell_type": "code",
      "source": [
        "!nvidia-smi"
      ],
      "metadata": {
        "id": "IaiRHPE4wF3q",
        "colab": {
          "base_uri": "https://localhost:8080/"
        },
        "outputId": "306140a9-82db-4cb7-b676-55d98e7df8aa"
      },
      "execution_count": 46,
      "outputs": [
        {
          "output_type": "stream",
          "name": "stdout",
          "text": [
            "/bin/bash: nvidia-smi: command not found\n"
          ]
        }
      ]
    },
    {
      "cell_type": "code",
      "execution_count": 46,
      "metadata": {
        "id": "n9EvY-CVKVb2"
      },
      "outputs": [],
      "source": []
    },
    {
      "cell_type": "code",
      "source": [
        "## import csv\n"
      ],
      "metadata": {
        "id": "jgMdhu_17Qcs"
      },
      "execution_count": 47,
      "outputs": []
    },
    {
      "cell_type": "code",
      "source": [
        "##create sample size for 400"
      ],
      "metadata": {
        "id": "0YJctYWAIKRD"
      },
      "execution_count": 48,
      "outputs": []
    },
    {
      "cell_type": "code",
      "source": [
        "##\n"
      ],
      "metadata": {
        "id": "oc3ATQdVIKmY"
      },
      "execution_count": 49,
      "outputs": []
    },
    {
      "cell_type": "code",
      "execution_count": 49,
      "metadata": {
        "id": "gAO-Ih3qzYfc"
      },
      "outputs": [],
      "source": []
    },
    {
      "cell_type": "code",
      "execution_count": 49,
      "metadata": {
        "id": "2eEtUMuYu_09"
      },
      "outputs": [],
      "source": []
    },
    {
      "cell_type": "code",
      "source": [
        "class data_generator(keras.utils.Sequence) :\n",
        "\n",
        "  def __init__(self, image_filenames, labels, batch_size, log) :\n",
        "    self.image_filenames = image_filenames\n",
        "    self.labels = labels\n",
        "    self.batch_size = batch_size\n",
        "    self.log = log\n",
        "\n",
        "  def __len__(self) :\n",
        "    return (np.ceil(len(self.image_filenames) / float(self.batch_size))).astype(int)\n",
        "\n",
        "  def __getitem__(self, idx) :\n",
        "    batch_x = self.image_filenames[idx * self.batch_size : (idx+1) * self.batch_size]\n",
        "    batch_y = self.labels[idx * self.batch_size : (idx+1) * self.batch_size]\n",
        "\n",
        "    # read in and process image (different resizing for logistic regression to reduce trainable parameters)\n",
        "    if self.log:\n",
        "      x_list = [cv2.resize(cv2.imread(file_name, cv2.IMREAD_GRAYSCALE), (100, 60), interpolation = cv2.INTER_NEAREST) for file_name in batch_x]\n",
        "    else:\n",
        "      x_list = [cv2.resize(cv2.imread(file_name, cv2.IMREAD_GRAYSCALE), (512, 384), interpolation = cv2.INTER_NEAREST) for file_name in batch_x]\n",
        "\n",
        "    x_arr = np.array(x_list)\n",
        "    x_arr_reshaped = x_arr.reshape([x_arr.shape[0], x_arr.shape[1], x_arr.shape[2], 1])\n",
        "\n",
        "    y_arr = np.array(batch_y)\n",
        "    y_arr_reshaped = y_arr.reshape([x_arr_reshaped.shape[0], 1])\n",
        "\n",
        "    return x_arr_reshaped, y_arr_reshaped"
      ],
      "metadata": {
        "id": "g5xDejSz18Af"
      },
      "execution_count": 50,
      "outputs": []
    },
    {
      "cell_type": "code",
      "execution_count": 51,
      "metadata": {
        "id": "wn6p728ewZ7-"
      },
      "outputs": [],
      "source": [
        "def create_generators(x_train, y_train, x_val, y_val, x_test, y_test, batch_size = 32, log = False):\n",
        "\n",
        "  train_generator = data_generator(x_train, y_train, batch_size, log)\n",
        "  validation_generator = data_generator(x_val, y_val, batch_size, log)\n",
        "  test_generator = data_generator(x_test, y_test, batch_size, log)\n",
        "\n",
        "  return train_generator, validation_generator, test_generator\n"
      ]
    },
    {
      "cell_type": "code",
      "source": [
        "def count_split(data): # much better would be to count 0 and 1 in y_*\n",
        "\n",
        "  data = list(data)\n",
        "  snake = [x for x in data if \"Snake_Images\" in x]\n",
        "  empty = [x for x in data if \"Empty\" in x]\n",
        "\n",
        "  print(f'total: {len(data)}')\n",
        "  print(f'snake: {len(snake)} ({len(snake)/len(data)*100:.2f}%)')\n",
        "  print(f'empty: {len(empty)} ({len(empty)/len(data)*100:.2f}%)')"
      ],
      "metadata": {
        "id": "nvYr1w73QYDC"
      },
      "execution_count": 52,
      "outputs": []
    },
    {
      "cell_type": "code",
      "execution_count": 52,
      "metadata": {
        "id": "NTvGroJoJPhA"
      },
      "outputs": [],
      "source": []
    },
    {
      "cell_type": "markdown",
      "metadata": {
        "id": "3RFAPQerxj5d"
      },
      "source": [
        "## CNN"
      ]
    },
    {
      "cell_type": "code",
      "source": [
        "# create data generators\n",
        "batch_size = 32\n",
        "train_generator, validation_generator, test_generator = create_generators(x_train, y_train, x_val, y_val, x_test, y_test, batch_size = batch_size, log = False)"
      ],
      "metadata": {
        "id": "Annq0ORw2d-O"
      },
      "execution_count": 53,
      "outputs": []
    },
    {
      "cell_type": "code",
      "execution_count": 54,
      "metadata": {
        "id": "I2rsHpz40FMw"
      },
      "outputs": [],
      "source": [
        "# create model\n",
        "def build_model():\n",
        "\n",
        "    model = models.Sequential()\n",
        "    model.add(layers.Conv2D(16, (3, 3), activation='relu', input_shape=(384, 512, 1)))\n",
        "    model.add(layers.MaxPooling2D((2, 2)))\n",
        "    model.add(layers.Conv2D(32, (3, 3), activation='relu'))\n",
        "    model.add(layers.MaxPooling2D((2, 2)))\n",
        "    model.add(layers.Conv2D(64, (3, 3), activation='relu'))\n",
        "    model.add(layers.MaxPooling2D((2, 2)))\n",
        "\n",
        "    model.add(layers.Flatten())\n",
        "    model.add(layers.Dense(128, activation='relu'))\n",
        "    model.add(layers.Dense(1, activation = 'sigmoid'))\n",
        "\n",
        "    # compile model with desired features\n",
        "    model.compile(\n",
        "        optimizer = \"adam\", loss = \"binary_crossentropy\",\n",
        "        metrics=['accuracy']\n",
        "    )\n",
        "\n",
        "    return model"
      ]
    },
    {
      "cell_type": "code",
      "execution_count": 55,
      "metadata": {
        "id": "2TeCVESl0Kou"
      },
      "outputs": [],
      "source": [
        "# build the model\n",
        "cnn_model = build_model()"
      ]
    },
    {
      "cell_type": "code",
      "execution_count": 56,
      "metadata": {
        "colab": {
          "base_uri": "https://localhost:8080/"
        },
        "id": "cqn7xDxKUkEg",
        "outputId": "bdcd0a98-2975-4f3d-e4fe-09e7665fab0f"
      },
      "outputs": [
        {
          "output_type": "stream",
          "name": "stdout",
          "text": [
            "Model: \"sequential_1\"\n",
            "_________________________________________________________________\n",
            " Layer (type)                Output Shape              Param #   \n",
            "=================================================================\n",
            " conv2d_3 (Conv2D)           (None, 382, 510, 16)      160       \n",
            "                                                                 \n",
            " max_pooling2d_3 (MaxPooling  (None, 191, 255, 16)     0         \n",
            " 2D)                                                             \n",
            "                                                                 \n",
            " conv2d_4 (Conv2D)           (None, 189, 253, 32)      4640      \n",
            "                                                                 \n",
            " max_pooling2d_4 (MaxPooling  (None, 94, 126, 32)      0         \n",
            " 2D)                                                             \n",
            "                                                                 \n",
            " conv2d_5 (Conv2D)           (None, 92, 124, 64)       18496     \n",
            "                                                                 \n",
            " max_pooling2d_5 (MaxPooling  (None, 46, 62, 64)       0         \n",
            " 2D)                                                             \n",
            "                                                                 \n",
            " flatten_1 (Flatten)         (None, 182528)            0         \n",
            "                                                                 \n",
            " dense_2 (Dense)             (None, 128)               23363712  \n",
            "                                                                 \n",
            " dense_3 (Dense)             (None, 1)                 129       \n",
            "                                                                 \n",
            "=================================================================\n",
            "Total params: 23,387,137\n",
            "Trainable params: 23,387,137\n",
            "Non-trainable params: 0\n",
            "_________________________________________________________________\n"
          ]
        }
      ],
      "source": [
        "# view model architecture\n",
        "cnn_model.summary()"
      ]
    },
    {
      "cell_type": "code",
      "execution_count": 57,
      "metadata": {
        "colab": {
          "base_uri": "https://localhost:8080/"
        },
        "id": "7n3LFWNX0oJ2",
        "outputId": "78bfbb0b-d917-4288-aa7a-141e26187002"
      },
      "outputs": [
        {
          "output_type": "stream",
          "name": "stdout",
          "text": [
            "Epoch 1/3\n",
            "95/95 [==============================] - 1277s 13s/step - loss: 54.7383 - accuracy: 0.7342 - val_loss: 0.2757 - val_accuracy: 0.9271\n",
            "Epoch 2/3\n",
            "95/95 [==============================] - 770s 8s/step - loss: 0.1625 - accuracy: 0.9441 - val_loss: 0.1693 - val_accuracy: 0.9479\n",
            "Epoch 3/3\n",
            "95/95 [==============================] - 782s 8s/step - loss: 0.0847 - accuracy: 0.9745 - val_loss: 0.0899 - val_accuracy: 0.9792\n"
          ]
        }
      ],
      "source": [
        "cnn_fit = cnn_model.fit(\n",
        "    train_generator,\n",
        "    steps_per_epoch = int(x_train.shape[0] // batch_size),\n",
        "    # steps_per_epoch = 10,\n",
        "    epochs = 3,\n",
        "    verbose = 1,\n",
        "    validation_data = validation_generator,\n",
        "    validation_steps = int(x_val.shape[0] // batch_size)\n",
        "    # validation_steps = 3\n",
        ")"
      ]
    },
    {
      "cell_type": "code",
      "source": [
        "# can load saved (see google sheet for model descriptions)\n",
        "# cnn_model = tf.keras.models.load_model(\"../Snakes-or-No-Snakes/cnn_balanced_seed1_3e\")"
      ],
      "metadata": {
        "id": "sSB1fDxa0qMV"
      },
      "execution_count": 58,
      "outputs": []
    },
    {
      "cell_type": "code",
      "execution_count": 59,
      "metadata": {
        "id": "tkw76jZoDjyN",
        "colab": {
          "base_uri": "https://localhost:8080/"
        },
        "outputId": "e2372e8d-059b-4f66-dfc3-31268a7fb4fa"
      },
      "outputs": [
        {
          "output_type": "stream",
          "name": "stdout",
          "text": [
            "378/378 [==============================] - 4462s 12s/step\n"
          ]
        }
      ],
      "source": [
        "model_predict = cnn_model.predict(\n",
        "    test_generator\n",
        ")"
      ]
    },
    {
      "cell_type": "code",
      "execution_count": null,
      "metadata": {
        "id": "DHhm9V2j78V0"
      },
      "outputs": [],
      "source": [
        "# get class predictions\n",
        "predictions_cnn = model_predict > 0.5\n",
        "predictions_cnn = predictions_cnn.reshape(x_test.shape[0])\n",
        "print(predictions_cnn.shape)"
      ]
    },
    {
      "cell_type": "code",
      "source": [
        "#set(list(predictions_cnn.reshape(1262)))"
      ],
      "metadata": {
        "id": "wkSZfPT7rHTh"
      },
      "execution_count": null,
      "outputs": []
    },
    {
      "cell_type": "code",
      "execution_count": 66,
      "metadata": {
        "id": "CoTUxBArKjTf",
        "colab": {
          "base_uri": "https://localhost:8080/",
          "height": 466
        },
        "outputId": "1d2717cf-68f0-4579-9245-f92c373fb434"
      },
      "outputs": [
        {
          "output_type": "execute_result",
          "data": {
            "text/plain": [
              "<sklearn.metrics._plot.confusion_matrix.ConfusionMatrixDisplay at 0x7f36d363baf0>"
            ]
          },
          "metadata": {},
          "execution_count": 66
        },
        {
          "output_type": "display_data",
          "data": {
            "text/plain": [
              "<Figure size 640x480 with 2 Axes>"
            ],
            "image/png": "[encoded data removed]"
          },
          "metadata": {}
        }
      ],
      "source": [
        "# plot confusion matrix\n",
        "metrics.ConfusionMatrixDisplay.from_predictions(y_test, predictions_cnn, cmap = \"GnBu\")"
      ]
    },
    {
      "cell_type": "code",
      "execution_count": 68,
      "metadata": {
        "id": "cW4daMTuKnSX",
        "colab": {
          "base_uri": "https://localhost:8080/"
        },
        "outputId": "5d519ea4-2b43-4aa5-f649-6dea56dfa135"
      },
      "outputs": [
        {
          "output_type": "stream",
          "name": "stdout",
          "text": [
            "accuracy: 0.9628618693134822\n",
            "precision: 0.9699463327370305\n",
            "sensitivity: 0.8813394018205462\n",
            "specificity: 0.9906811626358997\n",
            "f1_score: 0.9235223982285812\n"
          ]
        }
      ],
      "source": [
        "### model evaluation metrics\n",
        "\n",
        "# (true positive + true negative)/total\n",
        "accuracy = sklearn.metrics.accuracy_score(y_test, predictions_cnn)\n",
        "print(\"accuracy: \" + str(accuracy))\n",
        "\n",
        "# true positive/(true positive + false positive)\n",
        "precision = sklearn.metrics.precision_score(y_test, predictions_cnn)\n",
        "print(\"precision: \" + str(precision))\n",
        "\n",
        "# true positive/(true positive + false negative)\n",
        "sensitivity = sklearn.metrics.recall_score(y_test, predictions_cnn)\n",
        "print(\"sensitivity: \" + str(sensitivity))\n",
        "\n",
        "# true negative/(true negative + false positive)\n",
        "specificity = sklearn.metrics.recall_score(y_test, predictions_cnn, pos_label = 0)\n",
        "print(\"specificity: \" + str(specificity))\n",
        "\n",
        "# 2 * (precision*recall)/(precision+recall)\n",
        "f1_score = 2*(precision*sensitivity)/(precision+sensitivity)\n",
        "print(\"f1_score: \" + str(f1_score))\n",
        "\n",
        "# no false positives means precision and specificity will be 100%"
      ]
    },
    {
      "cell_type": "code",
      "execution_count": 64,
      "metadata": {
        "id": "8IScJl10KsS-"
      },
      "outputs": [],
      "source": [
        "# save model\n",
        "#cnn_model.save('../Snakes-or-No-Snakes/cnn_final_seed1_3e')"
      ]
    },
    {
      "cell_type": "code",
      "execution_count": 69,
      "metadata": {
        "colab": {
          "base_uri": "https://localhost:8080/",
          "height": 472
        },
        "id": "T39EubL9LCQd",
        "outputId": "4c4ee5b6-fd2a-4c2e-ade6-94e8418a1df3"
      },
      "outputs": [
        {
          "output_type": "execute_result",
          "data": {
            "text/plain": [
              "<matplotlib.legend.Legend at 0x7f3637323af0>"
            ]
          },
          "metadata": {},
          "execution_count": 69
        },
        {
          "output_type": "display_data",
          "data": {
            "text/plain": [
              "<Figure size 640x480 with 1 Axes>"
            ],
            "image/png": "[encoded data removed]"
          },
          "metadata": {}
        }
      ],
      "source": [
        "# plot accuracy across epochs\n",
        "plt.plot(cnn_fit.history['accuracy'], label='accuracy')\n",
        "plt.plot(cnn_fit.history['val_accuracy'], label = 'val_accuracy')\n",
        "plt.xlabel('Epoch')\n",
        "plt.ylabel('Accuracy')\n",
        "plt.ylim([0.5, 1])\n",
        "plt.legend(loc='lower right')"
      ]
    },
    {
      "cell_type": "code",
      "execution_count": 65,
      "metadata": {
        "id": "vA4AyD5Q5_it"
      },
      "outputs": [],
      "source": []
    }
  ]
}