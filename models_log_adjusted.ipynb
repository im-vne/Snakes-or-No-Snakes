{
  "cells": [
    {
      "cell_type": "markdown",
      "metadata": {
        "id": "qNvBBBhXQzi3"
      },
      "source": [
        "# Model building and evaluation\n",
        "\n",
        "This notebook explores different methods to approach logistic regression regression. Since the number of observations (images) could be less than the number of trainable features, some dimension reduction is in order.\n",
        "\n",
        "1. Local Binary Patterns (feature extraction using sklearn)  \n",
        "2. Column means\n",
        "3. Row means\n",
        "4. Drop resolution by interpolating, flatten\n",
        "\n",
        "In the end, option 4 performed the best so that one is included as the final logistic regression model. For the most up to date results and plots see the  models notebook."
      ]
    },
    {
      "cell_type": "code",
      "execution_count": 1,
      "metadata": {
        "colab": {
          "base_uri": "https://localhost:8080/"
        },
        "id": "lIyROfMHQ8HS",
        "outputId": "746541ed-6d3e-44bd-ad48-fb7ab720c1c6"
      },
      "outputs": [
        {
          "output_type": "stream",
          "name": "stdout",
          "text": [
            "Mounted at /content/drive/\n"
          ]
        }
      ],
      "source": [
        "from google.colab import drive\n",
        "drive.mount('/content/drive/') "
      ]
    },
    {
      "cell_type": "code",
      "execution_count": 2,
      "metadata": {
        "id": "-PIXpkD_W4Uu"
      },
      "outputs": [],
      "source": [
        "import os # work with system    \n",
        "import cv2 # work with images\n",
        "import numpy as np # arrays and numerical analysis  \n",
        "import matplotlib.pyplot as plt # for data plots\n",
        "\n",
        "import sklearn.linear_model # linear models\n",
        "from sklearn.model_selection import train_test_split # data splitting\n",
        "from sklearn import metrics # model evaluation\n",
        "from skimage import feature # local binary patterns\n",
        "import tensorflow.keras as keras\n",
        "import tensorflow as tf\n",
        "from tensorflow.keras import datasets, layers, models\n",
        "import random # for random sampling \n",
        "\n",
        "### set working directory in data folder\n",
        "os.chdir(\"drive/Shareddrives/Capstone 2023/Data/MicrosoftSnakeAlgorithmProject\")"
      ]
    },
    {
      "cell_type": "code",
      "execution_count": 3,
      "metadata": {
        "colab": {
          "base_uri": "https://localhost:8080/"
        },
        "id": "HcCLIxzcvdzC",
        "outputId": "f1b71a30-60be-4765-85a0-ef93e5ff890d"
      },
      "outputs": [
        {
          "output_type": "execute_result",
          "data": {
            "text/plain": [
              "[PhysicalDevice(name='/physical_device:GPU:0', device_type='GPU')]"
            ]
          },
          "metadata": {},
          "execution_count": 3
        }
      ],
      "source": [
        "tf.config.list_physical_devices('GPU')"
      ]
    },
    {
      "cell_type": "code",
      "execution_count": 4,
      "metadata": {
        "colab": {
          "base_uri": "https://localhost:8080/"
        },
        "id": "IaiRHPE4wF3q",
        "outputId": "9d86c8f2-4837-4068-a5b3-a527b3d7578a"
      },
      "outputs": [
        {
          "output_type": "stream",
          "name": "stdout",
          "text": [
            "Thu Apr 27 04:17:38 2023       \n",
            "+-----------------------------------------------------------------------------+\n",
            "| NVIDIA-SMI 525.85.12    Driver Version: 525.85.12    CUDA Version: 12.0     |\n",
            "|-------------------------------+----------------------+----------------------+\n",
            "| GPU  Name        Persistence-M| Bus-Id        Disp.A | Volatile Uncorr. ECC |\n",
            "| Fan  Temp  Perf  Pwr:Usage/Cap|         Memory-Usage | GPU-Util  Compute M. |\n",
            "|                               |                      |               MIG M. |\n",
            "|===============================+======================+======================|\n",
            "|   0  Tesla T4            Off  | 00000000:00:04.0 Off |                    0 |\n",
            "| N/A   54C    P8    10W /  70W |      3MiB / 15360MiB |      0%      Default |\n",
            "|                               |                      |                  N/A |\n",
            "+-------------------------------+----------------------+----------------------+\n",
            "                                                                               \n",
            "+-----------------------------------------------------------------------------+\n",
            "| Processes:                                                                  |\n",
            "|  GPU   GI   CI        PID   Type   Process name                  GPU Memory |\n",
            "|        ID   ID                                                   Usage      |\n",
            "|=============================================================================|\n",
            "|  No running processes found                                                 |\n",
            "+-----------------------------------------------------------------------------+\n"
          ]
        }
      ],
      "source": [
        "!nvidia-smi"
      ]
    },
    {
      "cell_type": "code",
      "execution_count": 5,
      "metadata": {
        "colab": {
          "base_uri": "https://localhost:8080/"
        },
        "id": "n9EvY-CVKVb2",
        "outputId": "0a824dba-9449-4637-8ee4-31d3296c68f0"
      },
      "outputs": [
        {
          "output_type": "stream",
          "name": "stdout",
          "text": [
            "MicrosoftSnakeAlgorithmProject/Snake_Images/FL_Snakes/WF8/IMG_7087.JPG\n",
            "23275\n"
          ]
        }
      ],
      "source": [
        "# estimated runtime: 45 seconds\n",
        "counter = 0 # if desired to break loop\n",
        "\n",
        "# labels and filenames should match since they are appended in order\n",
        "filenames = []\n",
        "labels = []\n",
        "\n",
        "# test_ood = []\n",
        "# labels_ood = []\n",
        "\n",
        "# one image does not open properly\n",
        "empty_img = \"MicrosoftSnakeAlgorithmProject/Snake_Images/FL_Snakes/WF8/IMG_7087.JPG\"\n",
        "# walk through all directories and files in current working directory\n",
        "for root, dir, files in os.walk(os.getcwd()):\n",
        "    \n",
        "    for jpg in files:\n",
        "        if empty_img in os.path.join(root, jpg):\n",
        "          print(empty_img)\n",
        "          continue\n",
        "\n",
        "        # if jpg file, then keep filename\n",
        "        if \".JPG\" in jpg:\n",
        "            filenames.append(os.path.join(root, jpg))\n",
        "\n",
        "        if \"Empty\" in root:\n",
        "          labels.append(0)\n",
        "        elif \"Snake_Images\" in root:\n",
        "          labels.append(1)\n",
        "            \n",
        "    counter += 1\n",
        "    # if counter > 10000: break\n",
        "\n",
        "filenames_arr = np.array(filenames)\n",
        "labels_arr = np.array(labels)\n",
        "  \n",
        "print(len(filenames))\n",
        "# print(len(test_ood))"
      ]
    },
    {
      "cell_type": "code",
      "execution_count": 6,
      "metadata": {
        "id": "gAO-Ih3qzYfc"
      },
      "outputs": [],
      "source": [
        "def resample_classes(files, labels, seed = 1):\n",
        "\n",
        "  '''\n",
        "  files and labels should both be np arrays\n",
        "  '''\n",
        "\n",
        "  # set seed for reproducibility (and possibly error computation)\n",
        "  random.seed(seed)\n",
        "  # get number of minority class (snakes)\n",
        "  n_minority = np.where(labels == 1)[0].shape[0]\n",
        "\n",
        "  # sample from indices corresponding to empty images\n",
        "  # downsample_idx should have as many indices as there are snake images\n",
        "  downsample_idx = np.array(random.sample(list(np.where(labels == 0)[0]), n_minority))\n",
        "  # final indices should have snakes and downsampled empties\n",
        "  out_index = np.concatenate((np.where(labels == 1)[0], downsample_idx))\n",
        "\n",
        "  # subset to resampled data - classes now balanced\n",
        "  filenames_resampled = files[out_index]\n",
        "  labels_resampled = labels[out_index]\n",
        "\n",
        "  print(f'total samples: {out_index.shape[0]}')\n",
        "  print(f'empty samples: {downsample_idx.shape[0]}')\n",
        "  print(f'snake samples: {n_minority}')\n",
        "\n",
        "  return filenames_resampled, labels_resampled"
      ]
    },
    {
      "cell_type": "code",
      "execution_count": 7,
      "metadata": {
        "id": "2eEtUMuYu_09"
      },
      "outputs": [],
      "source": [
        "def split_data(files, labels, seed = 27, train = 0.8, test = 0.15):\n",
        "\n",
        "  '''\n",
        "  files and labels should both be np arrays\n",
        "  '''\n",
        "\n",
        "  # split data: train is 1-test_size and test is test_size*leftover\n",
        "  # must stratify to ensure roughly equal splits in train, val, test\n",
        "  # train and test specified, val is 1 - (train + test)\n",
        "  x_train, x_test, y_train, y_test = train_test_split(\n",
        "      files, labels, test_size = 1-train, stratify = labels, shuffle = True, random_state = seed)\n",
        "  x_val, x_test, y_val, y_test = train_test_split(\n",
        "      x_test, y_test, test_size = test/(1-train), stratify = y_test, shuffle = True, random_state = seed)\n",
        "  \n",
        "  print(f'train: {x_train.shape[0]} ({x_train.shape[0]/labels.shape[0]*100:.2f}%)')\n",
        "  print(f'val: {x_val.shape[0]} ({x_val.shape[0]/labels.shape[0]*100:.2f}%)')\n",
        "  print(f'test: {x_test.shape[0]} ({x_test.shape[0]/labels.shape[0]*100:.2f}%)')\n",
        "\n",
        "  return x_train, y_train, x_val, y_val, x_test, y_test"
      ]
    },
    {
      "cell_type": "code",
      "execution_count": 8,
      "metadata": {
        "id": "nvYr1w73QYDC"
      },
      "outputs": [],
      "source": [
        "def count_split(data): # much better would be to count 0 and 1 in y_* \n",
        "\n",
        "  data = list(data)\n",
        "  snake = [x for x in data if \"Snake_Images\" in x]\n",
        "  empty = [x for x in data if \"Empty\" in x]\n",
        "\n",
        "  print(f'total: {len(data)}')\n",
        "  print(f'snake: {len(snake)} ({len(snake)/len(data)*100:.2f}%)')\n",
        "  print(f'empty: {len(empty)} ({len(empty)/len(data)*100:.2f}%)')"
      ]
    },
    {
      "cell_type": "markdown",
      "metadata": {
        "id": "VSqTwUHmQzjG"
      },
      "source": [
        "## Local Binary Patterns\n",
        "\n",
        "This section explores the use of local binary patterns (texture) as a feature to feed into the logistic regression. Results are very poor - all images are predicted positive."
      ]
    },
    {
      "cell_type": "code",
      "execution_count": 9,
      "metadata": {
        "id": "kue8mC2pCP3R"
      },
      "outputs": [],
      "source": [
        "# import the necessary packages\n",
        "class LocalBinaryPatterns:\n",
        "\tdef __init__(self, numPoints, radius):\n",
        "\t\t# store the number of points and radius\n",
        "\t\tself.numPoints = numPoints\n",
        "\t\tself.radius = radius\n",
        "\tdef describe(self, image, eps=1e-7):\n",
        "\t\t# compute the Local Binary Pattern representation\n",
        "\t\t# of the image, and then use the LBP representation\n",
        "\t\t# to build the histogram of patterns\n",
        "\t\tlbp = feature.local_binary_pattern(image, self.numPoints,\n",
        "\t\t\tself.radius, method=\"uniform\")\n",
        "\t\t(hist, _) = np.histogram(lbp.ravel(),\n",
        "\t\t\tbins=np.arange(0, self.numPoints + 3),\n",
        "\t\t\trange=(0, self.numPoints + 2))\n",
        "\t\t# normalize the histogram\n",
        "\t\thist = hist.astype(\"float\")\n",
        "\t\thist /= (hist.sum() + eps)\n",
        "\t\t# return the histogram of Local Binary Patterns\n",
        "\t\treturn hist"
      ]
    },
    {
      "cell_type": "code",
      "execution_count": null,
      "metadata": {
        "id": "JHYNnG6jIEL1"
      },
      "outputs": [],
      "source": [
        "class data_generator(keras.utils.Sequence) :\n",
        "  \n",
        "  def __init__(self, image_filenames, labels, batch_size, lbs) :\n",
        "    self.image_filenames = image_filenames\n",
        "    self.labels = labels\n",
        "    self.batch_size = batch_size\n",
        "    self.lbs = lbs\n",
        "    print(self.image_filenames[0])\n",
        "    \n",
        "  def __len__(self) :\n",
        "    return (np.ceil(len(self.image_filenames) / float(self.batch_size))).astype(int)\n",
        "  \n",
        "  def __getitem__(self, idx) :\n",
        "    batch_x = self.image_filenames[idx * self.batch_size : (idx+1) * self.batch_size]\n",
        "    batch_y = self.labels[idx * self.batch_size : (idx+1) * self.batch_size]\n",
        "    \n",
        "    # read in as grayscale, resize to standard aspect ratio\n",
        "    x_list = [cv2.resize(cv2.imread(file_name, cv2.IMREAD_GRAYSCALE), (512, 384), interpolation = cv2.INTER_NEAREST) for file_name in batch_x]\n",
        "\n",
        "    # convert to array, scale, and reshape for model\n",
        "    if self.lbs:\n",
        "      desc = LocalBinaryPatterns(24, 8)\n",
        "      x_list = [desc.describe(image) for image in x_list]\n",
        "      x_arr = np.array(x_list)\n",
        "      x_arr_reshaped = x_arr.reshape([x_arr.shape[0], x_arr.shape[1], 1])\n",
        "    else:\n",
        "      x_arr = np.array(x_list)\n",
        "      x_arr_reshaped = x_arr.reshape([x_arr.shape[0], x_arr.shape[1], x_arr.shape[2], 1])\n",
        "    \n",
        "    y_arr = np.array(batch_y)\n",
        "    y_arr_reshaped = y_arr.reshape([x_arr_reshaped.shape[0], 1])\n",
        "\n",
        "    return x_arr_reshaped, y_arr_reshaped"
      ]
    },
    {
      "cell_type": "code",
      "execution_count": null,
      "metadata": {
        "id": "CohSW-EYJ1CU"
      },
      "outputs": [],
      "source": [
        "def create_generators(x_train, y_train, x_val, y_val, x_test, y_test, batch_size = 32, lbs = False):\n",
        "\n",
        "  train_generator = data_generator(x_train, y_train, batch_size, lbs)\n",
        "  validation_generator = data_generator(x_val, y_val, batch_size, lbs)\n",
        "  test_generator = data_generator(x_test, y_test, batch_size, lbs)  \n",
        "\n",
        "  return train_generator, validation_generator, test_generator"
      ]
    },
    {
      "cell_type": "code",
      "execution_count": null,
      "metadata": {
        "colab": {
          "base_uri": "https://localhost:8080/"
        },
        "id": "nu04N7MTIoy4",
        "outputId": "695f5e02-c38b-4fd6-f3fc-7ef444ebf319"
      },
      "outputs": [
        {
          "name": "stdout",
          "output_type": "stream",
          "text": [
            "total samples: 8406\n",
            "empty samples: 4203\n",
            "snake samples: 4203\n",
            "train: 6724 (79.99%)\n",
            "train: 420 (5.00%)\n",
            "train: 1262 (15.01%)\n",
            "\n",
            "total: 6724\n",
            "snake: 3362 (50.00%)\n",
            "empty: 3362 (50.00%)\n",
            "total: 420\n",
            "snake: 210 (50.00%)\n",
            "empty: 210 (50.00%)\n",
            "total: 1262\n",
            "snake: 631 (50.00%)\n",
            "empty: 631 (50.00%)\n",
            "\n",
            "/content/drive/Shareddrives/Capstone 2023/Data/MicrosoftSnakeAlgorithmProject/Snake_Images/FL_Snakes/WF13/IMG_1756.JPG\n",
            "/content/drive/Shareddrives/Capstone 2023/Data/MicrosoftSnakeAlgorithmProject/Empty_Images/FL_empty/WF9/IMG_5731.JPG\n",
            "/content/drive/Shareddrives/Capstone 2023/Data/MicrosoftSnakeAlgorithmProject/Empty_Images/LPS_empty/SSF7/IMG_2918.JPG\n"
          ]
        }
      ],
      "source": [
        "seed = 1\n",
        "batch_size = 32\n",
        "\n",
        "filenames_resampled, labels_resampled = resample_classes(filenames_arr, labels_arr, seed = seed)\n",
        "x_train, y_train, x_val, y_val, x_test, y_test = split_data(filenames_resampled, labels_resampled, train = 0.8, test = 0.15)\n",
        "\n",
        "print()\n",
        "count_split(x_train)\n",
        "count_split(x_val)\n",
        "count_split(x_test)\n",
        "print()\n",
        "\n",
        "train_generator, validation_generator, test_generator = create_generators(x_train, y_train, x_val, y_val, x_test, y_test, batch_size = batch_size, lbs = True)"
      ]
    },
    {
      "cell_type": "code",
      "execution_count": null,
      "metadata": {
        "id": "UeapKQevVhS7"
      },
      "outputs": [],
      "source": [
        "def build_log():\n",
        "\n",
        "  model = models.Sequential()\n",
        "  model.add(layers.InputLayer(input_shape=(26, 1)))\n",
        "  model.add(layers.Flatten())\n",
        "  model.add(layers.Dense(1, activation = \"sigmoid\"))\n",
        "\n",
        "  # compile model with desired features\n",
        "  model.compile(\n",
        "    optimizer = \"adam\", loss = \"binary_crossentropy\",\n",
        "    metrics=['accuracy']\n",
        "  )\n",
        "\n",
        "  return model"
      ]
    },
    {
      "cell_type": "code",
      "execution_count": null,
      "metadata": {
        "id": "jKaXUbZHW7hO"
      },
      "outputs": [],
      "source": [
        "# build the model\n",
        "log_model = build_log()"
      ]
    },
    {
      "cell_type": "code",
      "execution_count": null,
      "metadata": {
        "colab": {
          "base_uri": "https://localhost:8080/"
        },
        "id": "34mEc2jmW-zx",
        "outputId": "639d256b-b3e7-4888-990a-bd235594f87f"
      },
      "outputs": [
        {
          "name": "stdout",
          "output_type": "stream",
          "text": [
            "Model: \"sequential_3\"\n",
            "_________________________________________________________________\n",
            " Layer (type)                Output Shape              Param #   \n",
            "=================================================================\n",
            " flatten_1 (Flatten)         (None, 26)                0         \n",
            "                                                                 \n",
            " dense_3 (Dense)             (None, 1)                 27        \n",
            "                                                                 \n",
            "=================================================================\n",
            "Total params: 27\n",
            "Trainable params: 27\n",
            "Non-trainable params: 0\n",
            "_________________________________________________________________\n"
          ]
        }
      ],
      "source": [
        "# see model structure\n",
        "log_model.summary()"
      ]
    },
    {
      "cell_type": "code",
      "execution_count": null,
      "metadata": {
        "colab": {
          "base_uri": "https://localhost:8080/"
        },
        "id": "AqbcI-t5Y_BR",
        "outputId": "78272653-f960-4046-b301-0ba0383a5820"
      },
      "outputs": [
        {
          "name": "stdout",
          "output_type": "stream",
          "text": [
            "Epoch 1/3\n",
            "210/210 [==============================] - 9493s 45s/step - loss: 0.6935 - accuracy: 0.5000 - val_loss: 0.6934 - val_accuracy: 0.5000\n",
            "Epoch 2/3\n",
            "210/210 [==============================] - 781s 4s/step - loss: 0.6933 - accuracy: 0.4957 - val_loss: 0.6933 - val_accuracy: 0.5000\n",
            "Epoch 3/3\n",
            "140/210 [===================>..........] - ETA: 4:03 - loss: 0.6933 - accuracy: 0.4884"
          ]
        }
      ],
      "source": [
        "log_fit = log_model.fit(\n",
        "    train_generator,\n",
        "    steps_per_epoch = int(x_train.shape[0] // batch_size),\n",
        "    epochs = 3, # can change\n",
        "    verbose = 1,\n",
        "    validation_data = validation_generator,\n",
        "    validation_steps = int(x_val.shape[0] // batch_size)\n",
        ")"
      ]
    },
    {
      "cell_type": "code",
      "execution_count": null,
      "metadata": {
        "colab": {
          "base_uri": "https://localhost:8080/"
        },
        "id": "f-QYPT7-ZJd0",
        "outputId": "2918e8f4-4e64-4963-b8d1-525b169e7709"
      },
      "outputs": [
        {
          "name": "stdout",
          "output_type": "stream",
          "text": [
            "40/40 [==============================] - 1458s 37s/step\n"
          ]
        }
      ],
      "source": [
        "log_predict = log_model.predict(\n",
        "    test_generator,\n",
        ")"
      ]
    },
    {
      "cell_type": "code",
      "execution_count": null,
      "metadata": {
        "colab": {
          "base_uri": "https://localhost:8080/"
        },
        "id": "UdN6rqnLZSxO",
        "outputId": "6959ba21-d106-4ee7-da2f-33ca7c26a432"
      },
      "outputs": [
        {
          "name": "stdout",
          "output_type": "stream",
          "text": [
            "(1262,)\n"
          ]
        }
      ],
      "source": [
        "# get class predictions\n",
        "predictions_log = log_predict > 0.5\n",
        "predictions_log = predictions_log.reshape(x_test.shape[0])\n",
        "print(predictions_log.shape)"
      ]
    },
    {
      "cell_type": "code",
      "execution_count": null,
      "metadata": {
        "colab": {
          "base_uri": "https://localhost:8080/"
        },
        "id": "fo5gRWRaZaLx",
        "outputId": "6abf2b85-8a40-4f13-9900-80302587365d"
      },
      "outputs": [
        {
          "data": {
            "text/plain": [
              "{True}"
            ]
          },
          "execution_count": 81,
          "metadata": {},
          "output_type": "execute_result"
        }
      ],
      "source": [
        "set(list(predictions_log.reshape(1262)))"
      ]
    },
    {
      "cell_type": "code",
      "execution_count": null,
      "metadata": {
        "colab": {
          "base_uri": "https://localhost:8080/",
          "height": 466
        },
        "id": "U1e0b3BBZdlI",
        "outputId": "292db097-9d7e-4082-b826-5d5b8eff226b"
      },
      "outputs": [
        {
          "data": {
            "text/plain": [
              "<sklearn.metrics._plot.confusion_matrix.ConfusionMatrixDisplay at 0x7f5e000df9a0>"
            ]
          },
          "execution_count": 82,
          "metadata": {},
          "output_type": "execute_result"
        },
        {
          "data": {
            "image/png": "[encoded data removed]",
            "text/plain": [
              "<Figure size 640x480 with 2 Axes>"
            ]
          },
          "metadata": {},
          "output_type": "display_data"
        }
      ],
      "source": [
        "# plot confusion matrix\n",
        "metrics.ConfusionMatrixDisplay.from_predictions(y_test, predictions_log, cmap = \"GnBu\")"
      ]
    },
    {
      "cell_type": "code",
      "execution_count": null,
      "metadata": {
        "colab": {
          "base_uri": "https://localhost:8080/"
        },
        "id": "k3ovSFSkZggs",
        "outputId": "c8703148-8b64-4ebc-eb92-08ae41c7983c"
      },
      "outputs": [
        {
          "name": "stdout",
          "output_type": "stream",
          "text": [
            "0.5\n",
            "0.5\n",
            "1.0\n",
            "0.0\n",
            "0.6666666666666666\n"
          ]
        }
      ],
      "source": [
        "### model evaluation metrics \n",
        "\n",
        "# (true positive + true negative)/total\n",
        "accuracy = sklearn.metrics.accuracy_score(y_test, predictions_log)\n",
        "print(accuracy)\n",
        "\n",
        "# true positive/(true positive + false positive)\n",
        "precision = sklearn.metrics.precision_score(y_test, predictions_log)\n",
        "print(precision)\n",
        "\n",
        "# true positive/(true positive + false negative)\n",
        "sensitivity = sklearn.metrics.recall_score(y_test, predictions_log)\n",
        "print(sensitivity)\n",
        "\n",
        "# true negative/(true negative + false positive)\n",
        "specificity = sklearn.metrics.recall_score(y_test, predictions_log, pos_label = 0)\n",
        "print(specificity)\n",
        "\n",
        "# 2 * (precision*recall)/(precision+recall)\n",
        "f1_score = 2*(precision*sensitivity)/(precision+sensitivity)\n",
        "print(f1_score)\n",
        "\n",
        "# no false positives means precision and specificity will be 100%"
      ]
    },
    {
      "cell_type": "code",
      "execution_count": null,
      "metadata": {
        "colab": {
          "base_uri": "https://localhost:8080/",
          "height": 472
        },
        "id": "X_IzCUXMZlVA",
        "outputId": "e2d06e40-19be-4539-cd4b-1ef15c5149f0"
      },
      "outputs": [
        {
          "data": {
            "text/plain": [
              "<matplotlib.legend.Legend at 0x7f5dfa754550>"
            ]
          },
          "execution_count": 84,
          "metadata": {},
          "output_type": "execute_result"
        },
        {
          "data": {
            "image/png": "[encoded data removed]",
            "text/plain": [
              "<Figure size 640x480 with 1 Axes>"
            ]
          },
          "metadata": {},
          "output_type": "display_data"
        }
      ],
      "source": [
        "# plot accuracy across epochs\n",
        "plt.plot(log_fit.history['accuracy'], label='accuracy')\n",
        "plt.plot(log_fit.history['val_accuracy'], label = 'val_accuracy')\n",
        "plt.xlabel('Epoch')\n",
        "plt.ylabel('Accuracy')\n",
        "plt.ylim([0.5, 1])\n",
        "# plt.title(\"CNN model accuracy by epoch\")\n",
        "plt.legend(loc='lower right')\n"
      ]
    },
    {
      "cell_type": "markdown",
      "metadata": {
        "id": "KsB3tAB-FO9s"
      },
      "source": [
        "## Column means\n",
        "\n",
        "This is a simple reduction that takes the mean pixel value across columns. In effect, this is no better than pixel change as when a snake is present the mean value will shift. However importantly, there will only be 513 trainable parameters, which is less than the number of observations in the training set."
      ]
    },
    {
      "cell_type": "code",
      "execution_count": null,
      "metadata": {
        "id": "D09wbq_pFdFd"
      },
      "outputs": [],
      "source": [
        "class data_generator(keras.utils.Sequence) :\n",
        "  \n",
        "  def __init__(self, image_filenames, labels, batch_size, log_mean) :\n",
        "    self.image_filenames = image_filenames\n",
        "    self.labels = labels\n",
        "    self.batch_size = batch_size\n",
        "    self.log_mean = log_mean\n",
        "    print(self.image_filenames[0])\n",
        "    \n",
        "  def __len__(self) :\n",
        "    return (np.ceil(len(self.image_filenames) / float(self.batch_size))).astype(int)\n",
        "  \n",
        "  def __getitem__(self, idx) :\n",
        "    batch_x = self.image_filenames[idx * self.batch_size : (idx+1) * self.batch_size]\n",
        "    batch_y = self.labels[idx * self.batch_size : (idx+1) * self.batch_size]\n",
        "    \n",
        "    # read in as grayscale, resize to standard aspect ratio\n",
        "    x_list = [cv2.resize(cv2.imread(file_name, cv2.IMREAD_GRAYSCALE), (512, 384), interpolation = cv2.INTER_NEAREST) for file_name in batch_x]\n",
        "\n",
        "    # convert to array, scale, and reshape for model\n",
        "    if self.log_mean:\n",
        "      x_arr = np.array(x_list)\n",
        "      x_arr = np.mean(x_arr, 1) # take column mean (second dimension because first is the image index)\n",
        "      x_arr_reshaped = x_arr.reshape([x_arr.shape[0], x_arr.shape[1], 1])\n",
        "    else:\n",
        "      x_arr = np.array(x_list)\n",
        "      x_arr_reshaped = x_arr.reshape([x_arr.shape[0], x_arr.shape[1], x_arr.shape[2], 1])\n",
        "    \n",
        "    y_arr = np.array(batch_y)\n",
        "    y_arr_reshaped = y_arr.reshape([x_arr_reshaped.shape[0], 1])\n",
        "\n",
        "    return x_arr_reshaped, y_arr_reshaped"
      ]
    },
    {
      "cell_type": "code",
      "execution_count": null,
      "metadata": {
        "id": "1CZMPHwcFfUu"
      },
      "outputs": [],
      "source": [
        "def create_generators(x_train, y_train, x_val, y_val, x_test, y_test, batch_size = 32, log_mean = False):\n",
        "\n",
        "  train_generator = data_generator(x_train, y_train, batch_size, log_mean)\n",
        "  validation_generator = data_generator(x_val, y_val, batch_size, log_mean)\n",
        "  test_generator = data_generator(x_test, y_test, batch_size, log_mean)  \n",
        "\n",
        "  return train_generator, validation_generator, test_generator"
      ]
    },
    {
      "cell_type": "code",
      "execution_count": null,
      "metadata": {
        "colab": {
          "base_uri": "https://localhost:8080/"
        },
        "id": "PUklAVmeFh16",
        "outputId": "4db458dd-d01d-4e51-9d04-d7b62676ce6f"
      },
      "outputs": [
        {
          "name": "stdout",
          "output_type": "stream",
          "text": [
            "total samples: 8406\n",
            "empty samples: 4203\n",
            "snake samples: 4203\n",
            "train: 6724 (79.99%)\n",
            "train: 420 (5.00%)\n",
            "train: 1262 (15.01%)\n",
            "\n",
            "total: 6724\n",
            "snake: 3362 (50.00%)\n",
            "empty: 3362 (50.00%)\n",
            "total: 420\n",
            "snake: 210 (50.00%)\n",
            "empty: 210 (50.00%)\n",
            "total: 1262\n",
            "snake: 631 (50.00%)\n",
            "empty: 631 (50.00%)\n",
            "\n",
            "/content/drive/Shareddrives/Capstone 2023/Data/MicrosoftSnakeAlgorithmProject/Snake_Images/FL_Snakes/WF13/IMG_1756.JPG\n",
            "/content/drive/Shareddrives/Capstone 2023/Data/MicrosoftSnakeAlgorithmProject/Empty_Images/FL_empty/WF9/IMG_5731.JPG\n",
            "/content/drive/Shareddrives/Capstone 2023/Data/MicrosoftSnakeAlgorithmProject/Empty_Images/LPS_empty/SSF7/IMG_2918.JPG\n"
          ]
        }
      ],
      "source": [
        "seed = 1\n",
        "batch_size = 32\n",
        "\n",
        "filenames_resampled, labels_resampled = resample_classes(filenames_arr, labels_arr, seed = seed)\n",
        "x_train, y_train, x_val, y_val, x_test, y_test = split_data(filenames_resampled, labels_resampled, train = 0.8, test = 0.15)\n",
        "\n",
        "print()\n",
        "count_split(x_train)\n",
        "count_split(x_val)\n",
        "count_split(x_test)\n",
        "print()\n",
        "\n",
        "train_generator, validation_generator, test_generator = create_generators(x_train, y_train, x_val, y_val, x_test, y_test, batch_size = batch_size, log_mean = True)"
      ]
    },
    {
      "cell_type": "code",
      "execution_count": null,
      "metadata": {
        "id": "eWLh_HGvFlS1"
      },
      "outputs": [],
      "source": [
        "def build_log():\n",
        "\n",
        "  model = models.Sequential()\n",
        "  model.add(layers.InputLayer(input_shape=(512, 1)))\n",
        "  model.add(layers.Flatten())\n",
        "  model.add(layers.Dense(1, activation = \"sigmoid\"))\n",
        "\n",
        "  # compile model with desired features\n",
        "  model.compile(\n",
        "    optimizer = \"adam\", loss = \"binary_crossentropy\",\n",
        "    metrics=['accuracy']\n",
        "  )\n",
        "\n",
        "  return model"
      ]
    },
    {
      "cell_type": "code",
      "execution_count": null,
      "metadata": {
        "id": "luknJgu3Fnb-"
      },
      "outputs": [],
      "source": [
        "# build the model\n",
        "log_model = build_log()"
      ]
    },
    {
      "cell_type": "code",
      "execution_count": null,
      "metadata": {
        "colab": {
          "base_uri": "https://localhost:8080/"
        },
        "id": "jUn_E3YQFp19",
        "outputId": "6c69b582-af33-4ed4-e395-aa51cf073166"
      },
      "outputs": [
        {
          "name": "stdout",
          "output_type": "stream",
          "text": [
            "Model: \"sequential_4\"\n",
            "_________________________________________________________________\n",
            " Layer (type)                Output Shape              Param #   \n",
            "=================================================================\n",
            " flatten_2 (Flatten)         (None, 512)               0         \n",
            "                                                                 \n",
            " dense_4 (Dense)             (None, 1)                 513       \n",
            "                                                                 \n",
            "=================================================================\n",
            "Total params: 513\n",
            "Trainable params: 513\n",
            "Non-trainable params: 0\n",
            "_________________________________________________________________\n"
          ]
        }
      ],
      "source": [
        "# see model structure\n",
        "log_model.summary()"
      ]
    },
    {
      "cell_type": "code",
      "execution_count": null,
      "metadata": {
        "colab": {
          "base_uri": "https://localhost:8080/"
        },
        "id": "HdPhd-_FF3y2",
        "outputId": "c82bd433-4558-45b4-ea76-c9c6496234bb"
      },
      "outputs": [
        {
          "name": "stdout",
          "output_type": "stream",
          "text": [
            "Epoch 1/3\n",
            "210/210 [==============================] - 195s 920ms/step - loss: 5.0069 - accuracy: 0.4898 - val_loss: 4.5167 - val_accuracy: 0.4808\n",
            "Epoch 2/3\n",
            "210/210 [==============================] - 182s 866ms/step - loss: 3.2395 - accuracy: 0.4981 - val_loss: 2.2374 - val_accuracy: 0.5120\n",
            "Epoch 3/3\n",
            "210/210 [==============================] - 181s 864ms/step - loss: 3.5095 - accuracy: 0.4976 - val_loss: 2.0213 - val_accuracy: 0.5385\n"
          ]
        }
      ],
      "source": [
        "log_fit = log_model.fit(\n",
        "    train_generator,\n",
        "    steps_per_epoch = int(x_train.shape[0] // batch_size),\n",
        "    epochs = 3, # can change\n",
        "    verbose = 1,\n",
        "    validation_data = validation_generator,\n",
        "    validation_steps = int(x_val.shape[0] // batch_size)\n",
        ")"
      ]
    },
    {
      "cell_type": "code",
      "execution_count": null,
      "metadata": {
        "colab": {
          "base_uri": "https://localhost:8080/"
        },
        "id": "3eR4cztVF533",
        "outputId": "379b1aa4-e30e-49e3-a2df-64554ac36c93"
      },
      "outputs": [
        {
          "name": "stdout",
          "output_type": "stream",
          "text": [
            "40/40 [==============================] - 34s 838ms/step\n"
          ]
        }
      ],
      "source": [
        "log_predict = log_model.predict(\n",
        "    test_generator,\n",
        ")"
      ]
    },
    {
      "cell_type": "code",
      "execution_count": null,
      "metadata": {
        "colab": {
          "base_uri": "https://localhost:8080/"
        },
        "id": "P8oB38kQF79d",
        "outputId": "207cdc5b-4e83-4a80-b47f-3d7fa72fb5c3"
      },
      "outputs": [
        {
          "name": "stdout",
          "output_type": "stream",
          "text": [
            "(1262,)\n"
          ]
        }
      ],
      "source": [
        "# get class predictions\n",
        "predictions_log = log_predict > 0.5\n",
        "predictions_log = predictions_log.reshape(x_test.shape[0])\n",
        "print(predictions_log.shape)"
      ]
    },
    {
      "cell_type": "code",
      "execution_count": null,
      "metadata": {
        "colab": {
          "base_uri": "https://localhost:8080/",
          "height": 466
        },
        "id": "18Bf5GQvF-RH",
        "outputId": "901e7215-ae4c-4d7b-da2d-f7ca9c06b952"
      },
      "outputs": [
        {
          "data": {
            "text/plain": [
              "<sklearn.metrics._plot.confusion_matrix.ConfusionMatrixDisplay at 0x7f5e039ab250>"
            ]
          },
          "execution_count": 105,
          "metadata": {},
          "output_type": "execute_result"
        },
        {
          "data": {
            "image/png": "[encoded data removed]",
            "text/plain": [
              "<Figure size 640x480 with 2 Axes>"
            ]
          },
          "metadata": {},
          "output_type": "display_data"
        }
      ],
      "source": [
        "# plot confusion matrix\n",
        "metrics.ConfusionMatrixDisplay.from_predictions(y_test, predictions_log, cmap = \"GnBu\")"
      ]
    },
    {
      "cell_type": "code",
      "execution_count": null,
      "metadata": {
        "colab": {
          "base_uri": "https://localhost:8080/"
        },
        "id": "2XS1Sy2dGAZh",
        "outputId": "6d7a4792-88bc-44e0-8b23-1399ffd4d6f2"
      },
      "outputs": [
        {
          "name": "stdout",
          "output_type": "stream",
          "text": [
            "0.506339144215531\n",
            "0.5062111801242236\n",
            "0.5166402535657686\n",
            "0.4960380348652932\n",
            "0.5113725490196079\n"
          ]
        }
      ],
      "source": [
        "### model evaluation metrics \n",
        "\n",
        "# (true positive + true negative)/total\n",
        "accuracy = sklearn.metrics.accuracy_score(y_test, predictions_log)\n",
        "print(accuracy)\n",
        "\n",
        "# true positive/(true positive + false positive)\n",
        "precision = sklearn.metrics.precision_score(y_test, predictions_log)\n",
        "print(precision)\n",
        "\n",
        "# true positive/(true positive + false negative)\n",
        "sensitivity = sklearn.metrics.recall_score(y_test, predictions_log)\n",
        "print(sensitivity)\n",
        "\n",
        "# true negative/(true negative + false positive)\n",
        "specificity = sklearn.metrics.recall_score(y_test, predictions_log, pos_label = 0)\n",
        "print(specificity)\n",
        "\n",
        "# 2 * (precision*recall)/(precision+recall)\n",
        "f1_score = 2*(precision*sensitivity)/(precision+sensitivity)\n",
        "print(f1_score)\n",
        "\n",
        "# no false positives means precision and specificity will be 100%"
      ]
    },
    {
      "cell_type": "code",
      "execution_count": null,
      "metadata": {
        "colab": {
          "base_uri": "https://localhost:8080/",
          "height": 472
        },
        "id": "4r5A0s48GCNu",
        "outputId": "6d9e4787-f420-4b78-aacd-1ee68448b88d"
      },
      "outputs": [
        {
          "data": {
            "text/plain": [
              "<matplotlib.legend.Legend at 0x7f5dfa30ba60>"
            ]
          },
          "execution_count": 108,
          "metadata": {},
          "output_type": "execute_result"
        },
        {
          "data": {
            "image/png": "[encoded data removed]",
            "text/plain": [
              "<Figure size 640x480 with 1 Axes>"
            ]
          },
          "metadata": {},
          "output_type": "display_data"
        }
      ],
      "source": [
        "# plot accuracy across epochs\n",
        "plt.plot(log_fit.history['accuracy'], label='accuracy')\n",
        "plt.plot(log_fit.history['val_accuracy'], label = 'val_accuracy')\n",
        "plt.xlabel('Epoch')\n",
        "plt.ylabel('Accuracy')\n",
        "plt.ylim([0.4, 1])\n",
        "# plt.title(\"CNN model accuracy by epoch\")\n",
        "plt.legend(loc='lower right')"
      ]
    },
    {
      "cell_type": "markdown",
      "metadata": {
        "id": "Njy-nPXfKqjY"
      },
      "source": [
        "## Row means\n",
        "\n",
        "This essentially like column means but on rows."
      ]
    },
    {
      "cell_type": "code",
      "execution_count": null,
      "metadata": {
        "id": "f9Cr2TglKqjo"
      },
      "outputs": [],
      "source": [
        "class data_generator(keras.utils.Sequence) :\n",
        "  \n",
        "  def __init__(self, image_filenames, labels, batch_size, log_mean) :\n",
        "    self.image_filenames = image_filenames\n",
        "    self.labels = labels\n",
        "    self.batch_size = batch_size\n",
        "    self.log_mean = log_mean\n",
        "    print(self.image_filenames[0])\n",
        "    \n",
        "  def __len__(self) :\n",
        "    return (np.ceil(len(self.image_filenames) / float(self.batch_size))).astype(int)\n",
        "  \n",
        "  def __getitem__(self, idx) :\n",
        "    batch_x = self.image_filenames[idx * self.batch_size : (idx+1) * self.batch_size]\n",
        "    batch_y = self.labels[idx * self.batch_size : (idx+1) * self.batch_size]\n",
        "    \n",
        "    # read in as grayscale, resize to standard aspect ratio\n",
        "    x_list = [cv2.resize(cv2.imread(file_name, cv2.IMREAD_GRAYSCALE), (512, 384), interpolation = cv2.INTER_NEAREST) for file_name in batch_x]\n",
        "\n",
        "    # convert to array, scale, and reshape for model\n",
        "    if self.log_mean:\n",
        "      x_arr = np.array(x_list)\n",
        "      x_arr = np.mean(x_arr, 2) # take column mean (second dimension because first is the image index)\n",
        "      x_arr_reshaped = x_arr.reshape([x_arr.shape[0], x_arr.shape[1], 1])\n",
        "    else:\n",
        "      x_arr = np.array(x_list)\n",
        "      x_arr_reshaped = x_arr.reshape([x_arr.shape[0], x_arr.shape[1], x_arr.shape[2], 1])\n",
        "    \n",
        "    y_arr = np.array(batch_y)\n",
        "    y_arr_reshaped = y_arr.reshape([x_arr_reshaped.shape[0], 1])\n",
        "\n",
        "    return x_arr_reshaped, y_arr_reshaped"
      ]
    },
    {
      "cell_type": "code",
      "execution_count": null,
      "metadata": {
        "id": "HPSnhUTjKqjo"
      },
      "outputs": [],
      "source": [
        "def create_generators(x_train, y_train, x_val, y_val, x_test, y_test, batch_size = 32, log_mean = False):\n",
        "\n",
        "  train_generator = data_generator(x_train, y_train, batch_size, log_mean)\n",
        "  validation_generator = data_generator(x_val, y_val, batch_size, log_mean)\n",
        "  test_generator = data_generator(x_test, y_test, batch_size, log_mean)  \n",
        "\n",
        "  return train_generator, validation_generator, test_generator"
      ]
    },
    {
      "cell_type": "code",
      "execution_count": null,
      "metadata": {
        "colab": {
          "base_uri": "https://localhost:8080/"
        },
        "id": "02K-n_mcKqjp",
        "outputId": "a0b087b8-bc43-4b7d-bcc2-b358e9efeaa6"
      },
      "outputs": [
        {
          "name": "stdout",
          "output_type": "stream",
          "text": [
            "total samples: 8406\n",
            "empty samples: 4203\n",
            "snake samples: 4203\n",
            "train: 6724 (79.99%)\n",
            "train: 420 (5.00%)\n",
            "train: 1262 (15.01%)\n",
            "\n",
            "total: 6724\n",
            "snake: 3362 (50.00%)\n",
            "empty: 3362 (50.00%)\n",
            "total: 420\n",
            "snake: 210 (50.00%)\n",
            "empty: 210 (50.00%)\n",
            "total: 1262\n",
            "snake: 631 (50.00%)\n",
            "empty: 631 (50.00%)\n",
            "\n",
            "/content/drive/Shareddrives/Capstone 2023/Data/MicrosoftSnakeAlgorithmProject/Snake_Images/FL_Snakes/WF13/IMG_1756.JPG\n",
            "/content/drive/Shareddrives/Capstone 2023/Data/MicrosoftSnakeAlgorithmProject/Empty_Images/FL_empty/WF9/IMG_5731.JPG\n",
            "/content/drive/Shareddrives/Capstone 2023/Data/MicrosoftSnakeAlgorithmProject/Empty_Images/LPS_empty/SSF7/IMG_2918.JPG\n"
          ]
        }
      ],
      "source": [
        "seed = 1\n",
        "batch_size = 32\n",
        "\n",
        "filenames_resampled, labels_resampled = resample_classes(filenames_arr, labels_arr, seed = seed)\n",
        "x_train, y_train, x_val, y_val, x_test, y_test = split_data(filenames_resampled, labels_resampled, train = 0.8, test = 0.15)\n",
        "\n",
        "print()\n",
        "count_split(x_train)\n",
        "count_split(x_val)\n",
        "count_split(x_test)\n",
        "print()\n",
        "\n",
        "train_generator, validation_generator, test_generator = create_generators(x_train, y_train, x_val, y_val, x_test, y_test, batch_size = batch_size, log_mean = True)"
      ]
    },
    {
      "cell_type": "code",
      "execution_count": null,
      "metadata": {
        "id": "IPBIOikbKqjp"
      },
      "outputs": [],
      "source": [
        "def build_log():\n",
        "\n",
        "  model = models.Sequential()\n",
        "  model.add(layers.InputLayer(input_shape=(384, 1)))\n",
        "  model.add(layers.Flatten())\n",
        "  model.add(layers.Dense(1, activation = \"sigmoid\"))\n",
        "\n",
        "  # compile model with desired features\n",
        "  model.compile(\n",
        "    optimizer = \"adam\", loss = \"binary_crossentropy\",\n",
        "    metrics=['accuracy']\n",
        "  )\n",
        "\n",
        "  return model"
      ]
    },
    {
      "cell_type": "code",
      "execution_count": null,
      "metadata": {
        "id": "qZz3GtfWKqjp"
      },
      "outputs": [],
      "source": [
        "# build the model\n",
        "log_model = build_log()"
      ]
    },
    {
      "cell_type": "code",
      "execution_count": null,
      "metadata": {
        "colab": {
          "base_uri": "https://localhost:8080/"
        },
        "id": "VAIom85CKqjp",
        "outputId": "fe56b3ab-124e-4667-be50-ad6c19227c9e"
      },
      "outputs": [
        {
          "name": "stdout",
          "output_type": "stream",
          "text": [
            "Model: \"sequential_9\"\n",
            "_________________________________________________________________\n",
            " Layer (type)                Output Shape              Param #   \n",
            "=================================================================\n",
            " flatten_7 (Flatten)         (None, 384)               0         \n",
            "                                                                 \n",
            " dense_9 (Dense)             (None, 1)                 385       \n",
            "                                                                 \n",
            "=================================================================\n",
            "Total params: 385\n",
            "Trainable params: 385\n",
            "Non-trainable params: 0\n",
            "_________________________________________________________________\n"
          ]
        }
      ],
      "source": [
        "# see model structure\n",
        "log_model.summary()"
      ]
    },
    {
      "cell_type": "code",
      "execution_count": null,
      "metadata": {
        "colab": {
          "background_save": true,
          "base_uri": "https://localhost:8080/"
        },
        "id": "YHvu09U4Kqjq",
        "outputId": "bcdb8db3-0b04-4e7f-f095-4f91700e21bd"
      },
      "outputs": [
        {
          "name": "stdout",
          "output_type": "stream",
          "text": [
            "Epoch 1/3\n",
            "210/210 [==============================] - 194s 914ms/step - loss: 3.8121 - accuracy: 0.5200 - val_loss: 2.5354 - val_accuracy: 0.5938\n",
            "Epoch 2/3\n",
            "210/210 [==============================] - 190s 906ms/step - loss: 2.2599 - accuracy: 0.5514 - val_loss: 1.5611 - val_accuracy: 0.5385\n",
            "Epoch 3/3\n",
            "210/210 [==============================] - 174s 830ms/step - loss: 2.2755 - accuracy: 0.5432 - val_loss: 1.3728 - val_accuracy: 0.5697\n"
          ]
        }
      ],
      "source": [
        "log_fit = log_model.fit(\n",
        "    train_generator,\n",
        "    steps_per_epoch = int(x_train.shape[0] // batch_size),\n",
        "    epochs = 3, # can change\n",
        "    verbose = 1,\n",
        "    validation_data = validation_generator,\n",
        "    validation_steps = int(x_val.shape[0] // batch_size)\n",
        ")"
      ]
    },
    {
      "cell_type": "code",
      "execution_count": null,
      "metadata": {
        "colab": {
          "background_save": true
        },
        "id": "Twxod1c6Kqjq",
        "outputId": "3e4097a0-5e29-410a-89fc-a2e0d77e9092"
      },
      "outputs": [
        {
          "name": "stdout",
          "output_type": "stream",
          "text": [
            "40/40 [==============================] - 30s 761ms/step\n"
          ]
        }
      ],
      "source": [
        "log_predict = log_model.predict(\n",
        "    test_generator,\n",
        ")"
      ]
    },
    {
      "cell_type": "code",
      "execution_count": null,
      "metadata": {
        "colab": {
          "background_save": true
        },
        "id": "xv9ddiS6Kqjq",
        "outputId": "d29ad779-d57f-40c2-e897-ddd21ee899df"
      },
      "outputs": [
        {
          "name": "stdout",
          "output_type": "stream",
          "text": [
            "(1262,)\n"
          ]
        }
      ],
      "source": [
        "# get class predictions\n",
        "predictions_log = log_predict > 0.5\n",
        "predictions_log = predictions_log.reshape(x_test.shape[0])\n",
        "print(predictions_log.shape)"
      ]
    },
    {
      "cell_type": "code",
      "execution_count": null,
      "metadata": {
        "colab": {
          "background_save": true
        },
        "id": "D6F-iL-sKqjq",
        "outputId": "73c6a243-2726-47dc-c3de-a41f472e2ad0"
      },
      "outputs": [
        {
          "data": {
            "text/plain": [
              "<sklearn.metrics._plot.confusion_matrix.ConfusionMatrixDisplay at 0x7f5de2fcbc70>"
            ]
          },
          "execution_count": 151,
          "metadata": {},
          "output_type": "execute_result"
        },
        {
          "data": {
            "image/png": "[encoded data removed]",
            "text/plain": [
              "<Figure size 640x480 with 2 Axes>"
            ]
          },
          "metadata": {},
          "output_type": "display_data"
        }
      ],
      "source": [
        "# plot confusion matrix\n",
        "metrics.ConfusionMatrixDisplay.from_predictions(y_test, predictions_log, cmap = \"GnBu\")"
      ]
    },
    {
      "cell_type": "code",
      "execution_count": null,
      "metadata": {
        "colab": {
          "background_save": true
        },
        "id": "gi5BzjlDKqjq",
        "outputId": "e1ee9485-dd8d-44a7-f147-87295c8d98ad"
      },
      "outputs": [
        {
          "name": "stdout",
          "output_type": "stream",
          "text": [
            "0.5507131537242472\n",
            "0.5434782608695652\n",
            "0.6339144215530903\n",
            "0.4675118858954041\n",
            "0.5852231163130943\n"
          ]
        }
      ],
      "source": [
        "### model evaluation metrics \n",
        "\n",
        "# (true positive + true negative)/total\n",
        "accuracy = sklearn.metrics.accuracy_score(y_test, predictions_log)\n",
        "print(accuracy)\n",
        "\n",
        "# true positive/(true positive + false positive)\n",
        "precision = sklearn.metrics.precision_score(y_test, predictions_log)\n",
        "print(precision)\n",
        "\n",
        "# true positive/(true positive + false negative)\n",
        "sensitivity = sklearn.metrics.recall_score(y_test, predictions_log)\n",
        "print(sensitivity)\n",
        "\n",
        "# true negative/(true negative + false positive)\n",
        "specificity = sklearn.metrics.recall_score(y_test, predictions_log, pos_label = 0)\n",
        "print(specificity)\n",
        "\n",
        "# 2 * (precision*recall)/(precision+recall)\n",
        "f1_score = 2*(precision*sensitivity)/(precision+sensitivity)\n",
        "print(f1_score)\n",
        "\n",
        "# no false positives means precision and specificity will be 100%"
      ]
    },
    {
      "cell_type": "code",
      "execution_count": null,
      "metadata": {
        "colab": {
          "background_save": true,
          "base_uri": "https://localhost:8080/",
          "height": 472
        },
        "id": "r1hsimIWKqjr",
        "outputId": "73ef8e68-8ff7-4b1f-d581-07eec7c41198"
      },
      "outputs": [
        {
          "data": {
            "text/plain": [
              "<matplotlib.legend.Legend at 0x7f5e0016b6a0>"
            ]
          },
          "execution_count": 153,
          "metadata": {},
          "output_type": "execute_result"
        },
        {
          "data": {
            "image/png": "[encoded data removed]",
            "text/plain": [
              "<Figure size 640x480 with 1 Axes>"
            ]
          },
          "metadata": {},
          "output_type": "display_data"
        }
      ],
      "source": [
        "# plot accuracy across epochs\n",
        "plt.plot(log_fit.history['accuracy'], label='accuracy')\n",
        "plt.plot(log_fit.history['val_accuracy'], label = 'val_accuracy')\n",
        "plt.xlabel('Epoch')\n",
        "plt.ylabel('Accuracy')\n",
        "plt.ylim([0.4, 1])\n",
        "# plt.title(\"CNN model accuracy by epoch\")\n",
        "plt.legend(loc='lower right')"
      ]
    },
    {
      "cell_type": "markdown",
      "metadata": {
        "id": "kkML9yBTK4_N"
      },
      "source": [
        "## Resolution drop\n",
        "\n",
        "Drop the resolution precipitously to get # features < observations\n",
        "\n",
        "Note we have just over 6700 images in the train set, so I have dropped the resolution to 100x60 which  will give 6001 trainable parameters - less than the number of observations. This is also less than the 6452 images in the training data when holding one camera out (see mdels_od_1cam).\n",
        "\n"
      ]
    },
    {
      "cell_type": "code",
      "execution_count": null,
      "metadata": {
        "id": "frKiwp2PK4_O"
      },
      "outputs": [],
      "source": [
        "class data_generator(keras.utils.Sequence) :\n",
        "  \n",
        "  def __init__(self, image_filenames, labels, batch_size, log_mean) :\n",
        "    self.image_filenames = image_filenames\n",
        "    self.labels = labels\n",
        "    self.batch_size = batch_size\n",
        "    self.log_mean = log_mean\n",
        "    print(self.image_filenames[0])\n",
        "    \n",
        "  def __len__(self) :\n",
        "    return (np.ceil(len(self.image_filenames) / float(self.batch_size))).astype(int)\n",
        "  \n",
        "  def __getitem__(self, idx) :\n",
        "    batch_x = self.image_filenames[idx * self.batch_size : (idx+1) * self.batch_size]\n",
        "    batch_y = self.labels[idx * self.batch_size : (idx+1) * self.batch_size]\n",
        "    \n",
        "    # read in as grayscale, resize to standard aspect ratio\n",
        "    x_list = [cv2.resize(cv2.imread(file_name, cv2.IMREAD_GRAYSCALE), (100, 67), interpolation = cv2.INTER_NEAREST) for file_name in batch_x]\n",
        "\n",
        "    # convert to array, scale, and reshape for model\n",
        "    if self.log_mean:\n",
        "      x_arr = np.array(x_list)\n",
        "      x_arr = np.mean(x_arr, 1) # take column mean (second dimension because first is the image index)\n",
        "      x_arr_reshaped = x_arr.reshape([x_arr.shape[0], x_arr.shape[1], 1])\n",
        "    else:\n",
        "      x_arr = np.array(x_list)\n",
        "      x_arr_reshaped = x_arr.reshape([x_arr.shape[0], x_arr.shape[1], x_arr.shape[2], 1])\n",
        "    \n",
        "    y_arr = np.array(batch_y)\n",
        "    y_arr_reshaped = y_arr.reshape([x_arr_reshaped.shape[0], 1])\n",
        "\n",
        "    return x_arr_reshaped, y_arr_reshaped"
      ]
    },
    {
      "cell_type": "code",
      "execution_count": null,
      "metadata": {
        "id": "2wtJcVpiK4_P"
      },
      "outputs": [],
      "source": [
        "def create_generators(x_train, y_train, x_val, y_val, x_test, y_test, batch_size = 32, log_mean = False):\n",
        "\n",
        "  train_generator = data_generator(x_train, y_train, batch_size, log_mean)\n",
        "  validation_generator = data_generator(x_val, y_val, batch_size, log_mean)\n",
        "  test_generator = data_generator(x_test, y_test, batch_size, log_mean)  \n",
        "\n",
        "  return train_generator, validation_generator, test_generator"
      ]
    },
    {
      "cell_type": "code",
      "execution_count": null,
      "metadata": {
        "colab": {
          "base_uri": "https://localhost:8080/"
        },
        "id": "h32ZTEDtK4_Q",
        "outputId": "c9838eda-3c73-47e5-e3fc-f9f88e5770f2"
      },
      "outputs": [
        {
          "name": "stdout",
          "output_type": "stream",
          "text": [
            "total samples: 8406\n",
            "empty samples: 4203\n",
            "snake samples: 4203\n",
            "train: 6724 (79.99%)\n",
            "train: 420 (5.00%)\n",
            "train: 1262 (15.01%)\n",
            "\n",
            "total: 6724\n",
            "snake: 3362 (50.00%)\n",
            "empty: 3362 (50.00%)\n",
            "total: 420\n",
            "snake: 210 (50.00%)\n",
            "empty: 210 (50.00%)\n",
            "total: 1262\n",
            "snake: 631 (50.00%)\n",
            "empty: 631 (50.00%)\n",
            "\n",
            "/content/drive/Shareddrives/Capstone 2023/Data/MicrosoftSnakeAlgorithmProject/Snake_Images/FL_Snakes/WF13/IMG_1756.JPG\n",
            "/content/drive/Shareddrives/Capstone 2023/Data/MicrosoftSnakeAlgorithmProject/Empty_Images/FL_empty/WF9/IMG_5731.JPG\n",
            "/content/drive/Shareddrives/Capstone 2023/Data/MicrosoftSnakeAlgorithmProject/Empty_Images/LPS_empty/SSF7/IMG_2918.JPG\n"
          ]
        }
      ],
      "source": [
        "seed = 1\n",
        "batch_size = 32\n",
        "\n",
        "filenames_resampled, labels_resampled = resample_classes(filenames_arr, labels_arr, seed = seed)\n",
        "x_train, y_train, x_val, y_val, x_test, y_test = split_data(filenames_resampled, labels_resampled, train = 0.8, test = 0.15)\n",
        "\n",
        "print()\n",
        "count_split(x_train)\n",
        "count_split(x_val)\n",
        "count_split(x_test)\n",
        "print()\n",
        "\n",
        "train_generator, validation_generator, test_generator = create_generators(x_train, y_train, x_val, y_val, x_test, y_test, batch_size = batch_size, log_mean = False)"
      ]
    },
    {
      "cell_type": "code",
      "execution_count": null,
      "metadata": {
        "id": "AhbubsKkK4_R"
      },
      "outputs": [],
      "source": [
        "def build_log():\n",
        "\n",
        "  model = models.Sequential()\n",
        "  model.add(layers.InputLayer(input_shape=(60, 100, 1)))\n",
        "  model.add(layers.Flatten())\n",
        "  model.add(layers.Dense(1, activation = \"sigmoid\"))\n",
        "\n",
        "  # compile model with desired features\n",
        "  model.compile(\n",
        "    optimizer = \"adam\", loss = \"binary_crossentropy\",\n",
        "    metrics=['accuracy']\n",
        "  )\n",
        "\n",
        "  return model"
      ]
    },
    {
      "cell_type": "code",
      "execution_count": null,
      "metadata": {
        "id": "Zz8rvZmwK4_R"
      },
      "outputs": [],
      "source": [
        "# build the model\n",
        "log_model = build_log()"
      ]
    },
    {
      "cell_type": "code",
      "execution_count": null,
      "metadata": {
        "colab": {
          "base_uri": "https://localhost:8080/"
        },
        "id": "VCYH8QsXK4_S",
        "outputId": "8d468a1e-eda9-4890-902b-9c0cafd591a6"
      },
      "outputs": [
        {
          "name": "stdout",
          "output_type": "stream",
          "text": [
            "Model: \"sequential_8\"\n",
            "_________________________________________________________________\n",
            " Layer (type)                Output Shape              Param #   \n",
            "=================================================================\n",
            " flatten_6 (Flatten)         (None, 6700)              0         \n",
            "                                                                 \n",
            " dense_8 (Dense)             (None, 1)                 6701      \n",
            "                                                                 \n",
            "=================================================================\n",
            "Total params: 6,701\n",
            "Trainable params: 6,701\n",
            "Non-trainable params: 0\n",
            "_________________________________________________________________\n"
          ]
        }
      ],
      "source": [
        "# see model structure\n",
        "log_model.summary()"
      ]
    },
    {
      "cell_type": "code",
      "execution_count": null,
      "metadata": {
        "colab": {
          "base_uri": "https://localhost:8080/"
        },
        "id": "fWkCp9e8OgiP",
        "outputId": "ac10b02e-5428-4a36-e162-323705c257be"
      },
      "outputs": [
        {
          "name": "stdout",
          "output_type": "stream",
          "text": [
            "Epoch 1/3\n",
            "210/210 [==============================] - 183s 864ms/step - loss: 19.0351 - accuracy: 0.6478 - val_loss: 4.8676 - val_accuracy: 0.7981\n",
            "Epoch 2/3\n",
            "210/210 [==============================] - 179s 855ms/step - loss: 7.3548 - accuracy: 0.7833 - val_loss: 3.2416 - val_accuracy: 0.8702\n",
            "Epoch 3/3\n",
            "210/210 [==============================] - 183s 869ms/step - loss: 5.4993 - accuracy: 0.8488 - val_loss: 4.8972 - val_accuracy: 0.8365\n"
          ]
        }
      ],
      "source": [
        "log_fit = log_model.fit(\n",
        "    train_generator,\n",
        "    steps_per_epoch = int(x_train.shape[0] // batch_size),\n",
        "    epochs = 3, # can change\n",
        "    verbose = 1,\n",
        "    validation_data = validation_generator,\n",
        "    validation_steps = int(x_val.shape[0] // batch_size)\n",
        ")"
      ]
    },
    {
      "cell_type": "code",
      "execution_count": null,
      "metadata": {
        "colab": {
          "base_uri": "https://localhost:8080/"
        },
        "id": "Gzy15mavK4_T",
        "outputId": "6640a545-d958-4966-a53f-ae53e8386192"
      },
      "outputs": [
        {
          "name": "stdout",
          "output_type": "stream",
          "text": [
            "40/40 [==============================] - 33s 820ms/step\n"
          ]
        }
      ],
      "source": [
        "log_predict = log_model.predict(\n",
        "    test_generator,\n",
        ")"
      ]
    },
    {
      "cell_type": "code",
      "execution_count": null,
      "metadata": {
        "colab": {
          "base_uri": "https://localhost:8080/"
        },
        "id": "cmf_1DQaK4_T",
        "outputId": "128e9424-2c6b-4583-dc1c-166c54203e14"
      },
      "outputs": [
        {
          "name": "stdout",
          "output_type": "stream",
          "text": [
            "(1262,)\n"
          ]
        }
      ],
      "source": [
        "# get class predictions\n",
        "predictions_log = log_predict > 0.5\n",
        "predictions_log = predictions_log.reshape(x_test.shape[0])\n",
        "print(predictions_log.shape)"
      ]
    },
    {
      "cell_type": "code",
      "execution_count": null,
      "metadata": {
        "colab": {
          "base_uri": "https://localhost:8080/",
          "height": 466
        },
        "id": "Vl1WANXlK4_T",
        "outputId": "363267ed-7429-492e-9786-0e7bebb86889"
      },
      "outputs": [
        {
          "data": {
            "text/plain": [
              "<sklearn.metrics._plot.confusion_matrix.ConfusionMatrixDisplay at 0x7f5dfa52e130>"
            ]
          },
          "execution_count": 137,
          "metadata": {},
          "output_type": "execute_result"
        },
        {
          "data": {
            "image/png": "[encoded data removed]",
            "text/plain": [
              "<Figure size 640x480 with 2 Axes>"
            ]
          },
          "metadata": {},
          "output_type": "display_data"
        }
      ],
      "source": [
        "# plot confusion matrix\n",
        "metrics.ConfusionMatrixDisplay.from_predictions(y_test, predictions_log, cmap = \"GnBu\")"
      ]
    },
    {
      "cell_type": "code",
      "source": [
        "### model evaluation metrics \n",
        "\n",
        "# (true positive + true negative)/total\n",
        "accuracy = sklearn.metrics.accuracy_score(y_test, predictions_cnn)\n",
        "print(\"accuracy: \" + str(accuracy))\n",
        "\n",
        "# true positive/(true positive + false positive)\n",
        "precision = sklearn.metrics.precision_score(y_test, predictions_cnn)\n",
        "print(\"precision: \" + str(precision))\n",
        "\n",
        "# true positive/(true positive + false negative)\n",
        "sensitivity = sklearn.metrics.recall_score(y_test, predictions_cnn)\n",
        "print(\"sensitivity: \" + str(sensitivity))\n",
        "\n",
        "# true negative/(true negative + false positive)\n",
        "specificity = sklearn.metrics.recall_score(y_test, predictions_cnn, pos_label = 0)\n",
        "print(\"specificity: \" + str(specificity))\n",
        "\n",
        "# 2 * (precision*recall)/(precision+recall)\n",
        "f1_score = 2*(precision*sensitivity)/(precision+sensitivity)\n",
        "print(\"f1_score: \" + str(f1_score))\n",
        "\n",
        "# no false positives means precision and specificity will be 100%"
      ],
      "metadata": {
        "id": "rwSfFCVQ47lM"
      },
      "execution_count": null,
      "outputs": []
    },
    {
      "cell_type": "code",
      "execution_count": null,
      "metadata": {
        "colab": {
          "base_uri": "https://localhost:8080/",
          "height": 472
        },
        "id": "NnvpO4UYK4_U",
        "outputId": "29eb2bbc-401d-4088-ca5f-0cd99158da57"
      },
      "outputs": [
        {
          "data": {
            "text/plain": [
              "<matplotlib.legend.Legend at 0x7f5df80a0d30>"
            ]
          },
          "execution_count": 139,
          "metadata": {},
          "output_type": "execute_result"
        },
        {
          "data": {
            "image/png": "[encoded data removed]",
            "text/plain": [
              "<Figure size 640x480 with 1 Axes>"
            ]
          },
          "metadata": {},
          "output_type": "display_data"
        }
      ],
      "source": [
        "# plot accuracy across epochs\n",
        "plt.plot(log_fit.history['accuracy'], label='accuracy')\n",
        "plt.plot(log_fit.history['val_accuracy'], label = 'val_accuracy')\n",
        "plt.xlabel('Epoch')\n",
        "plt.ylabel('Accuracy')\n",
        "plt.ylim([0.4, 1])\n",
        "# plt.title(\"CNN model accuracy by epoch\")\n",
        "plt.legend(loc='lower right')"
      ]
    }
  ],
  "metadata": {
    "accelerator": "GPU",
    "colab": {
      "provenance": [],
      "toc_visible": true
    },
    "gpuClass": "standard",
    "kernelspec": {
      "display_name": "base",
      "language": "python",
      "name": "python3"
    },
    "language_info": {
      "codemirror_mode": {
        "name": "ipython",
        "version": 3
      },
      "file_extension": ".py",
      "mimetype": "text/x-python",
      "name": "python",
      "nbconvert_exporter": "python",
      "pygments_lexer": "ipython3",
      "version": "3.9.13"
    },
    "vscode": {
      "interpreter": {
        "hash": "ad2bdc8ecc057115af97d19610ffacc2b4e99fae6737bb82f5d7fb13d2f2c186"
      }
    }
  },
  "nbformat": 4,
  "nbformat_minor": 0
}