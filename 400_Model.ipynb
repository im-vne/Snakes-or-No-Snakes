{
  "nbformat": 4,
  "nbformat_minor": 0,
  "metadata": {
    "colab": {
      "provenance": [],
      "authorship_tag": "ABX9TyO7OnMS08+tK2SILIGlNX3Y",
      "include_colab_link": true
    },
    "kernelspec": {
      "name": "python3",
      "display_name": "Python 3"
    },
    "language_info": {
      "name": "python"
    }
  },
  "cells": [
    {
      "cell_type": "markdown",
      "metadata": {
        "id": "view-in-github",
        "colab_type": "text"
      },
      "source": [
        "<a href=\"https://colab.research.google.com/github/im-vne/Snakes-or-No-Snakes/blob/main/400_Model.ipynb\" target=\"_parent\"><img src=\"https://colab.research.google.com/assets/colab-badge.svg\" alt=\"Open In Colab\"/></a>"
      ]
    },
    {
      "cell_type": "markdown",
      "metadata": {
        "id": "qNvBBBhXQzi3"
      },
      "source": [
        "# Model building and evaluation\n",
        "\n",
        "This notebook contains the main two methods: CNN and logistic regression. For side analyses see their specific notebook."
      ]
    },
    {
      "cell_type": "code",
      "execution_count": null,
      "metadata": {
        "colab": {
          "base_uri": "https://localhost:8080/"
        },
        "id": "lIyROfMHQ8HS",
        "outputId": "2d049c0d-c04b-40aa-f78c-451337d74b94"
      },
      "outputs": [
        {
          "output_type": "stream",
          "name": "stdout",
          "text": [
            "Mounted at /content/drive/\n"
          ]
        }
      ],
      "source": [
        "from google.colab import drive\n",
        "drive.mount('/content/drive/')"
      ]
    },
    {
      "cell_type": "code",
      "execution_count": 111,
      "metadata": {
        "id": "-PIXpkD_W4Uu",
        "colab": {
          "base_uri": "https://localhost:8080/",
          "height": 36
        },
        "outputId": "97dd75af-703b-4588-aa9c-33b5f99c215c"
      },
      "outputs": [
        {
          "output_type": "execute_result",
          "data": {
            "text/plain": [
              "'/content'"
            ],
            "application/vnd.google.colaboratory.intrinsic+json": {
              "type": "string"
            }
          },
          "metadata": {},
          "execution_count": 111
        }
      ],
      "source": [
        "import os # work with system\n",
        "import cv2 # work with images\n",
        "import numpy as np # arrays and numerical analysis\n",
        "import matplotlib.pyplot as plt # for data plots\n",
        "\n",
        "\n",
        "import sklearn.linear_model # linear models\n",
        "from sklearn.model_selection import train_test_split # data splitting\n",
        "from sklearn import metrics # model evaluation\n",
        "import tensorflow.keras as keras\n",
        "import tensorflow as tf\n",
        "from tensorflow.keras import datasets, layers, models\n",
        "import random # for random sampling\n",
        "\n",
        "import pandas as pd\n",
        "\n",
        "os.getcwd()\n",
        "### set working directory in data folder\n",
        "#os.chdir(\"drive/Shareddrives/Capstone 2023/Data/MicrosoftSnakeAlgorithmProject\")"
      ]
    },
    {
      "cell_type": "code",
      "source": [
        "from google.colab import drive\n",
        "drive.mount('/content/drive')"
      ],
      "metadata": {
        "colab": {
          "base_uri": "https://localhost:8080/"
        },
        "id": "5JYPxf0R7ykA",
        "outputId": "fb1f4180-5ebf-4a85-b810-03c3523ff9d5"
      },
      "execution_count": 95,
      "outputs": [
        {
          "output_type": "stream",
          "name": "stdout",
          "text": [
            "Drive already mounted at /content/drive; to attempt to forcibly remount, call drive.mount(\"/content/drive\", force_remount=True).\n"
          ]
        }
      ]
    },
    {
      "cell_type": "code",
      "source": [
        "df = pd.read_csv(\"/content/drive/Shareddrives/Capstone 2023/Data/Time_Data/cumulative_organized_Data_Path.csv\")\n",
        "first_column = df.columns[0]\n",
        "df = df.drop([first_column], axis=1)\n",
        "print(df.head(5))\n",
        "print(df.tail(5))"
      ],
      "metadata": {
        "colab": {
          "base_uri": "https://localhost:8080/"
        },
        "id": "iwUIlLkY-L6N",
        "outputId": "a4598991-59b2-416c-e391-de6288270192"
      },
      "execution_count": 94,
      "outputs": [
        {
          "output_type": "stream",
          "name": "stdout",
          "text": [
            "   Snake                 Date location camera  \\\n",
            "0      1  2016-03-08 07:36:30      LPS   TSP1   \n",
            "1      1  2016-03-08 07:37:00      LPS   TSP1   \n",
            "2      1  2016-03-08 07:37:30      LPS   TSP1   \n",
            "3      1  2016-03-08 07:38:00      LPS   TSP1   \n",
            "4      1  2016-03-13 14:46:00      LPS   TSP1   \n",
            "\n",
            "                                                Path  cumsum_snakes  \\\n",
            "0  /content/drive/Shareddrives/Capstone 2023/Data...              1   \n",
            "1  /content/drive/Shareddrives/Capstone 2023/Data...              2   \n",
            "2  /content/drive/Shareddrives/Capstone 2023/Data...              3   \n",
            "3  /content/drive/Shareddrives/Capstone 2023/Data...              4   \n",
            "4  /content/drive/Shareddrives/Capstone 2023/Data...              5   \n",
            "\n",
            "   cumsum_snakes_total  cumsum_snakes_location  cumsum_snakes_camera  \n",
            "0                    1                       1                     1  \n",
            "1                    2                       2                     2  \n",
            "2                    3                       3                     3  \n",
            "3                    4                       4                     4  \n",
            "4                    5                       5                     5  \n",
            "       Snake                 Date location  camera  \\\n",
            "23270      0  2019-10-13 14:54:00      LPS  APTR12   \n",
            "23271      0  2019-10-13 14:54:30      LPS  APTR12   \n",
            "23272      0  2019-10-13 14:55:00      LPS  APTR12   \n",
            "23273      0  2019-10-13 14:55:30      LPS  APTR12   \n",
            "23274      0  2019-10-13 14:56:00      LPS  APTR12   \n",
            "\n",
            "                                                    Path  cumsum_snakes  \\\n",
            "23270  /content/drive/Shareddrives/Capstone 2023/Data...           2129   \n",
            "23271  /content/drive/Shareddrives/Capstone 2023/Data...           2129   \n",
            "23272  /content/drive/Shareddrives/Capstone 2023/Data...           2129   \n",
            "23273  /content/drive/Shareddrives/Capstone 2023/Data...           2129   \n",
            "23274  /content/drive/Shareddrives/Capstone 2023/Data...           2129   \n",
            "\n",
            "       cumsum_snakes_total  cumsum_snakes_location  cumsum_snakes_camera  \n",
            "23270                 4203                    2129                   277  \n",
            "23271                 4203                    2129                   277  \n",
            "23272                 4203                    2129                   277  \n",
            "23273                 4203                    2129                   277  \n",
            "23274                 4203                    2129                   277  \n",
            " \n"
          ]
        }
      ]
    },
    {
      "cell_type": "code",
      "source": [
        "print(\"Total unique cameras:\")\n",
        "print(len(df.camera.unique()))\n",
        "print(\" \")\n",
        "\n",
        "print(\"max images per camera:\")\n",
        "print(df.cumsum_snakes_camera.value_counts().max())\n",
        "print(\"min images per camera:\")\n",
        "print(df.cumsum_snakes_camera.value_counts().min())\n",
        "\n"
      ],
      "metadata": {
        "colab": {
          "base_uri": "https://localhost:8080/"
        },
        "id": "0lWnlbaotn_O",
        "outputId": "94d0ae73-aacc-4ded-f74b-5379dbeb0bed"
      },
      "execution_count": 121,
      "outputs": [
        {
          "output_type": "stream",
          "name": "stdout",
          "text": [
            "Total unique cameras:\n",
            "65\n",
            " \n",
            "max images per camera:\n",
            "3534\n",
            "min images per camera:\n",
            "1\n",
            "5    /content/drive/Shareddrives/Capstone 2023/Data...\n",
            "Name: Path, dtype: object\n"
          ]
        }
      ]
    },
    {
      "cell_type": "code",
      "source": [
        "#find number of samples per camera based on # of images needed\n",
        "#greater than 6 to allow cv\n",
        "#['TSP1', 'WF14', 'WF3', 'WF4', 'WF7']\n",
        "# have less than or equal to 6\n",
        "\n",
        "df01 = df.loc[(df['cumsum_snakes_camera'] >= 6 )]\n",
        "print(df01.head(5))\n",
        "\n",
        "#empty = []\n",
        "#ind = []\n",
        "#for x, i in df01.groupby('camera'):\n",
        "#    row = i.sample()\n",
        "#    empty.append(x)\n",
        "\n",
        "\n",
        "\n",
        "\n",
        "#print(len(empty))\n",
        "#print(empty)\n",
        "##I need to make sure every camera has had a snake in it\n",
        "totcamlen = len(df.camera.unique())\n",
        "print(totcamlen)\n",
        "totimgsnake = len(df)\n",
        "totcamlensnake = len(dfsnakenew.camera.unique())\n",
        "totimgsnakepart = len(dfsnakenew.camera.unique())\n",
        "\n",
        "print(totcamlensnake)\n",
        "\n",
        "print(\" \")\n",
        "print(totimgsnakepart)\n",
        "print(totimgsnake)\n",
        "totimg = len(df)\n",
        "samplesize = 400\n",
        "400/65\n",
        "\n",
        "##two cameras only have a cumsum of 1 snake appearance\n"
      ],
      "metadata": {
        "colab": {
          "base_uri": "https://localhost:8080/"
        },
        "id": "c778wnorRsGt",
        "outputId": "7205f4fa-7380-4634-eafe-8be8356053d4"
      },
      "execution_count": 129,
      "outputs": [
        {
          "output_type": "stream",
          "name": "stdout",
          "text": [
            "   Snake                 Date location camera  \\\n",
            "5      1  2016-03-13 16:15:30      LPS   TSP1   \n",
            "6      1  2016-03-13 16:16:00      LPS   TSP1   \n",
            "7      1  2016-03-13 16:16:30      LPS   TSP1   \n",
            "8      1  2016-03-13 16:17:00      LPS   TSP1   \n",
            "9      1  2016-03-13 16:17:30      LPS   TSP1   \n",
            "\n",
            "                                                Path  cumsum_snakes  \\\n",
            "5  /content/drive/Shareddrives/Capstone 2023/Data...              6   \n",
            "6  /content/drive/Shareddrives/Capstone 2023/Data...              7   \n",
            "7  /content/drive/Shareddrives/Capstone 2023/Data...              8   \n",
            "8  /content/drive/Shareddrives/Capstone 2023/Data...              9   \n",
            "9  /content/drive/Shareddrives/Capstone 2023/Data...             10   \n",
            "\n",
            "   cumsum_snakes_total  cumsum_snakes_location  cumsum_snakes_camera  \n",
            "5                    6                       6                     6  \n",
            "6                    7                       7                     7  \n",
            "7                    8                       8                     8  \n",
            "8                    9                       9                     9  \n",
            "9                   10                      10                    10  \n",
            "65\n",
            "65\n",
            " \n",
            "65\n",
            "23275\n"
          ]
        },
        {
          "output_type": "execute_result",
          "data": {
            "text/plain": [
              "6.153846153846154"
            ]
          },
          "metadata": {},
          "execution_count": 129
        }
      ]
    },
    {
      "cell_type": "code",
      "source": [
        "def resample_classes(files, labels, seed = 1):\n",
        "\n",
        "  '''\n",
        "  files and labels should both be np arrays\n",
        "  '''\n",
        "\n",
        "  # set seed for reproducibility (and possibly error computation)\n",
        "  random.seed(seed)\n",
        "  # get number of minority class (snakes)\n",
        "  n_minority = np.where(labels == 1)[0].shape[0]\n",
        "\n",
        "  # sample from indices corresponding to empty images\n",
        "  # downsample_idx should have as many indices as there are snake images\n",
        "  downsample_idx = np.array(random.sample(list(np.where(labels == 0)[0]), n_minority))\n",
        "  # final indices should have snakes and downsampled empties\n",
        "  out_index = np.concatenate((np.where(labels == 1)[0], downsample_idx))\n",
        "\n",
        "  # subset to resampled data - classes now balanced\n",
        "  filenames_resampled = files[out_index]\n",
        "  labels_resampled = labels[out_index]\n",
        "\n",
        "  print(f'total samples: {out_index.shape[0]}')\n",
        "  print(f'empty samples: {downsample_idx.shape[0]}')\n",
        "  print(f'snake samples: {n_minority}')\n",
        "\n",
        "  return filenames_resampled, labels_resampled"
      ],
      "metadata": {
        "id": "3s29VmctRl0t"
      },
      "execution_count": 69,
      "outputs": []
    },
    {
      "cell_type": "code",
      "source": [
        "df01\n",
        "print(df01.head(5))\n",
        "\n",
        "## This will return total original snakes of 4203\n",
        "## This includes cameras with 6 or less images\n",
        "labels = df['Snake']\n",
        "files = df['Path']\n",
        "\n",
        "#######\n",
        "\n",
        "##This will return less images\n",
        "## This is due to removing cameras with less than 6 images\n",
        "\n",
        "\n",
        "## Remove faulty image\n",
        "empty_img = \"MicrosoftSnakeAlgorithmProject/Snake_Images/FL_Snakes/WF8/IMG_7087.JPG\"\n",
        "df01 = df01[df01.Path != empty_img]\n",
        "\n",
        "labels = df01['Snake']\n",
        "print(len(labels))\n",
        "files = df01['Path']\n",
        "print(len(files))\n",
        "\n",
        "  # set seed for reproducibility (and possibly error computation)\n",
        "random.seed(1212)\n",
        "  # get number of minority class (snakes)\n",
        "n_minority = np.where(labels == 1)[0].shape[0]\n",
        "\n",
        "  # sample from indices corresponding to empty images\n",
        "  # downsample_idx should have as many indices as there are snake images\n",
        "downsample_idx = np.array(random.sample(list(np.where(labels == 0)[0]), n_minority))\n",
        "  # final indices should have snakes and downsampled empties\n",
        "out_index = np.concatenate((np.where(labels == 1)[0], downsample_idx))\n",
        "\n",
        "  # subset to resampled data - classes now balanced\n",
        "filenames_resampled = files.iloc[out_index]\n",
        "labels_resampled = labels.iloc[out_index]\n",
        "\n",
        "print(f'total samples: {out_index.shape[0]}')\n",
        "print(f'empty samples: {downsample_idx.shape[0]}')\n",
        "print(f'snake samples: {n_minority}')\n"
      ],
      "metadata": {
        "colab": {
          "base_uri": "https://localhost:8080/"
        },
        "id": "qiQrVhihfdSH",
        "outputId": "944fbdc6-6365-4933-8679-b73b3febe9db"
      },
      "execution_count": 158,
      "outputs": [
        {
          "output_type": "stream",
          "name": "stdout",
          "text": [
            "   Snake                 Date location camera  \\\n",
            "5      1  2016-03-13 16:15:30      LPS   TSP1   \n",
            "6      1  2016-03-13 16:16:00      LPS   TSP1   \n",
            "7      1  2016-03-13 16:16:30      LPS   TSP1   \n",
            "8      1  2016-03-13 16:17:00      LPS   TSP1   \n",
            "9      1  2016-03-13 16:17:30      LPS   TSP1   \n",
            "\n",
            "                                                Path  cumsum_snakes  \\\n",
            "5  /content/drive/Shareddrives/Capstone 2023/Data...              6   \n",
            "6  /content/drive/Shareddrives/Capstone 2023/Data...              7   \n",
            "7  /content/drive/Shareddrives/Capstone 2023/Data...              8   \n",
            "8  /content/drive/Shareddrives/Capstone 2023/Data...              9   \n",
            "9  /content/drive/Shareddrives/Capstone 2023/Data...             10   \n",
            "\n",
            "   cumsum_snakes_total  cumsum_snakes_location  cumsum_snakes_camera  \n",
            "5                    6                       6                     6  \n",
            "6                    7                       7                     7  \n",
            "7                    8                       8                     8  \n",
            "8                    9                       9                     9  \n",
            "9                   10                      10                    10  \n",
            "15265\n",
            "15265\n",
            "total samples: 7776\n",
            "empty samples: 3888\n",
            "snake samples: 3888\n",
            "Train\n",
            "0    1071\n",
            "1     385\n",
            "Name: Snake, dtype: int64\n",
            "Test amount\n",
            "0    10306\n",
            "1     3503\n",
            "Name: Snake, dtype: int64\n"
          ]
        }
      ]
    },
    {
      "cell_type": "code",
      "source": [
        "##0.9046 comes from 1 - (4203*0.1)\n",
        "train = 0.098\n",
        "test = 0.9046\n",
        "\n",
        "train, test = train_test_split(df01, test_size=1-train, random_state=1, stratify=df01[['camera','Snake']])\n",
        "\n",
        "print(\"Train\")\n",
        "print(train.Snake.value_counts())\n",
        "#print(train.camera.value_counts())\n",
        "print(len(train.camera.value_counts()))\n",
        "print(\"Test amount\")\n",
        "print(test.Snake.value_counts())\n",
        "\n",
        "train = 0.099\n",
        "\n",
        "x_train, x_test, y_train, y_test = train_test_split(files, labels, test_size = 1-train, stratify = df01[['camera','Snake']], shuffle = True, random_state = 1)\n",
        "\n",
        "print(\"Train\")\n",
        "#print(x_train.value_counts())\n",
        "print(y_train.value_counts())\n",
        "print(\"Test\")\n",
        "#print(x_test.value_counts())\n",
        "print(y_test.value_counts())\n",
        "\n",
        "x_val, x_test, y_val, y_test = train_test_split(\n",
        "      x_test, y_test, test_size = .99, stratify = y_test, shuffle = True, random_state = 1)\n",
        "\n",
        "print(f'train: {x_train.shape[0]} ({x_train.shape[0]/labels.shape[0]*100:.2f}%)')\n",
        "print(f'val: {x_val.shape[0]} ({x_val.shape[0]/labels.shape[0]*100:.2f}%)')\n",
        "print(f'test: {x_test.shape[0]} ({x_test.shape[0]/labels.shape[0]*100:.2f}%)')"
      ],
      "metadata": {
        "colab": {
          "base_uri": "https://localhost:8080/"
        },
        "id": "XEuQCp0D_pxr",
        "outputId": "4e0d3c14-6e60-4e11-d9b3-aa5ed4a4de6e"
      },
      "execution_count": 191,
      "outputs": [
        {
          "output_type": "stream",
          "name": "stdout",
          "text": [
            "Train\n",
            "0    1111\n",
            "1     384\n",
            "Name: Snake, dtype: int64\n",
            "56\n",
            "Test amount\n",
            "0    10266\n",
            "1     3504\n",
            "Name: Snake, dtype: int64\n",
            "Train\n",
            "0    1097\n",
            "1     368\n",
            "Name: Snake, dtype: int64\n",
            "Test\n",
            "0    10280\n",
            "1     3520\n",
            "Name: Snake, dtype: int64\n",
            "train: 1465 (9.60%)\n",
            "val: 138 (0.90%)\n",
            "test: 13662 (89.50%)\n",
            "Train\n",
            "0    1111\n",
            "1     384\n",
            "Name: Snake, dtype: int64\n",
            "56\n",
            "Test amount\n",
            "0    10266\n",
            "1     3504\n",
            "Name: Snake, dtype: int64\n",
            "Train\n",
            "0    1131\n",
            "1     380\n",
            "Name: Snake, dtype: int64\n",
            "Test\n",
            "0    10246\n",
            "1     3508\n",
            "Name: Snake, dtype: int64\n",
            "train: 1511 (9.90%)\n",
            "val: 137 (0.90%)\n",
            "test: 13617 (89.20%)\n"
          ]
        }
      ]
    },
    {
      "cell_type": "code",
      "source": [
        "def count_split(data): # much better would be to count 0 and 1 in y_*\n",
        "\n",
        "  data = list(data)\n",
        "  snake = [x for x in data if \"Snake_Images\" in x]\n",
        "  empty = [x for x in data if \"Empty\" in x]\n",
        "\n",
        "  print(f'total: {len(data)}')\n",
        "  print(f'snake: {len(snake)} ({len(snake)/len(data)*100:.2f}%)')\n",
        "  print(f'empty: {len(empty)} ({len(empty)/len(data)*100:.2f}%)')"
      ],
      "metadata": {
        "id": "VEjA1vqW8WOU"
      },
      "execution_count": 192,
      "outputs": []
    },
    {
      "cell_type": "code",
      "source": [
        "print()\n",
        "count_split(x_train)\n",
        "count_split(x_val)\n",
        "count_split(x_test)\n",
        "print()"
      ],
      "metadata": {
        "colab": {
          "base_uri": "https://localhost:8080/"
        },
        "id": "31iRHc3qRT4z",
        "outputId": "3b6d8f51-b9b0-44e3-f6be-aa377f39672b"
      },
      "execution_count": 193,
      "outputs": [
        {
          "output_type": "stream",
          "name": "stdout",
          "text": [
            "\n",
            "total: 1511\n",
            "snake: 380 (25.15%)\n",
            "empty: 1131 (74.85%)\n",
            "total: 137\n",
            "snake: 35 (25.55%)\n",
            "empty: 102 (74.45%)\n",
            "total: 13617\n",
            "snake: 3473 (25.50%)\n",
            "empty: 10144 (74.50%)\n",
            "\n"
          ]
        }
      ]
    },
    {
      "cell_type": "code",
      "source": [
        "tf.config.list_physical_devices('GPU')"
      ],
      "metadata": {
        "colab": {
          "base_uri": "https://localhost:8080/"
        },
        "id": "HcCLIxzcvdzC",
        "outputId": "03199d54-317b-426a-c970-c59d95655ed2"
      },
      "execution_count": null,
      "outputs": [
        {
          "output_type": "execute_result",
          "data": {
            "text/plain": [
              "[PhysicalDevice(name='/physical_device:GPU:0', device_type='GPU')]"
            ]
          },
          "metadata": {},
          "execution_count": 6
        }
      ]
    },
    {
      "cell_type": "code",
      "source": [
        "!nvidia-smi"
      ],
      "metadata": {
        "id": "IaiRHPE4wF3q",
        "colab": {
          "base_uri": "https://localhost:8080/"
        },
        "outputId": "1a165e08-cd27-4ac2-9357-0c20245a52e6"
      },
      "execution_count": null,
      "outputs": [
        {
          "output_type": "stream",
          "name": "stdout",
          "text": [
            "Fri Jul 14 22:34:25 2023       \n",
            "+-----------------------------------------------------------------------------+\n",
            "| NVIDIA-SMI 525.105.17   Driver Version: 525.105.17   CUDA Version: 12.0     |\n",
            "|-------------------------------+----------------------+----------------------+\n",
            "| GPU  Name        Persistence-M| Bus-Id        Disp.A | Volatile Uncorr. ECC |\n",
            "| Fan  Temp  Perf  Pwr:Usage/Cap|         Memory-Usage | GPU-Util  Compute M. |\n",
            "|                               |                      |               MIG M. |\n",
            "|===============================+======================+======================|\n",
            "|   0  Tesla T4            Off  | 00000000:00:04.0 Off |                    0 |\n",
            "| N/A   38C    P8     9W /  70W |      3MiB / 15360MiB |      0%      Default |\n",
            "|                               |                      |                  N/A |\n",
            "+-------------------------------+----------------------+----------------------+\n",
            "                                                                               \n",
            "+-----------------------------------------------------------------------------+\n",
            "| Processes:                                                                  |\n",
            "|  GPU   GI   CI        PID   Type   Process name                  GPU Memory |\n",
            "|        ID   ID                                                   Usage      |\n",
            "|=============================================================================|\n",
            "|  No running processes found                                                 |\n",
            "+-----------------------------------------------------------------------------+\n"
          ]
        }
      ]
    },
    {
      "cell_type": "code",
      "execution_count": null,
      "metadata": {
        "colab": {
          "base_uri": "https://localhost:8080/"
        },
        "id": "n9EvY-CVKVb2",
        "outputId": "708289c8-7716-4617-b8e1-1899d5f88a13"
      },
      "outputs": [
        {
          "output_type": "stream",
          "name": "stdout",
          "text": [
            "MicrosoftSnakeAlgorithmProject/Snake_Images/FL_Snakes/WF8/IMG_7087.JPG\n",
            "23275\n"
          ]
        }
      ],
      "source": []
    },
    {
      "cell_type": "code",
      "source": [
        "## import csv\n"
      ],
      "metadata": {
        "id": "jgMdhu_17Qcs"
      },
      "execution_count": null,
      "outputs": []
    },
    {
      "cell_type": "code",
      "source": [
        "##create sample size for 400"
      ],
      "metadata": {
        "id": "0YJctYWAIKRD"
      },
      "execution_count": null,
      "outputs": []
    },
    {
      "cell_type": "code",
      "source": [
        "##\n"
      ],
      "metadata": {
        "id": "oc3ATQdVIKmY"
      },
      "execution_count": null,
      "outputs": []
    },
    {
      "cell_type": "code",
      "execution_count": null,
      "metadata": {
        "id": "gAO-Ih3qzYfc"
      },
      "outputs": [],
      "source": []
    },
    {
      "cell_type": "code",
      "execution_count": null,
      "metadata": {
        "id": "2eEtUMuYu_09"
      },
      "outputs": [],
      "source": []
    },
    {
      "cell_type": "code",
      "source": [
        "class data_generator(keras.utils.Sequence) :\n",
        "\n",
        "  def __init__(self, image_filenames, labels, batch_size, log) :\n",
        "    self.image_filenames = image_filenames\n",
        "    self.labels = labels\n",
        "    self.batch_size = batch_size\n",
        "    self.log = log\n",
        "\n",
        "  def __len__(self) :\n",
        "    return (np.ceil(len(self.image_filenames) / float(self.batch_size))).astype(int)\n",
        "\n",
        "  def __getitem__(self, idx) :\n",
        "    batch_x = self.image_filenames[idx * self.batch_size : (idx+1) * self.batch_size]\n",
        "    batch_y = self.labels[idx * self.batch_size : (idx+1) * self.batch_size]\n",
        "\n",
        "    # read in and process image (different resizing for logistic regression to reduce trainable parameters)\n",
        "    if self.log:\n",
        "      x_list = [cv2.resize(cv2.imread(file_name, cv2.IMREAD_GRAYSCALE), (100, 60), interpolation = cv2.INTER_NEAREST) for file_name in batch_x]\n",
        "    else:\n",
        "      x_list = [cv2.resize(cv2.imread(file_name, cv2.IMREAD_GRAYSCALE), (512, 384), interpolation = cv2.INTER_NEAREST) for file_name in batch_x]\n",
        "\n",
        "    x_arr = np.array(x_list)\n",
        "    x_arr_reshaped = x_arr.reshape([x_arr.shape[0], x_arr.shape[1], x_arr.shape[2], 1])\n",
        "\n",
        "    y_arr = np.array(batch_y)\n",
        "    y_arr_reshaped = y_arr.reshape([x_arr_reshaped.shape[0], 1])\n",
        "\n",
        "    return x_arr_reshaped, y_arr_reshaped"
      ],
      "metadata": {
        "id": "g5xDejSz18Af"
      },
      "execution_count": 194,
      "outputs": []
    },
    {
      "cell_type": "code",
      "execution_count": 195,
      "metadata": {
        "id": "wn6p728ewZ7-"
      },
      "outputs": [],
      "source": [
        "def create_generators(x_train, y_train, x_val, y_val, x_test, y_test, batch_size = 32, log = False):\n",
        "\n",
        "  train_generator = data_generator(x_train, y_train, batch_size, log)\n",
        "  validation_generator = data_generator(x_val, y_val, batch_size, log)\n",
        "  test_generator = data_generator(x_test, y_test, batch_size, log)\n",
        "\n",
        "  return train_generator, validation_generator, test_generator\n"
      ]
    },
    {
      "cell_type": "code",
      "source": [
        "def count_split(data): # much better would be to count 0 and 1 in y_*\n",
        "\n",
        "  data = list(data)\n",
        "  snake = [x for x in data if \"Snake_Images\" in x]\n",
        "  empty = [x for x in data if \"Empty\" in x]\n",
        "\n",
        "  print(f'total: {len(data)}')\n",
        "  print(f'snake: {len(snake)} ({len(snake)/len(data)*100:.2f}%)')\n",
        "  print(f'empty: {len(empty)} ({len(empty)/len(data)*100:.2f}%)')"
      ],
      "metadata": {
        "id": "nvYr1w73QYDC"
      },
      "execution_count": null,
      "outputs": []
    },
    {
      "cell_type": "code",
      "execution_count": null,
      "metadata": {
        "colab": {
          "base_uri": "https://localhost:8080/"
        },
        "id": "NTvGroJoJPhA",
        "outputId": "d26f8137-0cbc-4ab2-a779-5fd00095480b"
      },
      "outputs": [
        {
          "output_type": "stream",
          "name": "stdout",
          "text": [
            "total samples: 8406\n",
            "empty samples: 4203\n",
            "snake samples: 4203\n",
            "train: 840 (9.99%)\n",
            "val: 420 (5.00%)\n",
            "test: 7146 (85.01%)\n",
            "\n",
            "total: 840\n",
            "snake: 420 (50.00%)\n",
            "empty: 420 (50.00%)\n",
            "total: 420\n",
            "snake: 210 (50.00%)\n",
            "empty: 210 (50.00%)\n",
            "total: 7146\n",
            "snake: 3573 (50.00%)\n",
            "empty: 3573 (50.00%)\n",
            "\n"
          ]
        }
      ],
      "source": []
    },
    {
      "cell_type": "markdown",
      "metadata": {
        "id": "3RFAPQerxj5d"
      },
      "source": [
        "## CNN"
      ]
    },
    {
      "cell_type": "code",
      "source": [
        "# create data generators\n",
        "batch_size = 32\n",
        "train_generator, validation_generator, test_generator = create_generators(x_train, y_train, x_val, y_val, x_test, y_test, batch_size = batch_size, log = False)"
      ],
      "metadata": {
        "id": "Annq0ORw2d-O"
      },
      "execution_count": 197,
      "outputs": []
    },
    {
      "cell_type": "code",
      "execution_count": 198,
      "metadata": {
        "id": "I2rsHpz40FMw"
      },
      "outputs": [],
      "source": [
        "# create model\n",
        "def build_model():\n",
        "\n",
        "    model = models.Sequential()\n",
        "    model.add(layers.Conv2D(16, (3, 3), activation='relu', input_shape=(384, 512, 1)))\n",
        "    model.add(layers.MaxPooling2D((2, 2)))\n",
        "    model.add(layers.Conv2D(32, (3, 3), activation='relu'))\n",
        "    model.add(layers.MaxPooling2D((2, 2)))\n",
        "    model.add(layers.Conv2D(64, (3, 3), activation='relu'))\n",
        "    model.add(layers.MaxPooling2D((2, 2)))\n",
        "\n",
        "    model.add(layers.Flatten())\n",
        "    model.add(layers.Dense(128, activation='relu'))\n",
        "    model.add(layers.Dense(1, activation = 'sigmoid'))\n",
        "\n",
        "    # compile model with desired features\n",
        "    model.compile(\n",
        "        optimizer = \"adam\", loss = \"binary_crossentropy\",\n",
        "        metrics=['accuracy']\n",
        "    )\n",
        "\n",
        "    return model"
      ]
    },
    {
      "cell_type": "code",
      "execution_count": 199,
      "metadata": {
        "id": "2TeCVESl0Kou"
      },
      "outputs": [],
      "source": [
        "# build the model\n",
        "cnn_model = build_model()"
      ]
    },
    {
      "cell_type": "code",
      "execution_count": 200,
      "metadata": {
        "colab": {
          "base_uri": "https://localhost:8080/"
        },
        "id": "cqn7xDxKUkEg",
        "outputId": "9b67abb9-e6d2-4fba-afcb-c8cb324c9509"
      },
      "outputs": [
        {
          "output_type": "stream",
          "name": "stdout",
          "text": [
            "Model: \"sequential\"\n",
            "_________________________________________________________________\n",
            " Layer (type)                Output Shape              Param #   \n",
            "=================================================================\n",
            " conv2d (Conv2D)             (None, 382, 510, 16)      160       \n",
            "                                                                 \n",
            " max_pooling2d (MaxPooling2D  (None, 191, 255, 16)     0         \n",
            " )                                                               \n",
            "                                                                 \n",
            " conv2d_1 (Conv2D)           (None, 189, 253, 32)      4640      \n",
            "                                                                 \n",
            " max_pooling2d_1 (MaxPooling  (None, 94, 126, 32)      0         \n",
            " 2D)                                                             \n",
            "                                                                 \n",
            " conv2d_2 (Conv2D)           (None, 92, 124, 64)       18496     \n",
            "                                                                 \n",
            " max_pooling2d_2 (MaxPooling  (None, 46, 62, 64)       0         \n",
            " 2D)                                                             \n",
            "                                                                 \n",
            " flatten (Flatten)           (None, 182528)            0         \n",
            "                                                                 \n",
            " dense (Dense)               (None, 128)               23363712  \n",
            "                                                                 \n",
            " dense_1 (Dense)             (None, 1)                 129       \n",
            "                                                                 \n",
            "=================================================================\n",
            "Total params: 23,387,137\n",
            "Trainable params: 23,387,137\n",
            "Non-trainable params: 0\n",
            "_________________________________________________________________\n"
          ]
        }
      ],
      "source": [
        "# view model architecture\n",
        "cnn_model.summary()"
      ]
    },
    {
      "cell_type": "code",
      "execution_count": 201,
      "metadata": {
        "colab": {
          "base_uri": "https://localhost:8080/"
        },
        "id": "7n3LFWNX0oJ2",
        "outputId": "4da0276e-b69b-4951-fafb-d72258913ea2"
      },
      "outputs": [
        {
          "output_type": "stream",
          "name": "stdout",
          "text": [
            "Epoch 1/3\n",
            "47/47 [==============================] - 918s 19s/step - loss: 144.0362 - accuracy: 0.6667 - val_loss: 0.3568 - val_accuracy: 0.8438\n",
            "Epoch 2/3\n",
            "47/47 [==============================] - 354s 8s/step - loss: 0.2640 - accuracy: 0.8952 - val_loss: 0.1902 - val_accuracy: 0.9062\n",
            "Epoch 3/3\n",
            "47/47 [==============================] - 344s 7s/step - loss: 0.1537 - accuracy: 0.9479 - val_loss: 0.1762 - val_accuracy: 0.9453\n"
          ]
        }
      ],
      "source": [
        "cnn_fit = cnn_model.fit(\n",
        "    train_generator,\n",
        "    steps_per_epoch = int(x_train.shape[0] // batch_size),\n",
        "    # steps_per_epoch = 10,\n",
        "    epochs = 3,\n",
        "    verbose = 1,\n",
        "    validation_data = validation_generator,\n",
        "    validation_steps = int(x_val.shape[0] // batch_size)\n",
        "    # validation_steps = 3\n",
        ")"
      ]
    },
    {
      "cell_type": "code",
      "source": [
        "# can load saved (see google sheet for model descriptions)\n",
        "# cnn_model = tf.keras.models.load_model(\"../Snakes-or-No-Snakes/cnn_balanced_seed1_3e\")"
      ],
      "metadata": {
        "id": "sSB1fDxa0qMV"
      },
      "execution_count": null,
      "outputs": []
    },
    {
      "cell_type": "code",
      "execution_count": 202,
      "metadata": {
        "id": "tkw76jZoDjyN",
        "colab": {
          "base_uri": "https://localhost:8080/"
        },
        "outputId": "2c571db1-2e23-45b2-a842-f88f78bc9d16"
      },
      "outputs": [
        {
          "output_type": "stream",
          "name": "stdout",
          "text": [
            "426/426 [==============================] - 6736s 16s/step\n"
          ]
        }
      ],
      "source": [
        "model_predict = cnn_model.predict(\n",
        "    test_generator\n",
        ")"
      ]
    },
    {
      "cell_type": "code",
      "execution_count": 203,
      "metadata": {
        "id": "DHhm9V2j78V0",
        "colab": {
          "base_uri": "https://localhost:8080/"
        },
        "outputId": "c1041c1c-ddef-489f-a6e2-4bef46ad2938"
      },
      "outputs": [
        {
          "output_type": "stream",
          "name": "stdout",
          "text": [
            "(13617,)\n"
          ]
        }
      ],
      "source": [
        "# get class predictions\n",
        "predictions_cnn = model_predict > 0.5\n",
        "predictions_cnn = predictions_cnn.reshape(x_test.shape[0])\n",
        "print(predictions_cnn.shape)"
      ]
    },
    {
      "cell_type": "code",
      "source": [
        "#set(list(predictions_cnn.reshape(1262)))"
      ],
      "metadata": {
        "id": "wkSZfPT7rHTh"
      },
      "execution_count": 207,
      "outputs": []
    },
    {
      "cell_type": "code",
      "execution_count": 204,
      "metadata": {
        "id": "CoTUxBArKjTf",
        "colab": {
          "base_uri": "https://localhost:8080/",
          "height": 466
        },
        "outputId": "e8672ef7-4839-4764-fc68-b36635ac8660"
      },
      "outputs": [
        {
          "output_type": "execute_result",
          "data": {
            "text/plain": [
              "<sklearn.metrics._plot.confusion_matrix.ConfusionMatrixDisplay at 0x79fbb5155a20>"
            ]
          },
          "metadata": {},
          "execution_count": 204
        },
        {
          "output_type": "display_data",
          "data": {
            "text/plain": [
              "<Figure size 640x480 with 2 Axes>"
            ],
            "image/png": "[encoded data removed]"
          },
          "metadata": {}
        }
      ],
      "source": [
        "# plot confusion matrix\n",
        "metrics.ConfusionMatrixDisplay.from_predictions(y_test, predictions_cnn, cmap = \"GnBu\")"
      ]
    },
    {
      "cell_type": "code",
      "execution_count": 205,
      "metadata": {
        "id": "cW4daMTuKnSX",
        "colab": {
          "base_uri": "https://localhost:8080/"
        },
        "outputId": "5459fd49-16ae-400f-d36e-d0819de876e3"
      },
      "outputs": [
        {
          "output_type": "stream",
          "name": "stdout",
          "text": [
            "accuracy: 0.9666593229051921\n",
            "precision: 0.952352412346419\n",
            "sensitivity: 0.9150590267780018\n",
            "specificity: 0.9843257097791798\n",
            "f1_score: 0.9333333333333335\n"
          ]
        }
      ],
      "source": [
        "### model evaluation metrics\n",
        "\n",
        "# (true positive + true negative)/total\n",
        "accuracy = sklearn.metrics.accuracy_score(y_test, predictions_cnn)\n",
        "print(\"accuracy: \" + str(accuracy))\n",
        "\n",
        "# true positive/(true positive + false positive)\n",
        "precision = sklearn.metrics.precision_score(y_test, predictions_cnn)\n",
        "print(\"precision: \" + str(precision))\n",
        "\n",
        "# true positive/(true positive + false negative)\n",
        "sensitivity = sklearn.metrics.recall_score(y_test, predictions_cnn)\n",
        "print(\"sensitivity: \" + str(sensitivity))\n",
        "\n",
        "# true negative/(true negative + false positive)\n",
        "specificity = sklearn.metrics.recall_score(y_test, predictions_cnn, pos_label = 0)\n",
        "print(\"specificity: \" + str(specificity))\n",
        "\n",
        "# 2 * (precision*recall)/(precision+recall)\n",
        "f1_score = 2*(precision*sensitivity)/(precision+sensitivity)\n",
        "print(\"f1_score: \" + str(f1_score))\n",
        "\n",
        "# no false positives means precision and specificity will be 100%"
      ]
    },
    {
      "cell_type": "code",
      "execution_count": 208,
      "metadata": {
        "id": "8IScJl10KsS-"
      },
      "outputs": [],
      "source": [
        "# save model\n",
        "#cnn_model.save('../Snakes-or-No-Snakes/cnn_final_seed1_3e')"
      ]
    },
    {
      "cell_type": "code",
      "execution_count": 206,
      "metadata": {
        "colab": {
          "base_uri": "https://localhost:8080/",
          "height": 472
        },
        "id": "T39EubL9LCQd",
        "outputId": "ec4181f2-b907-45d6-c2cf-867ff9b9da07"
      },
      "outputs": [
        {
          "output_type": "execute_result",
          "data": {
            "text/plain": [
              "<matplotlib.legend.Legend at 0x79fbafc571c0>"
            ]
          },
          "metadata": {},
          "execution_count": 206
        },
        {
          "output_type": "display_data",
          "data": {
            "text/plain": [
              "<Figure size 640x480 with 1 Axes>"
            ],
            "image/png": "[encoded data removed]"
          },
          "metadata": {}
        }
      ],
      "source": [
        "# plot accuracy across epochs\n",
        "plt.plot(cnn_fit.history['accuracy'], label='accuracy')\n",
        "plt.plot(cnn_fit.history['val_accuracy'], label = 'val_accuracy')\n",
        "plt.xlabel('Epoch')\n",
        "plt.ylabel('Accuracy')\n",
        "plt.ylim([0.5, 1])\n",
        "plt.legend(loc='lower right')"
      ]
    }
  ]
}