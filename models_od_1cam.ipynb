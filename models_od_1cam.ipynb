{
  "cells": [
    {
      "cell_type": "markdown",
      "metadata": {
        "id": "qNvBBBhXQzi3"
      },
      "source": [
        "# Model building and evaluation\n",
        "\n",
        "This notebook explores the effect of an out of distribution test set. More specifically, how well do the models generalize to a new camera in the same location. In this analysis one camera, APTR4, was witheld completely."
      ]
    },
    {
      "cell_type": "code",
      "execution_count": 1,
      "metadata": {
        "id": "lIyROfMHQ8HS",
        "colab": {
          "base_uri": "https://localhost:8080/"
        },
        "outputId": "c57a1bc3-b16e-44ee-c501-6092e3ce88cc"
      },
      "outputs": [
        {
          "output_type": "stream",
          "name": "stdout",
          "text": [
            "Mounted at /content/drive/\n"
          ]
        }
      ],
      "source": [
        "from google.colab import drive\n",
        "drive.mount('/content/drive/') "
      ]
    },
    {
      "cell_type": "code",
      "execution_count": 2,
      "metadata": {
        "id": "-PIXpkD_W4Uu"
      },
      "outputs": [],
      "source": [
        "import os # work with system    \n",
        "import cv2 # work with images\n",
        "import numpy as np # arrays and numerical analysis  \n",
        "import matplotlib.pyplot as plt # for data plots\n",
        "\n",
        "import sklearn.linear_model # linear models\n",
        "from sklearn.model_selection import train_test_split # data splitting\n",
        "from sklearn import metrics # model evaluation\n",
        "import tensorflow.keras as keras\n",
        "import tensorflow as tf\n",
        "from tensorflow.keras import datasets, layers, models\n",
        "import random # for random sampling \n",
        "\n",
        "### set working directory in data folder\n",
        "os.chdir(\"drive/Shareddrives/Capstone 2023/Data/MicrosoftSnakeAlgorithmProject\")"
      ]
    },
    {
      "cell_type": "code",
      "source": [
        "tf.config.list_physical_devices('GPU')"
      ],
      "metadata": {
        "colab": {
          "base_uri": "https://localhost:8080/"
        },
        "id": "HcCLIxzcvdzC",
        "outputId": "785e2171-28df-4cbe-8e43-029ce02643f2"
      },
      "execution_count": 3,
      "outputs": [
        {
          "output_type": "execute_result",
          "data": {
            "text/plain": [
              "[PhysicalDevice(name='/physical_device:GPU:0', device_type='GPU')]"
            ]
          },
          "metadata": {},
          "execution_count": 3
        }
      ]
    },
    {
      "cell_type": "code",
      "source": [
        "!nvidia-smi"
      ],
      "metadata": {
        "id": "IaiRHPE4wF3q",
        "colab": {
          "base_uri": "https://localhost:8080/"
        },
        "outputId": "5717c6ef-8234-4f7a-c0b4-07c50a9481d8"
      },
      "execution_count": 4,
      "outputs": [
        {
          "output_type": "stream",
          "name": "stdout",
          "text": [
            "Fri Apr 28 17:28:23 2023       \n",
            "+-----------------------------------------------------------------------------+\n",
            "| NVIDIA-SMI 525.85.12    Driver Version: 525.85.12    CUDA Version: 12.0     |\n",
            "|-------------------------------+----------------------+----------------------+\n",
            "| GPU  Name        Persistence-M| Bus-Id        Disp.A | Volatile Uncorr. ECC |\n",
            "| Fan  Temp  Perf  Pwr:Usage/Cap|         Memory-Usage | GPU-Util  Compute M. |\n",
            "|                               |                      |               MIG M. |\n",
            "|===============================+======================+======================|\n",
            "|   0  Tesla T4            Off  | 00000000:00:04.0 Off |                    0 |\n",
            "| N/A   45C    P8    10W /  70W |      3MiB / 15360MiB |      0%      Default |\n",
            "|                               |                      |                  N/A |\n",
            "+-------------------------------+----------------------+----------------------+\n",
            "                                                                               \n",
            "+-----------------------------------------------------------------------------+\n",
            "| Processes:                                                                  |\n",
            "|  GPU   GI   CI        PID   Type   Process name                  GPU Memory |\n",
            "|        ID   ID                                                   Usage      |\n",
            "|=============================================================================|\n",
            "|  No running processes found                                                 |\n",
            "+-----------------------------------------------------------------------------+\n"
          ]
        }
      ]
    },
    {
      "cell_type": "code",
      "execution_count": 5,
      "metadata": {
        "colab": {
          "base_uri": "https://localhost:8080/"
        },
        "id": "n9EvY-CVKVb2",
        "outputId": "32d8e8ec-27b9-4155-c9f6-9b9147dbc8db"
      },
      "outputs": [
        {
          "output_type": "stream",
          "name": "stdout",
          "text": [
            "MicrosoftSnakeAlgorithmProject/Snake_Images/FL_Snakes/WF8/IMG_7087.JPG\n",
            "22804\n",
            "471\n"
          ]
        }
      ],
      "source": [
        "# estimated runtime: 45 seconds\n",
        "counter = 0 # if desired to break loop\n",
        "\n",
        "# labels and filenames should match since they are appended in order\n",
        "filenames = []\n",
        "labels = []\n",
        "\n",
        "filenames_od = []\n",
        "labels_od = []\n",
        "\n",
        "count = 0\n",
        "# one image does not open properly\n",
        "empty_img = \"MicrosoftSnakeAlgorithmProject/Snake_Images/FL_Snakes/WF8/IMG_7087.JPG\"\n",
        "# walk through all directories and files in current working directory\n",
        "for root, dir, files in os.walk(os.getcwd()):\n",
        "    \n",
        "    for jpg in files:\n",
        "        if empty_img in os.path.join(root, jpg):\n",
        "          print(empty_img)\n",
        "          continue\n",
        "\n",
        "        # hold out APTR4 as out of distribution test\n",
        "        if \"LPS_empty/APTR4\" in os.path.join(root, jpg):\n",
        "          filenames_od.append(os.path.join(root, jpg))\n",
        "          labels_od.append(0)\n",
        "          continue\n",
        "\n",
        "        if \"LPS_Snakes/APTR4\" in os.path.join(root, jpg):\n",
        "          filenames_od.append(os.path.join(root, jpg))\n",
        "          labels_od.append(1)\n",
        "          continue\n",
        "\n",
        "        # if jpg file, then keep filename\n",
        "        if \".JPG\" in jpg:\n",
        "            filenames.append(os.path.join(root, jpg))\n",
        "\n",
        "        if \"Empty\" in root:\n",
        "          labels.append(0)\n",
        "        elif \"Snake_Images\" in root:\n",
        "          labels.append(1)\n",
        "            \n",
        "    counter += 1\n",
        "    # if counter > 10000: break\n",
        "\n",
        "filenames_arr = np.array(filenames)\n",
        "labels_arr = np.array(labels)\n",
        "\n",
        "filenames_arr_od = np.array(filenames_od)\n",
        "labels_arr_od = np.array(labels_od)\n",
        "  \n",
        "print(len(filenames))\n",
        "print(len(filenames_od))"
      ]
    },
    {
      "cell_type": "code",
      "execution_count": 6,
      "metadata": {
        "id": "gAO-Ih3qzYfc"
      },
      "outputs": [],
      "source": [
        "def resample_classes(files, labels, seed = 1):\n",
        "\n",
        "  '''\n",
        "  files and labels should both be np arrays\n",
        "  '''\n",
        "\n",
        "  # set seed for reproducibility (and possibly error computation)\n",
        "  random.seed(seed)\n",
        "  # get number of minority class (snakes)\n",
        "  n_minority = np.where(labels == 1)[0].shape[0]\n",
        "\n",
        "  # sample from indices corresponding to empty images\n",
        "  # downsample_idx should have as many indices as there are snake images\n",
        "  downsample_idx = np.array(random.sample(list(np.where(labels == 0)[0]), n_minority))\n",
        "  # final indices should have snakes and downsampled empties\n",
        "  out_index = np.concatenate((np.where(labels == 1)[0], downsample_idx))\n",
        "\n",
        "  # subset to resampled data - classes now balanced\n",
        "  filenames_resampled = files[out_index]\n",
        "  labels_resampled = labels[out_index]\n",
        "\n",
        "  print(f'total samples: {out_index.shape[0]}')\n",
        "  print(f'empty samples: {downsample_idx.shape[0]}')\n",
        "  print(f'snake samples: {n_minority}')\n",
        "\n",
        "  return filenames_resampled, labels_resampled"
      ]
    },
    {
      "cell_type": "code",
      "execution_count": 7,
      "metadata": {
        "id": "2eEtUMuYu_09"
      },
      "outputs": [],
      "source": [
        "def split_data(files, labels, seed = 27, train = 0.8, test = 0.15):\n",
        "\n",
        "  '''\n",
        "  files and labels should both be np arrays\n",
        "  '''\n",
        "\n",
        "  # split data: train is 1-test_size and test is test_size*leftover\n",
        "  # must stratify to ensure roughly equal splits in train, val, test\n",
        "  # train and test specified, val is 1 - (train + test)\n",
        "  x_train, x_test, y_train, y_test = train_test_split(\n",
        "      files, labels, test_size = 1-train, stratify = labels, shuffle = True, random_state = seed)\n",
        "  x_val, x_test, y_val, y_test = train_test_split(\n",
        "      x_test, y_test, test_size = test/(1-train), stratify = y_test, shuffle = True, random_state = seed)\n",
        "  \n",
        "  print(f'train: {x_train.shape[0]} ({x_train.shape[0]/labels.shape[0]*100:.2f}%)')\n",
        "  print(f'val: {x_val.shape[0]} ({x_val.shape[0]/labels.shape[0]*100:.2f}%)')\n",
        "  print(f'test: {x_test.shape[0]} ({x_test.shape[0]/labels.shape[0]*100:.2f}%)')\n",
        "\n",
        "  return x_train, y_train, x_val, y_val, x_test, y_test"
      ]
    },
    {
      "cell_type": "code",
      "execution_count": 8,
      "metadata": {
        "id": "6YkWuF12xLP7"
      },
      "outputs": [],
      "source": [
        "class data_generator(keras.utils.Sequence) :\n",
        "  \n",
        "  def __init__(self, image_filenames, labels, batch_size, log) :\n",
        "    self.image_filenames = image_filenames\n",
        "    self.labels = labels\n",
        "    self.batch_size = batch_size\n",
        "    self.log = log\n",
        "    \n",
        "  def __len__(self) :\n",
        "    return (np.ceil(len(self.image_filenames) / float(self.batch_size))).astype(int)\n",
        "  \n",
        "  def __getitem__(self, idx) :\n",
        "    batch_x = self.image_filenames[idx * self.batch_size : (idx+1) * self.batch_size]\n",
        "    batch_y = self.labels[idx * self.batch_size : (idx+1) * self.batch_size]\n",
        "\n",
        "    # read in and process image (different resizing for logistic regression to reduce trainable parameters)\n",
        "    if self.log:\n",
        "      x_list = [cv2.resize(cv2.imread(file_name, cv2.IMREAD_GRAYSCALE), (100, 60), interpolation = cv2.INTER_NEAREST) for file_name in batch_x]\n",
        "    else:\n",
        "      x_list = [cv2.resize(cv2.imread(file_name, cv2.IMREAD_GRAYSCALE), (512, 384), interpolation = cv2.INTER_NEAREST) for file_name in batch_x]\n",
        "    \n",
        "    x_arr = np.array(x_list)\n",
        "    x_arr_reshaped = x_arr.reshape([x_arr.shape[0], x_arr.shape[1], x_arr.shape[2], 1])\n",
        "  \n",
        "    y_arr = np.array(batch_y)\n",
        "    y_arr_reshaped = y_arr.reshape([x_arr_reshaped.shape[0], 1])\n",
        "\n",
        "    return x_arr_reshaped, y_arr_reshaped"
      ]
    },
    {
      "cell_type": "code",
      "execution_count": 9,
      "metadata": {
        "id": "wn6p728ewZ7-"
      },
      "outputs": [],
      "source": [
        "def create_generators(x_train, y_train, x_val, y_val, x_test, y_test, batch_size = 32, log = False):\n",
        "\n",
        "  train_generator = data_generator(x_train, y_train, batch_size, log)\n",
        "  validation_generator = data_generator(x_val, y_val, batch_size, log)\n",
        "  test_generator = data_generator(x_test, y_test, batch_size, log)  \n",
        "\n",
        "  return train_generator, validation_generator, test_generator\n"
      ]
    },
    {
      "cell_type": "code",
      "source": [
        "def count_split(data): # much better would be to count 0 and 1 in y_* \n",
        "\n",
        "  data = list(data)\n",
        "  snake = [x for x in data if \"Snake_Images\" in x]\n",
        "  empty = [x for x in data if \"Empty\" in x]\n",
        "\n",
        "  print(f'total: {len(data)}')\n",
        "  print(f'snake: {len(snake)} ({len(snake)/len(data)*100:.2f}%)')\n",
        "  print(f'empty: {len(empty)} ({len(empty)/len(data)*100:.2f}%)')"
      ],
      "metadata": {
        "id": "nvYr1w73QYDC"
      },
      "execution_count": 10,
      "outputs": []
    },
    {
      "cell_type": "code",
      "execution_count": 11,
      "metadata": {
        "colab": {
          "base_uri": "https://localhost:8080/"
        },
        "id": "NTvGroJoJPhA",
        "outputId": "84e44a0e-f7f5-4a66-faf7-478b8b79d2ff"
      },
      "outputs": [
        {
          "output_type": "stream",
          "name": "stdout",
          "text": [
            "total samples: 8066\n",
            "empty samples: 4033\n",
            "snake samples: 4033\n",
            "train: 6452 (79.99%)\n",
            "val: 403 (5.00%)\n",
            "test: 1211 (15.01%)\n",
            "\n",
            "total: 6452\n",
            "snake: 3226 (50.00%)\n",
            "empty: 3226 (50.00%)\n",
            "total: 403\n",
            "snake: 201 (49.88%)\n",
            "empty: 202 (50.12%)\n",
            "total: 1211\n",
            "snake: 606 (50.04%)\n",
            "empty: 605 (49.96%)\n",
            "\n"
          ]
        }
      ],
      "source": [
        "seed = 1\n",
        "batch_size = 32\n",
        "\n",
        "filenames_resampled, labels_resampled = resample_classes(filenames_arr, labels_arr, seed = seed)\n",
        "x_train, y_train, x_val, y_val, x_test, y_test = split_data(filenames_resampled, labels_resampled, train = 0.8, test = 0.15)\n",
        "\n",
        "print()\n",
        "count_split(x_train)\n",
        "count_split(x_val)\n",
        "count_split(x_test)\n",
        "print()"
      ]
    },
    {
      "cell_type": "code",
      "source": [
        "# downsample to balance out of distribution test\n",
        "filenames_od, labels_od = resample_classes(filenames_arr_od, labels_arr_od, seed = seed)\n",
        "\n",
        "count_split(filenames_od)"
      ],
      "metadata": {
        "colab": {
          "base_uri": "https://localhost:8080/"
        },
        "id": "JjagycX56q8E",
        "outputId": "1e9b9dbe-46af-4184-d143-294a7f01c1ad"
      },
      "execution_count": 23,
      "outputs": [
        {
          "output_type": "stream",
          "name": "stdout",
          "text": [
            "total samples: 340\n",
            "empty samples: 170\n",
            "snake samples: 170\n",
            "total: 340\n",
            "snake: 170 (50.00%)\n",
            "empty: 170 (50.00%)\n"
          ]
        }
      ]
    },
    {
      "cell_type": "markdown",
      "metadata": {
        "id": "3RFAPQerxj5d"
      },
      "source": [
        "## CNN"
      ]
    },
    {
      "cell_type": "code",
      "source": [
        "# cnn generators\n",
        "train_generator, validation_generator, test_generator = create_generators(x_train, y_train, x_val, y_val, x_test, y_test, batch_size = batch_size, log = False)"
      ],
      "metadata": {
        "id": "r8J0AXOF3ZHd"
      },
      "execution_count": 24,
      "outputs": []
    },
    {
      "cell_type": "code",
      "execution_count": null,
      "metadata": {
        "id": "I2rsHpz40FMw"
      },
      "outputs": [],
      "source": [
        "# create model \n",
        "def build_model():\n",
        "\n",
        "    model = models.Sequential()\n",
        "    model.add(layers.Conv2D(16, (3, 3), activation='relu', input_shape=(384, 512, 1)))\n",
        "    model.add(layers.MaxPooling2D((2, 2)))\n",
        "    model.add(layers.Conv2D(32, (3, 3), activation='relu'))\n",
        "    model.add(layers.MaxPooling2D((2, 2)))\n",
        "    model.add(layers.Conv2D(64, (3, 3), activation='relu'))\n",
        "    model.add(layers.MaxPooling2D((2, 2)))\n",
        "\n",
        "    model.add(layers.Flatten())\n",
        "    model.add(layers.Dense(128, activation='relu'))\n",
        "    model.add(layers.Dense(1, activation = 'sigmoid'))\n",
        "\n",
        "    # implement learning rate decay in Adam optimizer\n",
        "    # lr_schedule = keras.optimizers.schedules.ExponentialDecay(\n",
        "    #     initial_learning_rate=1e-2,\n",
        "    #     decay_steps=10000,\n",
        "    #     decay_rate=0.9)\n",
        "    # optimizer = keras.optimizers.Adam(learning_rate=lr_schedule)\n",
        "\n",
        "    # compile model with desired features\n",
        "    model.compile(\n",
        "        optimizer = \"adam\", loss = \"binary_crossentropy\",\n",
        "        metrics=['accuracy']\n",
        "    )\n",
        "\n",
        "    return model"
      ]
    },
    {
      "cell_type": "code",
      "execution_count": null,
      "metadata": {
        "id": "2TeCVESl0Kou"
      },
      "outputs": [],
      "source": [
        "# build the model\n",
        "cnn_model = build_model()"
      ]
    },
    {
      "cell_type": "code",
      "execution_count": null,
      "metadata": {
        "colab": {
          "base_uri": "https://localhost:8080/"
        },
        "id": "cqn7xDxKUkEg",
        "outputId": "19b47691-e4ae-48ec-eb7b-147a642b860b"
      },
      "outputs": [
        {
          "output_type": "stream",
          "name": "stdout",
          "text": [
            "Model: \"sequential\"\n",
            "_________________________________________________________________\n",
            " Layer (type)                Output Shape              Param #   \n",
            "=================================================================\n",
            " conv2d (Conv2D)             (None, 382, 510, 16)      160       \n",
            "                                                                 \n",
            " max_pooling2d (MaxPooling2D  (None, 191, 255, 16)     0         \n",
            " )                                                               \n",
            "                                                                 \n",
            " conv2d_1 (Conv2D)           (None, 189, 253, 32)      4640      \n",
            "                                                                 \n",
            " max_pooling2d_1 (MaxPooling  (None, 94, 126, 32)      0         \n",
            " 2D)                                                             \n",
            "                                                                 \n",
            " conv2d_2 (Conv2D)           (None, 92, 124, 64)       18496     \n",
            "                                                                 \n",
            " max_pooling2d_2 (MaxPooling  (None, 46, 62, 64)       0         \n",
            " 2D)                                                             \n",
            "                                                                 \n",
            " flatten (Flatten)           (None, 182528)            0         \n",
            "                                                                 \n",
            " dense (Dense)               (None, 128)               23363712  \n",
            "                                                                 \n",
            " dense_1 (Dense)             (None, 1)                 129       \n",
            "                                                                 \n",
            "=================================================================\n",
            "Total params: 23,387,137\n",
            "Trainable params: 23,387,137\n",
            "Non-trainable params: 0\n",
            "_________________________________________________________________\n"
          ]
        }
      ],
      "source": [
        "# view model architecture\n",
        "cnn_model.summary()"
      ]
    },
    {
      "cell_type": "code",
      "execution_count": null,
      "metadata": {
        "colab": {
          "base_uri": "https://localhost:8080/"
        },
        "id": "7n3LFWNX0oJ2",
        "outputId": "fe687b32-58fc-4faf-ea84-52c9b177e6e1"
      },
      "outputs": [
        {
          "output_type": "stream",
          "name": "stdout",
          "text": [
            "Epoch 1/3\n",
            "201/201 [==============================] - 9908s 49s/step - loss: 33.9278 - accuracy: 0.8612 - val_loss: 0.1227 - val_accuracy: 0.9557\n",
            "Epoch 2/3\n",
            "201/201 [==============================] - 148s 738ms/step - loss: 0.1846 - accuracy: 0.9271 - val_loss: 0.0728 - val_accuracy: 0.9740\n",
            "Epoch 3/3\n",
            "201/201 [==============================] - 148s 738ms/step - loss: 0.0309 - accuracy: 0.9903 - val_loss: 0.0783 - val_accuracy: 0.9792\n"
          ]
        }
      ],
      "source": [
        "cnn_fit = cnn_model.fit(\n",
        "    train_generator,\n",
        "    steps_per_epoch = int(x_train.shape[0] // batch_size),\n",
        "    # steps_per_epoch = 10,\n",
        "    epochs = 3,\n",
        "    verbose = 1,\n",
        "    validation_data = validation_generator,\n",
        "    validation_steps = int(x_val.shape[0] // batch_size)\n",
        "    # validation_steps = 3\n",
        ")"
      ]
    },
    {
      "cell_type": "code",
      "source": [
        "# can load saved (see google sheet for model descriptions)\n",
        "# cnn_model = tf.keras.models.load_model(\"../Snakes-or-No-Snakes/cnn_looAPTR4_seed1_3e\")"
      ],
      "metadata": {
        "id": "sSB1fDxa0qMV"
      },
      "execution_count": 15,
      "outputs": []
    },
    {
      "cell_type": "code",
      "execution_count": null,
      "metadata": {
        "id": "tkw76jZoDjyN"
      },
      "outputs": [],
      "source": [
        "model_predict = cnn_model.predict(\n",
        "    test_generator,\n",
        ")"
      ]
    },
    {
      "cell_type": "code",
      "execution_count": null,
      "metadata": {
        "id": "DHhm9V2j78V0",
        "colab": {
          "base_uri": "https://localhost:8080/"
        },
        "outputId": "e4e93e0b-4976-4021-943d-11fb95d49ee7"
      },
      "outputs": [
        {
          "output_type": "stream",
          "name": "stdout",
          "text": [
            "(1211,)\n"
          ]
        }
      ],
      "source": [
        "# get class predictions\n",
        "predictions_cnn = model_predict > 0.5\n",
        "predictions_cnn = predictions_cnn.reshape(x_test.shape[0])\n",
        "print(predictions_cnn.shape)"
      ]
    },
    {
      "cell_type": "code",
      "source": [
        "test_generator_od = data_generator(filenames_od, labels_od, batch_size = batch_size, log = False)\n",
        "\n",
        "model_predict_od = cnn_model.predict(\n",
        "    test_generator_od,\n",
        ")\n",
        "\n",
        "# get class predictions\n",
        "predictions_cnn_od = model_predict_od > 0.5\n",
        "predictions_cnn_od = predictions_cnn_od.reshape(filenames_od.shape[0])\n",
        "print(predictions_cnn_od.shape)"
      ],
      "metadata": {
        "colab": {
          "base_uri": "https://localhost:8080/"
        },
        "id": "7KCjugUCEA55",
        "outputId": "f655640c-f2c4-43d4-a455-be976653a2a1"
      },
      "execution_count": 25,
      "outputs": [
        {
          "output_type": "stream",
          "name": "stdout",
          "text": [
            "11/11 [==============================] - 8s 748ms/step\n",
            "(340,)\n"
          ]
        }
      ]
    },
    {
      "cell_type": "code",
      "source": [
        "set(list(predictions_cnn.reshape(1211)))"
      ],
      "metadata": {
        "colab": {
          "base_uri": "https://localhost:8080/"
        },
        "id": "wkSZfPT7rHTh",
        "outputId": "77d1ecd8-e8a9-4575-e472-16548c5658cb"
      },
      "execution_count": null,
      "outputs": [
        {
          "output_type": "execute_result",
          "data": {
            "text/plain": [
              "{False, True}"
            ]
          },
          "metadata": {},
          "execution_count": 23
        }
      ]
    },
    {
      "cell_type": "code",
      "execution_count": null,
      "metadata": {
        "id": "CoTUxBArKjTf",
        "colab": {
          "base_uri": "https://localhost:8080/",
          "height": 471
        },
        "outputId": "4925da7a-a0c9-4291-f8c8-55f84ced7a5f"
      },
      "outputs": [
        {
          "output_type": "execute_result",
          "data": {
            "text/plain": [
              "<sklearn.metrics._plot.confusion_matrix.ConfusionMatrixDisplay at 0x7fb613ac7730>"
            ]
          },
          "metadata": {},
          "execution_count": 24
        },
        {
          "output_type": "display_data",
          "data": {
            "text/plain": [
              "<Figure size 640x480 with 2 Axes>"
            ],
            "image/png": "[encoded data removed]"
          },
          "metadata": {}
        }
      ],
      "source": [
        "# plot confusion matrix\n",
        "metrics.ConfusionMatrixDisplay.from_predictions(y_test, predictions_cnn, cmap = \"GnBu\")"
      ]
    },
    {
      "cell_type": "code",
      "source": [
        "# plot confusion matrix\n",
        "metrics.ConfusionMatrixDisplay.from_predictions(labels_od, predictions_cnn_od, cmap = \"GnBu\")"
      ],
      "metadata": {
        "colab": {
          "base_uri": "https://localhost:8080/",
          "height": 466
        },
        "id": "ugktqa9L87k1",
        "outputId": "4b79dfbc-0143-4e9d-e210-f6a68b8bfb39"
      },
      "execution_count": 26,
      "outputs": [
        {
          "output_type": "execute_result",
          "data": {
            "text/plain": [
              "<sklearn.metrics._plot.confusion_matrix.ConfusionMatrixDisplay at 0x7f4ff4c3f580>"
            ]
          },
          "metadata": {},
          "execution_count": 26
        },
        {
          "output_type": "display_data",
          "data": {
            "text/plain": [
              "<Figure size 640x480 with 2 Axes>"
            ],
            "image/png": "[encoded data removed]"
          },
          "metadata": {}
        }
      ]
    },
    {
      "cell_type": "code",
      "execution_count": null,
      "metadata": {
        "id": "cW4daMTuKnSX",
        "colab": {
          "base_uri": "https://localhost:8080/"
        },
        "outputId": "75af9315-b610-45a3-d5cf-b36f4d3774f0"
      },
      "outputs": [
        {
          "output_type": "stream",
          "name": "stdout",
          "text": [
            "accuracy: 0.9760528488852188\n",
            "precision: 0.9931623931623932\n",
            "sensitivity: 0.9587458745874587\n",
            "specificity: 0.9933884297520661\n",
            "f1_score: 0.9756507136859781\n"
          ]
        }
      ],
      "source": [
        "### model evaluation metrics \n",
        "\n",
        "# (true positive + true negative)/total\n",
        "accuracy = sklearn.metrics.accuracy_score(y_test, predictions_cnn)\n",
        "print(\"accuracy: \" + str(accuracy))\n",
        "\n",
        "# true positive/(true positive + false positive)\n",
        "precision = sklearn.metrics.precision_score(y_test, predictions_cnn)\n",
        "print(\"precision: \" + str(precision))\n",
        "\n",
        "# true positive/(true positive + false negative)\n",
        "sensitivity = sklearn.metrics.recall_score(y_test, predictions_cnn)\n",
        "print(\"sensitivity: \" + str(sensitivity))\n",
        "\n",
        "# true negative/(true negative + false positive)\n",
        "specificity = sklearn.metrics.recall_score(y_test, predictions_cnn, pos_label = 0)\n",
        "print(\"specificity: \" + str(specificity))\n",
        "\n",
        "# 2 * (precision*recall)/(precision+recall)\n",
        "f1_score = 2*(precision*sensitivity)/(precision+sensitivity)\n",
        "print(\"f1_score: \" + str(f1_score))\n",
        "\n",
        "# no false positives means precision and specificity will be 100%"
      ]
    },
    {
      "cell_type": "code",
      "source": [
        "### model evaluation metrics \n",
        "\n",
        "# (true positive + true negative)/total\n",
        "accuracy = sklearn.metrics.accuracy_score(labels_od, predictions_cnn_od)\n",
        "print(\"accuracy: \" + str(accuracy))\n",
        "\n",
        "# true positive/(true positive + false positive)\n",
        "precision = sklearn.metrics.precision_score(labels_od, predictions_cnn_od)\n",
        "print(\"precision: \" + str(precision))\n",
        "\n",
        "# true positive/(true positive + false negative)\n",
        "sensitivity = sklearn.metrics.recall_score(labels_od, predictions_cnn_od)\n",
        "print(\"sensitivity: \" + str(sensitivity))\n",
        "\n",
        "# true negative/(true negative + false positive)\n",
        "specificity = sklearn.metrics.recall_score(labels_od, predictions_cnn_od, pos_label = 0)\n",
        "print(\"specificity: \" + str(specificity))\n",
        "\n",
        "# 2 * (precision*recall)/(precision+recall)\n",
        "f1_score = 2*(precision*sensitivity)/(precision+sensitivity)\n",
        "print(\"f1_score: \" + str(f1_score))\n",
        "\n",
        "# no false positives means precision and specificity will be 100%"
      ],
      "metadata": {
        "colab": {
          "base_uri": "https://localhost:8080/"
        },
        "id": "n05H2J_vbjT1",
        "outputId": "505b05ca-37d5-45e0-d188-727050a15293"
      },
      "execution_count": 27,
      "outputs": [
        {
          "output_type": "stream",
          "name": "stdout",
          "text": [
            "accuracy: 0.5764705882352941\n",
            "precision: 0.5451388888888888\n",
            "sensitivity: 0.9235294117647059\n",
            "specificity: 0.22941176470588234\n",
            "f1_score: 0.685589519650655\n"
          ]
        }
      ]
    },
    {
      "cell_type": "code",
      "execution_count": null,
      "metadata": {
        "id": "8IScJl10KsS-",
        "colab": {
          "base_uri": "https://localhost:8080/"
        },
        "outputId": "e218e819-6953-48c9-9e1f-3ad8f126b499"
      },
      "outputs": [
        {
          "output_type": "stream",
          "name": "stderr",
          "text": [
            "WARNING:absl:Found untraced functions such as _jit_compiled_convolution_op, _jit_compiled_convolution_op, _jit_compiled_convolution_op while saving (showing 3 of 3). These functions will not be directly callable after loading.\n"
          ]
        }
      ],
      "source": [
        "# save model\n",
        "# cnn_model.save(\"../Snakes-or-No-Snakes/cnn_looAPTR4_seed1_3e\")"
      ]
    },
    {
      "cell_type": "code",
      "execution_count": null,
      "metadata": {
        "colab": {
          "base_uri": "https://localhost:8080/",
          "height": 472
        },
        "id": "T39EubL9LCQd",
        "outputId": "78089d81-f8e7-470d-ffad-5d5565ba99ab"
      },
      "outputs": [
        {
          "output_type": "execute_result",
          "data": {
            "text/plain": [
              "<matplotlib.legend.Legend at 0x7fb4c95fe340>"
            ]
          },
          "metadata": {},
          "execution_count": 28
        },
        {
          "output_type": "display_data",
          "data": {
            "text/plain": [
              "<Figure size 640x480 with 1 Axes>"
            ],
            "image/png": "[encoded data removed]"
          },
          "metadata": {}
        }
      ],
      "source": [
        "# plot accuracy across epochs\n",
        "plt.plot(cnn_fit.history['accuracy'], label='accuracy')\n",
        "plt.plot(cnn_fit.history['val_accuracy'], label = 'val_accuracy')\n",
        "plt.xlabel('Epoch')\n",
        "plt.ylabel('Accuracy')\n",
        "plt.ylim([0.5, 1])\n",
        "plt.legend(loc='lower right')\n",
        "\n",
        "# plot accuracy across epochs\n",
        "plt.plot(cnn_fit.history['accuracy'], label='accuracy')\n",
        "plt.plot(cnn_fit.history['val_accuracy'], label = 'val_accuracy')\n",
        "plt.xlabel('Epoch')\n",
        "plt.ylabel('Accuracy')\n",
        "plt.ylim([0.5, 1])\n",
        "plt.legend(loc='lower right')\n",
        "\n",
        "# test_loss, test_acc = cnn_model.evaluate(x_test,  y_test, verbose=2)"
      ]
    },
    {
      "cell_type": "markdown",
      "metadata": {
        "id": "VSqTwUHmQzjG"
      },
      "source": [
        "## Logistic Regression\n"
      ]
    },
    {
      "cell_type": "code",
      "source": [
        "# log generators\n",
        "train_generator, validation_generator, test_generator = create_generators(x_train, y_train, x_val, y_val, x_test, y_test, batch_size = batch_size, log = True)"
      ],
      "metadata": {
        "id": "SKeKhLur4Y8B"
      },
      "execution_count": 28,
      "outputs": []
    },
    {
      "cell_type": "code",
      "source": [
        "def build_log():\n",
        "\n",
        "  model = models.Sequential()\n",
        "  model.add(layers.InputLayer(input_shape=(60, 100, 1)))\n",
        "  model.add(layers.Flatten())\n",
        "  model.add(layers.Dense(1, activation = \"sigmoid\"))\n",
        "\n",
        "  # compile model with desired features\n",
        "  model.compile(\n",
        "    optimizer = \"adam\", loss = \"binary_crossentropy\",\n",
        "    metrics=['accuracy']\n",
        "  )\n",
        "\n",
        "  return model"
      ],
      "metadata": {
        "id": "UeapKQevVhS7"
      },
      "execution_count": 38,
      "outputs": []
    },
    {
      "cell_type": "code",
      "source": [
        "# build the model\n",
        "log_model = build_log()"
      ],
      "metadata": {
        "id": "jKaXUbZHW7hO"
      },
      "execution_count": 39,
      "outputs": []
    },
    {
      "cell_type": "code",
      "source": [
        "# see model structure\n",
        "log_model.summary()"
      ],
      "metadata": {
        "colab": {
          "base_uri": "https://localhost:8080/"
        },
        "id": "34mEc2jmW-zx",
        "outputId": "ddc2c6ef-2365-43dc-9f18-a3d707e86ba3"
      },
      "execution_count": 40,
      "outputs": [
        {
          "output_type": "stream",
          "name": "stdout",
          "text": [
            "Model: \"sequential\"\n",
            "_________________________________________________________________\n",
            " Layer (type)                Output Shape              Param #   \n",
            "=================================================================\n",
            " flatten (Flatten)           (None, 6000)              0         \n",
            "                                                                 \n",
            " dense (Dense)               (None, 1)                 6001      \n",
            "                                                                 \n",
            "=================================================================\n",
            "Total params: 6,001\n",
            "Trainable params: 6,001\n",
            "Non-trainable params: 0\n",
            "_________________________________________________________________\n"
          ]
        }
      ]
    },
    {
      "cell_type": "code",
      "execution_count": null,
      "metadata": {
        "colab": {
          "base_uri": "https://localhost:8080/"
        },
        "outputId": "a18de0fe-e51e-4409-d87e-23e9415e0f85",
        "id": "AqbcI-t5Y_BR"
      },
      "outputs": [
        {
          "output_type": "stream",
          "name": "stdout",
          "text": [
            "Epoch 1/3\n",
            " 91/201 [============>.................] - ETA: 24:07 - loss: 36.0459 - accuracy: 0.5556"
          ]
        }
      ],
      "source": [
        "log_fit = log_model.fit(\n",
        "    train_generator,\n",
        "    steps_per_epoch = int(x_train.shape[0] // batch_size),\n",
        "    epochs = 3,\n",
        "    verbose = 1,\n",
        "    validation_data = validation_generator,\n",
        "    validation_steps = int(x_val.shape[0] // batch_size)\n",
        ")"
      ]
    },
    {
      "cell_type": "code",
      "source": [
        "# can load saved (see google sheet for model descriptions)\n",
        "# log_model = tf.keras.models.load_model(\"../Snakes-or-No-Snakes/log_looAPTR4_seed1_3e\")"
      ],
      "metadata": {
        "id": "nlBq133m9_3X"
      },
      "execution_count": 29,
      "outputs": []
    },
    {
      "cell_type": "code",
      "source": [
        "log_predict = log_model.predict(\n",
        "    test_generator,\n",
        ")"
      ],
      "metadata": {
        "id": "f-QYPT7-ZJd0",
        "colab": {
          "base_uri": "https://localhost:8080/"
        },
        "outputId": "3ddcbcb5-b667-4ef9-8ad7-75aa4e249fa6"
      },
      "execution_count": 34,
      "outputs": [
        {
          "output_type": "stream",
          "name": "stdout",
          "text": [
            "38/38 [==============================] - 504s 14s/step\n"
          ]
        }
      ]
    },
    {
      "cell_type": "code",
      "source": [
        "# get class predictions\n",
        "predictions_log = log_predict > 0.5\n",
        "predictions_log = predictions_log.reshape(x_test.shape[0])\n",
        "print(predictions_log.shape)"
      ],
      "metadata": {
        "id": "UdN6rqnLZSxO",
        "colab": {
          "base_uri": "https://localhost:8080/"
        },
        "outputId": "10cf61c8-814b-41d8-95f2-879fe8fb6ce8"
      },
      "execution_count": 35,
      "outputs": [
        {
          "output_type": "stream",
          "name": "stdout",
          "text": [
            "(1211,)\n"
          ]
        }
      ]
    },
    {
      "cell_type": "code",
      "source": [
        "test_generator_od = data_generator(filenames_od, labels_od, batch_size = batch_size, log = True)\n",
        "\n",
        "model_predict_od = log_model.predict(\n",
        "    test_generator_od,\n",
        ")\n",
        "\n",
        "# get class predictions\n",
        "predictions_log_od = model_predict_od > 0.5\n",
        "predictions_log_od = predictions_log_od.reshape(filenames_od.shape[0])\n",
        "print(predictions_log_od.shape)"
      ],
      "metadata": {
        "colab": {
          "base_uri": "https://localhost:8080/"
        },
        "id": "F8Gn5Kvoff1R",
        "outputId": "6ed7cf1b-82c6-4a52-e88b-3d57b86646af"
      },
      "execution_count": 31,
      "outputs": [
        {
          "output_type": "stream",
          "name": "stdout",
          "text": [
            "11/11 [==============================] - 9s 857ms/step\n",
            "(340,)\n"
          ]
        }
      ]
    },
    {
      "cell_type": "code",
      "source": [
        "# set(list(predictions_log.reshape(1262)))"
      ],
      "metadata": {
        "id": "fo5gRWRaZaLx",
        "colab": {
          "base_uri": "https://localhost:8080/"
        },
        "outputId": "c3ab7c09-647c-4a04-a180-2be7a6d770de"
      },
      "execution_count": null,
      "outputs": [
        {
          "output_type": "execute_result",
          "data": {
            "text/plain": [
              "{False, True}"
            ]
          },
          "metadata": {},
          "execution_count": 18
        }
      ]
    },
    {
      "cell_type": "code",
      "source": [
        "# plot confusion matrix\n",
        "metrics.ConfusionMatrixDisplay.from_predictions(y_test, predictions_log, cmap = \"GnBu\")"
      ],
      "metadata": {
        "id": "U1e0b3BBZdlI",
        "colab": {
          "base_uri": "https://localhost:8080/",
          "height": 466
        },
        "outputId": "230782cf-0756-4e09-d813-683a0be86498"
      },
      "execution_count": 36,
      "outputs": [
        {
          "output_type": "execute_result",
          "data": {
            "text/plain": [
              "<sklearn.metrics._plot.confusion_matrix.ConfusionMatrixDisplay at 0x7f4ead51fd90>"
            ]
          },
          "metadata": {},
          "execution_count": 36
        },
        {
          "output_type": "display_data",
          "data": {
            "text/plain": [
              "<Figure size 640x480 with 2 Axes>"
            ],
            "image/png": "[encoded data removed]"
          },
          "metadata": {}
        }
      ]
    },
    {
      "cell_type": "code",
      "source": [
        "# plot confusion matrix\n",
        "metrics.ConfusionMatrixDisplay.from_predictions(labels_od, predictions_log_od, cmap = \"GnBu\")"
      ],
      "metadata": {
        "colab": {
          "base_uri": "https://localhost:8080/",
          "height": 466
        },
        "id": "YWDEW3AW-pS_",
        "outputId": "5b3f0ebf-e9b7-47f3-9d27-8ba7816ff972"
      },
      "execution_count": 32,
      "outputs": [
        {
          "output_type": "execute_result",
          "data": {
            "text/plain": [
              "<sklearn.metrics._plot.confusion_matrix.ConfusionMatrixDisplay at 0x7f4eade53eb0>"
            ]
          },
          "metadata": {},
          "execution_count": 32
        },
        {
          "output_type": "display_data",
          "data": {
            "text/plain": [
              "<Figure size 640x480 with 2 Axes>"
            ],
            "image/png": "[encoded data removed]"
          },
          "metadata": {}
        }
      ]
    },
    {
      "cell_type": "code",
      "source": [
        "### model evaluation metrics \n",
        "\n",
        "# (true positive + true negative)/total\n",
        "accuracy = sklearn.metrics.accuracy_score(y_test, predictions_log)\n",
        "print(\"accuracy: \" + str(accuracy))\n",
        "\n",
        "# true positive/(true positive + false positive)\n",
        "precision = sklearn.metrics.precision_score(y_test, predictions_log)\n",
        "print(\"precision: \" + str(precision))\n",
        "\n",
        "# true positive/(true positive + false negative)\n",
        "sensitivity = sklearn.metrics.recall_score(y_test, predictions_log)\n",
        "print(\"sensitivity: \" + str(sensitivity))\n",
        "\n",
        "# true negative/(true negative + false positive)\n",
        "specificity = sklearn.metrics.recall_score(y_test, predictions_log, pos_label = 0)\n",
        "print(\"specificity: \" + str(specificity))\n",
        "\n",
        "# 2 * (precision*recall)/(precision+recall)\n",
        "f1_score = 2*(precision*sensitivity)/(precision+sensitivity)\n",
        "print(\"f1_score: \" + str(f1_score))\n",
        "\n",
        "# no false positives means precision and specificity will be 100%"
      ],
      "metadata": {
        "id": "k3ovSFSkZggs",
        "colab": {
          "base_uri": "https://localhost:8080/"
        },
        "outputId": "e96efa23-9ccf-4b2d-8b6a-f4fc8c9d273a"
      },
      "execution_count": 37,
      "outputs": [
        {
          "output_type": "stream",
          "name": "stdout",
          "text": [
            "accuracy: 0.9066886870355079\n",
            "precision: 0.9115191986644408\n",
            "sensitivity: 0.900990099009901\n",
            "specificity: 0.912396694214876\n",
            "f1_score: 0.9062240663900415\n"
          ]
        }
      ]
    },
    {
      "cell_type": "code",
      "source": [
        "### model evaluation metrics \n",
        "\n",
        "# (true positive + true negative)/total\n",
        "accuracy = sklearn.metrics.accuracy_score(labels_od, predictions_log_od)\n",
        "print(\"accuracy: \" + str(accuracy))\n",
        "\n",
        "# true positive/(true positive + false positive)\n",
        "precision = sklearn.metrics.precision_score(labels_od, predictions_log_od)\n",
        "print(\"precision: \" + str(precision))\n",
        "\n",
        "# true positive/(true positive + false negative)\n",
        "sensitivity = sklearn.metrics.recall_score(labels_od, predictions_log_od)\n",
        "print(\"sensitivity: \" + str(sensitivity))\n",
        "\n",
        "# true negative/(true negative + false positive)\n",
        "specificity = sklearn.metrics.recall_score(labels_od, predictions_log_od, pos_label = 0)\n",
        "print(\"specificity: \" + str(specificity))\n",
        "\n",
        "# 2 * (precision*recall)/(precision+recall)\n",
        "f1_score = 2*(precision*sensitivity)/(precision+sensitivity)\n",
        "print(\"f1_score: \" + str(f1_score))\n",
        "\n",
        "# no false positives means precision and specificity will be 100%"
      ],
      "metadata": {
        "colab": {
          "base_uri": "https://localhost:8080/"
        },
        "id": "XnJAyMMAgi5q",
        "outputId": "5a893dec-0fe6-40f4-d45c-e8070c3a98a6"
      },
      "execution_count": 33,
      "outputs": [
        {
          "output_type": "stream",
          "name": "stdout",
          "text": [
            "accuracy: 0.2735294117647059\n",
            "precision: 0.34901960784313724\n",
            "sensitivity: 0.5235294117647059\n",
            "specificity: 0.023529411764705882\n",
            "f1_score: 0.4188235294117647\n"
          ]
        }
      ]
    },
    {
      "cell_type": "code",
      "source": [
        "# save model\n",
        "log_model.save('../Snakes-or-No-Snakes/log_looAPTR4_seed1_3e')"
      ],
      "metadata": {
        "id": "yuEpkMmIZrPJ"
      },
      "execution_count": null,
      "outputs": []
    },
    {
      "cell_type": "code",
      "source": [
        "# plot accuracy across epochs\n",
        "plt.plot(log_fit.history['accuracy'], label='accuracy')\n",
        "plt.plot(log_fit.history['val_accuracy'], label = 'val_accuracy')\n",
        "plt.xlabel('Epoch')\n",
        "plt.ylabel('Accuracy')\n",
        "plt.ylim([0.5, 1])\n",
        "plt.legend(loc='lower right')"
      ],
      "metadata": {
        "id": "X_IzCUXMZlVA",
        "colab": {
          "base_uri": "https://localhost:8080/",
          "height": 472
        },
        "outputId": "6a941cf0-1aeb-4a54-fae9-4e276b2f9a84"
      },
      "execution_count": null,
      "outputs": [
        {
          "output_type": "execute_result",
          "data": {
            "text/plain": [
              "<matplotlib.legend.Legend at 0x7f04bc135340>"
            ]
          },
          "metadata": {},
          "execution_count": 28
        },
        {
          "output_type": "display_data",
          "data": {
            "text/plain": [
              "<Figure size 640x480 with 1 Axes>"
            ],
            "image/png": "[encoded data removed]"
          },
          "metadata": {}
        }
      ]
    }
  ],
  "metadata": {
    "colab": {
      "provenance": []
    },
    "kernelspec": {
      "display_name": "base",
      "language": "python",
      "name": "python3"
    },
    "language_info": {
      "codemirror_mode": {
        "name": "ipython",
        "version": 3
      },
      "file_extension": ".py",
      "mimetype": "text/x-python",
      "name": "python",
      "nbconvert_exporter": "python",
      "pygments_lexer": "ipython3",
      "version": "3.9.13"
    },
    "vscode": {
      "interpreter": {
        "hash": "ad2bdc8ecc057115af97d19610ffacc2b4e99fae6737bb82f5d7fb13d2f2c186"
      }
    },
    "gpuClass": "standard",
    "accelerator": "GPU"
  },
  "nbformat": 4,
  "nbformat_minor": 0
}