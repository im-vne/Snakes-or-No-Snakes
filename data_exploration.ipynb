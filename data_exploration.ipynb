{
  "cells": [
    {
      "cell_type": "markdown",
      "metadata": {
        "id": "qNvBBBhXQzi3"
      },
      "source": [
        "# Preliminary exploration notebook\n",
        "\n",
        "This notebook contains the following:\n",
        "* Data loading and brief visualization\n",
        "* Logistic regression\n",
        "* Start work on CNN"
      ]
    },
    {
      "cell_type": "code",
      "execution_count": 1,
      "metadata": {
        "colab": {
          "base_uri": "https://localhost:8080/"
        },
        "id": "lIyROfMHQ8HS",
        "outputId": "c3f973ae-0547-4192-c8e9-e95805076e0c"
      },
      "outputs": [],
      "source": [
        "# from google.colab import drive\n",
        "# drive.mount('/content/drive/') "
      ]
    },
    {
      "cell_type": "code",
      "execution_count": 1,
      "metadata": {
        "id": "kAxbXaHtQzi-"
      },
      "outputs": [],
      "source": [
        "import os # work with system    \n",
        "import cv2 # work with images\n",
        "import numpy as np # arrays and numerical analysis  \n",
        "import matplotlib.pyplot as plt # for data plots\n",
        "\n",
        "import sklearn.linear_model # linear models\n",
        "from sklearn.model_selection import train_test_split # data splitting\n",
        "from sklearn import metrics # model evaluation\n",
        "\n",
        "# os.chdir(\"drive/Shareddrives/Capstone 2023/Data/subset\")\n",
        "\n",
        "\n",
        "### set working directory in data folder\n",
        "\"\"\"\n",
        "assumes the following structure:\n",
        "- MicrosoftSnakeAlgorithmProject\n",
        "- Snakes-or-No-Snakes\n",
        "    - *.ipynb (you are here)\n",
        "\"\"\"\n",
        "# os.chdir(\"../MicrosoftSnakeAlgorithmProject\")\n",
        "os.chdir(\"../subset\") # small proof of concept subset"
      ]
    },
    {
      "cell_type": "code",
      "execution_count": 2,
      "metadata": {
        "id": "GjI8tTCZQzjA"
      },
      "outputs": [],
      "source": [
        "counter = 0 # if desired to break loop\n",
        "\n",
        "# labels and filenames should match since they are appended in order\n",
        "filenames = []\n",
        "labels = []\n",
        "# walk through all directories and files in current working directory\n",
        "for root, dir, files in os.walk(os.getcwd()):\n",
        "    \n",
        "    for jpg in files:\n",
        "        # if jpg file, then keep filename\n",
        "        if \".JPG\" in jpg:\n",
        "            filenames.append(os.path.join(root, jpg))\n",
        "            # for image files, create label based on path: 0 means empty, 1 means snake\n",
        "            if \"Empty\" in root:\n",
        "                labels.append(0)\n",
        "            else:\n",
        "                labels.append(1)\n",
        "\n",
        "    counter += 1\n",
        "    # if counter > 100: break\n",
        "\n",
        "images = []\n",
        "counter2 = 0\n",
        "# read in each image as grayscale (each is a 2d array)\n",
        "for img in filenames:\n",
        "    images.append(cv2.imread(img, cv2.IMREAD_GRAYSCALE))\n",
        "\n",
        "    counter2 += 1\n",
        "    # if counter2 > 100: break"
      ]
    },
    {
      "cell_type": "markdown",
      "metadata": {
        "id": "cW8PfiYqQzjB"
      },
      "source": [
        "## Image display\n",
        "Uncomment cell below if you want to see the pictures as loaded via opencv (cv2)"
      ]
    },
    {
      "cell_type": "code",
      "execution_count": 4,
      "metadata": {
        "id": "UAAgXJmoQzjC"
      },
      "outputs": [],
      "source": [
        "# # display image - will pop up in a separate window (seems to crash in colab)\n",
        "\n",
        "# cv2.namedWindow(\"image\", cv2.WINDOW_NORMAL)\n",
        "# cv2.imshow(\"image\", images[0])\n",
        "# cv2.waitKey()"
      ]
    },
    {
      "cell_type": "markdown",
      "metadata": {
        "id": "A7fZcPxaQzjD"
      },
      "source": [
        "## Data processing"
      ]
    },
    {
      "cell_type": "code",
      "execution_count": 3,
      "metadata": {
        "colab": {
          "base_uri": "https://localhost:8080/"
        },
        "id": "mCEkOs7KQzjD",
        "outputId": "14414f88-4230-47d1-d9d8-554dbde670b2"
      },
      "outputs": [
        {
          "name": "stdout",
          "output_type": "stream",
          "text": [
            "(45, 1536, 2048)\n",
            "(45,)\n"
          ]
        }
      ],
      "source": [
        "# convert to numpy arrays\n",
        "image_arr = np.array(images)\n",
        "label_arr = np.array(labels)\n",
        "print(image_arr.shape)\n",
        "print(label_arr.shape)"
      ]
    },
    {
      "cell_type": "code",
      "execution_count": 6,
      "metadata": {
        "id": "75lr7ZZoQzjF"
      },
      "outputs": [],
      "source": [
        "# # scale data (currently broken)\n",
        "# scaler = sklearn.preprocessing.MinMaxScaler()\n",
        "# image_scaled = scaler.fit_transform(image_arr)"
      ]
    },
    {
      "cell_type": "markdown",
      "metadata": {
        "id": "VSqTwUHmQzjG"
      },
      "source": [
        "## Logistic Regression"
      ]
    },
    {
      "cell_type": "code",
      "execution_count": 7,
      "metadata": {
        "colab": {
          "base_uri": "https://localhost:8080/"
        },
        "id": "z0eYqXw_QzjG",
        "outputId": "762aa572-e33a-431f-83c0-cd15efc8c19d"
      },
      "outputs": [
        {
          "name": "stdout",
          "output_type": "stream",
          "text": [
            "(45, 1536)\n"
          ]
        }
      ],
      "source": [
        "# take colmean of each image to reduce features (for logistic regression)\n",
        "image_reshape = image_arr.mean(axis=2)\n",
        "print(image_reshape.shape)"
      ]
    },
    {
      "cell_type": "code",
      "execution_count": 8,
      "metadata": {
        "id": "ubbHC0cxQzjH"
      },
      "outputs": [],
      "source": [
        "# scale data \n",
        "scaler = sklearn.preprocessing.MinMaxScaler()\n",
        "image_scaled = scaler.fit_transform(image_reshape)"
      ]
    },
    {
      "cell_type": "code",
      "execution_count": 9,
      "metadata": {
        "id": "rrFneVINQzjH"
      },
      "outputs": [],
      "source": [
        "# split data\n",
        "x_train, x_test, y_train, y_test = train_test_split(\n",
        "    image_reshape, label_arr, test_size = 0.4, random_state = 27)"
      ]
    },
    {
      "cell_type": "code",
      "execution_count": 10,
      "metadata": {
        "colab": {
          "base_uri": "https://localhost:8080/"
        },
        "id": "0b9-iW3xQzjI",
        "outputId": "18edabfb-5694-4408-8df6-f3f7fc27edf5"
      },
      "outputs": [
        {
          "data": {
            "text/plain": [
              "LogisticRegression(max_iter=10000, solver='sag')"
            ]
          },
          "execution_count": 10,
          "metadata": {},
          "output_type": "execute_result"
        }
      ],
      "source": [
        "## initialize logistic regression model\n",
        "# sag: stochastic average gradient descent, chosen for speed\n",
        "log_model = sklearn.linear_model.LogisticRegression(solver = \"sag\", max_iter = 10000)\n",
        "# fit model on train data\n",
        "log_model.fit(x_train, y_train)"
      ]
    },
    {
      "cell_type": "code",
      "execution_count": 11,
      "metadata": {
        "colab": {
          "base_uri": "https://localhost:8080/",
          "height": 296
        },
        "id": "tW7WIkIWQzjI",
        "outputId": "352bb452-8741-4522-f775-04dd45dd2cc8"
      },
      "outputs": [
        {
          "data": {
            "text/plain": [
              "<sklearn.metrics._plot.confusion_matrix.ConfusionMatrixDisplay at 0x1fc3df6b160>"
            ]
          },
          "execution_count": 11,
          "metadata": {},
          "output_type": "execute_result"
        },
        {
          "data": {
            "image/png": "[encoded data removed]",
            "text/plain": [
              "<Figure size 640x480 with 2 Axes>"
            ]
          },
          "metadata": {},
          "output_type": "display_data"
        }
      ],
      "source": [
        "# plot confusion matrix\n",
        "metrics.ConfusionMatrixDisplay.from_estimator(log_model, x_test, y_test,  cmap = \"GnBu\")"
      ]
    },
    {
      "cell_type": "code",
      "execution_count": 12,
      "metadata": {
        "colab": {
          "base_uri": "https://localhost:8080/"
        },
        "id": "dyR_a47RQzjJ",
        "outputId": "3836bc45-ed89-4489-af0c-1886e0d6be90"
      },
      "outputs": [
        {
          "name": "stdout",
          "output_type": "stream",
          "text": [
            "1.0\n",
            "1.0\n",
            "1.0\n",
            "1.0\n"
          ]
        }
      ],
      "source": [
        "### model evaluation metrics \n",
        "predictions = log_model.predict(x_test)\n",
        "\n",
        "# (true positive + true negative)/total\n",
        "accuracy = sklearn.metrics.accuracy_score(y_test, predictions)\n",
        "print(accuracy)\n",
        "\n",
        "# true positive/(true positive + false positive)\n",
        "precision = sklearn.metrics.precision_score(y_test, predictions)\n",
        "print(precision)\n",
        "\n",
        "# true positive/(true positive + false negative)\n",
        "sensitivity = sklearn.metrics.recall_score(y_test, predictions)\n",
        "print(sensitivity)\n",
        "\n",
        "# true negative/(true negative + false positive)\n",
        "specificity = sklearn.metrics.recall_score(y_test, predictions, pos_label = 0)\n",
        "print(specificity)\n",
        "\n",
        "# no false positives means precision and specificity will be 100%"
      ]
    },
    {
      "cell_type": "markdown",
      "metadata": {
        "id": "l2pQYwfUQzjK"
      },
      "source": [
        "## CNN"
      ]
    },
    {
      "cell_type": "code",
      "execution_count": 4,
      "metadata": {
        "id": "iinTnX7MQzjK"
      },
      "outputs": [],
      "source": [
        "import tensorflow as tf\n",
        "from tensorflow.keras import datasets, layers, models"
      ]
    },
    {
      "cell_type": "code",
      "execution_count": 5,
      "metadata": {
        "id": "dIEXQQfMaDZv"
      },
      "outputs": [],
      "source": [
        "# resize images else will run out of memory\n",
        "image_resized = []\n",
        "for image in image_arr:\n",
        "  image_resized.append(cv2.resize(image, (0, 0), fx = 0.3, fy = 0.3, interpolation = cv2.INTER_AREA))"
      ]
    },
    {
      "cell_type": "code",
      "execution_count": 6,
      "metadata": {
        "id": "dJII-YMhaqNY"
      },
      "outputs": [
        {
          "name": "stdout",
          "output_type": "stream",
          "text": [
            "(45, 461, 614)\n"
          ]
        }
      ],
      "source": [
        "# convert resized list into np array\n",
        "image_arr_resized = np.array(image_resized)\n",
        "print(image_arr_resized.shape)"
      ]
    },
    {
      "cell_type": "code",
      "execution_count": 7,
      "metadata": {
        "id": "1-VNDC1eQzjK"
      },
      "outputs": [],
      "source": [
        "# reshape for cnn\n",
        "image_arr_reshaped = image_arr_resized.reshape([45, 461, 614, 1])\n",
        "label_arr_reshaped = label_arr.reshape([45, 1])"
      ]
    },
    {
      "cell_type": "code",
      "execution_count": 13,
      "metadata": {
        "id": "kvfa5MltQzjL"
      },
      "outputs": [],
      "source": [
        "# split data\n",
        "x_train, x_test, y_train, y_test = train_test_split(\n",
        "    image_arr_reshaped, label_arr_reshaped, test_size = 0.4, random_state = 27)"
      ]
    },
    {
      "cell_type": "code",
      "execution_count": 18,
      "metadata": {
        "id": "GgZdWzWOQzjL"
      },
      "outputs": [],
      "source": [
        "# create model (stock from keras documentation for now)\n",
        "def build_model():\n",
        "\n",
        "    model = models.Sequential()\n",
        "    model.add(layers.Conv2D(32, (3, 3), activation='relu', input_shape=(461, 614, 1)))\n",
        "    model.add(layers.MaxPooling2D((2, 2)))\n",
        "    model.add(layers.Conv2D(64, (3, 3), activation='relu'))\n",
        "    model.add(layers.MaxPooling2D((2, 2)))\n",
        "    model.add(layers.Conv2D(64, (3, 3), activation='relu'))\n",
        "\n",
        "    model.add(layers.Flatten())\n",
        "    model.add(layers.Dense(64, activation='relu'))\n",
        "    model.add(layers.Dense(10))\n",
        "\n",
        "    model.compile(\n",
        "        optimizer = \"adam\", loss = tf.keras.losses.SparseCategoricalCrossentropy(from_logits = True),\n",
        "        metrics=['accuracy']\n",
        "    )\n",
        "\n",
        "    return model"
      ]
    },
    {
      "cell_type": "code",
      "execution_count": 19,
      "metadata": {
        "id": "OtUfDNDiQzjM"
      },
      "outputs": [],
      "source": [
        "# build the model\n",
        "cnn_model = build_model()"
      ]
    },
    {
      "cell_type": "code",
      "execution_count": 20,
      "metadata": {
        "colab": {
          "base_uri": "https://localhost:8080/"
        },
        "id": "umrpF-ZgQzjM",
        "outputId": "c04958ff-5a35-4a44-908a-0e5f8951f9b5"
      },
      "outputs": [
        {
          "name": "stdout",
          "output_type": "stream",
          "text": [
            "Epoch 1/7\n",
            "1/1 [==============================] - 19s 19s/step - loss: 4.4824 - accuracy: 0.3704 - val_loss: 740.1970 - val_accuracy: 0.8333\n",
            "Epoch 2/7\n",
            "1/1 [==============================] - 10s 10s/step - loss: 991.8575 - accuracy: 0.7778 - val_loss: 107.1493 - val_accuracy: 0.5000\n",
            "Epoch 3/7\n",
            "1/1 [==============================] - 7s 7s/step - loss: 101.7502 - accuracy: 0.6667 - val_loss: 109.2819 - val_accuracy: 0.9444\n",
            "Epoch 4/7\n",
            "1/1 [==============================] - 8s 8s/step - loss: 129.8338 - accuracy: 0.9259 - val_loss: 109.7417 - val_accuracy: 0.9444\n",
            "Epoch 5/7\n",
            "1/1 [==============================] - 7s 7s/step - loss: 131.0762 - accuracy: 0.9259 - val_loss: 54.4118 - val_accuracy: 0.9444\n",
            "Epoch 6/7\n",
            "1/1 [==============================] - 7s 7s/step - loss: 55.5266 - accuracy: 0.9259 - val_loss: 48.3338 - val_accuracy: 0.4444\n",
            "Epoch 7/7\n",
            "1/1 [==============================] - 7s 7s/step - loss: 37.0057 - accuracy: 0.7407 - val_loss: 31.4282 - val_accuracy: 0.9444\n"
          ]
        }
      ],
      "source": [
        "# train the model\n",
        "cnn_fit = cnn_model.fit(x_train, y_train, epochs=7, \n",
        "                        validation_data=(x_test, y_test))"
      ]
    },
    {
      "cell_type": "code",
      "execution_count": null,
      "metadata": {},
      "outputs": [],
      "source": [
        "# get class predictions\n",
        "predictions_cnn = np.argmax(cnn_model.predict(x_test), axis = -1) \n",
        "print(predictions_cnn.shape)"
      ]
    },
    {
      "cell_type": "code",
      "execution_count": 38,
      "metadata": {},
      "outputs": [
        {
          "data": {
            "text/plain": [
              "<sklearn.metrics._plot.confusion_matrix.ConfusionMatrixDisplay at 0x1e651469610>"
            ]
          },
          "execution_count": 38,
          "metadata": {},
          "output_type": "execute_result"
        },
        {
          "data": {
            "image/png": "[encoded data removed]",
            "text/plain": [
              "<Figure size 640x480 with 2 Axes>"
            ]
          },
          "metadata": {},
          "output_type": "display_data"
        }
      ],
      "source": [
        "# plot confusion matrix\n",
        "metrics.ConfusionMatrixDisplay.from_predictions(predictions_cnn, y_test, cmap = \"GnBu\")"
      ]
    },
    {
      "cell_type": "code",
      "execution_count": 39,
      "metadata": {},
      "outputs": [
        {
          "name": "stdout",
          "output_type": "stream",
          "text": [
            "0.9444444444444444\n",
            "1.0\n",
            "0.6666666666666666\n",
            "1.0\n"
          ]
        }
      ],
      "source": [
        "### model evaluation metrics \n",
        "\n",
        "# (true positive + true negative)/total\n",
        "accuracy = sklearn.metrics.accuracy_score(y_test, predictions_cnn)\n",
        "print(accuracy)\n",
        "\n",
        "# true positive/(true positive + false positive)\n",
        "precision = sklearn.metrics.precision_score(y_test, predictions_cnn)\n",
        "print(precision)\n",
        "\n",
        "# true positive/(true positive + false negative)\n",
        "sensitivity = sklearn.metrics.recall_score(y_test, predictions_cnn)\n",
        "print(sensitivity)\n",
        "\n",
        "# true negative/(true negative + false positive)\n",
        "specificity = sklearn.metrics.recall_score(y_test, predictions_cnn, pos_label = 0)\n",
        "print(specificity)\n",
        "\n",
        "# no false positives means precision and specificity will be 100%"
      ]
    },
    {
      "cell_type": "code",
      "execution_count": 42,
      "metadata": {},
      "outputs": [
        {
          "name": "stdout",
          "output_type": "stream",
          "text": [
            "1/1 - 1s - loss: 31.4282 - accuracy: 0.9444 - 658ms/epoch - 658ms/step\n"
          ]
        },
        {
          "data": {
            "image/png": "[encoded data removed]",
            "text/plain": [
              "<Figure size 640x480 with 1 Axes>"
            ]
          },
          "metadata": {},
          "output_type": "display_data"
        }
      ],
      "source": [
        "# plot accuracy across epochs\n",
        "plt.plot(history.history['accuracy'], label='accuracy')\n",
        "plt.plot(history.history['val_accuracy'], label = 'val_accuracy')\n",
        "plt.xlabel('Epoch')\n",
        "plt.ylabel('Accuracy')\n",
        "plt.ylim([0.5, 1])\n",
        "plt.legend(loc='lower right')\n",
        "\n",
        "test_loss, test_acc = cnn_model.evaluate(x_test,  y_test, verbose=2)"
      ]
    }
  ],
  "metadata": {
    "colab": {
      "provenance": []
    },
    "kernelspec": {
      "display_name": "base",
      "language": "python",
      "name": "python3"
    },
    "language_info": {
      "codemirror_mode": {
        "name": "ipython",
        "version": 3
      },
      "file_extension": ".py",
      "mimetype": "text/x-python",
      "name": "python",
      "nbconvert_exporter": "python",
      "pygments_lexer": "ipython3",
      "version": "3.9.13"
    },
    "orig_nbformat": 4,
    "vscode": {
      "interpreter": {
        "hash": "ad2bdc8ecc057115af97d19610ffacc2b4e99fae6737bb82f5d7fb13d2f2c186"
      }
    }
  },
  "nbformat": 4,
  "nbformat_minor": 0
}
