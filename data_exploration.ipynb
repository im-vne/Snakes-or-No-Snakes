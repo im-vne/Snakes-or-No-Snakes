{
  "cells": [
    {
      "attachments": {},
      "cell_type": "markdown",
      "metadata": {
        "id": "qNvBBBhXQzi3"
      },
      "source": [
        "# Preliminary exploration notebook\n",
        "\n",
        "This notebook contains the following:\n",
        "* Data loading and brief visualization\n",
        "* Logistic regression\n",
        "* CNN training and evaluation"
      ]
    },
    {
      "cell_type": "code",
      "execution_count": 1,
      "metadata": {
        "colab": {
          "base_uri": "https://localhost:8080/"
        },
        "id": "lIyROfMHQ8HS",
        "outputId": "c3f973ae-0547-4192-c8e9-e95805076e0c"
      },
      "outputs": [],
      "source": [
        "# from google.colab import drive\n",
        "# drive.mount('/content/drive/') "
      ]
    },
    {
      "cell_type": "code",
      "execution_count": 2,
      "metadata": {
        "id": "kAxbXaHtQzi-"
      },
      "outputs": [],
      "source": [
        "import os # work with system    \n",
        "import cv2 # work with images\n",
        "import numpy as np # arrays and numerical analysis  \n",
        "import matplotlib.pyplot as plt # for data plots\n",
        "\n",
        "import sklearn.linear_model # linear models\n",
        "from sklearn.model_selection import train_test_split # data splitting\n",
        "from sklearn import metrics # model evaluation\n",
        "\n",
        "# os.chdir(\"drive/Shareddrives/Capstone 2023/Data/subset\")\n",
        "\n",
        "\n",
        "### set working directory in data folder\n",
        "\"\"\"\n",
        "assumes the following structure:\n",
        "- MicrosoftSnakeAlgorithmProject\n",
        "- Snakes-or-No-Snakes\n",
        "    - *.ipynb (you are here)\n",
        "\"\"\"\n",
        "# os.chdir(\"../MicrosoftSnakeAlgorithmProject\")\n",
        "os.chdir(\"../subset\") # small proof of concept subset"
      ]
    },
    {
      "cell_type": "code",
      "execution_count": 3,
      "metadata": {
        "id": "GjI8tTCZQzjA"
      },
      "outputs": [],
      "source": [
        "counter = 0 # if desired to break loop\n",
        "\n",
        "# labels and filenames should match since they are appended in order\n",
        "filenames = []\n",
        "labels = []\n",
        "# walk through all directories and files in current working directory\n",
        "for root, dir, files in os.walk(os.getcwd()):\n",
        "    \n",
        "    for jpg in files:\n",
        "        # if jpg file, then keep filename\n",
        "        if \".JPG\" in jpg:\n",
        "            filenames.append(os.path.join(root, jpg))\n",
        "            # for image files, create label based on path: 0 means empty, 1 means snake\n",
        "            if \"Empty\" in root:\n",
        "                labels.append(0)\n",
        "            else:\n",
        "                labels.append(1)\n",
        "\n",
        "    counter += 1\n",
        "    # if counter > 100: break\n",
        "\n",
        "images = []\n",
        "counter2 = 0\n",
        "# read in each image as grayscale (each is a 2d array)\n",
        "for img in filenames:\n",
        "    images.append(cv2.imread(img, cv2.IMREAD_GRAYSCALE))\n",
        "\n",
        "    counter2 += 1\n",
        "    # if counter2 > 100: break"
      ]
    },
    {
      "cell_type": "markdown",
      "metadata": {
        "id": "cW8PfiYqQzjB"
      },
      "source": [
        "## Image display\n",
        "Uncomment cell below if you want to see the pictures as loaded via opencv (cv2)"
      ]
    },
    {
      "cell_type": "code",
      "execution_count": 36,
      "metadata": {
        "id": "UAAgXJmoQzjC"
      },
      "outputs": [
        {
          "data": {
            "text/plain": [
              "-1"
            ]
          },
          "execution_count": 36,
          "metadata": {},
          "output_type": "execute_result"
        }
      ],
      "source": [
        "# display image - will pop up in a separate window (seems to crash in colab)\n",
        "\n",
        "cv2.namedWindow(\"image1\", cv2.WINDOW_NORMAL)\n",
        "cv2.imshow(\"image1\", images[0])\n",
        "cv2.waitKey()"
      ]
    },
    {
      "cell_type": "markdown",
      "metadata": {
        "id": "A7fZcPxaQzjD"
      },
      "source": [
        "## Data processing"
      ]
    },
    {
      "cell_type": "code",
      "execution_count": 5,
      "metadata": {
        "colab": {
          "base_uri": "https://localhost:8080/"
        },
        "id": "mCEkOs7KQzjD",
        "outputId": "14414f88-4230-47d1-d9d8-554dbde670b2"
      },
      "outputs": [
        {
          "name": "stdout",
          "output_type": "stream",
          "text": [
            "(2142, 1536, 2048)\n",
            "(2142,)\n"
          ]
        }
      ],
      "source": [
        "# convert to numpy arrays\n",
        "image_arr = np.array(images)\n",
        "label_arr = np.array(labels)\n",
        "print(image_arr.shape)\n",
        "print(label_arr.shape)"
      ]
    },
    {
      "cell_type": "code",
      "execution_count": 6,
      "metadata": {
        "id": "75lr7ZZoQzjF"
      },
      "outputs": [],
      "source": [
        "# # scale data (currently broken) \n",
        "# scaler = sklearn.preprocessing.MinMaxScaler()\n",
        "# image_scaled = scaler.fit_transform(image_arr)"
      ]
    },
    {
      "cell_type": "markdown",
      "metadata": {
        "id": "VSqTwUHmQzjG"
      },
      "source": [
        "## Logistic Regression"
      ]
    },
    {
      "cell_type": "code",
      "execution_count": 7,
      "metadata": {
        "colab": {
          "base_uri": "https://localhost:8080/"
        },
        "id": "z0eYqXw_QzjG",
        "outputId": "762aa572-e33a-431f-83c0-cd15efc8c19d"
      },
      "outputs": [
        {
          "name": "stdout",
          "output_type": "stream",
          "text": [
            "(2142, 1536)\n"
          ]
        }
      ],
      "source": [
        "# take colmean of each image to reduce features (for logistic regression)\n",
        "image_reshape = image_arr.mean(axis=2)\n",
        "print(image_reshape.shape)"
      ]
    },
    {
      "cell_type": "code",
      "execution_count": 8,
      "metadata": {
        "id": "ubbHC0cxQzjH"
      },
      "outputs": [],
      "source": [
        "# scale data \n",
        "scaler = sklearn.preprocessing.MinMaxScaler()\n",
        "image_scaled = scaler.fit_transform(image_reshape)"
      ]
    },
    {
      "cell_type": "code",
      "execution_count": 9,
      "metadata": {
        "id": "rrFneVINQzjH"
      },
      "outputs": [],
      "source": [
        "# split data\n",
        "x_train, x_test, y_train, y_test = train_test_split(\n",
        "    image_reshape, label_arr, test_size = 0.4, stratify = label_arr, shuffle = True, random_state = 27)\n",
        "\n",
        "x_val, x_test, y_val, y_test = train_test_split(\n",
        "    x_test, y_test, test_size = 0.75, stratify = y_test, shuffle = True, random_state = 27)"
      ]
    },
    {
      "cell_type": "code",
      "execution_count": 10,
      "metadata": {
        "colab": {
          "base_uri": "https://localhost:8080/"
        },
        "id": "0b9-iW3xQzjI",
        "outputId": "18edabfb-5694-4408-8df6-f3f7fc27edf5"
      },
      "outputs": [
        {
          "data": {
            "text/plain": [
              "LogisticRegression(max_iter=10000, solver='sag')"
            ]
          },
          "execution_count": 10,
          "metadata": {},
          "output_type": "execute_result"
        }
      ],
      "source": [
        "## initialize logistic regression model\n",
        "# sag: stochastic average gradient descent, chosen for speed\n",
        "log_model = sklearn.linear_model.LogisticRegression(solver = \"sag\", max_iter = 10000)\n",
        "# fit model on train data\n",
        "log_model.fit(x_train, y_train)"
      ]
    },
    {
      "cell_type": "code",
      "execution_count": 11,
      "metadata": {
        "colab": {
          "base_uri": "https://localhost:8080/",
          "height": 296
        },
        "id": "tW7WIkIWQzjI",
        "outputId": "352bb452-8741-4522-f775-04dd45dd2cc8"
      },
      "outputs": [
        {
          "data": {
            "text/plain": [
              "<sklearn.metrics._plot.confusion_matrix.ConfusionMatrixDisplay at 0x21265ab1910>"
            ]
          },
          "execution_count": 11,
          "metadata": {},
          "output_type": "execute_result"
        },
        {
          "data": {
            "image/png": "[encoded data removed]",
            "text/plain": [
              "<Figure size 640x480 with 2 Axes>"
            ]
          },
          "metadata": {},
          "output_type": "display_data"
        }
      ],
      "source": [
        "# plot confusion matrix\n",
        "metrics.ConfusionMatrixDisplay.from_estimator(log_model, x_test, y_test,  cmap = \"GnBu\")"
      ]
    },
    {
      "cell_type": "code",
      "execution_count": 12,
      "metadata": {
        "colab": {
          "base_uri": "https://localhost:8080/"
        },
        "id": "dyR_a47RQzjJ",
        "outputId": "3836bc45-ed89-4489-af0c-1886e0d6be90"
      },
      "outputs": [
        {
          "name": "stdout",
          "output_type": "stream",
          "text": [
            "0.9844479004665629\n",
            "1.0\n",
            "0.6296296296296297\n",
            "1.0\n"
          ]
        }
      ],
      "source": [
        "### model evaluation metrics \n",
        "predictions = log_model.predict(x_test)\n",
        "\n",
        "# (true positive + true negative)/total\n",
        "accuracy = sklearn.metrics.accuracy_score(y_test, predictions)\n",
        "print(accuracy)\n",
        "\n",
        "# true positive/(true positive + false positive)\n",
        "precision = sklearn.metrics.precision_score(y_test, predictions)\n",
        "print(precision)\n",
        "\n",
        "# true positive/(true positive + false negative)\n",
        "sensitivity = sklearn.metrics.recall_score(y_test, predictions)\n",
        "print(sensitivity)\n",
        "\n",
        "# true negative/(true negative + false positive)\n",
        "specificity = sklearn.metrics.recall_score(y_test, predictions, pos_label = 0)\n",
        "print(specificity)\n",
        "\n",
        "# no false positives means precision and specificity will be 100%"
      ]
    },
    {
      "cell_type": "markdown",
      "metadata": {
        "id": "l2pQYwfUQzjK"
      },
      "source": [
        "## CNN"
      ]
    },
    {
      "cell_type": "code",
      "execution_count": 13,
      "metadata": {
        "id": "iinTnX7MQzjK"
      },
      "outputs": [],
      "source": [
        "import tensorflow as tf\n",
        "from tensorflow.keras import datasets, layers, models"
      ]
    },
    {
      "cell_type": "code",
      "execution_count": 14,
      "metadata": {
        "id": "dIEXQQfMaDZv"
      },
      "outputs": [],
      "source": [
        "# resize images else will run out of memory\n",
        "image_resized = []\n",
        "for image in image_arr:\n",
        "  image_resized.append(cv2.resize(image, (0, 0), fx = 0.25, fy = 0.25, interpolation = cv2.INTER_AREA))"
      ]
    },
    {
      "cell_type": "code",
      "execution_count": 15,
      "metadata": {
        "id": "dJII-YMhaqNY"
      },
      "outputs": [
        {
          "name": "stdout",
          "output_type": "stream",
          "text": [
            "(2142, 384, 512)\n"
          ]
        }
      ],
      "source": [
        "# convert resized list into np array and scale\n",
        "image_arr_resized = np.array(image_resized)\n",
        "print(image_arr_resized.shape)"
      ]
    },
    {
      "cell_type": "code",
      "execution_count": 37,
      "metadata": {},
      "outputs": [
        {
          "data": {
            "text/plain": [
              "-1"
            ]
          },
          "execution_count": 37,
          "metadata": {},
          "output_type": "execute_result"
        }
      ],
      "source": [
        "# display image - will pop up in a separate window (seems to crash in colab)\n",
        "\n",
        "cv2.namedWindow(\"image\", cv2.WINDOW_NORMAL)\n",
        "cv2.imshow(\"image\", image_arr_resized[0])\n",
        "cv2.waitKey()"
      ]
    },
    {
      "cell_type": "code",
      "execution_count": 16,
      "metadata": {},
      "outputs": [],
      "source": [
        "# # display image - will pop up in a separate window (seems to crash in colab)\n",
        "\n",
        "# cv2.namedWindow(\"image\", cv2.WINDOW_NORMAL)\n",
        "# cv2.imshow(\"image\", image_arr_resized[0])\n",
        "# cv2.waitKey()"
      ]
    },
    {
      "cell_type": "code",
      "execution_count": 17,
      "metadata": {
        "id": "1-VNDC1eQzjK"
      },
      "outputs": [],
      "source": [
        "# reshape for cnn\n",
        "image_arr_reshaped = image_arr_resized.reshape([image_arr_resized.shape[0], image_arr_resized.shape[1], image_arr_resized.shape[2], 1])\n",
        "label_arr_reshaped = label_arr.reshape([image_arr_resized.shape[0], 1])"
      ]
    },
    {
      "cell_type": "code",
      "execution_count": 18,
      "metadata": {
        "id": "kvfa5MltQzjL"
      },
      "outputs": [],
      "source": [
        "# split data: train is 1-test_size and val, test are equal in size\n",
        "x_train, x_test, y_train, y_test = train_test_split(\n",
        "    image_arr_reshaped, label_arr_reshaped, test_size = 0.4, stratify = label_arr_reshaped, shuffle = True, random_state = 27)\n",
        "\n",
        "x_val, x_test, y_val, y_test = train_test_split(\n",
        "    x_test, y_test, test_size = 0.75, stratify = y_test, shuffle = True, random_state = 27)"
      ]
    },
    {
      "cell_type": "code",
      "execution_count": 19,
      "metadata": {
        "id": "GgZdWzWOQzjL"
      },
      "outputs": [],
      "source": [
        "# create model (stock from keras documentation for now)\n",
        "def build_model():\n",
        "\n",
        "    model = models.Sequential()\n",
        "    model.add(layers.Conv2D(32, (3, 3), activation='relu', input_shape=(image_arr_resized.shape[1], image_arr_resized.shape[2], 1)))\n",
        "    model.add(layers.MaxPooling2D((2, 2)))\n",
        "    model.add(layers.Conv2D(64, (3, 3), activation='relu'))\n",
        "    model.add(layers.MaxPooling2D((2, 2)))\n",
        "    model.add(layers.Conv2D(64, (3, 3), activation='relu'))\n",
        "\n",
        "    model.add(layers.Flatten())\n",
        "    model.add(layers.Dense(64, activation='relu'))\n",
        "    model.add(layers.Dense(10))\n",
        "\n",
        "    model.compile(\n",
        "        optimizer = \"adam\", loss = tf.keras.losses.SparseCategoricalCrossentropy(from_logits = True),\n",
        "        metrics=['accuracy']\n",
        "    )\n",
        "\n",
        "    return model"
      ]
    },
    {
      "cell_type": "code",
      "execution_count": 40,
      "metadata": {
        "id": "OtUfDNDiQzjM"
      },
      "outputs": [],
      "source": [
        "# build the model\n",
        "# cnn_model = build_model()\n",
        "\n",
        "# or load saved \n",
        "cnn_model = tf.keras.models.load_model(\"../Snakes-or-No-Snakes/cnn_v2/\")"
      ]
    },
    {
      "cell_type": "code",
      "execution_count": 21,
      "metadata": {
        "colab": {
          "base_uri": "https://localhost:8080/"
        },
        "id": "umrpF-ZgQzjM",
        "outputId": "c04958ff-5a35-4a44-908a-0e5f8951f9b5"
      },
      "outputs": [
        {
          "name": "stdout",
          "output_type": "stream",
          "text": [
            "Epoch 1/7\n",
            "41/41 [==============================] - 143s 3s/step - loss: 59.0431 - accuracy: 0.8864 - val_loss: 0.0897 - val_accuracy: 0.9673\n",
            "Epoch 2/7\n",
            "41/41 [==============================] - 147s 4s/step - loss: 0.0594 - accuracy: 0.9852 - val_loss: 0.1250 - val_accuracy: 0.9626\n",
            "Epoch 3/7\n",
            "41/41 [==============================] - 148s 4s/step - loss: 0.6385 - accuracy: 0.9634 - val_loss: 0.4733 - val_accuracy: 0.9579\n",
            "Epoch 4/7\n",
            "41/41 [==============================] - 35604s 890s/step - loss: 1.0551 - accuracy: 0.9230 - val_loss: 0.2209 - val_accuracy: 0.9533\n",
            "Epoch 5/7\n",
            "41/41 [==============================] - 171s 4s/step - loss: 0.2633 - accuracy: 0.9603 - val_loss: 0.1357 - val_accuracy: 0.9673\n",
            "Epoch 6/7\n",
            "41/41 [==============================] - 173s 4s/step - loss: 0.1632 - accuracy: 0.9696 - val_loss: 0.2481 - val_accuracy: 0.9673\n",
            "Epoch 7/7\n",
            "41/41 [==============================] - 177s 4s/step - loss: 0.1761 - accuracy: 0.9611 - val_loss: 0.1340 - val_accuracy: 0.9626\n"
          ]
        }
      ],
      "source": [
        "# train the model\n",
        "cnn_fit = cnn_model.fit(x_train, y_train, epochs=7, \n",
        "                        validation_data=(x_val, y_val))"
      ]
    },
    {
      "cell_type": "code",
      "execution_count": 41,
      "metadata": {},
      "outputs": [
        {
          "name": "stdout",
          "output_type": "stream",
          "text": [
            "(643,)\n"
          ]
        }
      ],
      "source": [
        "# get class predictions\n",
        "predictions_cnn = np.argmax(cnn_model.predict(x_test), axis = -1) \n",
        "print(predictions_cnn.shape)"
      ]
    },
    {
      "cell_type": "code",
      "execution_count": 42,
      "metadata": {},
      "outputs": [
        {
          "data": {
            "text/plain": [
              "<sklearn.metrics._plot.confusion_matrix.ConfusionMatrixDisplay at 0x217a542c280>"
            ]
          },
          "execution_count": 42,
          "metadata": {},
          "output_type": "execute_result"
        },
        {
          "data": {
            "image/png": "[encoded data removed]",
            "text/plain": [
              "<Figure size 640x480 with 2 Axes>"
            ]
          },
          "metadata": {},
          "output_type": "display_data"
        }
      ],
      "source": [
        "# plot confusion matrix\n",
        "metrics.ConfusionMatrixDisplay.from_predictions(y_test, predictions_cnn, cmap = \"GnBu\")"
      ]
    },
    {
      "cell_type": "code",
      "execution_count": 30,
      "metadata": {},
      "outputs": [
        {
          "name": "stdout",
          "output_type": "stream",
          "text": [
            "0.995334370139969\n",
            "1.0\n",
            "0.8888888888888888\n",
            "1.0\n"
          ]
        }
      ],
      "source": [
        "### model evaluation metrics \n",
        "\n",
        "# (true positive + true negative)/total\n",
        "accuracy = sklearn.metrics.accuracy_score(y_test, predictions_cnn)\n",
        "print(accuracy)\n",
        "\n",
        "# true positive/(true positive + false positive)\n",
        "precision = sklearn.metrics.precision_score(y_test, predictions_cnn)\n",
        "print(precision)\n",
        "\n",
        "# true positive/(true positive + false negative)\n",
        "sensitivity = sklearn.metrics.recall_score(y_test, predictions_cnn)\n",
        "print(sensitivity)\n",
        "\n",
        "# true negative/(true negative + false positive)\n",
        "specificity = sklearn.metrics.recall_score(y_test, predictions_cnn, pos_label = 0)\n",
        "print(specificity)\n",
        "\n",
        "# no false positives means precision and specificity will be 100%"
      ]
    },
    {
      "cell_type": "code",
      "execution_count": 25,
      "metadata": {},
      "outputs": [],
      "source": [
        "# plot accuracy across epochs\n",
        "plt.plot(cnn_fit.history['accuracy'], label='accuracy')\n",
        "plt.plot(cnn_fit.history['val_accuracy'], label = 'val_accuracy')\n",
        "plt.xlabel('Epoch')\n",
        "plt.ylabel('Accuracy')\n",
        "plt.ylim([0.5, 1])\n",
        "plt.legend(loc='lower right')\n",
        "\n",
        "test_loss, test_acc = cnn_model.evaluate(x_test,  y_test, verbose=2)"
      ]
    },
    {
      "cell_type": "code",
      "execution_count": 26,
      "metadata": {},
      "outputs": [],
      "source": [
        "# # save model\n",
        "# cnn_model.save('../Snakes-or-No-Snakes/cnn_v2')"
      ]
    }
  ],
  "metadata": {
    "colab": {
      "provenance": []
    },
    "kernelspec": {
      "display_name": "base",
      "language": "python",
      "name": "python3"
    },
    "language_info": {
      "codemirror_mode": {
        "name": "ipython",
        "version": 3
      },
      "file_extension": ".py",
      "mimetype": "text/x-python",
      "name": "python",
      "nbconvert_exporter": "python",
      "pygments_lexer": "ipython3",
      "version": "3.9.13"
    },
    "orig_nbformat": 4,
    "vscode": {
      "interpreter": {
        "hash": "ad2bdc8ecc057115af97d19610ffacc2b4e99fae6737bb82f5d7fb13d2f2c186"
      }
    }
  },
  "nbformat": 4,
  "nbformat_minor": 0
}
