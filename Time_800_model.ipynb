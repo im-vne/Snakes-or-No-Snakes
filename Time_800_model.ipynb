{
  "cells": [
    {
      "cell_type": "markdown",
      "metadata": {
        "id": "view-in-github",
        "colab_type": "text"
      },
      "source": [
        "<a href=\"https://colab.research.google.com/github/im-vne/Snakes-or-No-Snakes/blob/main/Time_800_model.ipynb\" target=\"_parent\"><img src=\"https://colab.research.google.com/assets/colab-badge.svg\" alt=\"Open In Colab\"/></a>"
      ]
    },
    {
      "cell_type": "markdown",
      "metadata": {
        "id": "qNvBBBhXQzi3"
      },
      "source": [
        "# Model building and evaluation\n",
        "\n",
        "This notebook contains the main two methods: CNN and logistic regression. For side analyses see their specific notebook."
      ]
    },
    {
      "cell_type": "code",
      "execution_count": null,
      "metadata": {
        "id": "lIyROfMHQ8HS",
        "colab": {
          "base_uri": "https://localhost:8080/"
        },
        "outputId": "ab637be2-8412-455e-c2ce-bc54373d66aa"
      },
      "outputs": [
        {
          "output_type": "stream",
          "name": "stdout",
          "text": [
            "Drive already mounted at /content/drive/; to attempt to forcibly remount, call drive.mount(\"/content/drive/\", force_remount=True).\n"
          ]
        }
      ],
      "source": [
        "from google.colab import drive\n",
        "drive.mount('/content/drive/')"
      ]
    },
    {
      "cell_type": "code",
      "execution_count": null,
      "metadata": {
        "id": "-PIXpkD_W4Uu",
        "colab": {
          "base_uri": "https://localhost:8080/",
          "height": 36
        },
        "outputId": "0ca7755c-14e1-4dc5-bca4-44231504920c"
      },
      "outputs": [
        {
          "output_type": "execute_result",
          "data": {
            "text/plain": [
              "'/content'"
            ],
            "application/vnd.google.colaboratory.intrinsic+json": {
              "type": "string"
            }
          },
          "metadata": {},
          "execution_count": 3
        }
      ],
      "source": [
        "import os # work with system\n",
        "import cv2 # work with images\n",
        "import numpy as np # arrays and numerical analysis\n",
        "import matplotlib.pyplot as plt # for data plots\n",
        "import sklearn.linear_model # linear models\n",
        "from sklearn.model_selection import train_test_split # data splitting\n",
        "from sklearn import metrics # model evaluation\n",
        "import tensorflow.keras as keras\n",
        "import tensorflow as tf\n",
        "from tensorflow.keras import datasets, layers, models\n",
        "import random # for random sampling\n",
        "import pandas as pd\n",
        "\n",
        "os.getcwd()\n",
        "### set working directory in data folder\n",
        "#os.chdir(\"drive/Shareddrives/Capstone 2023/Data/MicrosoftSnakeAlgorithmProject\")"
      ]
    },
    {
      "cell_type": "code",
      "source": [
        "tf.config.list_physical_devices('GPU')"
      ],
      "metadata": {
        "id": "HcCLIxzcvdzC",
        "colab": {
          "base_uri": "https://localhost:8080/"
        },
        "outputId": "00d7c006-67f2-4c01-e440-780c7eddc6b8"
      },
      "execution_count": null,
      "outputs": [
        {
          "output_type": "execute_result",
          "data": {
            "text/plain": [
              "[PhysicalDevice(name='/physical_device:GPU:0', device_type='GPU')]"
            ]
          },
          "metadata": {},
          "execution_count": 4
        }
      ]
    },
    {
      "cell_type": "code",
      "source": [
        "!nvidia-smi"
      ],
      "metadata": {
        "id": "IaiRHPE4wF3q",
        "colab": {
          "base_uri": "https://localhost:8080/"
        },
        "outputId": "a02cfe88-8560-4756-976e-5f631567f88f"
      },
      "execution_count": null,
      "outputs": [
        {
          "output_type": "stream",
          "name": "stdout",
          "text": [
            "Mon Jul 24 19:10:04 2023       \n",
            "+-----------------------------------------------------------------------------+\n",
            "| NVIDIA-SMI 525.105.17   Driver Version: 525.105.17   CUDA Version: 12.0     |\n",
            "|-------------------------------+----------------------+----------------------+\n",
            "| GPU  Name        Persistence-M| Bus-Id        Disp.A | Volatile Uncorr. ECC |\n",
            "| Fan  Temp  Perf  Pwr:Usage/Cap|         Memory-Usage | GPU-Util  Compute M. |\n",
            "|                               |                      |               MIG M. |\n",
            "|===============================+======================+======================|\n",
            "|   0  Tesla T4            Off  | 00000000:00:04.0 Off |                    0 |\n",
            "| N/A   34C    P8     9W /  70W |      3MiB / 15360MiB |      0%      Default |\n",
            "|                               |                      |                  N/A |\n",
            "+-------------------------------+----------------------+----------------------+\n",
            "                                                                               \n",
            "+-----------------------------------------------------------------------------+\n",
            "| Processes:                                                                  |\n",
            "|  GPU   GI   CI        PID   Type   Process name                  GPU Memory |\n",
            "|        ID   ID                                                   Usage      |\n",
            "|=============================================================================|\n",
            "|  No running processes found                                                 |\n",
            "+-----------------------------------------------------------------------------+\n"
          ]
        }
      ]
    },
    {
      "cell_type": "code",
      "execution_count": null,
      "metadata": {
        "colab": {
          "base_uri": "https://localhost:8080/"
        },
        "id": "n9EvY-CVKVb2",
        "outputId": "6c1d53bb-524b-495a-97e9-9f450f870379"
      },
      "outputs": [
        {
          "output_type": "stream",
          "name": "stdout",
          "text": [
            "23275\n",
            "23275\n",
            "   Snake                 Date location camera  \\\n",
            "0      1  2016-03-08 07:36:30      LPS   TSP1   \n",
            "1      1  2016-03-08 07:37:00      LPS   TSP1   \n",
            "2      1  2016-03-08 07:37:30      LPS   TSP1   \n",
            "\n",
            "                                                Path  cumsum_snakes  \\\n",
            "0  /content/drive/Shareddrives/Capstone 2023/Data...              1   \n",
            "1  /content/drive/Shareddrives/Capstone 2023/Data...              2   \n",
            "2  /content/drive/Shareddrives/Capstone 2023/Data...              3   \n",
            "\n",
            "   cumsum_snakes_total  cumsum_snakes_location  cumsum_snakes_camera  \n",
            "0                    1                       1                     1  \n",
            "1                    2                       2                     2  \n",
            "2                    3                       3                     3  \n",
            "       Snake                 Date location  camera  \\\n",
            "23272      0  2019-10-13 14:55:00      LPS  APTR12   \n",
            "23273      0  2019-10-13 14:55:30      LPS  APTR12   \n",
            "23274      0  2019-10-13 14:56:00      LPS  APTR12   \n",
            "\n",
            "                                                    Path  cumsum_snakes  \\\n",
            "23272  /content/drive/Shareddrives/Capstone 2023/Data...           2129   \n",
            "23273  /content/drive/Shareddrives/Capstone 2023/Data...           2129   \n",
            "23274  /content/drive/Shareddrives/Capstone 2023/Data...           2129   \n",
            "\n",
            "       cumsum_snakes_total  cumsum_snakes_location  cumsum_snakes_camera  \n",
            "23272                 4203                    2129                   277  \n",
            "23273                 4203                    2129                   277  \n",
            "23274                 4203                    2129                   277  \n"
          ]
        }
      ],
      "source": [
        "#import dataframe with path and label\n",
        "df = pd.read_csv(\"/content/drive/Shareddrives/Capstone 2023/Data/Time_Data/cumulative_organized_Data_Path.csv\")\n",
        "first_column = df.columns[0]\n",
        "df = df.drop([first_column], axis=1)\n",
        "print(len(df))\n",
        "\n",
        "#Remove faulty image incase it's not\n",
        "empty_img = \"MicrosoftSnakeAlgorithmProject/Snake_Images/FL_Snakes/WF8/IMG_7087.JPG\"\n",
        "df = df[df.Path != empty_img]\n",
        "print(len(df))\n",
        "print(df.head(3))\n",
        "print(df.tail(3))"
      ]
    },
    {
      "cell_type": "code",
      "source": [
        "random.seed(123)\n",
        "\n",
        "#convert dataframe columns to correct types\n",
        "df['Date'] = pd.to_datetime(df['Date'])\n",
        "df = df.astype({\"cumsum_snakes\":\"int\",\"cumsum_snakes_total\":\"int\",\"cumsum_snakes_location\":\"int\",\"cumsum_snakes_camera\":\"int\", \"Path\": \"string\"})\n",
        "\n",
        "#sort dates in ascending order\n",
        "df.sort_values(by='Date', inplace = True)\n",
        "\n",
        "#get the first 400 instances of snakes\n",
        "filtered_df = df.loc[(df['cumsum_snakes_total'] <= 400)]\n",
        "print(filtered_df)\n",
        "\n",
        "#####################3333\n",
        "df.toframe()\n",
        "#########################\n",
        "###\n",
        "# It takes a total of 1870 observations to get 400 snakes\n",
        "# Training set is filtered_df\n",
        "\n",
        "\n",
        "train = df.loc[(df['cumsum_snakes_total'] <= 800)]\n",
        "test = df.loc[(df['cumsum_snakes_total'] > 800)]\n",
        "print(\"-------------\")\n",
        "print(\"training set\")\n",
        "print(train)\n",
        "print(\"length of testing:\")\n",
        "print(len(train))\n",
        "\n",
        "print(\"-------------\")\n",
        "print(\"untouched testing set\")\n",
        "print(\"length of testing:\")\n",
        "print(len(test))\n",
        "\n",
        "####\n",
        "# Validation set\n",
        "# 15% of 23275 at the end\n",
        "print(\"-------------\")\n",
        "print(\"validation set\")\n",
        "val = test.sample(n=3372)\n",
        "print(val.head(5))\n",
        "print(\"length of val:\")\n",
        "print(len(val))\n",
        "\n",
        "print(\"------------\")\n",
        "print(\"testing set\")\n",
        "test = test.drop(val.index)\n",
        "print(test)\n",
        "print(\"length of final testing:\")\n",
        "print(len(test))\n",
        "\n"
      ],
      "metadata": {
        "colab": {
          "base_uri": "https://localhost:8080/"
        },
        "id": "uWPRGGGbae7T",
        "outputId": "b9455aa5-d864-401f-9a4f-6c58d9b1ffcb"
      },
      "execution_count": null,
      "outputs": [
        {
          "output_type": "stream",
          "name": "stdout",
          "text": [
            "0        /content/drive/Shareddrives/Capstone 2023/Data...\n",
            "1        /content/drive/Shareddrives/Capstone 2023/Data...\n",
            "2        /content/drive/Shareddrives/Capstone 2023/Data...\n",
            "3        /content/drive/Shareddrives/Capstone 2023/Data...\n",
            "4        /content/drive/Shareddrives/Capstone 2023/Data...\n",
            "                               ...                        \n",
            "23270    /content/drive/Shareddrives/Capstone 2023/Data...\n",
            "23271    /content/drive/Shareddrives/Capstone 2023/Data...\n",
            "23272    /content/drive/Shareddrives/Capstone 2023/Data...\n",
            "23273    /content/drive/Shareddrives/Capstone 2023/Data...\n",
            "23274    /content/drive/Shareddrives/Capstone 2023/Data...\n",
            "Name: Path, Length: 23275, dtype: object\n",
            "      Snake                Date location camera  \\\n",
            "0         1 2016-03-08 07:36:30      LPS   TSP1   \n",
            "1         1 2016-03-08 07:37:00      LPS   TSP1   \n",
            "2         1 2016-03-08 07:37:30      LPS   TSP1   \n",
            "3         1 2016-03-08 07:38:00      LPS   TSP1   \n",
            "4         1 2016-03-13 14:46:00      LPS   TSP1   \n",
            "...     ...                 ...      ...    ...   \n",
            "1866      0 2016-04-27 11:11:30      LPS   TSP3   \n",
            "1867      0 2016-04-27 11:12:00      LPS   TSP3   \n",
            "1868      1 2016-04-27 12:23:30      LPS  KSF12   \n",
            "1869      1 2016-04-27 12:24:00      LPS  KSF12   \n",
            "1870      1 2016-04-27 12:24:30      LPS  KSF12   \n",
            "\n",
            "                                                   Path  cumsum_snakes  \\\n",
            "0     /content/drive/Shareddrives/Capstone 2023/Data...              1   \n",
            "1     /content/drive/Shareddrives/Capstone 2023/Data...              2   \n",
            "2     /content/drive/Shareddrives/Capstone 2023/Data...              3   \n",
            "3     /content/drive/Shareddrives/Capstone 2023/Data...              4   \n",
            "4     /content/drive/Shareddrives/Capstone 2023/Data...              5   \n",
            "...                                                 ...            ...   \n",
            "1866  /content/drive/Shareddrives/Capstone 2023/Data...            397   \n",
            "1867  /content/drive/Shareddrives/Capstone 2023/Data...            397   \n",
            "1868  /content/drive/Shareddrives/Capstone 2023/Data...            398   \n",
            "1869  /content/drive/Shareddrives/Capstone 2023/Data...            399   \n",
            "1870  /content/drive/Shareddrives/Capstone 2023/Data...            400   \n",
            "\n",
            "      cumsum_snakes_total  cumsum_snakes_location  cumsum_snakes_camera  \n",
            "0                       1                       1                     1  \n",
            "1                       2                       2                     2  \n",
            "2                       3                       3                     3  \n",
            "3                       4                       4                     4  \n",
            "4                       5                       5                     5  \n",
            "...                   ...                     ...                   ...  \n",
            "1866                  397                     397                     1  \n",
            "1867                  397                     397                     1  \n",
            "1868                  398                     398                     8  \n",
            "1869                  399                     399                     9  \n",
            "1870                  400                     400                    10  \n",
            "\n",
            "[1871 rows x 9 columns]\n",
            "-------------\n",
            "training set\n",
            "      Snake                Date location camera  \\\n",
            "0         1 2016-03-08 07:36:30      LPS   TSP1   \n",
            "1         1 2016-03-08 07:37:00      LPS   TSP1   \n",
            "2         1 2016-03-08 07:37:30      LPS   TSP1   \n",
            "3         1 2016-03-08 07:38:00      LPS   TSP1   \n",
            "4         1 2016-03-13 14:46:00      LPS   TSP1   \n",
            "...     ...                 ...      ...    ...   \n",
            "1866      0 2016-04-27 11:11:30      LPS   TSP3   \n",
            "1867      0 2016-04-27 11:12:00      LPS   TSP3   \n",
            "1868      1 2016-04-27 12:23:30      LPS  KSF12   \n",
            "1869      1 2016-04-27 12:24:00      LPS  KSF12   \n",
            "1870      1 2016-04-27 12:24:30      LPS  KSF12   \n",
            "\n",
            "                                                   Path  cumsum_snakes  \\\n",
            "0     /content/drive/Shareddrives/Capstone 2023/Data...              1   \n",
            "1     /content/drive/Shareddrives/Capstone 2023/Data...              2   \n",
            "2     /content/drive/Shareddrives/Capstone 2023/Data...              3   \n",
            "3     /content/drive/Shareddrives/Capstone 2023/Data...              4   \n",
            "4     /content/drive/Shareddrives/Capstone 2023/Data...              5   \n",
            "...                                                 ...            ...   \n",
            "1866  /content/drive/Shareddrives/Capstone 2023/Data...            397   \n",
            "1867  /content/drive/Shareddrives/Capstone 2023/Data...            397   \n",
            "1868  /content/drive/Shareddrives/Capstone 2023/Data...            398   \n",
            "1869  /content/drive/Shareddrives/Capstone 2023/Data...            399   \n",
            "1870  /content/drive/Shareddrives/Capstone 2023/Data...            400   \n",
            "\n",
            "      cumsum_snakes_total  cumsum_snakes_location  cumsum_snakes_camera  \n",
            "0                       1                       1                     1  \n",
            "1                       2                       2                     2  \n",
            "2                       3                       3                     3  \n",
            "3                       4                       4                     4  \n",
            "4                       5                       5                     5  \n",
            "...                   ...                     ...                   ...  \n",
            "1866                  397                     397                     1  \n",
            "1867                  397                     397                     1  \n",
            "1868                  398                     398                     8  \n",
            "1869                  399                     399                     9  \n",
            "1870                  400                     400                    10  \n",
            "\n",
            "[1871 rows x 9 columns]\n",
            "length of testing:\n",
            "1871\n",
            "-------------\n",
            "untouched testing set\n",
            "length of testing:\n",
            "21404\n",
            "-------------\n",
            "validation set\n",
            "       Snake                Date location camera  \\\n",
            "4910       0 2016-06-29 13:25:00      LPS  WPH10   \n",
            "3912       0 2016-06-06 08:04:00      LPS  San21   \n",
            "8019       1 2016-09-09 08:52:30      LPS  SRS17   \n",
            "18457      0 2018-08-28 15:12:00       FL    RF6   \n",
            "12447      0 2018-04-23 10:09:00       FL   RF15   \n",
            "\n",
            "                                                    Path  cumsum_snakes  \\\n",
            "4910   /content/drive/Shareddrives/Capstone 2023/Data...            871   \n",
            "3912   /content/drive/Shareddrives/Capstone 2023/Data...            729   \n",
            "8019   /content/drive/Shareddrives/Capstone 2023/Data...           1325   \n",
            "18457  /content/drive/Shareddrives/Capstone 2023/Data...           1653   \n",
            "12447  /content/drive/Shareddrives/Capstone 2023/Data...            629   \n",
            "\n",
            "       cumsum_snakes_total  cumsum_snakes_location  cumsum_snakes_camera  \n",
            "4910                   871                     871                    50  \n",
            "3912                   729                     729                     6  \n",
            "8019                  1325                    1325                    78  \n",
            "18457                 3125                    1653                     8  \n",
            "12447                 2101                     629                     4  \n",
            "length of val:\n",
            "3492\n",
            "------------\n",
            "testing set\n",
            "       Snake                Date location  camera  \\\n",
            "1871       1 2016-04-27 12:25:00      LPS   KSF12   \n",
            "1872       1 2016-04-27 20:59:30      LPS    WPH9   \n",
            "1873       1 2016-04-28 08:59:00      LPS   San22   \n",
            "1874       1 2016-04-28 10:15:30      LPS    Han1   \n",
            "1875       1 2016-04-28 10:16:00      LPS    Han1   \n",
            "...      ...                 ...      ...     ...   \n",
            "23270      0 2019-10-13 14:54:00      LPS  APTR12   \n",
            "23271      0 2019-10-13 14:54:30      LPS  APTR12   \n",
            "23272      0 2019-10-13 14:55:00      LPS  APTR12   \n",
            "23273      0 2019-10-13 14:55:30      LPS  APTR12   \n",
            "23274      0 2019-10-13 14:56:00      LPS  APTR12   \n",
            "\n",
            "                                                    Path  cumsum_snakes  \\\n",
            "1871   /content/drive/Shareddrives/Capstone 2023/Data...            401   \n",
            "1872   /content/drive/Shareddrives/Capstone 2023/Data...            402   \n",
            "1873   /content/drive/Shareddrives/Capstone 2023/Data...            403   \n",
            "1874   /content/drive/Shareddrives/Capstone 2023/Data...            404   \n",
            "1875   /content/drive/Shareddrives/Capstone 2023/Data...            405   \n",
            "...                                                  ...            ...   \n",
            "23270  /content/drive/Shareddrives/Capstone 2023/Data...           2129   \n",
            "23271  /content/drive/Shareddrives/Capstone 2023/Data...           2129   \n",
            "23272  /content/drive/Shareddrives/Capstone 2023/Data...           2129   \n",
            "23273  /content/drive/Shareddrives/Capstone 2023/Data...           2129   \n",
            "23274  /content/drive/Shareddrives/Capstone 2023/Data...           2129   \n",
            "\n",
            "       cumsum_snakes_total  cumsum_snakes_location  cumsum_snakes_camera  \n",
            "1871                   401                     401                    11  \n",
            "1872                   402                     402                     2  \n",
            "1873                   403                     403                    12  \n",
            "1874                   404                     404                     5  \n",
            "1875                   405                     405                     6  \n",
            "...                    ...                     ...                   ...  \n",
            "23270                 4203                    2129                   277  \n",
            "23271                 4203                    2129                   277  \n",
            "23272                 4203                    2129                   277  \n",
            "23273                 4203                    2129                   277  \n",
            "23274                 4203                    2129                   277  \n",
            "\n",
            "[17912 rows x 9 columns]\n",
            "length of final testing:\n",
            "17912\n"
          ]
        }
      ]
    },
    {
      "cell_type": "code",
      "source": [
        "print(\" \")\n",
        "print(\"Total unique cameras in training:\")\n",
        "print(len(train.camera.unique()))\n",
        "print(\"max images per camera:\")\n",
        "print(train.cumsum_snakes_camera.value_counts().max())\n",
        "print(\"min images per camera:\")\n",
        "print(train.cumsum_snakes_camera.value_counts().min())\n",
        "print(\"total observations:\")\n",
        "print(len(train))\n",
        "print(\" \")\n",
        "\n",
        "print(\"--------------------\")\n",
        "print(\" \")\n",
        "print(\"Total unique cameras in val:\")\n",
        "print(len(val.camera.unique()))\n",
        "print(\"max images per camera:\")\n",
        "print(val.cumsum_snakes_camera.value_counts().max())\n",
        "print(\"min images per camera:\")\n",
        "print(val.cumsum_snakes_camera.value_counts().min())\n",
        "print(\"total observations:\")\n",
        "print(len(val))\n",
        "print(\" \")\n",
        "\n",
        "print(\"--------------------\")\n",
        "print(\" \")\n",
        "print(\"Total unique cameras in testing:\")\n",
        "print(len(test.camera.unique()))\n",
        "print(\"max images per camera:\")\n",
        "print(test.cumsum_snakes_camera.value_counts().max())\n",
        "print(\"min images per camera:\")\n",
        "print(test.cumsum_snakes_camera.value_counts().min())\n",
        "print(\"total observations:\")\n",
        "print(len(test))\n",
        "print(\" \")"
      ],
      "metadata": {
        "colab": {
          "base_uri": "https://localhost:8080/"
        },
        "id": "k94u6EHGWMSv",
        "outputId": "85c79b2d-39b4-477c-cb6a-5d3bb38c7f09"
      },
      "execution_count": null,
      "outputs": [
        {
          "output_type": "stream",
          "name": "stdout",
          "text": [
            " \n",
            "Total unique cameras in training:\n",
            "23\n",
            "max images per camera:\n",
            "880\n",
            "min images per camera:\n",
            "1\n",
            "total observations:\n",
            "1871\n",
            " \n",
            "--------------------\n",
            " \n",
            "Total unique cameras in val:\n",
            "65\n",
            "max images per camera:\n",
            "429\n",
            "min images per camera:\n",
            "1\n",
            "total observations:\n",
            "3492\n",
            " \n",
            "--------------------\n",
            " \n",
            "Total unique cameras in testing:\n",
            "65\n",
            "max images per camera:\n",
            "2225\n",
            "min images per camera:\n",
            "1\n",
            "total observations:\n",
            "17912\n",
            " \n"
          ]
        }
      ]
    },
    {
      "cell_type": "code",
      "source": [
        "#get xtrain, y train, xtest, y train, x val, y val\n",
        "\n",
        "#training set\n",
        "print(\"Training\")\n",
        "y_train = train['Snake']\n",
        "x_train = train.loc[:, train.columns == 'Path']\n",
        "\n",
        "print(y_train)\n",
        "print(x_train)\n",
        "print(\"-------\")\n",
        "\n",
        "#val set will be the very last instances in which 400, 800 and 1200 don't touch\n",
        "print(\"Validation\")\n",
        "y_val = val['Snake']\n",
        "x_val = train.loc[:, val.columns == 'Path']\n",
        "print(\"-------\")\n",
        "\n",
        "#testing set\n",
        "print(\"\")\n",
        "y_test = test['Snake']\n",
        "x_test = test.loc[:, test.columns == 'Path']\n",
        "print(y_test)\n",
        "print(x_test)\n",
        "print(\"-------\")"
      ],
      "metadata": {
        "colab": {
          "base_uri": "https://localhost:8080/"
        },
        "id": "qdHOPqdHqYfZ",
        "outputId": "503a6e62-1999-47e4-ae7b-c00ff423c38d"
      },
      "execution_count": null,
      "outputs": [
        {
          "output_type": "stream",
          "name": "stdout",
          "text": [
            "Training\n",
            "0       1\n",
            "1       1\n",
            "2       1\n",
            "3       1\n",
            "4       1\n",
            "       ..\n",
            "1866    0\n",
            "1867    0\n",
            "1868    1\n",
            "1869    1\n",
            "1870    1\n",
            "Name: Snake, Length: 1871, dtype: int64\n",
            "                                                   Path\n",
            "0     /content/drive/Shareddrives/Capstone 2023/Data...\n",
            "1     /content/drive/Shareddrives/Capstone 2023/Data...\n",
            "2     /content/drive/Shareddrives/Capstone 2023/Data...\n",
            "3     /content/drive/Shareddrives/Capstone 2023/Data...\n",
            "4     /content/drive/Shareddrives/Capstone 2023/Data...\n",
            "...                                                 ...\n",
            "1866  /content/drive/Shareddrives/Capstone 2023/Data...\n",
            "1867  /content/drive/Shareddrives/Capstone 2023/Data...\n",
            "1868  /content/drive/Shareddrives/Capstone 2023/Data...\n",
            "1869  /content/drive/Shareddrives/Capstone 2023/Data...\n",
            "1870  /content/drive/Shareddrives/Capstone 2023/Data...\n",
            "\n",
            "[1871 rows x 1 columns]\n",
            "-------\n",
            "Validation\n",
            "-------\n",
            "\n",
            "1871     1\n",
            "1872     1\n",
            "1873     1\n",
            "1874     1\n",
            "1875     1\n",
            "        ..\n",
            "23270    0\n",
            "23271    0\n",
            "23272    0\n",
            "23273    0\n",
            "23274    0\n",
            "Name: Snake, Length: 17912, dtype: int64\n",
            "                                                    Path\n",
            "1871   /content/drive/Shareddrives/Capstone 2023/Data...\n",
            "1872   /content/drive/Shareddrives/Capstone 2023/Data...\n",
            "1873   /content/drive/Shareddrives/Capstone 2023/Data...\n",
            "1874   /content/drive/Shareddrives/Capstone 2023/Data...\n",
            "1875   /content/drive/Shareddrives/Capstone 2023/Data...\n",
            "...                                                  ...\n",
            "23270  /content/drive/Shareddrives/Capstone 2023/Data...\n",
            "23271  /content/drive/Shareddrives/Capstone 2023/Data...\n",
            "23272  /content/drive/Shareddrives/Capstone 2023/Data...\n",
            "23273  /content/drive/Shareddrives/Capstone 2023/Data...\n",
            "23274  /content/drive/Shareddrives/Capstone 2023/Data...\n",
            "\n",
            "[17912 rows x 1 columns]\n",
            "-------\n"
          ]
        }
      ]
    },
    {
      "cell_type": "code",
      "execution_count": null,
      "metadata": {
        "id": "gAO-Ih3qzYfc"
      },
      "outputs": [],
      "source": []
    },
    {
      "cell_type": "code",
      "source": [
        "################ Look Here\n",
        "# y_train = y_train.tolist()/\n",
        "x_train = np.array(x_train['Path'].tolist())\n",
        "\n",
        "# y_val = y_val.tolist()\n",
        "x_val = np.array(x_val['Path'].tolist())\n",
        "\n",
        "# y_test = y_test.tolist()\n",
        "x_test = np.array(x_test['Path'].tolist())\n"
      ],
      "metadata": {
        "id": "eCIxOAGWeHdF"
      },
      "execution_count": null,
      "outputs": []
    },
    {
      "cell_type": "code",
      "source": [
        "class data_generator(keras.utils.Sequence) :\n",
        "\n",
        "  def __init__(self, image_filenames, labels, batch_size, log) :\n",
        "    self.image_filenames = image_filenames\n",
        "    self.labels = labels\n",
        "    self.batch_size = batch_size\n",
        "    self.log = log\n",
        "\n",
        "  def __len__(self) :\n",
        "    return (np.ceil(len(self.image_filenames) / float(self.batch_size))).astype(int)\n",
        "\n",
        "  def __getitem__(self, idx) :\n",
        "    batch_x = self.image_filenames[idx * self.batch_size : (idx+1) * self.batch_size]\n",
        "    batch_y = self.labels[idx * self.batch_size : (idx+1) * self.batch_size]\n",
        "\n",
        "    # read in and process image (different resizing for logistic regression to reduce trainable parameters)\n",
        "    if self.log:\n",
        "      x_list = [cv2.resize(cv2.imread(file_name, cv2.IMREAD_GRAYSCALE), (100, 60), interpolation = cv2.INTER_NEAREST) for file_name in batch_x]\n",
        "      print(\"passed\")\n",
        "    else:\n",
        "      x_list = [cv2.resize(cv2.imread(file_name, cv2.IMREAD_GRAYSCALE), (512, 384), interpolation = cv2.INTER_NEAREST) for file_name in batch_x]\n",
        "\n",
        "    x_arr = np.array(x_list)\n",
        "    x_arr_reshaped = x_arr.reshape([x_arr.shape[0], x_arr.shape[1], x_arr.shape[2], 1])\n",
        "\n",
        "    y_arr = np.array(batch_y)\n",
        "    y_arr_reshaped = y_arr.reshape([x_arr_reshaped.shape[0], 1])\n",
        "\n",
        "    return x_arr_reshaped, y_arr_reshaped"
      ],
      "metadata": {
        "id": "nvYr1w73QYDC"
      },
      "execution_count": null,
      "outputs": []
    },
    {
      "cell_type": "code",
      "execution_count": null,
      "metadata": {
        "id": "NTvGroJoJPhA"
      },
      "outputs": [],
      "source": [
        "def create_generators(x_train, y_train, x_val, y_val, x_test, y_test, batch_size = 32, log = False):\n",
        "\n",
        "  train_generator = data_generator(x_train, y_train, batch_size, log)\n",
        "  validation_generator = data_generator(x_val, y_val, batch_size, log)\n",
        "  test_generator = data_generator(x_test, y_test, batch_size, log)\n",
        "\n",
        "  return train_generator, validation_generator, test_generator\n"
      ]
    },
    {
      "cell_type": "code",
      "source": [
        "#numpy array under the hood tbh"
      ],
      "metadata": {
        "colab": {
          "base_uri": "https://localhost:8080/"
        },
        "id": "CGqqi6uKkLn-",
        "outputId": "7e00f0c0-5048-47d3-84c0-e406c292b9cc"
      },
      "execution_count": null,
      "outputs": [
        {
          "output_type": "stream",
          "name": "stdout",
          "text": [
            "<pandas.core.indexing._iLocIndexer object at 0x7a26b4e20ae0>\n"
          ]
        }
      ]
    },
    {
      "cell_type": "markdown",
      "source": [
        "### **CNN**"
      ],
      "metadata": {
        "id": "cz-ftCj0Xtm_"
      }
    },
    {
      "cell_type": "code",
      "source": [
        "# create data generators\n",
        "batch_size = 32\n",
        "train_generator, validation_generator, test_generator = create_generators(x_train, y_train, x_val, y_val, x_test, y_test, batch_size = batch_size, log = False)"
      ],
      "metadata": {
        "id": "Annq0ORw2d-O"
      },
      "execution_count": null,
      "outputs": []
    },
    {
      "cell_type": "code",
      "execution_count": null,
      "metadata": {
        "id": "I2rsHpz40FMw"
      },
      "outputs": [],
      "source": [
        "# create model\n",
        "def build_model():\n",
        "\n",
        "    model = models.Sequential()\n",
        "    model.add(layers.Conv2D(16, (3, 3), activation='relu', input_shape=(384, 512, 1)))\n",
        "    model.add(layers.MaxPooling2D((2, 2)))\n",
        "    model.add(layers.Conv2D(32, (3, 3), activation='relu'))\n",
        "    model.add(layers.MaxPooling2D((2, 2)))\n",
        "    model.add(layers.Conv2D(64, (3, 3), activation='relu'))\n",
        "    model.add(layers.MaxPooling2D((2, 2)))\n",
        "\n",
        "    model.add(layers.Flatten())\n",
        "    model.add(layers.Dense(128, activation='relu'))\n",
        "    model.add(layers.Dense(1, activation = 'sigmoid'))\n",
        "\n",
        "    # compile model with desired features\n",
        "    model.compile(\n",
        "        optimizer = \"adam\", loss = \"binary_crossentropy\",\n",
        "        metrics=['accuracy']\n",
        "    )\n",
        "\n",
        "    return model"
      ]
    },
    {
      "cell_type": "code",
      "execution_count": null,
      "metadata": {
        "id": "2TeCVESl0Kou"
      },
      "outputs": [],
      "source": [
        "# build the model\n",
        "cnn_model = build_model()"
      ]
    },
    {
      "cell_type": "code",
      "execution_count": null,
      "metadata": {
        "colab": {
          "base_uri": "https://localhost:8080/"
        },
        "id": "cqn7xDxKUkEg",
        "outputId": "c341ccda-b0fe-4ef5-a4c1-242270569be6"
      },
      "outputs": [
        {
          "output_type": "stream",
          "name": "stdout",
          "text": [
            "Model: \"sequential_3\"\n",
            "_________________________________________________________________\n",
            " Layer (type)                Output Shape              Param #   \n",
            "=================================================================\n",
            " conv2d_9 (Conv2D)           (None, 382, 510, 16)      160       \n",
            "                                                                 \n",
            " max_pooling2d_9 (MaxPooling  (None, 191, 255, 16)     0         \n",
            " 2D)                                                             \n",
            "                                                                 \n",
            " conv2d_10 (Conv2D)          (None, 189, 253, 32)      4640      \n",
            "                                                                 \n",
            " max_pooling2d_10 (MaxPoolin  (None, 94, 126, 32)      0         \n",
            " g2D)                                                            \n",
            "                                                                 \n",
            " conv2d_11 (Conv2D)          (None, 92, 124, 64)       18496     \n",
            "                                                                 \n",
            " max_pooling2d_11 (MaxPoolin  (None, 46, 62, 64)       0         \n",
            " g2D)                                                            \n",
            "                                                                 \n",
            " flatten_3 (Flatten)         (None, 182528)            0         \n",
            "                                                                 \n",
            " dense_6 (Dense)             (None, 128)               23363712  \n",
            "                                                                 \n",
            " dense_7 (Dense)             (None, 1)                 129       \n",
            "                                                                 \n",
            "=================================================================\n",
            "Total params: 23,387,137\n",
            "Trainable params: 23,387,137\n",
            "Non-trainable params: 0\n",
            "_________________________________________________________________\n"
          ]
        }
      ],
      "source": [
        "# view model architecture\n",
        "cnn_model.summary()"
      ]
    },
    {
      "cell_type": "code",
      "source": [
        "#attempt 1\n",
        "#filename_test = x_train.values.tolist()\n",
        "#print(type(filename_test[0]))\n",
        "\n",
        "#filename_test01 = filename_test[0]\n",
        "#print(filename_test01)\n",
        "#cv2.imread(filename_test01, cv2.IMREAD_GRAYSCALE)\n",
        "\n"
      ],
      "metadata": {
        "id": "-wnXWRmHmVXo"
      },
      "execution_count": null,
      "outputs": []
    },
    {
      "cell_type": "code",
      "execution_count": null,
      "metadata": {
        "colab": {
          "base_uri": "https://localhost:8080/"
        },
        "id": "7n3LFWNX0oJ2",
        "outputId": "bd6903ac-2153-429d-edc2-0111fa6e6dc7"
      },
      "outputs": [
        {
          "output_type": "stream",
          "name": "stdout",
          "text": [
            "Epoch 1/3\n",
            "34/58 [================>.............] - ETA: 4:06 - loss: 46.6391 - accuracy: 0.7638"
          ]
        }
      ],
      "source": [
        "cnn_fit = cnn_model.fit(\n",
        "    train_generator,\n",
        "    steps_per_epoch = int(x_train.shape[0] // batch_size),\n",
        "    # steps_per_epoch = 10,\n",
        "    epochs = 3,\n",
        "    verbose = 1,\n",
        "    validation_data = validation_generator,\n",
        "    validation_steps = int(x_val.shape[0] // batch_size)\n",
        "    # validation_steps = 3\n",
        ")"
      ]
    },
    {
      "cell_type": "code",
      "source": [
        "# can load saved (see google sheet for model descriptions)\n",
        "# cnn_model = tf.keras.models.load_model(\"../Snakes-or-No-Snakes/cnn_balanced_seed1_3e\")"
      ],
      "metadata": {
        "id": "sSB1fDxa0qMV"
      },
      "execution_count": null,
      "outputs": []
    },
    {
      "cell_type": "code",
      "execution_count": null,
      "metadata": {
        "id": "tkw76jZoDjyN"
      },
      "outputs": [],
      "source": [
        "model_predict = cnn_model.predict(\n",
        "    test_generator\n",
        ")"
      ]
    },
    {
      "cell_type": "code",
      "execution_count": null,
      "metadata": {
        "id": "DHhm9V2j78V0"
      },
      "outputs": [],
      "source": [
        "# get class predictions\n",
        "predictions_cnn = model_predict > 0.5\n",
        "predictions_cnn = predictions_cnn.reshape(x_test.shape[0])\n",
        "print(predictions_cnn.shape)"
      ]
    },
    {
      "cell_type": "code",
      "source": [
        "#set(list(predictions_cnn.reshape(1262)))"
      ],
      "metadata": {
        "id": "wkSZfPT7rHTh"
      },
      "execution_count": null,
      "outputs": []
    },
    {
      "cell_type": "code",
      "execution_count": null,
      "metadata": {
        "id": "CoTUxBArKjTf"
      },
      "outputs": [],
      "source": [
        "# plot confusion matrix\n",
        "metrics.ConfusionMatrixDisplay.from_predictions(y_test, predictions_cnn, cmap = \"GnBu\")"
      ]
    },
    {
      "cell_type": "code",
      "execution_count": null,
      "metadata": {
        "id": "cW4daMTuKnSX"
      },
      "outputs": [],
      "source": [
        "### model evaluation metrics\n",
        "\n",
        "# (true positive + true negative)/total\n",
        "accuracy = sklearn.metrics.accuracy_score(y_test, predictions_cnn)\n",
        "print(\"accuracy: \" + str(accuracy))\n",
        "\n",
        "# true positive/(true positive + false positive)\n",
        "precision = sklearn.metrics.precision_score(y_test, predictions_cnn)\n",
        "print(\"precision: \" + str(precision))\n",
        "\n",
        "# true positive/(true positive + false negative)\n",
        "sensitivity = sklearn.metrics.recall_score(y_test, predictions_cnn)\n",
        "print(\"sensitivity: \" + str(sensitivity))\n",
        "\n",
        "# true negative/(true negative + false positive)\n",
        "specificity = sklearn.metrics.recall_score(y_test, predictions_cnn, pos_label = 0)\n",
        "print(\"specificity: \" + str(specificity))\n",
        "\n",
        "# 2 * (precision*recall)/(precision+recall)\n",
        "f1_score = 2*(precision*sensitivity)/(precision+sensitivity)\n",
        "print(\"f1_score: \" + str(f1_score))\n",
        "\n",
        "# no false positives means precision and specificity will be 100%"
      ]
    },
    {
      "cell_type": "code",
      "execution_count": null,
      "metadata": {
        "id": "8IScJl10KsS-"
      },
      "outputs": [],
      "source": [
        "# save model\n",
        "#cnn_model.save('../Snakes-or-No-Snakes/cnn_final_seed1_3e')"
      ]
    },
    {
      "cell_type": "code",
      "execution_count": null,
      "metadata": {
        "id": "T39EubL9LCQd"
      },
      "outputs": [],
      "source": [
        "# plot accuracy across epochs\n",
        "plt.plot(cnn_fit.history['accuracy'], label='accuracy')\n",
        "plt.plot(cnn_fit.history['val_accuracy'], label = 'val_accuracy')\n",
        "plt.xlabel('Epoch')\n",
        "plt.ylabel('Accuracy')\n",
        "plt.ylim([0.5, 1])\n",
        "plt.legend(loc='lower right')"
      ]
    },
    {
      "cell_type": "code",
      "execution_count": null,
      "metadata": {
        "id": "vA4AyD5Q5_it"
      },
      "outputs": [],
      "source": []
    }
  ],
  "metadata": {
    "colab": {
      "provenance": [],
      "include_colab_link": true
    },
    "kernelspec": {
      "display_name": "base",
      "language": "python",
      "name": "python3"
    },
    "language_info": {
      "codemirror_mode": {
        "name": "ipython",
        "version": 3
      },
      "file_extension": ".py",
      "mimetype": "text/x-python",
      "name": "python",
      "nbconvert_exporter": "python",
      "pygments_lexer": "ipython3",
      "version": "3.9.13"
    },
    "vscode": {
      "interpreter": {
        "hash": "ad2bdc8ecc057115af97d19610ffacc2b4e99fae6737bb82f5d7fb13d2f2c186"
      }
    },
    "gpuClass": "standard",
    "accelerator": "GPU"
  },
  "nbformat": 4,
  "nbformat_minor": 0
}