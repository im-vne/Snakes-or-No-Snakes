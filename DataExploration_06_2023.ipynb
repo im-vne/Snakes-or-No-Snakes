{
  "nbformat": 4,
  "nbformat_minor": 0,
  "metadata": {
    "colab": {
      "provenance": [],
      "authorship_tag": "ABX9TyM6RJNjJia98fE1TBBMlbH0",
      "include_colab_link": true
    },
    "kernelspec": {
      "name": "python3",
      "display_name": "Python 3"
    },
    "language_info": {
      "name": "python"
    }
  },
  "cells": [
    {
      "cell_type": "markdown",
      "metadata": {
        "id": "view-in-github",
        "colab_type": "text"
      },
      "source": [
        "<a href=\"https://colab.research.google.com/github/im-vne/Snakes-or-No-Snakes/blob/main/DataExploration_06_2023.ipynb\" target=\"_parent\"><img src=\"https://colab.research.google.com/assets/colab-badge.svg\" alt=\"Open In Colab\"/></a>"
      ]
    },
    {
      "cell_type": "code",
      "execution_count": 2,
      "metadata": {
        "colab": {
          "base_uri": "https://localhost:8080/"
        },
        "id": "lTnpFvXczGIg",
        "outputId": "286d9f34-1172-4736-ba40-c8e537da9b4d"
      },
      "outputs": [
        {
          "output_type": "stream",
          "name": "stdout",
          "text": [
            "Mounted at /content/drive\n"
          ]
        }
      ],
      "source": [
        "### To gain authorization to google drive\n",
        "from google.colab import drive\n",
        "drive.mount('/content/drive')"
      ]
    },
    {
      "cell_type": "code",
      "source": [
        "import os # work with system\n",
        "import cv2 # work with images\n",
        "import numpy as np # arrays and numerical analysis\n",
        "import matplotlib.pyplot as plt # for data plots\n",
        "from PIL import Image # extract image information\n",
        "import sklearn.linear_model # linear models\n",
        "from sklearn.model_selection import train_test_split # data splitting\n",
        "from sklearn import metrics # model evaluation\n",
        "import tensorflow.keras as keras\n",
        "import tensorflow as tf\n",
        "from tensorflow.keras import datasets, layers, models\n",
        "import random # for random sampling\n",
        "import pathlib\n",
        "from datetime import datetime\n",
        "import time\n",
        "import platform\n",
        "import pandas as pd\n",
        "import seaborn as sns"
      ],
      "metadata": {
        "id": "jqITrMl90o6E"
      },
      "execution_count": 25,
      "outputs": []
    },
    {
      "cell_type": "code",
      "source": [
        "# check current wd\n",
        "os.getcwd()\n",
        "# set working directory in data folder\n",
        "os.chdir(\"drive/Shareddrives/Capstone 2023/Data/MicrosoftSnakeAlgorithmProject\")"
      ],
      "metadata": {
        "id": "L_GJtPWj5TP7"
      },
      "execution_count": 4,
      "outputs": []
    },
    {
      "cell_type": "code",
      "source": [
        "# import the necessary packages\n",
        "class LocalBinaryPatterns:\n",
        "\tdef __init__(self, numPoints, radius):\n",
        "\t\t# store the number of points and radius\n",
        "\t\tself.numPoints = numPoints\n",
        "\t\tself.radius = radius\n",
        "\tdef describe(self, image, eps=1e-7):\n",
        "\t\t# compute the Local Binary Pattern representation\n",
        "\t\t# of the image, and then use the LBP representation\n",
        "\t\t# to build the histogram of patterns\n",
        "\t\tlbp = feature.local_binary_pattern(image, self.numPoints,\n",
        "\t\t\tself.radius, method=\"uniform\")\n",
        "\t\t(hist, _) = np.histogram(lbp.ravel(),\n",
        "\t\t\tbins=np.arange(0, self.numPoints + 3),\n",
        "\t\t\trange=(0, self.numPoints + 2))\n",
        "\t\t# normalize the histogram\n",
        "\t\thist = hist.astype(\"float\")\n",
        "\t\thist /= (hist.sum() + eps)\n",
        "\t\t# return the histogram of Local Binary Patterns\n",
        "\t\treturn hist, lbp"
      ],
      "metadata": {
        "id": "17MTo3W601Md"
      },
      "execution_count": 5,
      "outputs": []
    },
    {
      "cell_type": "code",
      "source": [
        "counter = 0 # if desired to break loop\n",
        "# labels and filenames should match since they are appended in order\n",
        "\n",
        "filenames = []\n",
        "labels = []\n",
        "# walk through all directories and files in current working directory\n",
        "for root, dir, files in os.walk(os.getcwd()):\n",
        "\n",
        "    for jpg in files:\n",
        "        # if jpg file, then keep filename\n",
        "        if \".JPG\" in jpg:\n",
        "            filenames.append(os.path.join(root, jpg))\n",
        "            # for image files, create label based on path: 0 means empty, 1 means snake\n",
        "            if \"Empty\" in root:\n",
        "                labels.append(0)\n",
        "            else:\n",
        "                labels.append(1)\n",
        "\n",
        "    counter += 1\n",
        "    # if counter > 100: break\n",
        "\n",
        "# save path for faulty image\n",
        "faulty_image = '/content/drive/Shareddrives/Capstone 2023/Data/MicrosoftSnakeAlgorithmProject/Snake_Images/FL_Snakes/WF8/IMG_7087.JPG'\n",
        "\n",
        "\n",
        "# check lengths of vectors\n",
        "#print(len(labels))\n",
        "#print(len(filenames))\n",
        "\n",
        "# delete faulty index and its corresponding label\n",
        "if faulty_image in filenames:\n",
        "  index = filenames.index(faulty_image)\n",
        "  print(index)\n",
        "  print(filenames[index])\n",
        "  print(labels[index])\n",
        "  del filenames[index]\n",
        "  del labels[index]\n",
        "\n",
        "# check and make sure only one as deleted\n",
        "print(len(filenames))\n",
        "print(len(labels))\n",
        "\n",
        "# initialize image path\n",
        "images = []\n",
        "counter2 = 0\n",
        "\n",
        "# initialize timestamp\n",
        "timestamps = []\n",
        "# gray scale (each is a 2d array)\n",
        "#for img in filenames:\n",
        "#    images.append(cv2.imread(img, cv2.IMREAD_GRAYSCALE))\n",
        "#    counter2 += 1\n",
        "    # if counter2 > 100: break"
      ],
      "metadata": {
        "colab": {
          "base_uri": "https://localhost:8080/"
        },
        "id": "dSTFFRPi-BFT",
        "outputId": "27839d95-ce79-4996-d341-fc5651cc2528"
      },
      "execution_count": 6,
      "outputs": [
        {
          "output_type": "stream",
          "name": "stdout",
          "text": [
            "23021\n",
            "/content/drive/Shareddrives/Capstone 2023/Data/MicrosoftSnakeAlgorithmProject/Snake_Images/FL_Snakes/WF8/IMG_7087.JPG\n",
            "1\n",
            "23275\n",
            "23275\n"
          ]
        }
      ]
    },
    {
      "cell_type": "code",
      "source": [
        "#if you ran this once, make sure to make the timestamp vector empty or else it will keep adding past 23000 ish\n",
        "\n",
        "#this take an hour and 25 minutes to run\n",
        "\n",
        "timestamps = []\n",
        "\n",
        "# takes timestamp from every image file (23275)\n",
        "for img in filenames:\n",
        "  image = Image.open(img)\n",
        "  exif = image.getexif() # get meta data\n",
        "  time = exif[306] # 306 is for the specific index for original image time\n",
        "  timestamps.append(time) # save the times into a vector\n"
      ],
      "metadata": {
        "id": "s_sM3RRK013M"
      },
      "execution_count": 8,
      "outputs": []
    },
    {
      "cell_type": "code",
      "source": [
        "# to check length and number of vectors\n",
        "print(timestamps[1])\n",
        "print(timestamps[2000])\n",
        "print(labels[1])\n",
        "print(labels[2000])\n",
        "print(len(labels))\n",
        "print(len(timestamps))"
      ],
      "metadata": {
        "colab": {
          "base_uri": "https://localhost:8080/"
        },
        "id": "LPZl06aRs3p6",
        "outputId": "2c72381f-449c-4820-f15c-041075261bba"
      },
      "execution_count": 9,
      "outputs": [
        {
          "output_type": "stream",
          "name": "stdout",
          "text": [
            "2018:05:20 15:23:00\n",
            "2018:07:29 15:59:00\n",
            "0\n",
            "0\n",
            "23275\n",
            "23275\n"
          ]
        }
      ]
    },
    {
      "cell_type": "code",
      "source": [
        "# Get camera and location\n",
        "camera = []\n",
        "location = []\n",
        "locations = []\n",
        "#test = filenames[]\n",
        "print(filenames[1])\n",
        "#test1 = test.split(\"/\")\n",
        "for i in filenames:\n",
        "  completepath = i.split(\"/\")\n",
        "  camera.append(completepath[9])\n",
        "  location.append(completepath[8])\n",
        "\n",
        "print(\"camera information check\")\n",
        "print(len(camera))\n",
        "\n",
        "for i in location:\n",
        "  locationpath = i.split(\"_\")\n",
        "  locations.append(locationpath[0])\n",
        "\n",
        "\n",
        "print(\"location information check\")\n",
        "print(locations[0:10])\n",
        "print(len(locations))\n",
        "\n",
        "#convert to date time in python\n",
        "\n",
        "\n",
        "dates = []\n",
        "\n",
        "date_format = '%Y:%m:%d %H:%M:%S'\n",
        "for i in timestamps:\n",
        "  date_obj = datetime.strptime(i, date_format)\n",
        "  dates.append(date_obj)\n",
        "\n",
        "print(dates[13000])\n",
        "print(type(dates[13000]))\n"
      ],
      "metadata": {
        "colab": {
          "base_uri": "https://localhost:8080/"
        },
        "id": "uYVhckHMiYTl",
        "outputId": "5b22ae95-a37b-4fd5-f23a-4471c50f8d2d"
      },
      "execution_count": 29,
      "outputs": [
        {
          "output_type": "stream",
          "name": "stdout",
          "text": [
            "/content/drive/Shareddrives/Capstone 2023/Data/MicrosoftSnakeAlgorithmProject/Empty_Images/FL_empty/FF1/IMG_0151.JPG\n",
            "camera information check\n",
            "23275\n",
            "location information check\n",
            "['FL', 'FL', 'FL', 'FL', 'FL', 'FL', 'FL', 'FL', 'FL', 'FL']\n",
            "23275\n",
            "2016-09-08 16:25:00\n",
            "<class 'datetime.datetime'>\n"
          ]
        }
      ]
    },
    {
      "cell_type": "code",
      "source": [
        "df_file_names = pd.DataFrame({'Snake':labels, 'Date':dates, 'location':locations, 'camera':camera, 'Path' : filenames})\n",
        "print(df_file_names.head(3))\n",
        "print(df_file_names.tail(3))\n",
        "\n",
        "\n",
        "df_file_names.sort_values(by='Date', inplace = True)\n",
        "print(df_file_names.head(5))\n",
        "\n",
        "print(\"Group by code\")\n",
        "df_file_names['cumsum_snakes'] = df_file_names.groupby('location')['Snake'].cumsum()\n",
        "print(df_file_names.head(5))\n",
        "\n",
        "print(\"total snakes\")\n",
        "df_file_names['cumsum_snakes_total'] = df_file_names.Snake.cumsum()\n",
        "print(df_file_names.head(5))\n",
        "print(df_file_names.tail(5))"
      ],
      "metadata": {
        "colab": {
          "base_uri": "https://localhost:8080/"
        },
        "id": "K8ERaBEOWwzC",
        "outputId": "a65f2e7d-2020-4e16-dcb7-0b3b4938965c"
      },
      "execution_count": 16,
      "outputs": [
        {
          "output_type": "stream",
          "name": "stdout",
          "text": [
            "   Snake                Date location camera  \\\n",
            "0      0 2018-05-20 15:22:00       FL    FF1   \n",
            "1      0 2018-05-20 15:23:00       FL    FF1   \n",
            "2      0 2018-05-20 15:24:00       FL    FF1   \n",
            "\n",
            "                                                Path  \n",
            "0  /content/drive/Shareddrives/Capstone 2023/Data...  \n",
            "1  /content/drive/Shareddrives/Capstone 2023/Data...  \n",
            "2  /content/drive/Shareddrives/Capstone 2023/Data...  \n",
            "       Snake                Date location camera  \\\n",
            "23272      1 2018-10-26 14:02:00       FL    WI3   \n",
            "23273      1 2018-10-26 14:03:00       FL    WI3   \n",
            "23274      1 2018-10-26 14:04:00       FL    WI3   \n",
            "\n",
            "                                                    Path  \n",
            "23272  /content/drive/Shareddrives/Capstone 2023/Data...  \n",
            "23273  /content/drive/Shareddrives/Capstone 2023/Data...  \n",
            "23274  /content/drive/Shareddrives/Capstone 2023/Data...  \n",
            "       Snake                Date location camera  \\\n",
            "20930      1 2016-03-08 07:36:30      LPS   TSP1   \n",
            "20931      1 2016-03-08 07:37:00      LPS   TSP1   \n",
            "20932      1 2016-03-08 07:37:30      LPS   TSP1   \n",
            "20933      1 2016-03-08 07:38:00      LPS   TSP1   \n",
            "20934      1 2016-03-13 14:46:00      LPS   TSP1   \n",
            "\n",
            "                                                    Path  \n",
            "20930  /content/drive/Shareddrives/Capstone 2023/Data...  \n",
            "20931  /content/drive/Shareddrives/Capstone 2023/Data...  \n",
            "20932  /content/drive/Shareddrives/Capstone 2023/Data...  \n",
            "20933  /content/drive/Shareddrives/Capstone 2023/Data...  \n",
            "20934  /content/drive/Shareddrives/Capstone 2023/Data...  \n",
            "Group by code\n",
            "       Snake                Date location camera  \\\n",
            "20930      1 2016-03-08 07:36:30      LPS   TSP1   \n",
            "20931      1 2016-03-08 07:37:00      LPS   TSP1   \n",
            "20932      1 2016-03-08 07:37:30      LPS   TSP1   \n",
            "20933      1 2016-03-08 07:38:00      LPS   TSP1   \n",
            "20934      1 2016-03-13 14:46:00      LPS   TSP1   \n",
            "\n",
            "                                                    Path  cumsum_snakes  \n",
            "20930  /content/drive/Shareddrives/Capstone 2023/Data...              1  \n",
            "20931  /content/drive/Shareddrives/Capstone 2023/Data...              2  \n",
            "20932  /content/drive/Shareddrives/Capstone 2023/Data...              3  \n",
            "20933  /content/drive/Shareddrives/Capstone 2023/Data...              4  \n",
            "20934  /content/drive/Shareddrives/Capstone 2023/Data...              5  \n",
            "total snakes\n",
            "       Snake                Date location camera  \\\n",
            "20930      1 2016-03-08 07:36:30      LPS   TSP1   \n",
            "20931      1 2016-03-08 07:37:00      LPS   TSP1   \n",
            "20932      1 2016-03-08 07:37:30      LPS   TSP1   \n",
            "20933      1 2016-03-08 07:38:00      LPS   TSP1   \n",
            "20934      1 2016-03-13 14:46:00      LPS   TSP1   \n",
            "\n",
            "                                                    Path  cumsum_snakes  \\\n",
            "20930  /content/drive/Shareddrives/Capstone 2023/Data...              1   \n",
            "20931  /content/drive/Shareddrives/Capstone 2023/Data...              2   \n",
            "20932  /content/drive/Shareddrives/Capstone 2023/Data...              3   \n",
            "20933  /content/drive/Shareddrives/Capstone 2023/Data...              4   \n",
            "20934  /content/drive/Shareddrives/Capstone 2023/Data...              5   \n",
            "\n",
            "       cumsum_snakes_total  \n",
            "20930                    1  \n",
            "20931                    2  \n",
            "20932                    3  \n",
            "20933                    4  \n",
            "20934                    5  \n",
            "       Snake                Date location  camera  \\\n",
            "10577      0 2019-10-13 14:54:00      LPS  APTR12   \n",
            "10578      0 2019-10-13 14:54:30      LPS  APTR12   \n",
            "10579      0 2019-10-13 14:55:00      LPS  APTR12   \n",
            "10580      0 2019-10-13 14:55:30      LPS  APTR12   \n",
            "10581      0 2019-10-13 14:56:00      LPS  APTR12   \n",
            "\n",
            "                                                    Path  cumsum_snakes  \\\n",
            "10577  /content/drive/Shareddrives/Capstone 2023/Data...           2129   \n",
            "10578  /content/drive/Shareddrives/Capstone 2023/Data...           2129   \n",
            "10579  /content/drive/Shareddrives/Capstone 2023/Data...           2129   \n",
            "10580  /content/drive/Shareddrives/Capstone 2023/Data...           2129   \n",
            "10581  /content/drive/Shareddrives/Capstone 2023/Data...           2129   \n",
            "\n",
            "       cumsum_snakes_total  \n",
            "10577                 4203  \n",
            "10578                 4203  \n",
            "10579                 4203  \n",
            "10580                 4203  \n",
            "10581                 4203  \n"
          ]
        }
      ]
    },
    {
      "cell_type": "code",
      "source": [
        "# create basic pandas dataframe\n",
        "df = pd.DataFrame({'Snake':labels, 'Date':dates, 'location':locations, 'camera':camera})\n",
        "print(df.head(10))\n",
        "print(df.tail(10))"
      ],
      "metadata": {
        "colab": {
          "base_uri": "https://localhost:8080/"
        },
        "id": "ZuJc1rvO02hr",
        "outputId": "46a0448d-5cb6-4edf-9283-4e7f34d15e04"
      },
      "execution_count": 13,
      "outputs": [
        {
          "output_type": "stream",
          "name": "stdout",
          "text": [
            "   Snake                Date location camera\n",
            "0      0 2018-05-20 15:22:00       FL    FF1\n",
            "1      0 2018-05-20 15:23:00       FL    FF1\n",
            "2      0 2018-05-20 15:24:00       FL    FF1\n",
            "3      0 2018-05-20 15:25:00       FL    FF1\n",
            "4      0 2018-05-20 15:26:00       FL    FF1\n",
            "5      0 2018-05-20 15:27:00       FL    FF1\n",
            "6      0 2018-05-20 15:28:00       FL    FF1\n",
            "7      0 2018-05-20 15:29:00       FL    FF1\n",
            "8      0 2018-05-20 15:30:00       FL    FF1\n",
            "9      0 2018-05-20 15:31:00       FL    FF1\n",
            "       Snake                Date location camera\n",
            "23265      1 2018-09-04 10:18:00       FL    WF9\n",
            "23266      1 2018-09-06 11:55:00       FL    WF9\n",
            "23267      1 2018-09-06 14:55:00       FL    WF9\n",
            "23268      1 2018-09-09 14:09:00       FL    WF9\n",
            "23269      1 2018-09-09 20:39:00       FL    WF9\n",
            "23270      1 2018-09-09 20:40:00       FL    WF9\n",
            "23271      1 2018-10-09 10:26:00       FL    WF9\n",
            "23272      1 2018-10-26 14:02:00       FL    WI3\n",
            "23273      1 2018-10-26 14:03:00       FL    WI3\n",
            "23274      1 2018-10-26 14:04:00       FL    WI3\n"
          ]
        }
      ]
    },
    {
      "cell_type": "code",
      "source": [
        "## create dataframe with pathfiles for models\n",
        "\n",
        "df_file_names.sort_values(by='Date', inplace = True)\n",
        "print(df.head(5))\n",
        "\n",
        "## have snake count per camera\n",
        "print(\"Group by code\")\n",
        "df_file_names['cumsum_snakes'] = df_file_names.groupby('location')['Snake'].cumsum()\n",
        "print(df.head(5))\n",
        "\n",
        "\n",
        "## have a snake count over all total cameras\n",
        "print(\"total snakes\")\n",
        "df_file_names['cumsum_snakes_total'] = df_file_names.Snake.cumsum()\n",
        "print(df_file_names.head(5))\n",
        "print(df_file_names.tail(5))\n",
        "\n",
        "## save csv with path files\n",
        "path = '/content/drive/Shareddrives/Capstone 2023/Data/Time_Data/cumulative_organized_Data_Path.csv'\n",
        "with open(path, 'w', encoding = 'utf-8-sig') as f:\n",
        "  df_file_names.to_csv(f)"
      ],
      "metadata": {
        "colab": {
          "base_uri": "https://localhost:8080/"
        },
        "id": "_SeEBk2P_gzg",
        "outputId": "862d372c-79e4-4e2b-97b7-c533da20a3d6"
      },
      "execution_count": 18,
      "outputs": [
        {
          "output_type": "stream",
          "name": "stdout",
          "text": [
            "   Snake                Date location camera\n",
            "0      0 2018-05-20 15:22:00       FL    FF1\n",
            "1      0 2018-05-20 15:23:00       FL    FF1\n",
            "2      0 2018-05-20 15:24:00       FL    FF1\n",
            "3      0 2018-05-20 15:25:00       FL    FF1\n",
            "4      0 2018-05-20 15:26:00       FL    FF1\n",
            "Group by code\n",
            "   Snake                Date location camera\n",
            "0      0 2018-05-20 15:22:00       FL    FF1\n",
            "1      0 2018-05-20 15:23:00       FL    FF1\n",
            "2      0 2018-05-20 15:24:00       FL    FF1\n",
            "3      0 2018-05-20 15:25:00       FL    FF1\n",
            "4      0 2018-05-20 15:26:00       FL    FF1\n",
            "total snakes\n",
            "       Snake                Date location camera  \\\n",
            "20930      1 2016-03-08 07:36:30      LPS   TSP1   \n",
            "20931      1 2016-03-08 07:37:00      LPS   TSP1   \n",
            "20932      1 2016-03-08 07:37:30      LPS   TSP1   \n",
            "20933      1 2016-03-08 07:38:00      LPS   TSP1   \n",
            "20934      1 2016-03-13 14:46:00      LPS   TSP1   \n",
            "\n",
            "                                                    Path  cumsum_snakes  \\\n",
            "20930  /content/drive/Shareddrives/Capstone 2023/Data...              1   \n",
            "20931  /content/drive/Shareddrives/Capstone 2023/Data...              2   \n",
            "20932  /content/drive/Shareddrives/Capstone 2023/Data...              3   \n",
            "20933  /content/drive/Shareddrives/Capstone 2023/Data...              4   \n",
            "20934  /content/drive/Shareddrives/Capstone 2023/Data...              5   \n",
            "\n",
            "       cumsum_snakes_total  \n",
            "20930                    1  \n",
            "20931                    2  \n",
            "20932                    3  \n",
            "20933                    4  \n",
            "20934                    5  \n",
            "       Snake                Date location  camera  \\\n",
            "10577      0 2019-10-13 14:54:00      LPS  APTR12   \n",
            "10578      0 2019-10-13 14:54:30      LPS  APTR12   \n",
            "10579      0 2019-10-13 14:55:00      LPS  APTR12   \n",
            "10580      0 2019-10-13 14:55:30      LPS  APTR12   \n",
            "10581      0 2019-10-13 14:56:00      LPS  APTR12   \n",
            "\n",
            "                                                    Path  cumsum_snakes  \\\n",
            "10577  /content/drive/Shareddrives/Capstone 2023/Data...           2129   \n",
            "10578  /content/drive/Shareddrives/Capstone 2023/Data...           2129   \n",
            "10579  /content/drive/Shareddrives/Capstone 2023/Data...           2129   \n",
            "10580  /content/drive/Shareddrives/Capstone 2023/Data...           2129   \n",
            "10581  /content/drive/Shareddrives/Capstone 2023/Data...           2129   \n",
            "\n",
            "       cumsum_snakes_total  \n",
            "10577                 4203  \n",
            "10578                 4203  \n",
            "10579                 4203  \n",
            "10580                 4203  \n",
            "10581                 4203  \n"
          ]
        }
      ]
    },
    {
      "cell_type": "code",
      "source": [
        "\n",
        "df.sort_values(by='Date', inplace = True)\n",
        "print(df.head(5))\n",
        "\n",
        "print(\"Group by code\")\n",
        "df['cumsum_snakes'] = df.groupby('location')['Snake'].cumsum()\n",
        "print(df.head(5))\n",
        "\n",
        "print(\"total snakes\")\n",
        "df['cumsum_snakes_total'] = df.Snake.cumsum()\n",
        "print(df.head(5))\n",
        "print(df.tail(5))\n"
      ],
      "metadata": {
        "colab": {
          "base_uri": "https://localhost:8080/"
        },
        "id": "_pLwyg6YLCIG",
        "outputId": "76237ed4-623b-4151-d51e-5ae7c6b1f362"
      },
      "execution_count": 20,
      "outputs": [
        {
          "output_type": "stream",
          "name": "stdout",
          "text": [
            "       Snake                Date location camera\n",
            "20930      1 2016-03-08 07:36:30      LPS   TSP1\n",
            "20931      1 2016-03-08 07:37:00      LPS   TSP1\n",
            "20932      1 2016-03-08 07:37:30      LPS   TSP1\n",
            "20933      1 2016-03-08 07:38:00      LPS   TSP1\n",
            "20934      1 2016-03-13 14:46:00      LPS   TSP1\n",
            "Group by code\n",
            "       Snake                Date location camera  cumsum_snakes\n",
            "20930      1 2016-03-08 07:36:30      LPS   TSP1              1\n",
            "20931      1 2016-03-08 07:37:00      LPS   TSP1              2\n",
            "20932      1 2016-03-08 07:37:30      LPS   TSP1              3\n",
            "20933      1 2016-03-08 07:38:00      LPS   TSP1              4\n",
            "20934      1 2016-03-13 14:46:00      LPS   TSP1              5\n",
            "total snakes\n",
            "       Snake                Date location camera  cumsum_snakes  \\\n",
            "20930      1 2016-03-08 07:36:30      LPS   TSP1              1   \n",
            "20931      1 2016-03-08 07:37:00      LPS   TSP1              2   \n",
            "20932      1 2016-03-08 07:37:30      LPS   TSP1              3   \n",
            "20933      1 2016-03-08 07:38:00      LPS   TSP1              4   \n",
            "20934      1 2016-03-13 14:46:00      LPS   TSP1              5   \n",
            "\n",
            "       cumsum_snakes_total  \n",
            "20930                    1  \n",
            "20931                    2  \n",
            "20932                    3  \n",
            "20933                    4  \n",
            "20934                    5  \n",
            "       Snake                Date location  camera  cumsum_snakes  \\\n",
            "10577      0 2019-10-13 14:54:00      LPS  APTR12           2129   \n",
            "10578      0 2019-10-13 14:54:30      LPS  APTR12           2129   \n",
            "10579      0 2019-10-13 14:55:00      LPS  APTR12           2129   \n",
            "10580      0 2019-10-13 14:55:30      LPS  APTR12           2129   \n",
            "10581      0 2019-10-13 14:56:00      LPS  APTR12           2129   \n",
            "\n",
            "       cumsum_snakes_total  \n",
            "10577                 4203  \n",
            "10578                 4203  \n",
            "10579                 4203  \n",
            "10580                 4203  \n",
            "10581                 4203  \n"
          ]
        }
      ]
    },
    {
      "cell_type": "code",
      "source": [
        "#create plot of snakes over time\n",
        "sns.set_theme(style=\"whitegrid\", palette=\"pastel\")\n",
        "time_plot = sns.lineplot(\n",
        "    data=df,\n",
        "    x=\"Date\",\n",
        "    y=\"cumsum_snakes\",\n",
        "    hue = \"location\",\n",
        ").set(title = \"Cumulative Sum of Snakes Over Time for Each Location\")\n"
      ],
      "metadata": {
        "colab": {
          "base_uri": "https://localhost:8080/",
          "height": 480
        },
        "id": "I3DNOySnXYcx",
        "outputId": "a39765d7-9b8e-457f-e154-a894896ab0e2"
      },
      "execution_count": 21,
      "outputs": [
        {
          "output_type": "display_data",
          "data": {
            "text/plain": [
              "<Figure size 640x480 with 1 Axes>"
            ],
            "image/png": "[encoded data removed]"
          },
          "metadata": {}
        }
      ]
    },
    {
      "cell_type": "code",
      "source": [
        "sns.set_theme(style=\"whitegrid\", palette=\"pastel\")\n",
        "total_time_plot = sns.lineplot(\n",
        "    data=df,\n",
        "    x=\"Date\", y=\"cumsum_snakes_total\"\n",
        ").set(title = \"Cumulative Sum of Snakes Over Time\")\n",
        "\n",
        "total_time_plot"
      ],
      "metadata": {
        "colab": {
          "base_uri": "https://localhost:8080/",
          "height": 497
        },
        "id": "n4JdUPW-csST",
        "outputId": "a0b4b54b-230d-43a1-c20a-af274c10664d"
      },
      "execution_count": 33,
      "outputs": [
        {
          "output_type": "execute_result",
          "data": {
            "text/plain": [
              "[Text(0.5, 1.0, 'Cumulative Sum of Snakes Over Time')]"
            ]
          },
          "metadata": {},
          "execution_count": 33
        },
        {
          "output_type": "display_data",
          "data": {
            "text/plain": [
              "<Figure size 640x480 with 1 Axes>"
            ],
            "image/png": "[encoded data removed]"
          },
          "metadata": {}
        }
      ]
    },
    {
      "cell_type": "code",
      "source": [
        "# cant save, manually save image"
      ],
      "metadata": {
        "colab": {
          "base_uri": "https://localhost:8080/",
          "height": 235
        },
        "id": "QyR56s_cYdlh",
        "outputId": "cb5600c2-9c73-40e1-8ec7-17e33b4cac43"
      },
      "execution_count": 30,
      "outputs": [
        {
          "output_type": "error",
          "ename": "AttributeError",
          "evalue": "ignored",
          "traceback": [
            "\u001b[0;31m---------------------------------------------------------------------------\u001b[0m",
            "\u001b[0;31mAttributeError\u001b[0m                            Traceback (most recent call last)",
            "\u001b[0;32m<ipython-input-30-3e35bc818624>\u001b[0m in \u001b[0;36m<cell line: 2>\u001b[0;34m()\u001b[0m\n\u001b[1;32m      1\u001b[0m \u001b[0mimagedir\u001b[0m \u001b[0;34m=\u001b[0m \u001b[0;34m'/content/drive/Shareddrives/Capstone 2023/Data/Time_Data/Images'\u001b[0m\u001b[0;34m\u001b[0m\u001b[0;34m\u001b[0m\u001b[0m\n\u001b[0;32m----> 2\u001b[0;31m \u001b[0mtime_plot\u001b[0m\u001b[0;34m.\u001b[0m\u001b[0msavefig\u001b[0m\u001b[0;34m(\u001b[0m\u001b[0;34mf\"{images_dir}/snake_time_plot.png\"\u001b[0m\u001b[0;34m)\u001b[0m\u001b[0;34m\u001b[0m\u001b[0;34m\u001b[0m\u001b[0m\n\u001b[0m\u001b[1;32m      3\u001b[0m \u001b[0;34m\u001b[0m\u001b[0m\n\u001b[1;32m      4\u001b[0m \u001b[0mtotal_time_plot\u001b[0m\u001b[0;34m.\u001b[0m\u001b[0msavefig\u001b[0m\u001b[0;34m(\u001b[0m\u001b[0;34mf\"{images_dir}/total_snake_time_plot.png\"\u001b[0m\u001b[0;34m)\u001b[0m\u001b[0;34m\u001b[0m\u001b[0;34m\u001b[0m\u001b[0m\n",
            "\u001b[0;31mAttributeError\u001b[0m: 'list' object has no attribute 'savefig'"
          ]
        }
      ]
    },
    {
      "cell_type": "code",
      "source": [
        "# extract csv\n",
        "path = '/content/drive/Shareddrives/Capstone 2023/Data/Time_Data/cumulative_organized_Data.csv'\n",
        "with open(path, 'w', encoding = 'utf-8-sig') as f:\n",
        "  df.to_csv(f)"
      ],
      "metadata": {
        "id": "vrbgeeT-7ocZ"
      },
      "execution_count": null,
      "outputs": []
    }
  ]
}