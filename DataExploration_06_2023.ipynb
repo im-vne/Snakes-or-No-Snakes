{
  "nbformat": 4,
  "nbformat_minor": 0,
  "metadata": {
    "colab": {
      "provenance": [],
      "history_visible": true,
      "authorship_tag": "ABX9TyNF7xLAs5BQ1c6yaQty4M9w",
      "include_colab_link": true
    },
    "kernelspec": {
      "name": "python3",
      "display_name": "Python 3"
    },
    "language_info": {
      "name": "python"
    }
  },
  "cells": [
    {
      "cell_type": "markdown",
      "metadata": {
        "id": "view-in-github",
        "colab_type": "text"
      },
      "source": [
        "<a href=\"https://colab.research.google.com/github/im-vne/Snakes-or-No-Snakes/blob/main/DataExploration_06_2023.ipynb\" target=\"_parent\"><img src=\"https://colab.research.google.com/assets/colab-badge.svg\" alt=\"Open In Colab\"/></a>"
      ]
    },
    {
      "cell_type": "code",
      "execution_count": 1,
      "metadata": {
        "colab": {
          "base_uri": "https://localhost:8080/"
        },
        "id": "lTnpFvXczGIg",
        "outputId": "9145613f-7701-422c-cf8a-60f955d13982"
      },
      "outputs": [
        {
          "output_type": "stream",
          "name": "stdout",
          "text": [
            "Mounted at /content/drive\n"
          ]
        }
      ],
      "source": [
        "### To gain authorization to google drive\n",
        "from google.colab import drive\n",
        "drive.mount('/content/drive')"
      ]
    },
    {
      "cell_type": "code",
      "source": [
        "import os # work with system    \n",
        "import cv2 # work with images\n",
        "import numpy as np # arrays and numerical analysis  \n",
        "import matplotlib.pyplot as plt # for data plots\n",
        "from PIL import Image # extract image information\n",
        "import sklearn.linear_model # linear models\n",
        "from sklearn.model_selection import train_test_split # data splitting\n",
        "from sklearn import metrics # model evaluation\n",
        "import tensorflow.keras as keras\n",
        "import tensorflow as tf\n",
        "from tensorflow.keras import datasets, layers, models\n",
        "import random # for random sampling \n",
        "import pathlib\n",
        "import datetime\n",
        "import time\n",
        "import platform\n",
        "import pandas as pd\n",
        "import seaborn as sns\n"
      ],
      "metadata": {
        "id": "jqITrMl90o6E"
      },
      "execution_count": 2,
      "outputs": []
    },
    {
      "cell_type": "code",
      "source": [
        "# check current wd\n",
        "os.getcwd()\n",
        "# set working directory in data folder\n",
        "os.chdir(\"drive/Shareddrives/Capstone 2023/Data/MicrosoftSnakeAlgorithmProject\")"
      ],
      "metadata": {
        "id": "L_GJtPWj5TP7"
      },
      "execution_count": 3,
      "outputs": []
    },
    {
      "cell_type": "code",
      "source": [
        "# import the necessary packages\n",
        "class LocalBinaryPatterns:\n",
        "\tdef __init__(self, numPoints, radius):\n",
        "\t\t# store the number of points and radius\n",
        "\t\tself.numPoints = numPoints\n",
        "\t\tself.radius = radius\n",
        "\tdef describe(self, image, eps=1e-7):\n",
        "\t\t# compute the Local Binary Pattern representation\n",
        "\t\t# of the image, and then use the LBP representation\n",
        "\t\t# to build the histogram of patterns\n",
        "\t\tlbp = feature.local_binary_pattern(image, self.numPoints,\n",
        "\t\t\tself.radius, method=\"uniform\")\n",
        "\t\t(hist, _) = np.histogram(lbp.ravel(),\n",
        "\t\t\tbins=np.arange(0, self.numPoints + 3),\n",
        "\t\t\trange=(0, self.numPoints + 2))\n",
        "\t\t# normalize the histogram\n",
        "\t\thist = hist.astype(\"float\")\n",
        "\t\thist /= (hist.sum() + eps)\n",
        "\t\t# return the histogram of Local Binary Patterns\n",
        "\t\treturn hist, lbp"
      ],
      "metadata": {
        "id": "17MTo3W601Md"
      },
      "execution_count": 16,
      "outputs": []
    },
    {
      "cell_type": "code",
      "source": [
        "counter = 0 # if desired to break loop\n",
        "# labels and filenames should match since they are appended in order\n",
        "\n",
        "filenames = []\n",
        "labels = []\n",
        "# walk through all directories and files in current working directory\n",
        "for root, dir, files in os.walk(os.getcwd()):\n",
        "    \n",
        "    for jpg in files:\n",
        "        # if jpg file, then keep filename\n",
        "        if \".JPG\" in jpg:\n",
        "            filenames.append(os.path.join(root, jpg))\n",
        "            # for image files, create label based on path: 0 means empty, 1 means snake\n",
        "            if \"Empty\" in root:\n",
        "                labels.append(0)\n",
        "            else:\n",
        "                labels.append(1)\n",
        "\n",
        "    counter += 1\n",
        "    # if counter > 100: break\n",
        "\n",
        "# save path for faulty image\n",
        "faulty_image = '/content/drive/Shareddrives/Capstone 2023/Data/MicrosoftSnakeAlgorithmProject/Snake_Images/FL_Snakes/WF8/IMG_7087.JPG'\n",
        "\n",
        "\n",
        "# check lengths of vectors\n",
        "#print(len(labels))\n",
        "#print(len(filenames))\n",
        "\n",
        "# delete faulty index and its corresponding label\n",
        "if faulty_image in filenames: \n",
        "  index = filenames.index(faulty_image)\n",
        "  print(index)\n",
        "  print(filenames[index])\n",
        "  print(labels[index])\n",
        "  del filenames[index]\n",
        "  del labels[index]\n",
        "  \n",
        "# check and make sure only one as deleted\n",
        "print(len(filenames))\n",
        "print(len(labels))\n",
        "\n",
        "# initialize image path \n",
        "images = [] \n",
        "counter2 = 0\n",
        "\n",
        "# initialize timestamp \n",
        "timestamps = []\n",
        "# gray scale (each is a 2d array)\n",
        "#for img in filenames:\n",
        "#    images.append(cv2.imread(img, cv2.IMREAD_GRAYSCALE))\n",
        "#    counter2 += 1\n",
        "    # if counter2 > 100: break"
      ],
      "metadata": {
        "colab": {
          "base_uri": "https://localhost:8080/"
        },
        "id": "dSTFFRPi-BFT",
        "outputId": "6124d4e2-993f-4347-bc36-3b878c7ee475"
      },
      "execution_count": 27,
      "outputs": [
        {
          "output_type": "stream",
          "name": "stdout",
          "text": [
            "23021\n",
            "/content/drive/Shareddrives/Capstone 2023/Data/MicrosoftSnakeAlgorithmProject/Snake_Images/FL_Snakes/WF8/IMG_7087.JPG\n",
            "1\n",
            "23275\n",
            "23275\n"
          ]
        }
      ]
    },
    {
      "cell_type": "code",
      "source": [
        "#if you ran this once, make sure to make the timestamp vector empty or else it will keep adding past 23000 ish\n",
        "timestamps = []\n",
        "\n",
        "# takes timestamp from every image file (23275)\n",
        "for img in filenames:\n",
        "  image = Image.open(img)\n",
        "  exif = image.getexif() # get meta data\n",
        "  time = exif[306] # 306 is for the specific index for original image time\n",
        "  timestamps.append(time) # save the times into a vector\n",
        "\n",
        "#to check length and number of vectors\n",
        "print(timestamps[1])\n",
        "#print(timestamps[20])\n",
        "print(labels[1])\n",
        "#print(labels[20])\n",
        "print(len(labels))\n",
        "print(len(timestamps))\n",
        "\n",
        "\n",
        "  "
      ],
      "metadata": {
        "id": "s_sM3RRK013M"
      },
      "execution_count": null,
      "outputs": []
    },
    {
      "cell_type": "code",
      "source": [
        "## plot times in which there were snakes cumulative ig?\n",
        "#df = pd.DataFrame({'Snake Presence':labels, 'Date':timestamps})\n",
        "\n",
        "#sns.lineplot(x = \"Date\", y = \"Snake Presence\", data = df)"
      ],
      "metadata": {
        "id": "ZuJc1rvO02hr"
      },
      "execution_count": 28,
      "outputs": []
    },
    {
      "cell_type": "code",
      "source": [],
      "metadata": {
        "id": "vrbgeeT-7ocZ"
      },
      "execution_count": 21,
      "outputs": []
    }
  ]
}