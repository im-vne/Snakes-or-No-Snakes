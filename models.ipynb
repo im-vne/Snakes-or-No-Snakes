{
  "cells": [
    {
      "cell_type": "markdown",
      "metadata": {
        "id": "qNvBBBhXQzi3"
      },
      "source": [
        "# Model building and evaluation\n",
        "\n",
        "This notebook contains only data processing and models, for exploratory data analysis see the data_exploration notebook"
      ]
    },
    {
      "cell_type": "code",
      "execution_count": 1,
      "metadata": {
        "colab": {
          "base_uri": "https://localhost:8080/"
        },
        "id": "lIyROfMHQ8HS",
        "outputId": "c7dc9974-c54b-46cf-e247-619ea11d1c56"
      },
      "outputs": [
        {
          "output_type": "stream",
          "name": "stdout",
          "text": [
            "Mounted at /content/drive/\n"
          ]
        }
      ],
      "source": [
        "from google.colab import drive\n",
        "drive.mount('/content/drive/') "
      ]
    },
    {
      "cell_type": "code",
      "execution_count": 2,
      "metadata": {
        "id": "-PIXpkD_W4Uu"
      },
      "outputs": [],
      "source": [
        "import os # work with system    \n",
        "import cv2 # work with images\n",
        "import numpy as np # arrays and numerical analysis  \n",
        "import matplotlib.pyplot as plt # for data plots\n",
        "\n",
        "import sklearn.linear_model # linear models\n",
        "from sklearn.model_selection import train_test_split # data splitting\n",
        "from sklearn import metrics # model evaluation\n",
        "import tensorflow.keras as keras\n",
        "import tensorflow as tf\n",
        "from tensorflow.keras import datasets, layers, models\n",
        "import random # for random sampling \n",
        "\n",
        "### set working directory in data folder\n",
        "os.chdir(\"drive/Shareddrives/Capstone 2023/Data/MicrosoftSnakeAlgorithmProject\")"
      ]
    },
    {
      "cell_type": "code",
      "source": [
        "tf.config.list_physical_devices('GPU')"
      ],
      "metadata": {
        "colab": {
          "base_uri": "https://localhost:8080/"
        },
        "id": "HcCLIxzcvdzC",
        "outputId": "2f447903-f2a0-4efc-dc36-7c09b50cc281"
      },
      "execution_count": null,
      "outputs": [
        {
          "output_type": "execute_result",
          "data": {
            "text/plain": [
              "[PhysicalDevice(name='/physical_device:GPU:0', device_type='GPU')]"
            ]
          },
          "metadata": {},
          "execution_count": 4
        }
      ]
    },
    {
      "cell_type": "code",
      "source": [
        "!nvidia-smi"
      ],
      "metadata": {
        "id": "IaiRHPE4wF3q"
      },
      "execution_count": null,
      "outputs": []
    },
    {
      "cell_type": "code",
      "execution_count": 32,
      "metadata": {
        "colab": {
          "base_uri": "https://localhost:8080/"
        },
        "id": "n9EvY-CVKVb2",
        "outputId": "3684e2a4-de20-4d1d-a22d-5ac9b110f00b"
      },
      "outputs": [
        {
          "output_type": "stream",
          "name": "stdout",
          "text": [
            "MicrosoftSnakeAlgorithmProject/Snake_Images/FL_Snakes/WF8/IMG_7087.JPG\n",
            "23275\n"
          ]
        }
      ],
      "source": [
        "# estimated runtime: 45 seconds\n",
        "counter = 0 # if desired to break loop\n",
        "\n",
        "# labels and filenames should match since they are appended in order\n",
        "filenames = []\n",
        "labels = []\n",
        "\n",
        "# one image does not open properly\n",
        "empty_img = \"MicrosoftSnakeAlgorithmProject/Snake_Images/FL_Snakes/WF8/IMG_7087.JPG\"\n",
        "# walk through all directories and files in current working directory\n",
        "for root, dir, files in os.walk(os.getcwd()):\n",
        "    \n",
        "    for jpg in files:\n",
        "        if empty_img in os.path.join(root, jpg):\n",
        "          print(empty_img)\n",
        "          continue\n",
        "\n",
        "        # if jpg file, then keep filename\n",
        "        if \".JPG\" in jpg:\n",
        "            filenames.append(os.path.join(root, jpg))\n",
        "\n",
        "        if \"Empty\" in root:\n",
        "          labels.append(0)\n",
        "        elif \"Snake_Images\" in root:\n",
        "          labels.append(1)\n",
        "            \n",
        "    counter += 1\n",
        "    # if counter > 10000: break\n",
        "\n",
        "filenames_arr = np.array(filenames)\n",
        "labels_arr = np.array(labels)\n",
        "  \n",
        "print(len(filenames))"
      ]
    },
    {
      "cell_type": "code",
      "execution_count": 4,
      "metadata": {
        "id": "gAO-Ih3qzYfc"
      },
      "outputs": [],
      "source": [
        "def resample_classes(files, labels, seed = 1):\n",
        "\n",
        "  '''\n",
        "  files and labels should both be np arrays\n",
        "  '''\n",
        "\n",
        "  # set seed for reproducibility (and possibly error computation)\n",
        "  random.seed(seed)\n",
        "  # get number of minority class (snakes)\n",
        "  n_minority = np.where(labels == 1)[0].shape[0]\n",
        "\n",
        "  # sample from indices corresponding to empty images\n",
        "  # downsample_idx should have as many indices as there are snake images\n",
        "  downsample_idx = np.array(random.sample(list(np.where(labels == 0)[0]), n_minority))\n",
        "  # final indices should have snakes and downsampled empties\n",
        "  out_index = np.concatenate((np.where(labels == 1)[0], downsample_idx))\n",
        "\n",
        "  # subset to resampled data - classes now balanced\n",
        "  filenames_resampled = files[out_index]\n",
        "  labels_resampled = labels[out_index]\n",
        "\n",
        "  print(f'total samples: {out_index.shape[0]}')\n",
        "  print(f'empty samples: {downsample_idx.shape[0]}')\n",
        "  print(f'snake samples: {n_minority}')\n",
        "\n",
        "  return filenames_resampled, labels_resampled"
      ]
    },
    {
      "cell_type": "code",
      "execution_count": 5,
      "metadata": {
        "id": "2eEtUMuYu_09"
      },
      "outputs": [],
      "source": [
        "def split_data(files, labels, seed = 27, train = 0.8, test = 0.15):\n",
        "\n",
        "  '''\n",
        "  files and labels should both be np arrays\n",
        "  '''\n",
        "\n",
        "  # split data: train is 1-test_size and test is test_size*leftover\n",
        "  # must stratify to ensure roughly equal splits in train, val, test\n",
        "  # train and test specified, val is 1 - (train + test)\n",
        "  x_train, x_test, y_train, y_test = train_test_split(\n",
        "      files, labels, test_size = 1-train, stratify = labels, shuffle = True, random_state = seed)\n",
        "  x_val, x_test, y_val, y_test = train_test_split(\n",
        "      x_test, y_test, test_size = test/(1-train), stratify = y_test, shuffle = True, random_state = seed)\n",
        "  \n",
        "  print(f'train: {x_train.shape[0]} ({x_train.shape[0]/labels.shape[0]*100:.2f}%)')\n",
        "  print(f'train: {x_val.shape[0]} ({x_val.shape[0]/labels.shape[0]*100:.2f}%)')\n",
        "  print(f'train: {x_test.shape[0]} ({x_test.shape[0]/labels.shape[0]*100:.2f}%)')\n",
        "\n",
        "  return x_train, y_train, x_val, y_val, x_test, y_test"
      ]
    },
    {
      "cell_type": "code",
      "execution_count": 6,
      "metadata": {
        "id": "6YkWuF12xLP7"
      },
      "outputs": [],
      "source": [
        "class data_generator(keras.utils.Sequence) :\n",
        "  \n",
        "  def __init__(self, image_filenames, labels, batch_size) :\n",
        "    self.image_filenames = image_filenames\n",
        "    self.labels = labels\n",
        "    self.batch_size = batch_size\n",
        "    print(self.image_filenames[0])\n",
        "    \n",
        "  def __len__(self) :\n",
        "    return (np.ceil(len(self.image_filenames) / float(self.batch_size))).astype(int)\n",
        "  \n",
        "  def __getitem__(self, idx) :\n",
        "    batch_x = self.image_filenames[idx * self.batch_size : (idx+1) * self.batch_size]\n",
        "    batch_y = self.labels[idx * self.batch_size : (idx+1) * self.batch_size]\n",
        "    \n",
        "    # read in as grayscale, resize to standard aspect ratio\n",
        "    x_list = [cv2.resize(cv2.imread(file_name, cv2.IMREAD_GRAYSCALE), (512, 384), interpolation = cv2.INTER_NEAREST) for file_name in batch_x]\n",
        "    # convert to array, scale, and reshape for model\n",
        "    x_arr = np.array(x_list)\n",
        "    x_arr_reshaped = x_arr.reshape([x_arr.shape[0], x_arr.shape[1], x_arr.shape[2], 1])\n",
        "    y_arr = np.array(batch_y)\n",
        "    y_arr_reshaped = y_arr.reshape([x_arr_reshaped.shape[0], 1])\n",
        "\n",
        "    return x_arr_reshaped, y_arr_reshaped"
      ]
    },
    {
      "cell_type": "code",
      "execution_count": 7,
      "metadata": {
        "id": "wn6p728ewZ7-"
      },
      "outputs": [],
      "source": [
        "def create_generators(x_train, y_train, x_val, y_val, x_test, y_test, batch_size = 32):\n",
        "\n",
        "  train_generator = data_generator(x_train, y_train, batch_size)\n",
        "  validation_generator = data_generator(x_val, y_val, batch_size)\n",
        "  test_generator = data_generator(x_test, y_test, batch_size)  \n",
        "\n",
        "  return train_generator, validation_generator, test_generator\n"
      ]
    },
    {
      "cell_type": "code",
      "source": [
        "def count_split(data): # much better would be to count 0 and 1 in y_* \n",
        "\n",
        "  data = list(data)\n",
        "  snake = [x for x in data if \"Snake_Images\" in x]\n",
        "  empty = [x for x in data if \"Empty\" in x]\n",
        "\n",
        "  print(f'total: {len(data)}')\n",
        "  print(f'snake: {len(snake)} ({len(snake)/len(data)*100:.2f}%)')\n",
        "  print(f'empty: {len(empty)} ({len(empty)/len(data)*100:.2f}%)')"
      ],
      "metadata": {
        "id": "nvYr1w73QYDC"
      },
      "execution_count": 36,
      "outputs": []
    },
    {
      "cell_type": "code",
      "execution_count": 40,
      "metadata": {
        "colab": {
          "base_uri": "https://localhost:8080/"
        },
        "id": "NTvGroJoJPhA",
        "outputId": "563d6b0e-948e-466f-be6a-dfb1e3554f95"
      },
      "outputs": [
        {
          "output_type": "stream",
          "name": "stdout",
          "text": [
            "total samples: 8406\n",
            "empty samples: 4203\n",
            "snake samples: 4203\n",
            "train: 6724 (79.99%)\n",
            "train: 420 (5.00%)\n",
            "train: 1262 (15.01%)\n",
            "\n",
            "total: 6724\n",
            "snake: 3362 (50.00%)\n",
            "empty: 3362 (50.00%)\n",
            "total: 420\n",
            "snake: 210 (50.00%)\n",
            "empty: 210 (50.00%)\n",
            "total: 1262\n",
            "snake: 631 (50.00%)\n",
            "empty: 631 (50.00%)\n",
            "\n",
            "/content/drive/Shareddrives/Capstone 2023/Data/MicrosoftSnakeAlgorithmProject/Snake_Images/FL_Snakes/WF13/IMG_1756.JPG\n",
            "/content/drive/Shareddrives/Capstone 2023/Data/MicrosoftSnakeAlgorithmProject/Empty_Images/FL_empty/WF9/IMG_5731.JPG\n",
            "/content/drive/Shareddrives/Capstone 2023/Data/MicrosoftSnakeAlgorithmProject/Empty_Images/LPS_empty/SSF7/IMG_2918.JPG\n"
          ]
        }
      ],
      "source": [
        "seed = 1\n",
        "batch_size = 32\n",
        "\n",
        "filenames_resampled, labels_resampled = resample_classes(filenames_arr, labels_arr, seed = seed)\n",
        "x_train, y_train, x_val, y_val, x_test, y_test = split_data(filenames_resampled, labels_resampled, train = 0.8, test = 0.15)\n",
        "\n",
        "print()\n",
        "count_split(x_train)\n",
        "count_split(x_val)\n",
        "count_split(x_test)\n",
        "print()\n",
        "\n",
        "train_generator, validation_generator, test_generator = create_generators(x_train, y_train, x_val, y_val, x_test, y_test, batch_size = batch_size)"
      ]
    },
    {
      "cell_type": "code",
      "source": [
        "print(filenames_resampled[-5:])\n",
        "print(labels_resampled[-5:])"
      ],
      "metadata": {
        "colab": {
          "base_uri": "https://localhost:8080/"
        },
        "id": "R5DqPXGXlYRn",
        "outputId": "965e9d31-3597-4167-ba0e-93a97b5b7f07"
      },
      "execution_count": null,
      "outputs": [
        {
          "output_type": "stream",
          "name": "stdout",
          "text": [
            "['/content/drive/Shareddrives/Capstone 2023/Data/MicrosoftSnakeAlgorithmProject/Empty_Images/LPS_empty/APTR9/IMG_6957.JPG'\n",
            " '/content/drive/Shareddrives/Capstone 2023/Data/MicrosoftSnakeAlgorithmProject/Empty_Images/FL_empty/WF11/IMG_7852.JPG'\n",
            " '/content/drive/Shareddrives/Capstone 2023/Data/MicrosoftSnakeAlgorithmProject/Empty_Images/LPS_empty/WPH10/IMG_1720.JPG'\n",
            " '/content/drive/Shareddrives/Capstone 2023/Data/MicrosoftSnakeAlgorithmProject/Empty_Images/LPS_empty/KSF11/IMG_0531.JPG'\n",
            " '/content/drive/Shareddrives/Capstone 2023/Data/MicrosoftSnakeAlgorithmProject/Empty_Images/LPS_empty/SRS20/IMG_7646.JPG']\n",
            "[0 0 0 0 0]\n"
          ]
        }
      ]
    },
    {
      "cell_type": "code",
      "source": [
        "overlap = [x for x in x_test if x in x_train]\n",
        "overlap"
      ],
      "metadata": {
        "colab": {
          "base_uri": "https://localhost:8080/"
        },
        "id": "UfH4e3VDdJ9C",
        "outputId": "f1077f86-ebad-4d18-c86f-86641b200d2d"
      },
      "execution_count": null,
      "outputs": [
        {
          "output_type": "execute_result",
          "data": {
            "text/plain": [
              "[]"
            ]
          },
          "metadata": {},
          "execution_count": 21
        }
      ]
    },
    {
      "cell_type": "code",
      "source": [
        "print(x_train[0:31])\n",
        "print(y_train[0:31])"
      ],
      "metadata": {
        "colab": {
          "base_uri": "https://localhost:8080/"
        },
        "id": "4PDwsoR8lpGV",
        "outputId": "572fbeb9-d2a7-47be-862a-f0206527fc4c"
      },
      "execution_count": null,
      "outputs": [
        {
          "output_type": "stream",
          "name": "stdout",
          "text": [
            "['/content/drive/Shareddrives/Capstone 2023/Data/MicrosoftSnakeAlgorithmProject/Snake_Images/FL_Snakes/WF13/IMG_1756.JPG'\n",
            " '/content/drive/Shareddrives/Capstone 2023/Data/MicrosoftSnakeAlgorithmProject/Empty_Images/LPS_empty/SSF7/IMG_3128.JPG'\n",
            " '/content/drive/Shareddrives/Capstone 2023/Data/MicrosoftSnakeAlgorithmProject/Snake_Images/LPS_Snakes/San22/IMG_0343.JPG'\n",
            " '/content/drive/Shareddrives/Capstone 2023/Data/MicrosoftSnakeAlgorithmProject/Empty_Images/LPS_empty/KSF12/IMG_0196.JPG'\n",
            " '/content/drive/Shareddrives/Capstone 2023/Data/MicrosoftSnakeAlgorithmProject/Snake_Images/FL_Snakes/WF5/IMG_2950.JPG'\n",
            " '/content/drive/Shareddrives/Capstone 2023/Data/MicrosoftSnakeAlgorithmProject/Empty_Images/FL_empty/WF2/IMG_4813.JPG'\n",
            " '/content/drive/Shareddrives/Capstone 2023/Data/MicrosoftSnakeAlgorithmProject/Snake_Images/LPS_Snakes/SRS17/IMG_1382.JPG'\n",
            " '/content/drive/Shareddrives/Capstone 2023/Data/MicrosoftSnakeAlgorithmProject/Empty_Images/FL_empty/WF6/IMG_0823.JPG'\n",
            " '/content/drive/Shareddrives/Capstone 2023/Data/MicrosoftSnakeAlgorithmProject/Empty_Images/FL_empty/WF14/IMG_6364.JPG'\n",
            " '/content/drive/Shareddrives/Capstone 2023/Data/MicrosoftSnakeAlgorithmProject/Snake_Images/LPS_Snakes/TSP1/IMG_0347.JPG'\n",
            " '/content/drive/Shareddrives/Capstone 2023/Data/MicrosoftSnakeAlgorithmProject/Empty_Images/LPS_empty/Han2/IMG_8175.JPG'\n",
            " '/content/drive/Shareddrives/Capstone 2023/Data/MicrosoftSnakeAlgorithmProject/Empty_Images/LPS_empty/San22/IMG_3593.JPG'\n",
            " '/content/drive/Shareddrives/Capstone 2023/Data/MicrosoftSnakeAlgorithmProject/Empty_Images/FL_empty/RF9/IMG_2070.JPG'\n",
            " '/content/drive/Shareddrives/Capstone 2023/Data/MicrosoftSnakeAlgorithmProject/Snake_Images/LPS_Snakes/APTR4/APTR 4_4_100_IMG_7449.JPG'\n",
            " '/content/drive/Shareddrives/Capstone 2023/Data/MicrosoftSnakeAlgorithmProject/Empty_Images/FL_empty/RF12/IMG_1540.JPG'\n",
            " '/content/drive/Shareddrives/Capstone 2023/Data/MicrosoftSnakeAlgorithmProject/Snake_Images/FL_Snakes/WF5/IMG_2267.JPG'\n",
            " '/content/drive/Shareddrives/Capstone 2023/Data/MicrosoftSnakeAlgorithmProject/Empty_Images/FL_empty/WF7/IMG_0336.JPG'\n",
            " '/content/drive/Shareddrives/Capstone 2023/Data/MicrosoftSnakeAlgorithmProject/Snake_Images/LPS_Snakes/TSP1/IMG_5019.JPG'\n",
            " '/content/drive/Shareddrives/Capstone 2023/Data/MicrosoftSnakeAlgorithmProject/Snake_Images/LPS_Snakes/APTR12/APTR 12_2_103_IMG_8800.JPG'\n",
            " '/content/drive/Shareddrives/Capstone 2023/Data/MicrosoftSnakeAlgorithmProject/Snake_Images/FL_Snakes/WF2/IMG_3113.JPG'\n",
            " '/content/drive/Shareddrives/Capstone 2023/Data/MicrosoftSnakeAlgorithmProject/Snake_Images/FL_Snakes/RF9/IMG_2599.JPG'\n",
            " '/content/drive/Shareddrives/Capstone 2023/Data/MicrosoftSnakeAlgorithmProject/Snake_Images/LPS_Snakes/WPH10/IMG_6005.JPG'\n",
            " '/content/drive/Shareddrives/Capstone 2023/Data/MicrosoftSnakeAlgorithmProject/Empty_Images/FL_empty/WF6/IMG_0771.JPG'\n",
            " '/content/drive/Shareddrives/Capstone 2023/Data/MicrosoftSnakeAlgorithmProject/Snake_Images/LPS_Snakes/SRS18/IMG_7427.JPG'\n",
            " '/content/drive/Shareddrives/Capstone 2023/Data/MicrosoftSnakeAlgorithmProject/Empty_Images/FL_empty/RF4/IMG_3279.JPG'\n",
            " '/content/drive/Shareddrives/Capstone 2023/Data/MicrosoftSnakeAlgorithmProject/Snake_Images/LPS_Snakes/APTR12/APTR 12_3_102_IMG_4611.JPG'\n",
            " '/content/drive/Shareddrives/Capstone 2023/Data/MicrosoftSnakeAlgorithmProject/Snake_Images/FL_Snakes/WF13/IMG_6623.JPG'\n",
            " '/content/drive/Shareddrives/Capstone 2023/Data/MicrosoftSnakeAlgorithmProject/Snake_Images/FL_Snakes/WF5/IMG_2569.JPG'\n",
            " '/content/drive/Shareddrives/Capstone 2023/Data/MicrosoftSnakeAlgorithmProject/Snake_Images/FL_Snakes/WF2/IMG_5550.JPG'\n",
            " '/content/drive/Shareddrives/Capstone 2023/Data/MicrosoftSnakeAlgorithmProject/Empty_Images/LPS_empty/APTR4/IMG_4326.JPG'\n",
            " '/content/drive/Shareddrives/Capstone 2023/Data/MicrosoftSnakeAlgorithmProject/Empty_Images/FL_empty/WF8/IMG_3896.JPG']\n",
            "[1 0 1 0 1 0 1 0 0 1 0 0 0 1 0 1 0 1 1 1 1 1 0 1 0 1 1 1 1 0 0]\n"
          ]
        }
      ]
    },
    {
      "cell_type": "code",
      "source": [
        "# count = 0\n",
        "# for x, y in train_generator:\n",
        "#   print(np.min(x))\n",
        "#   print()\n",
        "#   print(y)\n",
        "\n",
        "#   count += 1\n",
        "#   if count >= 1: break"
      ],
      "metadata": {
        "id": "NyOzuxgweXtj"
      },
      "execution_count": null,
      "outputs": []
    },
    {
      "cell_type": "markdown",
      "metadata": {
        "id": "3RFAPQerxj5d"
      },
      "source": [
        "## CNN"
      ]
    },
    {
      "cell_type": "code",
      "execution_count": null,
      "metadata": {
        "id": "I2rsHpz40FMw"
      },
      "outputs": [],
      "source": [
        "# create model \n",
        "def build_model():\n",
        "\n",
        "    model = models.Sequential()\n",
        "    model.add(layers.Conv2D(16, (3, 3), activation='relu', input_shape=(384, 512, 1)))\n",
        "    model.add(layers.MaxPooling2D((2, 2)))\n",
        "    model.add(layers.Conv2D(32, (3, 3), activation='relu'))\n",
        "    model.add(layers.MaxPooling2D((2, 2)))\n",
        "    model.add(layers.Conv2D(64, (3, 3), activation='relu'))\n",
        "    model.add(layers.MaxPooling2D((2, 2)))\n",
        "\n",
        "    model.add(layers.Flatten())\n",
        "    model.add(layers.Dense(128, activation='relu'))\n",
        "    model.add(layers.Dense(1, activation = 'sigmoid'))\n",
        "\n",
        "    # implement learning rate decay in Adam optimizer\n",
        "    # lr_schedule = keras.optimizers.schedules.ExponentialDecay(\n",
        "    #     initial_learning_rate=1e-2,\n",
        "    #     decay_steps=10000,\n",
        "    #     decay_rate=0.9)\n",
        "    # optimizer = keras.optimizers.Adam(learning_rate=lr_schedule)\n",
        "\n",
        "    # compile model with desired features\n",
        "    model.compile(\n",
        "        optimizer = \"adam\", loss = \"binary_crossentropy\",\n",
        "        metrics=['accuracy']\n",
        "    )\n",
        "\n",
        "    return model"
      ]
    },
    {
      "cell_type": "code",
      "execution_count": null,
      "metadata": {
        "id": "2TeCVESl0Kou"
      },
      "outputs": [],
      "source": [
        "# build the model\n",
        "cnn_model = build_model()"
      ]
    },
    {
      "cell_type": "code",
      "execution_count": null,
      "metadata": {
        "colab": {
          "base_uri": "https://localhost:8080/"
        },
        "id": "cqn7xDxKUkEg",
        "outputId": "d6f6b44e-97f4-4d91-fb7d-4f08d093d78b"
      },
      "outputs": [
        {
          "output_type": "stream",
          "name": "stdout",
          "text": [
            "Model: \"sequential\"\n",
            "_________________________________________________________________\n",
            " Layer (type)                Output Shape              Param #   \n",
            "=================================================================\n",
            " conv2d (Conv2D)             (None, 382, 510, 16)      160       \n",
            "                                                                 \n",
            " max_pooling2d (MaxPooling2D  (None, 191, 255, 16)     0         \n",
            " )                                                               \n",
            "                                                                 \n",
            " conv2d_1 (Conv2D)           (None, 189, 253, 32)      4640      \n",
            "                                                                 \n",
            " max_pooling2d_1 (MaxPooling  (None, 94, 126, 32)      0         \n",
            " 2D)                                                             \n",
            "                                                                 \n",
            " conv2d_2 (Conv2D)           (None, 92, 124, 64)       18496     \n",
            "                                                                 \n",
            " max_pooling2d_2 (MaxPooling  (None, 46, 62, 64)       0         \n",
            " 2D)                                                             \n",
            "                                                                 \n",
            " flatten (Flatten)           (None, 182528)            0         \n",
            "                                                                 \n",
            " dense (Dense)               (None, 128)               23363712  \n",
            "                                                                 \n",
            " dense_1 (Dense)             (None, 1)                 129       \n",
            "                                                                 \n",
            "=================================================================\n",
            "Total params: 23,387,137\n",
            "Trainable params: 23,387,137\n",
            "Non-trainable params: 0\n",
            "_________________________________________________________________\n"
          ]
        }
      ],
      "source": [
        "# view model architecture\n",
        "cnn_model.summary()"
      ]
    },
    {
      "cell_type": "code",
      "execution_count": null,
      "metadata": {
        "colab": {
          "base_uri": "https://localhost:8080/"
        },
        "id": "7n3LFWNX0oJ2",
        "outputId": "f4c2cf8f-b26d-48b6-bc39-f4e7ba3a82a7"
      },
      "outputs": [
        {
          "output_type": "stream",
          "name": "stdout",
          "text": [
            "Epoch 1/3\n",
            "210/210 [==============================] - 4514s 21s/step - loss: 12.8495 - accuracy: 0.8721 - val_loss: 0.0882 - val_accuracy: 0.9615\n",
            "Epoch 2/3\n",
            "210/210 [==============================] - 1642s 8s/step - loss: 0.1305 - accuracy: 0.9619 - val_loss: 0.1417 - val_accuracy: 0.9519\n",
            "Epoch 3/3\n",
            "210/210 [==============================] - 1645s 8s/step - loss: 0.0228 - accuracy: 0.9951 - val_loss: 0.0372 - val_accuracy: 0.9880\n"
          ]
        }
      ],
      "source": [
        "cnn_fit = cnn_model.fit(\n",
        "    train_generator,\n",
        "    steps_per_epoch = int(x_train.shape[0] // batch_size),\n",
        "    # steps_per_epoch = 10,\n",
        "    epochs = 3,\n",
        "    verbose = 1,\n",
        "    validation_data = validation_generator,\n",
        "    validation_steps = int(x_val.shape[0] // batch_size)\n",
        "    # validation_steps = 3\n",
        ")"
      ]
    },
    {
      "cell_type": "code",
      "source": [
        "# can load saved (see google sheet for model descriptions)\n",
        "cnn_model = tf.keras.models.load_model(\"../Snakes-or-No-Snakes/cnn_balanced_seed1_3e\")"
      ],
      "metadata": {
        "id": "sSB1fDxa0qMV"
      },
      "execution_count": null,
      "outputs": []
    },
    {
      "cell_type": "code",
      "execution_count": null,
      "metadata": {
        "id": "tkw76jZoDjyN",
        "colab": {
          "base_uri": "https://localhost:8080/"
        },
        "outputId": "e6155f11-0e87-4b7b-c548-d600680d1b24"
      },
      "outputs": [
        {
          "output_type": "stream",
          "name": "stdout",
          "text": [
            "40/40 [==============================] - 890s 23s/step\n"
          ]
        }
      ],
      "source": [
        "model_predict = cnn_model.predict(\n",
        "    test_generator,\n",
        ")"
      ]
    },
    {
      "cell_type": "code",
      "execution_count": null,
      "metadata": {
        "id": "DHhm9V2j78V0",
        "colab": {
          "base_uri": "https://localhost:8080/"
        },
        "outputId": "8dded255-a061-4c85-b8d0-c846388a833e"
      },
      "outputs": [
        {
          "output_type": "stream",
          "name": "stdout",
          "text": [
            "(1262,)\n"
          ]
        }
      ],
      "source": [
        "# get class predictions\n",
        "predictions_cnn = model_predict > 0.5\n",
        "predictions_cnn = predictions_cnn.reshape(x_test.shape[0])\n",
        "print(predictions_cnn.shape)"
      ]
    },
    {
      "cell_type": "code",
      "source": [
        "set(list(predictions_cnn.reshape(1262)))"
      ],
      "metadata": {
        "colab": {
          "base_uri": "https://localhost:8080/"
        },
        "id": "wkSZfPT7rHTh",
        "outputId": "a84f67d6-19dc-4027-88a0-fa6e79aeca6b"
      },
      "execution_count": null,
      "outputs": [
        {
          "output_type": "execute_result",
          "data": {
            "text/plain": [
              "{False, True}"
            ]
          },
          "metadata": {},
          "execution_count": 27
        }
      ]
    },
    {
      "cell_type": "code",
      "execution_count": null,
      "metadata": {
        "id": "CoTUxBArKjTf",
        "colab": {
          "base_uri": "https://localhost:8080/",
          "height": 296
        },
        "outputId": "e647066e-0de0-4ad6-9277-dee043f9e478"
      },
      "outputs": [
        {
          "output_type": "execute_result",
          "data": {
            "text/plain": [
              "<sklearn.metrics._plot.confusion_matrix.ConfusionMatrixDisplay at 0x7f40d5660520>"
            ]
          },
          "metadata": {},
          "execution_count": 28
        },
        {
          "output_type": "display_data",
          "data": {
            "text/plain": [
              "<Figure size 432x288 with 2 Axes>"
            ],
            "image/png": "[encoded data removed]"
          },
          "metadata": {
            "needs_background": "light"
          }
        }
      ],
      "source": [
        "# plot confusion matrix\n",
        "metrics.ConfusionMatrixDisplay.from_predictions(y_test, predictions_cnn, cmap = \"GnBu\")"
      ]
    },
    {
      "cell_type": "code",
      "execution_count": null,
      "metadata": {
        "id": "cW4daMTuKnSX",
        "colab": {
          "base_uri": "https://localhost:8080/"
        },
        "outputId": "d2893b35-b11d-40cf-8ff0-4da76cb573a3"
      },
      "outputs": [
        {
          "output_type": "stream",
          "name": "stdout",
          "text": [
            "0.9896988906497622\n",
            "0.9889240506329114\n",
            "0.9904912836767037\n",
            "0.9889064976228209\n",
            "0.9897070467141726\n"
          ]
        }
      ],
      "source": [
        "### model evaluation metrics \n",
        "\n",
        "# (true positive + true negative)/total\n",
        "accuracy = sklearn.metrics.accuracy_score(y_test, predictions_cnn)\n",
        "print(accuracy)\n",
        "\n",
        "# true positive/(true positive + false positive)\n",
        "precision = sklearn.metrics.precision_score(y_test, predictions_cnn)\n",
        "print(precision)\n",
        "\n",
        "# true positive/(true positive + false negative)\n",
        "sensitivity = sklearn.metrics.recall_score(y_test, predictions_cnn)\n",
        "print(sensitivity)\n",
        "\n",
        "# true negative/(true negative + false positive)\n",
        "specificity = sklearn.metrics.recall_score(y_test, predictions_cnn, pos_label = 0)\n",
        "print(specificity)\n",
        "\n",
        "# 2 * (precision*recall)/(precision+recall)\n",
        "f1_score = 2*(precision*sensitivity)/(precision+sensitivity)\n",
        "print(f1_score)\n",
        "\n",
        "# no false positives means precision and specificity will be 100%"
      ]
    },
    {
      "cell_type": "code",
      "execution_count": null,
      "metadata": {
        "id": "8IScJl10KsS-",
        "colab": {
          "base_uri": "https://localhost:8080/"
        },
        "outputId": "584623a3-4780-46c7-f08f-fbbdef4016fd"
      },
      "outputs": [
        {
          "output_type": "stream",
          "name": "stderr",
          "text": [
            "WARNING:absl:Found untraced functions such as _jit_compiled_convolution_op, _jit_compiled_convolution_op, _jit_compiled_convolution_op, _update_step_xla while saving (showing 4 of 4). These functions will not be directly callable after loading.\n"
          ]
        }
      ],
      "source": [
        "# save model\n",
        "cnn_model.save('../Snakes-or-No-Snakes/cnn_balanced_seed1_5e')"
      ]
    },
    {
      "cell_type": "code",
      "execution_count": null,
      "metadata": {
        "colab": {
          "base_uri": "https://localhost:8080/",
          "height": 300
        },
        "id": "T39EubL9LCQd",
        "outputId": "70a640c0-5b74-4c8b-8154-0bea70265d13"
      },
      "outputs": [
        {
          "output_type": "execute_result",
          "data": {
            "text/plain": [
              "<matplotlib.legend.Legend at 0x7f54897b6160>"
            ]
          },
          "metadata": {},
          "execution_count": 22
        },
        {
          "output_type": "display_data",
          "data": {
            "text/plain": [
              "<Figure size 432x288 with 1 Axes>"
            ],
            "image/png": "[encoded data removed]"
          },
          "metadata": {
            "needs_background": "light"
          }
        }
      ],
      "source": [
        "# plot accuracy across epochs\n",
        "plt.plot(cnn_fit.history['accuracy'], label='accuracy')\n",
        "plt.plot(cnn_fit.history['val_accuracy'], label = 'val_accuracy')\n",
        "plt.xlabel('Epoch')\n",
        "plt.ylabel('Accuracy')\n",
        "plt.ylim([0.5, 1])\n",
        "plt.legend(loc='lower right')\n",
        "\n",
        "# plot accuracy across epochs\n",
        "plt.plot(cnn_fit.history['accuracy'], label='accuracy')\n",
        "plt.plot(cnn_fit.history['val_accuracy'], label = 'val_accuracy')\n",
        "plt.xlabel('Epoch')\n",
        "plt.ylabel('Accuracy')\n",
        "plt.ylim([0.5, 1])\n",
        "plt.legend(loc='lower right')\n",
        "\n",
        "# test_loss, test_acc = cnn_model.evaluate(x_test,  y_test, verbose=2)"
      ]
    },
    {
      "cell_type": "markdown",
      "metadata": {
        "id": "VSqTwUHmQzjG"
      },
      "source": [
        "## Logistic Regression"
      ]
    },
    {
      "cell_type": "code",
      "source": [
        "def build_log():\n",
        "\n",
        "  model = models.Sequential()\n",
        "  model.add(layers.InputLayer(input_shape=(384, 512, 1)))\n",
        "  model.add(layers.Flatten())\n",
        "  model.add(layers.Dense(1, activation = \"sigmoid\"))\n",
        "\n",
        "  # compile model with desired features\n",
        "  model.compile(\n",
        "    optimizer = \"adam\", loss = \"binary_crossentropy\",\n",
        "    metrics=['accuracy']\n",
        "  )\n",
        "\n",
        "  return model"
      ],
      "metadata": {
        "id": "UeapKQevVhS7"
      },
      "execution_count": null,
      "outputs": []
    },
    {
      "cell_type": "code",
      "source": [
        "# build the model\n",
        "log_model = build_log()"
      ],
      "metadata": {
        "id": "jKaXUbZHW7hO"
      },
      "execution_count": null,
      "outputs": []
    },
    {
      "cell_type": "code",
      "source": [
        "# see model structure\n",
        "log_model.summary()"
      ],
      "metadata": {
        "colab": {
          "base_uri": "https://localhost:8080/"
        },
        "id": "34mEc2jmW-zx",
        "outputId": "de2fa468-4db4-4659-ebdc-85d1ff546fe4"
      },
      "execution_count": null,
      "outputs": [
        {
          "output_type": "stream",
          "name": "stdout",
          "text": [
            "Model: \"sequential\"\n",
            "_________________________________________________________________\n",
            " Layer (type)                Output Shape              Param #   \n",
            "=================================================================\n",
            " flatten (Flatten)           (None, 196608)            0         \n",
            "                                                                 \n",
            " dense (Dense)               (None, 1)                 196609    \n",
            "                                                                 \n",
            "=================================================================\n",
            "Total params: 196,609\n",
            "Trainable params: 196,609\n",
            "Non-trainable params: 0\n",
            "_________________________________________________________________\n"
          ]
        }
      ]
    },
    {
      "cell_type": "code",
      "execution_count": null,
      "metadata": {
        "colab": {
          "base_uri": "https://localhost:8080/"
        },
        "outputId": "295b42ab-0965-4a90-f081-b105e4cbcb3f",
        "id": "AqbcI-t5Y_BR"
      },
      "outputs": [
        {
          "output_type": "stream",
          "name": "stdout",
          "text": [
            "Epoch 1/3\n",
            "210/210 [==============================] - 9513s 45s/step - loss: 937.1819 - accuracy: 0.6708 - val_loss: 164.6012 - val_accuracy: 0.6562\n",
            "Epoch 2/3\n",
            "210/210 [==============================] - 186s 884ms/step - loss: 123.8013 - accuracy: 0.8063 - val_loss: 32.7650 - val_accuracy: 0.9111\n",
            "Epoch 3/3\n",
            "210/210 [==============================] - 185s 880ms/step - loss: 54.8682 - accuracy: 0.9036 - val_loss: 24.6596 - val_accuracy: 0.9207\n"
          ]
        }
      ],
      "source": [
        "log_fit = log_model.fit(\n",
        "    train_generator,\n",
        "    steps_per_epoch = int(x_train.shape[0] // batch_size),\n",
        "    epochs = 3,\n",
        "    verbose = 1,\n",
        "    validation_data = validation_generator,\n",
        "    validation_steps = int(x_val.shape[0] // batch_size)\n",
        ")"
      ]
    },
    {
      "cell_type": "code",
      "source": [
        "log_predict = log_model.predict(\n",
        "    test_generator,\n",
        ")"
      ],
      "metadata": {
        "id": "f-QYPT7-ZJd0",
        "colab": {
          "base_uri": "https://localhost:8080/"
        },
        "outputId": "a82aa314-c153-48c6-e1ed-d3719a413895"
      },
      "execution_count": null,
      "outputs": [
        {
          "output_type": "stream",
          "name": "stdout",
          "text": [
            "40/40 [==============================] - 1609s 41s/step\n"
          ]
        }
      ]
    },
    {
      "cell_type": "code",
      "source": [
        "# get class predictions\n",
        "predictions_log = log_predict > 0.5\n",
        "predictions_log = predictions_log.reshape(x_test.shape[0])\n",
        "print(predictions_log.shape)"
      ],
      "metadata": {
        "id": "UdN6rqnLZSxO",
        "colab": {
          "base_uri": "https://localhost:8080/"
        },
        "outputId": "e95206d5-af56-41f2-a68a-153a52d8e5fb"
      },
      "execution_count": null,
      "outputs": [
        {
          "output_type": "stream",
          "name": "stdout",
          "text": [
            "(1262,)\n"
          ]
        }
      ]
    },
    {
      "cell_type": "code",
      "source": [
        "set(list(predictions_log.reshape(1262)))"
      ],
      "metadata": {
        "id": "fo5gRWRaZaLx",
        "colab": {
          "base_uri": "https://localhost:8080/"
        },
        "outputId": "c3ab7c09-647c-4a04-a180-2be7a6d770de"
      },
      "execution_count": null,
      "outputs": [
        {
          "output_type": "execute_result",
          "data": {
            "text/plain": [
              "{False, True}"
            ]
          },
          "metadata": {},
          "execution_count": 18
        }
      ]
    },
    {
      "cell_type": "code",
      "source": [
        "# plot confusion matrix\n",
        "metrics.ConfusionMatrixDisplay.from_predictions(y_test, predictions_log, cmap = \"GnBu\")"
      ],
      "metadata": {
        "id": "U1e0b3BBZdlI",
        "colab": {
          "base_uri": "https://localhost:8080/",
          "height": 296
        },
        "outputId": "d7f30b28-81ec-473f-8a53-1ae637e22d5c"
      },
      "execution_count": null,
      "outputs": [
        {
          "output_type": "execute_result",
          "data": {
            "text/plain": [
              "<sklearn.metrics._plot.confusion_matrix.ConfusionMatrixDisplay at 0x7eff327b8760>"
            ]
          },
          "metadata": {},
          "execution_count": 19
        },
        {
          "output_type": "display_data",
          "data": {
            "text/plain": [
              "<Figure size 432x288 with 2 Axes>"
            ],
            "image/png": "[encoded data removed]"
          },
          "metadata": {
            "needs_background": "light"
          }
        }
      ]
    },
    {
      "cell_type": "code",
      "source": [
        "### model evaluation metrics \n",
        "\n",
        "# (true positive + true negative)/total\n",
        "accuracy = sklearn.metrics.accuracy_score(y_test, predictions_log)\n",
        "print(accuracy)\n",
        "\n",
        "# true positive/(true positive + false positive)\n",
        "precision = sklearn.metrics.precision_score(y_test, predictions_log)\n",
        "print(precision)\n",
        "\n",
        "# true positive/(true positive + false negative)\n",
        "sensitivity = sklearn.metrics.recall_score(y_test, predictions_log)\n",
        "print(sensitivity)\n",
        "\n",
        "# true negative/(true negative + false positive)\n",
        "specificity = sklearn.metrics.recall_score(y_test, predictions_log, pos_label = 0)\n",
        "print(specificity)\n",
        "\n",
        "# 2 * (precision*recall)/(precision+recall)\n",
        "f1_score = 2*(precision*sensitivity)/(precision+sensitivity)\n",
        "print(f1_score)\n",
        "\n",
        "# no false positives means precision and specificity will be 100%"
      ],
      "metadata": {
        "id": "k3ovSFSkZggs",
        "colab": {
          "base_uri": "https://localhost:8080/"
        },
        "outputId": "84a00d52-f34c-448a-9673-9aba16b857c0"
      },
      "execution_count": null,
      "outputs": [
        {
          "output_type": "stream",
          "name": "stdout",
          "text": [
            "0.9516640253565769\n",
            "0.9142441860465116\n",
            "0.9968304278922345\n",
            "0.9064976228209192\n",
            "0.9537528430629264\n"
          ]
        }
      ]
    },
    {
      "cell_type": "code",
      "source": [
        "# save model\n",
        "log_model.save('../Snakes-or-No-Snakes/log_balanced_seed1_3e')"
      ],
      "metadata": {
        "id": "yuEpkMmIZrPJ"
      },
      "execution_count": null,
      "outputs": []
    },
    {
      "cell_type": "code",
      "source": [
        "# plot accuracy across epochs\n",
        "plt.plot(log_fit.history['accuracy'], label='accuracy')\n",
        "plt.plot(log_fit.history['val_accuracy'], label = 'val_accuracy')\n",
        "plt.xlabel('Epoch')\n",
        "plt.ylabel('Accuracy')\n",
        "plt.ylim([0.5, 1])\n",
        "plt.legend(loc='lower right')\n",
        "\n",
        "# plot accuracy across epochs\n",
        "plt.plot(log_fit.history['accuracy'], label='accuracy')\n",
        "plt.plot(log_fit.history['val_accuracy'], label = 'val_accuracy')\n",
        "plt.xlabel('Epoch')\n",
        "plt.ylabel('Accuracy')\n",
        "plt.ylim([0.5, 1])\n",
        "plt.legend(loc='lower right')\n",
        "\n",
        "# test_loss, test_acc = cnn_model.evaluate(x_test,  y_test, verbose=2)"
      ],
      "metadata": {
        "id": "X_IzCUXMZlVA",
        "colab": {
          "base_uri": "https://localhost:8080/",
          "height": 300
        },
        "outputId": "51edeb24-31bb-4209-c586-2f3732d92bbd"
      },
      "execution_count": null,
      "outputs": [
        {
          "output_type": "execute_result",
          "data": {
            "text/plain": [
              "<matplotlib.legend.Legend at 0x7eff29d842b0>"
            ]
          },
          "metadata": {},
          "execution_count": 23
        },
        {
          "output_type": "display_data",
          "data": {
            "text/plain": [
              "<Figure size 432x288 with 1 Axes>"
            ],
            "image/png": "[encoded data removed]"
          },
          "metadata": {
            "needs_background": "light"
          }
        }
      ]
    }
  ],
  "metadata": {
    "colab": {
      "provenance": []
    },
    "kernelspec": {
      "display_name": "base",
      "language": "python",
      "name": "python3"
    },
    "language_info": {
      "codemirror_mode": {
        "name": "ipython",
        "version": 3
      },
      "file_extension": ".py",
      "mimetype": "text/x-python",
      "name": "python",
      "nbconvert_exporter": "python",
      "pygments_lexer": "ipython3",
      "version": "3.9.13"
    },
    "vscode": {
      "interpreter": {
        "hash": "ad2bdc8ecc057115af97d19610ffacc2b4e99fae6737bb82f5d7fb13d2f2c186"
      }
    },
    "gpuClass": "standard"
  },
  "nbformat": 4,
  "nbformat_minor": 0
}