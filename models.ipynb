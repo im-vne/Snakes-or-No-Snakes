{
  "cells": [
    {
      "cell_type": "markdown",
      "metadata": {
        "id": "qNvBBBhXQzi3"
      },
      "source": [
        "# Model building and evaluation\n",
        "\n",
        "This notebook contains the main two methods: CNN and logistic regression. For side analyses see their specific notebook."
      ]
    },
    {
      "cell_type": "code",
      "execution_count": 1,
      "metadata": {
        "colab": {
          "base_uri": "https://localhost:8080/"
        },
        "id": "lIyROfMHQ8HS",
        "outputId": "4b24f2d4-4b0f-4ed0-af4b-667a2557731f"
      },
      "outputs": [
        {
          "output_type": "stream",
          "name": "stdout",
          "text": [
            "Mounted at /content/drive/\n"
          ]
        }
      ],
      "source": [
        "from google.colab import drive\n",
        "drive.mount('/content/drive/') "
      ]
    },
    {
      "cell_type": "code",
      "execution_count": 2,
      "metadata": {
        "id": "-PIXpkD_W4Uu"
      },
      "outputs": [],
      "source": [
        "import os # work with system    \n",
        "import cv2 # work with images\n",
        "import numpy as np # arrays and numerical analysis  \n",
        "import matplotlib.pyplot as plt # for data plots\n",
        "\n",
        "import sklearn.linear_model # linear models\n",
        "from sklearn.model_selection import train_test_split # data splitting\n",
        "from sklearn import metrics # model evaluation\n",
        "import tensorflow.keras as keras\n",
        "import tensorflow as tf\n",
        "from tensorflow.keras import datasets, layers, models\n",
        "import random # for random sampling \n",
        "\n",
        "### set working directory in data folder\n",
        "os.chdir(\"drive/Shareddrives/Capstone 2023/Data/MicrosoftSnakeAlgorithmProject\")"
      ]
    },
    {
      "cell_type": "code",
      "source": [
        "tf.config.list_physical_devices('GPU')"
      ],
      "metadata": {
        "colab": {
          "base_uri": "https://localhost:8080/"
        },
        "id": "HcCLIxzcvdzC",
        "outputId": "32a6037f-bc19-4c2b-c1e0-1d286f74f66b"
      },
      "execution_count": 3,
      "outputs": [
        {
          "output_type": "execute_result",
          "data": {
            "text/plain": [
              "[PhysicalDevice(name='/physical_device:GPU:0', device_type='GPU')]"
            ]
          },
          "metadata": {},
          "execution_count": 3
        }
      ]
    },
    {
      "cell_type": "code",
      "source": [
        "!nvidia-smi"
      ],
      "metadata": {
        "id": "IaiRHPE4wF3q",
        "colab": {
          "base_uri": "https://localhost:8080/"
        },
        "outputId": "d3bcf6a2-aa31-4ab5-d62f-b71346350d91"
      },
      "execution_count": 4,
      "outputs": [
        {
          "output_type": "stream",
          "name": "stdout",
          "text": [
            "Thu Apr 27 03:20:06 2023       \n",
            "+-----------------------------------------------------------------------------+\n",
            "| NVIDIA-SMI 525.85.12    Driver Version: 525.85.12    CUDA Version: 12.0     |\n",
            "|-------------------------------+----------------------+----------------------+\n",
            "| GPU  Name        Persistence-M| Bus-Id        Disp.A | Volatile Uncorr. ECC |\n",
            "| Fan  Temp  Perf  Pwr:Usage/Cap|         Memory-Usage | GPU-Util  Compute M. |\n",
            "|                               |                      |               MIG M. |\n",
            "|===============================+======================+======================|\n",
            "|   0  Tesla T4            Off  | 00000000:00:04.0 Off |                    0 |\n",
            "| N/A   53C    P8     9W /  70W |      3MiB / 15360MiB |      0%      Default |\n",
            "|                               |                      |                  N/A |\n",
            "+-------------------------------+----------------------+----------------------+\n",
            "                                                                               \n",
            "+-----------------------------------------------------------------------------+\n",
            "| Processes:                                                                  |\n",
            "|  GPU   GI   CI        PID   Type   Process name                  GPU Memory |\n",
            "|        ID   ID                                                   Usage      |\n",
            "|=============================================================================|\n",
            "|  No running processes found                                                 |\n",
            "+-----------------------------------------------------------------------------+\n"
          ]
        }
      ]
    },
    {
      "cell_type": "code",
      "execution_count": 5,
      "metadata": {
        "colab": {
          "base_uri": "https://localhost:8080/"
        },
        "id": "n9EvY-CVKVb2",
        "outputId": "c5812e17-1161-46b7-a171-e0b47766f2b1"
      },
      "outputs": [
        {
          "output_type": "stream",
          "name": "stdout",
          "text": [
            "MicrosoftSnakeAlgorithmProject/Snake_Images/FL_Snakes/WF8/IMG_7087.JPG\n",
            "23275\n"
          ]
        }
      ],
      "source": [
        "# estimated runtime: 45 seconds\n",
        "counter = 0 # if desired to break loop\n",
        "\n",
        "# labels and filenames should match since they are appended in order\n",
        "filenames = []\n",
        "labels = []\n",
        "\n",
        "# one image does not open properly\n",
        "empty_img = \"MicrosoftSnakeAlgorithmProject/Snake_Images/FL_Snakes/WF8/IMG_7087.JPG\"\n",
        "# walk through all directories and files in current working directory\n",
        "for root, dir, files in os.walk(os.getcwd()):\n",
        "    \n",
        "    for jpg in files:\n",
        "        if empty_img in os.path.join(root, jpg):\n",
        "          print(empty_img)\n",
        "          continue\n",
        "\n",
        "        # if jpg file, then keep filename\n",
        "        if \".JPG\" in jpg:\n",
        "            filenames.append(os.path.join(root, jpg))\n",
        "\n",
        "        if \"Empty\" in root:\n",
        "          labels.append(0)\n",
        "        elif \"Snake_Images\" in root:\n",
        "          labels.append(1)\n",
        "            \n",
        "    counter += 1\n",
        "    # if counter > 10000: break\n",
        "\n",
        "filenames_arr = np.array(filenames)\n",
        "labels_arr = np.array(labels)\n",
        "  \n",
        "print(len(filenames))"
      ]
    },
    {
      "cell_type": "code",
      "execution_count": 6,
      "metadata": {
        "id": "gAO-Ih3qzYfc"
      },
      "outputs": [],
      "source": [
        "def resample_classes(files, labels, seed = 1):\n",
        "\n",
        "  '''\n",
        "  files and labels should both be np arrays\n",
        "  '''\n",
        "\n",
        "  # set seed for reproducibility (and possibly error computation)\n",
        "  random.seed(seed)\n",
        "  # get number of minority class (snakes)\n",
        "  n_minority = np.where(labels == 1)[0].shape[0]\n",
        "\n",
        "  # sample from indices corresponding to empty images\n",
        "  # downsample_idx should have as many indices as there are snake images\n",
        "  downsample_idx = np.array(random.sample(list(np.where(labels == 0)[0]), n_minority))\n",
        "  # final indices should have snakes and downsampled empties\n",
        "  out_index = np.concatenate((np.where(labels == 1)[0], downsample_idx))\n",
        "\n",
        "  # subset to resampled data - classes now balanced\n",
        "  filenames_resampled = files[out_index]\n",
        "  labels_resampled = labels[out_index]\n",
        "\n",
        "  print(f'total samples: {out_index.shape[0]}')\n",
        "  print(f'empty samples: {downsample_idx.shape[0]}')\n",
        "  print(f'snake samples: {n_minority}')\n",
        "\n",
        "  return filenames_resampled, labels_resampled"
      ]
    },
    {
      "cell_type": "code",
      "execution_count": 7,
      "metadata": {
        "id": "2eEtUMuYu_09"
      },
      "outputs": [],
      "source": [
        "def split_data(files, labels, seed = 27, train = 0.8, test = 0.15):\n",
        "\n",
        "  '''\n",
        "  files and labels should both be np arrays\n",
        "  '''\n",
        "\n",
        "  # split data: train is 1-test_size and test is test_size*leftover\n",
        "  # must stratify to ensure roughly equal splits in train, val, test\n",
        "  # train and test specified, val is 1 - (train + test)\n",
        "  x_train, x_test, y_train, y_test = train_test_split(\n",
        "      files, labels, test_size = 1-train, stratify = labels, shuffle = True, random_state = seed)\n",
        "  x_val, x_test, y_val, y_test = train_test_split(\n",
        "      x_test, y_test, test_size = test/(1-train), stratify = y_test, shuffle = True, random_state = seed)\n",
        "  \n",
        "  print(f'train: {x_train.shape[0]} ({x_train.shape[0]/labels.shape[0]*100:.2f}%)')\n",
        "  print(f'val: {x_val.shape[0]} ({x_val.shape[0]/labels.shape[0]*100:.2f}%)')\n",
        "  print(f'test: {x_test.shape[0]} ({x_test.shape[0]/labels.shape[0]*100:.2f}%)')\n",
        "\n",
        "  return x_train, y_train, x_val, y_val, x_test, y_test"
      ]
    },
    {
      "cell_type": "code",
      "source": [
        "class data_generator(keras.utils.Sequence) :\n",
        "  \n",
        "  def __init__(self, image_filenames, labels, batch_size, log) :\n",
        "    self.image_filenames = image_filenames\n",
        "    self.labels = labels\n",
        "    self.batch_size = batch_size\n",
        "    self.log = log\n",
        "    \n",
        "  def __len__(self) :\n",
        "    return (np.ceil(len(self.image_filenames) / float(self.batch_size))).astype(int)\n",
        "  \n",
        "  def __getitem__(self, idx) :\n",
        "    batch_x = self.image_filenames[idx * self.batch_size : (idx+1) * self.batch_size]\n",
        "    batch_y = self.labels[idx * self.batch_size : (idx+1) * self.batch_size]\n",
        "\n",
        "    # read in and process image (different resizing for logistic regression to reduce trainable parameters)\n",
        "    if self.log:\n",
        "      x_list = [cv2.resize(cv2.imread(file_name, cv2.IMREAD_GRAYSCALE), (100, 60), interpolation = cv2.INTER_NEAREST) for file_name in batch_x]\n",
        "    else:\n",
        "      x_list = [cv2.resize(cv2.imread(file_name, cv2.IMREAD_GRAYSCALE), (512, 384), interpolation = cv2.INTER_NEAREST) for file_name in batch_x]\n",
        "    \n",
        "    x_arr = np.array(x_list)\n",
        "    x_arr_reshaped = x_arr.reshape([x_arr.shape[0], x_arr.shape[1], x_arr.shape[2], 1])\n",
        "  \n",
        "    y_arr = np.array(batch_y)\n",
        "    y_arr_reshaped = y_arr.reshape([x_arr_reshaped.shape[0], 1])\n",
        "\n",
        "    return x_arr_reshaped, y_arr_reshaped"
      ],
      "metadata": {
        "id": "g5xDejSz18Af"
      },
      "execution_count": 8,
      "outputs": []
    },
    {
      "cell_type": "code",
      "execution_count": 9,
      "metadata": {
        "id": "wn6p728ewZ7-"
      },
      "outputs": [],
      "source": [
        "def create_generators(x_train, y_train, x_val, y_val, x_test, y_test, batch_size = 32, log = False):\n",
        "\n",
        "  train_generator = data_generator(x_train, y_train, batch_size, log)\n",
        "  validation_generator = data_generator(x_val, y_val, batch_size, log)\n",
        "  test_generator = data_generator(x_test, y_test, batch_size, log)  \n",
        "\n",
        "  return train_generator, validation_generator, test_generator\n"
      ]
    },
    {
      "cell_type": "code",
      "source": [
        "def count_split(data): # much better would be to count 0 and 1 in y_* \n",
        "\n",
        "  data = list(data)\n",
        "  snake = [x for x in data if \"Snake_Images\" in x]\n",
        "  empty = [x for x in data if \"Empty\" in x]\n",
        "\n",
        "  print(f'total: {len(data)}')\n",
        "  print(f'snake: {len(snake)} ({len(snake)/len(data)*100:.2f}%)')\n",
        "  print(f'empty: {len(empty)} ({len(empty)/len(data)*100:.2f}%)')"
      ],
      "metadata": {
        "id": "nvYr1w73QYDC"
      },
      "execution_count": 10,
      "outputs": []
    },
    {
      "cell_type": "code",
      "execution_count": 11,
      "metadata": {
        "colab": {
          "base_uri": "https://localhost:8080/"
        },
        "id": "NTvGroJoJPhA",
        "outputId": "ff716602-a8d6-4024-b222-6166840ee485"
      },
      "outputs": [
        {
          "output_type": "stream",
          "name": "stdout",
          "text": [
            "total samples: 8406\n",
            "empty samples: 4203\n",
            "snake samples: 4203\n",
            "train: 6724 (79.99%)\n",
            "val: 420 (5.00%)\n",
            "test: 1262 (15.01%)\n",
            "\n",
            "total: 6724\n",
            "snake: 3362 (50.00%)\n",
            "empty: 3362 (50.00%)\n",
            "total: 420\n",
            "snake: 210 (50.00%)\n",
            "empty: 210 (50.00%)\n",
            "total: 1262\n",
            "snake: 631 (50.00%)\n",
            "empty: 631 (50.00%)\n",
            "\n"
          ]
        }
      ],
      "source": [
        "seed = 1\n",
        "batch_size = 32\n",
        "\n",
        "filenames_resampled, labels_resampled = resample_classes(filenames_arr, labels_arr, seed = seed)\n",
        "x_train, y_train, x_val, y_val, x_test, y_test = split_data(filenames_resampled, labels_resampled, train = 0.8, test = 0.15)\n",
        "\n",
        "print()\n",
        "count_split(x_train)\n",
        "count_split(x_val)\n",
        "count_split(x_test)\n",
        "print()\n",
        "\n",
        "# train_generator, validation_generator, test_generator = create_generators(x_train, y_train, x_val, y_val, x_test, y_test, batch_size = batch_size)"
      ]
    },
    {
      "cell_type": "markdown",
      "metadata": {
        "id": "3RFAPQerxj5d"
      },
      "source": [
        "## CNN"
      ]
    },
    {
      "cell_type": "code",
      "source": [
        "# create data generators\n",
        "train_generator, validation_generator, test_generator = create_generators(x_train, y_train, x_val, y_val, x_test, y_test, batch_size = batch_size, log = False)"
      ],
      "metadata": {
        "id": "Annq0ORw2d-O"
      },
      "execution_count": 64,
      "outputs": []
    },
    {
      "cell_type": "code",
      "execution_count": 65,
      "metadata": {
        "id": "I2rsHpz40FMw"
      },
      "outputs": [],
      "source": [
        "# create model \n",
        "def build_model():\n",
        "\n",
        "    model = models.Sequential()\n",
        "    model.add(layers.Conv2D(16, (3, 3), activation='relu', input_shape=(384, 512, 1)))\n",
        "    model.add(layers.MaxPooling2D((2, 2)))\n",
        "    model.add(layers.Conv2D(32, (3, 3), activation='relu'))\n",
        "    model.add(layers.MaxPooling2D((2, 2)))\n",
        "    model.add(layers.Conv2D(64, (3, 3), activation='relu'))\n",
        "    model.add(layers.MaxPooling2D((2, 2)))\n",
        "\n",
        "    model.add(layers.Flatten())\n",
        "    model.add(layers.Dense(128, activation='relu'))\n",
        "    model.add(layers.Dense(1, activation = 'sigmoid'))\n",
        "\n",
        "    # compile model with desired features\n",
        "    model.compile(\n",
        "        optimizer = \"adam\", loss = \"binary_crossentropy\",\n",
        "        metrics=['accuracy']\n",
        "    )\n",
        "\n",
        "    return model"
      ]
    },
    {
      "cell_type": "code",
      "execution_count": 66,
      "metadata": {
        "id": "2TeCVESl0Kou"
      },
      "outputs": [],
      "source": [
        "# build the model\n",
        "cnn_model = build_model()"
      ]
    },
    {
      "cell_type": "code",
      "execution_count": 67,
      "metadata": {
        "colab": {
          "base_uri": "https://localhost:8080/"
        },
        "id": "cqn7xDxKUkEg",
        "outputId": "d0e942da-4399-447b-9e27-1175fc08951d"
      },
      "outputs": [
        {
          "output_type": "stream",
          "name": "stdout",
          "text": [
            "Model: \"sequential_4\"\n",
            "_________________________________________________________________\n",
            " Layer (type)                Output Shape              Param #   \n",
            "=================================================================\n",
            " conv2d_9 (Conv2D)           (None, 382, 510, 16)      160       \n",
            "                                                                 \n",
            " max_pooling2d_9 (MaxPooling  (None, 191, 255, 16)     0         \n",
            " 2D)                                                             \n",
            "                                                                 \n",
            " conv2d_10 (Conv2D)          (None, 189, 253, 32)      4640      \n",
            "                                                                 \n",
            " max_pooling2d_10 (MaxPoolin  (None, 94, 126, 32)      0         \n",
            " g2D)                                                            \n",
            "                                                                 \n",
            " conv2d_11 (Conv2D)          (None, 92, 124, 64)       18496     \n",
            "                                                                 \n",
            " max_pooling2d_11 (MaxPoolin  (None, 46, 62, 64)       0         \n",
            " g2D)                                                            \n",
            "                                                                 \n",
            " flatten_4 (Flatten)         (None, 182528)            0         \n",
            "                                                                 \n",
            " dense_7 (Dense)             (None, 128)               23363712  \n",
            "                                                                 \n",
            " dense_8 (Dense)             (None, 1)                 129       \n",
            "                                                                 \n",
            "=================================================================\n",
            "Total params: 23,387,137\n",
            "Trainable params: 23,387,137\n",
            "Non-trainable params: 0\n",
            "_________________________________________________________________\n"
          ]
        }
      ],
      "source": [
        "# view model architecture\n",
        "cnn_model.summary()"
      ]
    },
    {
      "cell_type": "code",
      "execution_count": 68,
      "metadata": {
        "colab": {
          "base_uri": "https://localhost:8080/"
        },
        "id": "7n3LFWNX0oJ2",
        "outputId": "2e861043-a8e8-4fd2-836b-cb7174376779"
      },
      "outputs": [
        {
          "output_type": "stream",
          "name": "stdout",
          "text": [
            "Epoch 1/3\n",
            "210/210 [==============================] - 201s 945ms/step - loss: 24.3934 - accuracy: 0.7784 - val_loss: 0.1640 - val_accuracy: 0.9375\n",
            "Epoch 2/3\n",
            "210/210 [==============================] - 197s 937ms/step - loss: 0.1383 - accuracy: 0.9558 - val_loss: 0.1351 - val_accuracy: 0.9712\n",
            "Epoch 3/3\n",
            "210/210 [==============================] - 201s 960ms/step - loss: 0.1291 - accuracy: 0.9608 - val_loss: 0.1838 - val_accuracy: 0.9639\n"
          ]
        }
      ],
      "source": [
        "cnn_fit = cnn_model.fit(\n",
        "    train_generator,\n",
        "    steps_per_epoch = int(x_train.shape[0] // batch_size),\n",
        "    # steps_per_epoch = 10,\n",
        "    epochs = 3,\n",
        "    verbose = 1,\n",
        "    validation_data = validation_generator,\n",
        "    validation_steps = int(x_val.shape[0] // batch_size)\n",
        "    # validation_steps = 3\n",
        ")"
      ]
    },
    {
      "cell_type": "code",
      "source": [
        "# can load saved (see google sheet for model descriptions)\n",
        "# cnn_model = tf.keras.models.load_model(\"../Snakes-or-No-Snakes/cnn_balanced_seed1_3e\")"
      ],
      "metadata": {
        "id": "sSB1fDxa0qMV"
      },
      "execution_count": null,
      "outputs": []
    },
    {
      "cell_type": "code",
      "execution_count": 69,
      "metadata": {
        "id": "tkw76jZoDjyN",
        "colab": {
          "base_uri": "https://localhost:8080/"
        },
        "outputId": "b34feba2-1102-4e77-8881-606198810262"
      },
      "outputs": [
        {
          "output_type": "stream",
          "name": "stdout",
          "text": [
            "40/40 [==============================] - 35s 851ms/step\n"
          ]
        }
      ],
      "source": [
        "model_predict = cnn_model.predict(\n",
        "    test_generator,\n",
        ")"
      ]
    },
    {
      "cell_type": "code",
      "execution_count": 70,
      "metadata": {
        "id": "DHhm9V2j78V0",
        "colab": {
          "base_uri": "https://localhost:8080/"
        },
        "outputId": "7ae6c13c-8ebb-4f71-bfd1-bae8cc9485c8"
      },
      "outputs": [
        {
          "output_type": "stream",
          "name": "stdout",
          "text": [
            "(1262,)\n"
          ]
        }
      ],
      "source": [
        "# get class predictions\n",
        "predictions_cnn = model_predict > 0.5\n",
        "predictions_cnn = predictions_cnn.reshape(x_test.shape[0])\n",
        "print(predictions_cnn.shape)"
      ]
    },
    {
      "cell_type": "code",
      "source": [
        "set(list(predictions_cnn.reshape(1262)))"
      ],
      "metadata": {
        "colab": {
          "base_uri": "https://localhost:8080/"
        },
        "id": "wkSZfPT7rHTh",
        "outputId": "aca91ebd-248e-4374-c54d-789723cec94f"
      },
      "execution_count": 71,
      "outputs": [
        {
          "output_type": "execute_result",
          "data": {
            "text/plain": [
              "{False, True}"
            ]
          },
          "metadata": {},
          "execution_count": 71
        }
      ]
    },
    {
      "cell_type": "code",
      "execution_count": 72,
      "metadata": {
        "id": "CoTUxBArKjTf",
        "colab": {
          "base_uri": "https://localhost:8080/",
          "height": 466
        },
        "outputId": "e26a99c6-da6e-43d1-c655-2430186323ff"
      },
      "outputs": [
        {
          "output_type": "execute_result",
          "data": {
            "text/plain": [
              "<sklearn.metrics._plot.confusion_matrix.ConfusionMatrixDisplay at 0x7f6d907b28e0>"
            ]
          },
          "metadata": {},
          "execution_count": 72
        },
        {
          "output_type": "display_data",
          "data": {
            "text/plain": [
              "<Figure size 640x480 with 2 Axes>"
            ],
            "image/png": "[encoded data removed]"
          },
          "metadata": {}
        }
      ],
      "source": [
        "# plot confusion matrix\n",
        "metrics.ConfusionMatrixDisplay.from_predictions(y_test, predictions_cnn, cmap = \"GnBu\")"
      ]
    },
    {
      "cell_type": "code",
      "execution_count": 73,
      "metadata": {
        "id": "cW4daMTuKnSX",
        "colab": {
          "base_uri": "https://localhost:8080/"
        },
        "outputId": "5a4d95ed-ad72-4897-92c6-249f4c656f68"
      },
      "outputs": [
        {
          "output_type": "stream",
          "name": "stdout",
          "text": [
            "accuracy: 0.9754358161648178\n",
            "precision: 0.9854368932038835\n",
            "sensitivity: 0.96513470681458\n",
            "specificity: 0.9857369255150554\n",
            "f1_score: 0.9751801441152923\n"
          ]
        }
      ],
      "source": [
        "### model evaluation metrics \n",
        "\n",
        "# (true positive + true negative)/total\n",
        "accuracy = sklearn.metrics.accuracy_score(y_test, predictions_cnn)\n",
        "print(\"accuracy: \" + str(accuracy))\n",
        "\n",
        "# true positive/(true positive + false positive)\n",
        "precision = sklearn.metrics.precision_score(y_test, predictions_cnn)\n",
        "print(\"precision: \" + str(precision))\n",
        "\n",
        "# true positive/(true positive + false negative)\n",
        "sensitivity = sklearn.metrics.recall_score(y_test, predictions_cnn)\n",
        "print(\"sensitivity: \" + str(sensitivity))\n",
        "\n",
        "# true negative/(true negative + false positive)\n",
        "specificity = sklearn.metrics.recall_score(y_test, predictions_cnn, pos_label = 0)\n",
        "print(\"specificity: \" + str(specificity))\n",
        "\n",
        "# 2 * (precision*recall)/(precision+recall)\n",
        "f1_score = 2*(precision*sensitivity)/(precision+sensitivity)\n",
        "print(\"f1_score: \" + str(f1_score))\n",
        "\n",
        "# no false positives means precision and specificity will be 100%"
      ]
    },
    {
      "cell_type": "code",
      "execution_count": 75,
      "metadata": {
        "id": "8IScJl10KsS-",
        "colab": {
          "base_uri": "https://localhost:8080/"
        },
        "outputId": "6ac14e8d-ad9f-49ae-bd3d-e3c57cfef0ae"
      },
      "outputs": [
        {
          "output_type": "stream",
          "name": "stderr",
          "text": [
            "WARNING:absl:Found untraced functions such as _jit_compiled_convolution_op, _jit_compiled_convolution_op, _jit_compiled_convolution_op while saving (showing 3 of 3). These functions will not be directly callable after loading.\n"
          ]
        }
      ],
      "source": [
        "# save model\n",
        "cnn_model.save('../Snakes-or-No-Snakes/cnn_final_seed1_3e')"
      ]
    },
    {
      "cell_type": "code",
      "execution_count": 74,
      "metadata": {
        "colab": {
          "base_uri": "https://localhost:8080/",
          "height": 472
        },
        "id": "T39EubL9LCQd",
        "outputId": "2d4308b3-5db3-4f52-ef1d-b40f2fc4b4eb"
      },
      "outputs": [
        {
          "output_type": "execute_result",
          "data": {
            "text/plain": [
              "<matplotlib.legend.Legend at 0x7f6d9068c1f0>"
            ]
          },
          "metadata": {},
          "execution_count": 74
        },
        {
          "output_type": "display_data",
          "data": {
            "text/plain": [
              "<Figure size 640x480 with 1 Axes>"
            ],
            "image/png": "[encoded data removed]"
          },
          "metadata": {}
        }
      ],
      "source": [
        "# plot accuracy across epochs\n",
        "plt.plot(cnn_fit.history['accuracy'], label='accuracy')\n",
        "plt.plot(cnn_fit.history['val_accuracy'], label = 'val_accuracy')\n",
        "plt.xlabel('Epoch')\n",
        "plt.ylabel('Accuracy')\n",
        "plt.ylim([0.5, 1])\n",
        "plt.legend(loc='lower right')"
      ]
    },
    {
      "cell_type": "markdown",
      "metadata": {
        "id": "VSqTwUHmQzjG"
      },
      "source": [
        "## Logistic Regression"
      ]
    },
    {
      "cell_type": "code",
      "source": [
        "# create generators for logistic regression\n",
        "train_generator, validation_generator, test_generator = create_generators(x_train, y_train, x_val, y_val, x_test, y_test, batch_size = batch_size, log = True)"
      ],
      "metadata": {
        "id": "HlSMozno2x5h"
      },
      "execution_count": 12,
      "outputs": []
    },
    {
      "cell_type": "code",
      "source": [
        "def build_log():\n",
        "\n",
        "  model = models.Sequential()\n",
        "  model.add(layers.InputLayer(input_shape=(60, 100, 1)))\n",
        "  model.add(layers.Flatten())\n",
        "  model.add(layers.Dense(1, activation = \"sigmoid\"))\n",
        "\n",
        "  # compile model with desired features\n",
        "  model.compile(\n",
        "    optimizer = \"adam\", loss = \"binary_crossentropy\",\n",
        "    metrics=['accuracy']\n",
        "  )\n",
        "\n",
        "  return model"
      ],
      "metadata": {
        "id": "UeapKQevVhS7"
      },
      "execution_count": 13,
      "outputs": []
    },
    {
      "cell_type": "code",
      "source": [
        "# build the model\n",
        "log_model = build_log()"
      ],
      "metadata": {
        "id": "jKaXUbZHW7hO"
      },
      "execution_count": 14,
      "outputs": []
    },
    {
      "cell_type": "code",
      "source": [
        "# see model structure\n",
        "log_model.summary()"
      ],
      "metadata": {
        "colab": {
          "base_uri": "https://localhost:8080/"
        },
        "id": "34mEc2jmW-zx",
        "outputId": "3433ab97-178d-4fcc-e139-c6c56fa8b94e"
      },
      "execution_count": 15,
      "outputs": [
        {
          "output_type": "stream",
          "name": "stdout",
          "text": [
            "Model: \"sequential\"\n",
            "_________________________________________________________________\n",
            " Layer (type)                Output Shape              Param #   \n",
            "=================================================================\n",
            " flatten (Flatten)           (None, 6000)              0         \n",
            "                                                                 \n",
            " dense (Dense)               (None, 1)                 6001      \n",
            "                                                                 \n",
            "=================================================================\n",
            "Total params: 6,001\n",
            "Trainable params: 6,001\n",
            "Non-trainable params: 0\n",
            "_________________________________________________________________\n"
          ]
        }
      ]
    },
    {
      "cell_type": "code",
      "execution_count": 16,
      "metadata": {
        "colab": {
          "base_uri": "https://localhost:8080/"
        },
        "outputId": "78592314-44b0-43dc-cbb4-317ae15095f8",
        "id": "AqbcI-t5Y_BR"
      },
      "outputs": [
        {
          "output_type": "stream",
          "name": "stdout",
          "text": [
            "Epoch 1/3\n",
            "210/210 [==============================] - 4676s 22s/step - loss: 22.8459 - accuracy: 0.6224 - val_loss: 8.2069 - val_accuracy: 0.7308\n",
            "Epoch 2/3\n",
            "210/210 [==============================] - 181s 861ms/step - loss: 5.6947 - accuracy: 0.7950 - val_loss: 2.6545 - val_accuracy: 0.8582\n",
            "Epoch 3/3\n",
            "210/210 [==============================] - 191s 910ms/step - loss: 5.2449 - accuracy: 0.8317 - val_loss: 6.1198 - val_accuracy: 0.8101\n"
          ]
        }
      ],
      "source": [
        "log_fit = log_model.fit(\n",
        "    train_generator,\n",
        "    steps_per_epoch = int(x_train.shape[0] // batch_size),\n",
        "    epochs = 3,\n",
        "    verbose = 1,\n",
        "    validation_data = validation_generator,\n",
        "    validation_steps = int(x_val.shape[0] // batch_size)\n",
        ")"
      ]
    },
    {
      "cell_type": "code",
      "source": [
        "log_predict = log_model.predict(\n",
        "    test_generator,\n",
        ")"
      ],
      "metadata": {
        "id": "f-QYPT7-ZJd0",
        "colab": {
          "base_uri": "https://localhost:8080/"
        },
        "outputId": "5deb6534-679e-4c65-da96-8705d498f383"
      },
      "execution_count": 17,
      "outputs": [
        {
          "output_type": "stream",
          "name": "stdout",
          "text": [
            "40/40 [==============================] - 841s 22s/step\n"
          ]
        }
      ]
    },
    {
      "cell_type": "code",
      "source": [
        "# get class predictions\n",
        "predictions_log = log_predict > 0.5\n",
        "predictions_log = predictions_log.reshape(x_test.shape[0])\n",
        "print(predictions_log.shape)"
      ],
      "metadata": {
        "id": "UdN6rqnLZSxO",
        "colab": {
          "base_uri": "https://localhost:8080/"
        },
        "outputId": "7766ecf0-759c-4d8e-f530-b8c58aefddca"
      },
      "execution_count": 18,
      "outputs": [
        {
          "output_type": "stream",
          "name": "stdout",
          "text": [
            "(1262,)\n"
          ]
        }
      ]
    },
    {
      "cell_type": "code",
      "source": [
        "set(list(predictions_log.reshape(1262)))"
      ],
      "metadata": {
        "id": "fo5gRWRaZaLx",
        "colab": {
          "base_uri": "https://localhost:8080/"
        },
        "outputId": "28e57632-e915-49ec-e18e-b2b57003d299"
      },
      "execution_count": 19,
      "outputs": [
        {
          "output_type": "execute_result",
          "data": {
            "text/plain": [
              "{False, True}"
            ]
          },
          "metadata": {},
          "execution_count": 19
        }
      ]
    },
    {
      "cell_type": "code",
      "source": [
        "# plot confusion matrix\n",
        "metrics.ConfusionMatrixDisplay.from_predictions(y_test, predictions_log, cmap = \"GnBu\")"
      ],
      "metadata": {
        "id": "U1e0b3BBZdlI",
        "colab": {
          "base_uri": "https://localhost:8080/",
          "height": 466
        },
        "outputId": "c1b50a99-f0c9-4c50-9c30-c433516c852c"
      },
      "execution_count": 20,
      "outputs": [
        {
          "output_type": "execute_result",
          "data": {
            "text/plain": [
              "<sklearn.metrics._plot.confusion_matrix.ConfusionMatrixDisplay at 0x7f6e1089d5e0>"
            ]
          },
          "metadata": {},
          "execution_count": 20
        },
        {
          "output_type": "display_data",
          "data": {
            "text/plain": [
              "<Figure size 640x480 with 2 Axes>"
            ],
            "image/png": "[encoded data removed]"
          },
          "metadata": {}
        }
      ]
    },
    {
      "cell_type": "code",
      "source": [
        "### model evaluation metrics \n",
        "\n",
        "# (true positive + true negative)/total\n",
        "accuracy = sklearn.metrics.accuracy_score(y_test, predictions_log)\n",
        "print(\"accuracy: \" + str(accuracy))\n",
        "\n",
        "# true positive/(true positive + false positive)\n",
        "precision = sklearn.metrics.precision_score(y_test, predictions_log)\n",
        "print(\"precision: \" + str(precision))\n",
        "\n",
        "# true positive/(true positive + false negative)\n",
        "sensitivity = sklearn.metrics.recall_score(y_test, predictions_log)\n",
        "print(\"sensitivity: \" + str(sensitivity))\n",
        "\n",
        "# true negative/(true negative + false positive)\n",
        "specificity = sklearn.metrics.recall_score(y_test, predictions_log, pos_label = 0)\n",
        "print(\"specificity: \" + str(specificity))\n",
        "\n",
        "# 2 * (precision*recall)/(precision+recall)\n",
        "f1_score = 2*(precision*sensitivity)/(precision+sensitivity)\n",
        "print(\"f1_score: \" + str(f1_score))\n",
        "\n",
        "# no false positives means precision and specificity will be 100%"
      ],
      "metadata": {
        "id": "k3ovSFSkZggs",
        "colab": {
          "base_uri": "https://localhost:8080/"
        },
        "outputId": "07a70f0c-cb18-4295-a54e-bf0cfbc0cce0"
      },
      "execution_count": 22,
      "outputs": [
        {
          "output_type": "stream",
          "name": "stdout",
          "text": [
            "accuracy: 0.8003169572107766\n",
            "precision: 0.987146529562982\n",
            "sensitivity: 0.6085578446909667\n",
            "specificity: 0.9920760697305864\n",
            "f1_score: 0.7529411764705882\n"
          ]
        }
      ]
    },
    {
      "cell_type": "code",
      "source": [
        "# save model\n",
        "# log_model.save('../Snakes-or-No-Snakes/log_balanced_seed1_3e')"
      ],
      "metadata": {
        "id": "yuEpkMmIZrPJ"
      },
      "execution_count": null,
      "outputs": []
    },
    {
      "cell_type": "code",
      "source": [
        "# plot accuracy across epochs\n",
        "plt.plot(log_fit.history['accuracy'], label='accuracy')\n",
        "plt.plot(log_fit.history['val_accuracy'], label = 'val_accuracy')\n",
        "plt.xlabel('Epoch')\n",
        "plt.ylabel('Accuracy')\n",
        "plt.ylim([0.5, 1])\n",
        "plt.legend(loc='lower right')\n",
        "\n",
        "# test_loss, test_acc = cnn_model.evaluate(x_test,  y_test, verbose=2)"
      ],
      "metadata": {
        "id": "X_IzCUXMZlVA",
        "colab": {
          "base_uri": "https://localhost:8080/",
          "height": 472
        },
        "outputId": "9d9e5138-aeb7-48d8-ea8f-619c9972d93c"
      },
      "execution_count": 23,
      "outputs": [
        {
          "output_type": "execute_result",
          "data": {
            "text/plain": [
              "<matplotlib.legend.Legend at 0x7f6e10047f40>"
            ]
          },
          "metadata": {},
          "execution_count": 23
        },
        {
          "output_type": "display_data",
          "data": {
            "text/plain": [
              "<Figure size 640x480 with 1 Axes>"
            ],
            "image/png": "[encoded data removed]"
          },
          "metadata": {}
        }
      ]
    }
  ],
  "metadata": {
    "colab": {
      "provenance": [],
      "toc_visible": true
    },
    "kernelspec": {
      "display_name": "base",
      "language": "python",
      "name": "python3"
    },
    "language_info": {
      "codemirror_mode": {
        "name": "ipython",
        "version": 3
      },
      "file_extension": ".py",
      "mimetype": "text/x-python",
      "name": "python",
      "nbconvert_exporter": "python",
      "pygments_lexer": "ipython3",
      "version": "3.9.13"
    },
    "vscode": {
      "interpreter": {
        "hash": "ad2bdc8ecc057115af97d19610ffacc2b4e99fae6737bb82f5d7fb13d2f2c186"
      }
    },
    "gpuClass": "standard",
    "accelerator": "GPU"
  },
  "nbformat": 4,
  "nbformat_minor": 0
}