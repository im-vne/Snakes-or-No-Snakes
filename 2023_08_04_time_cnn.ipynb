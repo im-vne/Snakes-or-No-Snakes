{
  "nbformat": 4,
  "nbformat_minor": 0,
  "metadata": {
    "colab": {
      "provenance": [],
      "include_colab_link": true
    },
    "kernelspec": {
      "name": "python3",
      "display_name": "Python 3"
    },
    "language_info": {
      "name": "python"
    }
  },
  "cells": [
    {
      "cell_type": "markdown",
      "metadata": {
        "id": "view-in-github",
        "colab_type": "text"
      },
      "source": [
        "<a href=\"https://colab.research.google.com/github/im-vne/Snakes-or-No-Snakes/blob/main/2023_08_04_time_cnn.ipynb\" target=\"_parent\"><img src=\"https://colab.research.google.com/assets/colab-badge.svg\" alt=\"Open In Colab\"/></a>"
      ]
    },
    {
      "cell_type": "markdown",
      "metadata": {
        "id": "qNvBBBhXQzi3"
      },
      "source": [
        "# Model building and evaluation\n",
        "\n",
        "This notebook contains the main two methods: CNN and logistic regression. For side analyses see their specific notebook."
      ]
    },
    {
      "cell_type": "code",
      "execution_count": 1,
      "metadata": {
        "colab": {
          "base_uri": "https://localhost:8080/"
        },
        "id": "lIyROfMHQ8HS",
        "outputId": "11931dfa-f700-4329-ebe6-3e88b4473504"
      },
      "outputs": [
        {
          "output_type": "stream",
          "name": "stdout",
          "text": [
            "Mounted at /content/drive/\n"
          ]
        }
      ],
      "source": [
        "from google.colab import drive\n",
        "drive.mount('/content/drive/')"
      ]
    },
    {
      "cell_type": "code",
      "execution_count": 2,
      "metadata": {
        "id": "-PIXpkD_W4Uu"
      },
      "outputs": [],
      "source": [
        "import os # work with system\n",
        "import cv2 # work with images\n",
        "import numpy as np # arrays and numerical analysis\n",
        "import matplotlib.pyplot as plt # for data plots\n",
        "\n",
        "import sklearn.linear_model # linear models\n",
        "from sklearn.model_selection import train_test_split # data splitting\n",
        "from sklearn import metrics # model evaluation\n",
        "import tensorflow.keras as keras\n",
        "import tensorflow as tf\n",
        "from tensorflow.keras import datasets, layers, models\n",
        "import random # for random sampling\n",
        "\n",
        "### set working directory in data folder\n",
        "os.chdir(\"drive/Shareddrives/Capstone 2023/Data/MicrosoftSnakeAlgorithmProject\")"
      ]
    },
    {
      "cell_type": "code",
      "source": [
        "tf.config.list_physical_devices('GPU')"
      ],
      "metadata": {
        "colab": {
          "base_uri": "https://localhost:8080/"
        },
        "id": "HcCLIxzcvdzC",
        "outputId": "dc0c20e5-c388-43a6-c0e6-15221f665158"
      },
      "execution_count": 3,
      "outputs": [
        {
          "output_type": "execute_result",
          "data": {
            "text/plain": [
              "[]"
            ]
          },
          "metadata": {},
          "execution_count": 3
        }
      ]
    },
    {
      "cell_type": "code",
      "source": [
        "!nvidia-smi"
      ],
      "metadata": {
        "id": "IaiRHPE4wF3q",
        "colab": {
          "base_uri": "https://localhost:8080/"
        },
        "outputId": "46ac3a6c-e4f6-4919-9497-b234d5d9b7b4"
      },
      "execution_count": 4,
      "outputs": [
        {
          "output_type": "stream",
          "name": "stdout",
          "text": [
            "/bin/bash: line 1: nvidia-smi: command not found\n"
          ]
        }
      ]
    },
    {
      "cell_type": "code",
      "execution_count": 5,
      "metadata": {
        "id": "gAO-Ih3qzYfc"
      },
      "outputs": [],
      "source": [
        "def resample_classes(files, labels, seed = 1):\n",
        "\n",
        "  '''\n",
        "  files and labels should both be np arrays\n",
        "  '''\n",
        "\n",
        "  # set seed for reproducibility (and possibly error computation)\n",
        "  random.seed(seed)\n",
        "  # get number of minority class (snakes)\n",
        "  n_minority = np.where(labels == 1)[0].shape[0]\n",
        "\n",
        "  # sample from indices corresponding to empty images\n",
        "  # downsample_idx should have as many indices as there are snake images\n",
        "  downsample_idx = np.array(random.sample(list(np.where(labels == 0)[0]), n_minority))\n",
        "  # final indices should have snakes and downsampled empties\n",
        "  out_index = np.concatenate((np.where(labels == 1)[0], downsample_idx))\n",
        "\n",
        "  # subset to resampled data - classes now balanced\n",
        "  filenames_resampled = files[out_index]\n",
        "  labels_resampled = labels[out_index]\n",
        "\n",
        "  print(f'total samples: {out_index.shape[0]}')\n",
        "  print(f'empty samples: {downsample_idx.shape[0]}')\n",
        "  print(f'snake samples: {n_minority}')\n",
        "\n",
        "  return filenames_resampled, labels_resampled"
      ]
    },
    {
      "cell_type": "code",
      "execution_count": 6,
      "metadata": {
        "id": "2eEtUMuYu_09"
      },
      "outputs": [],
      "source": [
        "def split_data(files, labels, seed = 27, train = 0.8, test = 0.15):\n",
        "\n",
        "  '''\n",
        "  files and labels should both be np arrays\n",
        "  '''\n",
        "\n",
        "  # split data: train is 1-test_size and test is test_size*leftover\n",
        "  # must stratify to ensure roughly equal splits in train, val, test\n",
        "  # train and test specified, val is 1 - (train + test)\n",
        "  x_train, x_test, y_train, y_test = train_test_split(\n",
        "      files, labels, test_size = 1-train, stratify = labels, shuffle = True, random_state = seed)\n",
        "  x_val, x_test, y_val, y_test = train_test_split(\n",
        "      x_test, y_test, test_size = test/(1-train), stratify = y_test, shuffle = True, random_state = seed)\n",
        "\n",
        "  print(f'train: {x_train.shape[0]} ({x_train.shape[0]/labels.shape[0]*100:.2f}%)')\n",
        "  print(f'val: {x_val.shape[0]} ({x_val.shape[0]/labels.shape[0]*100:.2f}%)')\n",
        "  print(f'test: {x_test.shape[0]} ({x_test.shape[0]/labels.shape[0]*100:.2f}%)')\n",
        "\n",
        "  return x_train, y_train, x_val, y_val, x_test, y_test"
      ]
    },
    {
      "cell_type": "code",
      "source": [
        "class data_generator(keras.utils.Sequence) :\n",
        "\n",
        "  def __init__(self, image_filenames, labels, batch_size, log) :\n",
        "    self.image_filenames = image_filenames\n",
        "    self.labels = labels\n",
        "    self.batch_size = batch_size\n",
        "    self.log = log\n",
        "\n",
        "  def __len__(self) :\n",
        "    return (np.ceil(len(self.image_filenames) / float(self.batch_size))).astype(int)\n",
        "\n",
        "  def __getitem__(self, idx) :\n",
        "    batch_x = self.image_filenames[idx * self.batch_size : (idx+1) * self.batch_size]\n",
        "    batch_y = self.labels[idx * self.batch_size : (idx+1) * self.batch_size]\n",
        "\n",
        "    # read in and process image (different resizing for logistic regression to reduce trainable parameters)\n",
        "    if self.log:\n",
        "      x_list = [cv2.resize(cv2.imread(file_name, cv2.IMREAD_GRAYSCALE), (100, 60), interpolation = cv2.INTER_NEAREST) for file_name in batch_x]\n",
        "    else:\n",
        "      x_list = [cv2.resize(cv2.imread(file_name, cv2.IMREAD_GRAYSCALE), (512, 384), interpolation = cv2.INTER_NEAREST) for file_name in batch_x]\n",
        "\n",
        "    x_arr = np.array(x_list)\n",
        "    x_arr_reshaped = x_arr.reshape([x_arr.shape[0], x_arr.shape[1], x_arr.shape[2], 1])\n",
        "\n",
        "    y_arr = np.array(batch_y)\n",
        "    y_arr_reshaped = y_arr.reshape([x_arr_reshaped.shape[0], 1])\n",
        "\n",
        "    return x_arr_reshaped, y_arr_reshaped"
      ],
      "metadata": {
        "id": "g5xDejSz18Af"
      },
      "execution_count": 7,
      "outputs": []
    },
    {
      "cell_type": "code",
      "execution_count": 8,
      "metadata": {
        "id": "wn6p728ewZ7-"
      },
      "outputs": [],
      "source": [
        "def create_generators(x_train, y_train, x_val, y_val, x_test, y_test, batch_size = 32, log = False):\n",
        "\n",
        "  train_generator = data_generator(x_train, y_train, batch_size, log)\n",
        "  validation_generator = data_generator(x_val, y_val, batch_size, log)\n",
        "  test_generator = data_generator(x_test, y_test, batch_size, log)\n",
        "\n",
        "  return train_generator, validation_generator, test_generator\n"
      ]
    },
    {
      "cell_type": "code",
      "source": [
        "def count_split(data): # much better would be to count 0 and 1 in y_*\n",
        "\n",
        "  data = list(data)\n",
        "  snake = [x for x in data if \"Snake_Images\" in x]\n",
        "  empty = [x for x in data if \"Empty\" in x]\n",
        "\n",
        "  print(f'total: {len(data)}')\n",
        "  print(f'snake: {len(snake)} ({len(snake)/len(data)*100:.2f}%)')\n",
        "  print(f'empty: {len(empty)} ({len(empty)/len(data)*100:.2f}%)')"
      ],
      "metadata": {
        "id": "nvYr1w73QYDC"
      },
      "execution_count": 9,
      "outputs": []
    },
    {
      "cell_type": "markdown",
      "source": [
        "Need to get the correct files subset for the given location and number of snake images"
      ],
      "metadata": {
        "id": "YGjBFKpwT-4r"
      }
    },
    {
      "cell_type": "code",
      "execution_count": 10,
      "metadata": {
        "colab": {
          "base_uri": "https://localhost:8080/"
        },
        "id": "n9EvY-CVKVb2",
        "outputId": "2d1677a9-f5a8-42fb-dfa6-12aa4b53747d"
      },
      "outputs": [
        {
          "output_type": "stream",
          "name": "stdout",
          "text": [
            "   Snake                 Date location camera  \\\n",
            "0      1  2016-03-08 07:36:30      LPS   TSP1   \n",
            "1      1  2016-03-08 07:37:00      LPS   TSP1   \n",
            "2      1  2016-03-08 07:37:30      LPS   TSP1   \n",
            "3      1  2016-03-08 07:38:00      LPS   TSP1   \n",
            "4      1  2016-03-13 14:46:00      LPS   TSP1   \n",
            "\n",
            "                                                Path  cumsum_snakes  \\\n",
            "0  /content/drive/Shareddrives/Capstone 2023/Data...              1   \n",
            "1  /content/drive/Shareddrives/Capstone 2023/Data...              2   \n",
            "2  /content/drive/Shareddrives/Capstone 2023/Data...              3   \n",
            "3  /content/drive/Shareddrives/Capstone 2023/Data...              4   \n",
            "4  /content/drive/Shareddrives/Capstone 2023/Data...              5   \n",
            "\n",
            "   cumsum_snakes_total  cumsum_snakes_location  cumsum_snakes_camera  \n",
            "0                    1                       1                     1  \n",
            "1                    2                       2                     2  \n",
            "2                    3                       3                     3  \n",
            "3                    4                       4                     4  \n",
            "4                    5                       5                     5  \n",
            "       Snake                 Date location  camera  \\\n",
            "23270      0  2019-10-13 14:54:00      LPS  APTR12   \n",
            "23271      0  2019-10-13 14:54:30      LPS  APTR12   \n",
            "23272      0  2019-10-13 14:55:00      LPS  APTR12   \n",
            "23273      0  2019-10-13 14:55:30      LPS  APTR12   \n",
            "23274      0  2019-10-13 14:56:00      LPS  APTR12   \n",
            "\n",
            "                                                    Path  cumsum_snakes  \\\n",
            "23270  /content/drive/Shareddrives/Capstone 2023/Data...           2129   \n",
            "23271  /content/drive/Shareddrives/Capstone 2023/Data...           2129   \n",
            "23272  /content/drive/Shareddrives/Capstone 2023/Data...           2129   \n",
            "23273  /content/drive/Shareddrives/Capstone 2023/Data...           2129   \n",
            "23274  /content/drive/Shareddrives/Capstone 2023/Data...           2129   \n",
            "\n",
            "       cumsum_snakes_total  cumsum_snakes_location  cumsum_snakes_camera  \n",
            "23270                 4203                    2129                   277  \n",
            "23271                 4203                    2129                   277  \n",
            "23272                 4203                    2129                   277  \n",
            "23273                 4203                    2129                   277  \n",
            "23274                 4203                    2129                   277  \n"
          ]
        }
      ],
      "source": [
        "import pandas as pd\n",
        "\n",
        "df = pd.read_csv(\"/content/drive/Shareddrives/Capstone 2023/Data/Time_Data/cumulative_organized_Data_Path.csv\")\n",
        "first_column = df.columns[0]\n",
        "df = df.drop([first_column], axis=1)\n",
        "\n",
        "empty_img = \"MicrosoftSnakeAlgorithmProject/Snake_Images/FL_Snakes/WF8/IMG_7087.JPG\"\n",
        "df = df[df.Path != empty_img]\n",
        "\n",
        "print(df.head(5))\n",
        "print(df.tail(5))"
      ]
    },
    {
      "cell_type": "code",
      "source": [
        "n_snakes = 1200\n",
        "location = 'FL'\n",
        "\n",
        "df_sub = df[(df.location == location) & (df.cumsum_snakes <= n_snakes)]\n",
        "\n",
        "filenames_arr = df_sub.Path\n",
        "labels_arr = df_sub.Snake\n",
        "\n",
        "df_sub.shape"
      ],
      "metadata": {
        "colab": {
          "base_uri": "https://localhost:8080/"
        },
        "id": "yiN75_ZsUILP",
        "outputId": "c34ff9c2-c231-4dfb-fe14-446534677bd1"
      },
      "execution_count": 11,
      "outputs": [
        {
          "output_type": "execute_result",
          "data": {
            "text/plain": [
              "(7659, 9)"
            ]
          },
          "metadata": {},
          "execution_count": 11
        }
      ]
    },
    {
      "cell_type": "code",
      "execution_count": 12,
      "metadata": {
        "colab": {
          "base_uri": "https://localhost:8080/",
          "height": 407
        },
        "id": "NTvGroJoJPhA",
        "outputId": "5fddb4ea-afe0-42a1-8b2e-cfbce113437e"
      },
      "outputs": [
        {
          "output_type": "error",
          "ename": "KeyError",
          "evalue": "ignored",
          "traceback": [
            "\u001b[0;31m---------------------------------------------------------------------------\u001b[0m",
            "\u001b[0;31mKeyError\u001b[0m                                  Traceback (most recent call last)",
            "\u001b[0;32m<ipython-input-12-18ace0ae0678>\u001b[0m in \u001b[0;36m<cell line: 4>\u001b[0;34m()\u001b[0m\n\u001b[1;32m      2\u001b[0m \u001b[0mbatch_size\u001b[0m \u001b[0;34m=\u001b[0m \u001b[0;36m32\u001b[0m\u001b[0;34m\u001b[0m\u001b[0;34m\u001b[0m\u001b[0m\n\u001b[1;32m      3\u001b[0m \u001b[0;34m\u001b[0m\u001b[0m\n\u001b[0;32m----> 4\u001b[0;31m \u001b[0mfilenames_resampled\u001b[0m\u001b[0;34m,\u001b[0m \u001b[0mlabels_resampled\u001b[0m \u001b[0;34m=\u001b[0m \u001b[0mresample_classes\u001b[0m\u001b[0;34m(\u001b[0m\u001b[0mfilenames_arr\u001b[0m\u001b[0;34m,\u001b[0m \u001b[0mlabels_arr\u001b[0m\u001b[0;34m,\u001b[0m \u001b[0mseed\u001b[0m \u001b[0;34m=\u001b[0m \u001b[0mseed\u001b[0m\u001b[0;34m)\u001b[0m\u001b[0;34m\u001b[0m\u001b[0;34m\u001b[0m\u001b[0m\n\u001b[0m\u001b[1;32m      5\u001b[0m \u001b[0mx_train\u001b[0m\u001b[0;34m,\u001b[0m \u001b[0my_train\u001b[0m\u001b[0;34m,\u001b[0m \u001b[0mx_val\u001b[0m\u001b[0;34m,\u001b[0m \u001b[0my_val\u001b[0m\u001b[0;34m,\u001b[0m \u001b[0mx_test\u001b[0m\u001b[0;34m,\u001b[0m \u001b[0my_test\u001b[0m \u001b[0;34m=\u001b[0m \u001b[0msplit_data\u001b[0m\u001b[0;34m(\u001b[0m\u001b[0mfilenames_resampled\u001b[0m\u001b[0;34m,\u001b[0m \u001b[0mlabels_resampled\u001b[0m\u001b[0;34m,\u001b[0m \u001b[0mtrain\u001b[0m \u001b[0;34m=\u001b[0m \u001b[0;36m0.8\u001b[0m\u001b[0;34m,\u001b[0m \u001b[0mtest\u001b[0m \u001b[0;34m=\u001b[0m \u001b[0;36m0.15\u001b[0m\u001b[0;34m)\u001b[0m\u001b[0;34m\u001b[0m\u001b[0;34m\u001b[0m\u001b[0m\n\u001b[1;32m      6\u001b[0m \u001b[0;34m\u001b[0m\u001b[0m\n",
            "\u001b[0;32m<ipython-input-5-7fd0f45fd286>\u001b[0m in \u001b[0;36mresample_classes\u001b[0;34m(files, labels, seed)\u001b[0m\n\u001b[1;32m     17\u001b[0m \u001b[0;34m\u001b[0m\u001b[0m\n\u001b[1;32m     18\u001b[0m   \u001b[0;31m# subset to resampled data - classes now balanced\u001b[0m\u001b[0;34m\u001b[0m\u001b[0;34m\u001b[0m\u001b[0m\n\u001b[0;32m---> 19\u001b[0;31m   \u001b[0mfilenames_resampled\u001b[0m \u001b[0;34m=\u001b[0m \u001b[0mfiles\u001b[0m\u001b[0;34m[\u001b[0m\u001b[0mout_index\u001b[0m\u001b[0;34m]\u001b[0m\u001b[0;34m\u001b[0m\u001b[0;34m\u001b[0m\u001b[0m\n\u001b[0m\u001b[1;32m     20\u001b[0m   \u001b[0mlabels_resampled\u001b[0m \u001b[0;34m=\u001b[0m \u001b[0mlabels\u001b[0m\u001b[0;34m[\u001b[0m\u001b[0mout_index\u001b[0m\u001b[0;34m]\u001b[0m\u001b[0;34m\u001b[0m\u001b[0;34m\u001b[0m\u001b[0m\n\u001b[1;32m     21\u001b[0m \u001b[0;34m\u001b[0m\u001b[0m\n",
            "\u001b[0;32m/usr/local/lib/python3.10/dist-packages/pandas/core/series.py\u001b[0m in \u001b[0;36m__getitem__\u001b[0;34m(self, key)\u001b[0m\n\u001b[1;32m   1005\u001b[0m             \u001b[0;32mreturn\u001b[0m \u001b[0mself\u001b[0m\u001b[0;34m.\u001b[0m\u001b[0m_get_values\u001b[0m\u001b[0;34m(\u001b[0m\u001b[0mkey\u001b[0m\u001b[0;34m)\u001b[0m\u001b[0;34m\u001b[0m\u001b[0;34m\u001b[0m\u001b[0m\n\u001b[1;32m   1006\u001b[0m \u001b[0;34m\u001b[0m\u001b[0m\n\u001b[0;32m-> 1007\u001b[0;31m         \u001b[0;32mreturn\u001b[0m \u001b[0mself\u001b[0m\u001b[0;34m.\u001b[0m\u001b[0m_get_with\u001b[0m\u001b[0;34m(\u001b[0m\u001b[0mkey\u001b[0m\u001b[0;34m)\u001b[0m\u001b[0;34m\u001b[0m\u001b[0;34m\u001b[0m\u001b[0m\n\u001b[0m\u001b[1;32m   1008\u001b[0m \u001b[0;34m\u001b[0m\u001b[0m\n\u001b[1;32m   1009\u001b[0m     \u001b[0;32mdef\u001b[0m \u001b[0m_get_with\u001b[0m\u001b[0;34m(\u001b[0m\u001b[0mself\u001b[0m\u001b[0;34m,\u001b[0m \u001b[0mkey\u001b[0m\u001b[0;34m)\u001b[0m\u001b[0;34m:\u001b[0m\u001b[0;34m\u001b[0m\u001b[0;34m\u001b[0m\u001b[0m\n",
            "\u001b[0;32m/usr/local/lib/python3.10/dist-packages/pandas/core/series.py\u001b[0m in \u001b[0;36m_get_with\u001b[0;34m(self, key)\u001b[0m\n\u001b[1;32m   1040\u001b[0m             \u001b[0;31m#  (i.e. self.iloc) or label-based (i.e. self.loc)\u001b[0m\u001b[0;34m\u001b[0m\u001b[0;34m\u001b[0m\u001b[0m\n\u001b[1;32m   1041\u001b[0m             \u001b[0;32mif\u001b[0m \u001b[0;32mnot\u001b[0m \u001b[0mself\u001b[0m\u001b[0;34m.\u001b[0m\u001b[0mindex\u001b[0m\u001b[0;34m.\u001b[0m\u001b[0m_should_fallback_to_positional\u001b[0m\u001b[0;34m:\u001b[0m\u001b[0;34m\u001b[0m\u001b[0;34m\u001b[0m\u001b[0m\n\u001b[0;32m-> 1042\u001b[0;31m                 \u001b[0;32mreturn\u001b[0m \u001b[0mself\u001b[0m\u001b[0;34m.\u001b[0m\u001b[0mloc\u001b[0m\u001b[0;34m[\u001b[0m\u001b[0mkey\u001b[0m\u001b[0;34m]\u001b[0m\u001b[0;34m\u001b[0m\u001b[0;34m\u001b[0m\u001b[0m\n\u001b[0m\u001b[1;32m   1043\u001b[0m             \u001b[0;32melse\u001b[0m\u001b[0;34m:\u001b[0m\u001b[0;34m\u001b[0m\u001b[0;34m\u001b[0m\u001b[0m\n\u001b[1;32m   1044\u001b[0m                 \u001b[0;32mreturn\u001b[0m \u001b[0mself\u001b[0m\u001b[0;34m.\u001b[0m\u001b[0miloc\u001b[0m\u001b[0;34m[\u001b[0m\u001b[0mkey\u001b[0m\u001b[0;34m]\u001b[0m\u001b[0;34m\u001b[0m\u001b[0;34m\u001b[0m\u001b[0m\n",
            "\u001b[0;32m/usr/local/lib/python3.10/dist-packages/pandas/core/indexing.py\u001b[0m in \u001b[0;36m__getitem__\u001b[0;34m(self, key)\u001b[0m\n\u001b[1;32m   1071\u001b[0m \u001b[0;34m\u001b[0m\u001b[0m\n\u001b[1;32m   1072\u001b[0m             \u001b[0mmaybe_callable\u001b[0m \u001b[0;34m=\u001b[0m \u001b[0mcom\u001b[0m\u001b[0;34m.\u001b[0m\u001b[0mapply_if_callable\u001b[0m\u001b[0;34m(\u001b[0m\u001b[0mkey\u001b[0m\u001b[0;34m,\u001b[0m \u001b[0mself\u001b[0m\u001b[0;34m.\u001b[0m\u001b[0mobj\u001b[0m\u001b[0;34m)\u001b[0m\u001b[0;34m\u001b[0m\u001b[0;34m\u001b[0m\u001b[0m\n\u001b[0;32m-> 1073\u001b[0;31m             \u001b[0;32mreturn\u001b[0m \u001b[0mself\u001b[0m\u001b[0;34m.\u001b[0m\u001b[0m_getitem_axis\u001b[0m\u001b[0;34m(\u001b[0m\u001b[0mmaybe_callable\u001b[0m\u001b[0;34m,\u001b[0m \u001b[0maxis\u001b[0m\u001b[0;34m=\u001b[0m\u001b[0maxis\u001b[0m\u001b[0;34m)\u001b[0m\u001b[0;34m\u001b[0m\u001b[0;34m\u001b[0m\u001b[0m\n\u001b[0m\u001b[1;32m   1074\u001b[0m \u001b[0;34m\u001b[0m\u001b[0m\n\u001b[1;32m   1075\u001b[0m     \u001b[0;32mdef\u001b[0m \u001b[0m_is_scalar_access\u001b[0m\u001b[0;34m(\u001b[0m\u001b[0mself\u001b[0m\u001b[0;34m,\u001b[0m \u001b[0mkey\u001b[0m\u001b[0;34m:\u001b[0m \u001b[0mtuple\u001b[0m\u001b[0;34m)\u001b[0m\u001b[0;34m:\u001b[0m\u001b[0;34m\u001b[0m\u001b[0;34m\u001b[0m\u001b[0m\n",
            "\u001b[0;32m/usr/local/lib/python3.10/dist-packages/pandas/core/indexing.py\u001b[0m in \u001b[0;36m_getitem_axis\u001b[0;34m(self, key, axis)\u001b[0m\n\u001b[1;32m   1299\u001b[0m                     \u001b[0;32mraise\u001b[0m \u001b[0mValueError\u001b[0m\u001b[0;34m(\u001b[0m\u001b[0;34m\"Cannot index with multidimensional key\"\u001b[0m\u001b[0;34m)\u001b[0m\u001b[0;34m\u001b[0m\u001b[0;34m\u001b[0m\u001b[0m\n\u001b[1;32m   1300\u001b[0m \u001b[0;34m\u001b[0m\u001b[0m\n\u001b[0;32m-> 1301\u001b[0;31m                 \u001b[0;32mreturn\u001b[0m \u001b[0mself\u001b[0m\u001b[0;34m.\u001b[0m\u001b[0m_getitem_iterable\u001b[0m\u001b[0;34m(\u001b[0m\u001b[0mkey\u001b[0m\u001b[0;34m,\u001b[0m \u001b[0maxis\u001b[0m\u001b[0;34m=\u001b[0m\u001b[0maxis\u001b[0m\u001b[0;34m)\u001b[0m\u001b[0;34m\u001b[0m\u001b[0;34m\u001b[0m\u001b[0m\n\u001b[0m\u001b[1;32m   1302\u001b[0m \u001b[0;34m\u001b[0m\u001b[0m\n\u001b[1;32m   1303\u001b[0m             \u001b[0;31m# nested tuple slicing\u001b[0m\u001b[0;34m\u001b[0m\u001b[0;34m\u001b[0m\u001b[0m\n",
            "\u001b[0;32m/usr/local/lib/python3.10/dist-packages/pandas/core/indexing.py\u001b[0m in \u001b[0;36m_getitem_iterable\u001b[0;34m(self, key, axis)\u001b[0m\n\u001b[1;32m   1237\u001b[0m \u001b[0;34m\u001b[0m\u001b[0m\n\u001b[1;32m   1238\u001b[0m         \u001b[0;31m# A collection of keys\u001b[0m\u001b[0;34m\u001b[0m\u001b[0;34m\u001b[0m\u001b[0m\n\u001b[0;32m-> 1239\u001b[0;31m         \u001b[0mkeyarr\u001b[0m\u001b[0;34m,\u001b[0m \u001b[0mindexer\u001b[0m \u001b[0;34m=\u001b[0m \u001b[0mself\u001b[0m\u001b[0;34m.\u001b[0m\u001b[0m_get_listlike_indexer\u001b[0m\u001b[0;34m(\u001b[0m\u001b[0mkey\u001b[0m\u001b[0;34m,\u001b[0m \u001b[0maxis\u001b[0m\u001b[0;34m)\u001b[0m\u001b[0;34m\u001b[0m\u001b[0;34m\u001b[0m\u001b[0m\n\u001b[0m\u001b[1;32m   1240\u001b[0m         return self.obj._reindex_with_indexers(\n\u001b[1;32m   1241\u001b[0m             \u001b[0;34m{\u001b[0m\u001b[0maxis\u001b[0m\u001b[0;34m:\u001b[0m \u001b[0;34m[\u001b[0m\u001b[0mkeyarr\u001b[0m\u001b[0;34m,\u001b[0m \u001b[0mindexer\u001b[0m\u001b[0;34m]\u001b[0m\u001b[0;34m}\u001b[0m\u001b[0;34m,\u001b[0m \u001b[0mcopy\u001b[0m\u001b[0;34m=\u001b[0m\u001b[0;32mTrue\u001b[0m\u001b[0;34m,\u001b[0m \u001b[0mallow_dups\u001b[0m\u001b[0;34m=\u001b[0m\u001b[0;32mTrue\u001b[0m\u001b[0;34m\u001b[0m\u001b[0;34m\u001b[0m\u001b[0m\n",
            "\u001b[0;32m/usr/local/lib/python3.10/dist-packages/pandas/core/indexing.py\u001b[0m in \u001b[0;36m_get_listlike_indexer\u001b[0;34m(self, key, axis)\u001b[0m\n\u001b[1;32m   1430\u001b[0m         \u001b[0maxis_name\u001b[0m \u001b[0;34m=\u001b[0m \u001b[0mself\u001b[0m\u001b[0;34m.\u001b[0m\u001b[0mobj\u001b[0m\u001b[0;34m.\u001b[0m\u001b[0m_get_axis_name\u001b[0m\u001b[0;34m(\u001b[0m\u001b[0maxis\u001b[0m\u001b[0;34m)\u001b[0m\u001b[0;34m\u001b[0m\u001b[0;34m\u001b[0m\u001b[0m\n\u001b[1;32m   1431\u001b[0m \u001b[0;34m\u001b[0m\u001b[0m\n\u001b[0;32m-> 1432\u001b[0;31m         \u001b[0mkeyarr\u001b[0m\u001b[0;34m,\u001b[0m \u001b[0mindexer\u001b[0m \u001b[0;34m=\u001b[0m \u001b[0max\u001b[0m\u001b[0;34m.\u001b[0m\u001b[0m_get_indexer_strict\u001b[0m\u001b[0;34m(\u001b[0m\u001b[0mkey\u001b[0m\u001b[0;34m,\u001b[0m \u001b[0maxis_name\u001b[0m\u001b[0;34m)\u001b[0m\u001b[0;34m\u001b[0m\u001b[0;34m\u001b[0m\u001b[0m\n\u001b[0m\u001b[1;32m   1433\u001b[0m \u001b[0;34m\u001b[0m\u001b[0m\n\u001b[1;32m   1434\u001b[0m         \u001b[0;32mreturn\u001b[0m \u001b[0mkeyarr\u001b[0m\u001b[0;34m,\u001b[0m \u001b[0mindexer\u001b[0m\u001b[0;34m\u001b[0m\u001b[0;34m\u001b[0m\u001b[0m\n",
            "\u001b[0;32m/usr/local/lib/python3.10/dist-packages/pandas/core/indexes/base.py\u001b[0m in \u001b[0;36m_get_indexer_strict\u001b[0;34m(self, key, axis_name)\u001b[0m\n\u001b[1;32m   6068\u001b[0m             \u001b[0mkeyarr\u001b[0m\u001b[0;34m,\u001b[0m \u001b[0mindexer\u001b[0m\u001b[0;34m,\u001b[0m \u001b[0mnew_indexer\u001b[0m \u001b[0;34m=\u001b[0m \u001b[0mself\u001b[0m\u001b[0;34m.\u001b[0m\u001b[0m_reindex_non_unique\u001b[0m\u001b[0;34m(\u001b[0m\u001b[0mkeyarr\u001b[0m\u001b[0;34m)\u001b[0m\u001b[0;34m\u001b[0m\u001b[0;34m\u001b[0m\u001b[0m\n\u001b[1;32m   6069\u001b[0m \u001b[0;34m\u001b[0m\u001b[0m\n\u001b[0;32m-> 6070\u001b[0;31m         \u001b[0mself\u001b[0m\u001b[0;34m.\u001b[0m\u001b[0m_raise_if_missing\u001b[0m\u001b[0;34m(\u001b[0m\u001b[0mkeyarr\u001b[0m\u001b[0;34m,\u001b[0m \u001b[0mindexer\u001b[0m\u001b[0;34m,\u001b[0m \u001b[0maxis_name\u001b[0m\u001b[0;34m)\u001b[0m\u001b[0;34m\u001b[0m\u001b[0;34m\u001b[0m\u001b[0m\n\u001b[0m\u001b[1;32m   6071\u001b[0m \u001b[0;34m\u001b[0m\u001b[0m\n\u001b[1;32m   6072\u001b[0m         \u001b[0mkeyarr\u001b[0m \u001b[0;34m=\u001b[0m \u001b[0mself\u001b[0m\u001b[0;34m.\u001b[0m\u001b[0mtake\u001b[0m\u001b[0;34m(\u001b[0m\u001b[0mindexer\u001b[0m\u001b[0;34m)\u001b[0m\u001b[0;34m\u001b[0m\u001b[0;34m\u001b[0m\u001b[0m\n",
            "\u001b[0;32m/usr/local/lib/python3.10/dist-packages/pandas/core/indexes/base.py\u001b[0m in \u001b[0;36m_raise_if_missing\u001b[0;34m(self, key, indexer, axis_name)\u001b[0m\n\u001b[1;32m   6128\u001b[0m                 \u001b[0;32mif\u001b[0m \u001b[0muse_interval_msg\u001b[0m\u001b[0;34m:\u001b[0m\u001b[0;34m\u001b[0m\u001b[0;34m\u001b[0m\u001b[0m\n\u001b[1;32m   6129\u001b[0m                     \u001b[0mkey\u001b[0m \u001b[0;34m=\u001b[0m \u001b[0mlist\u001b[0m\u001b[0;34m(\u001b[0m\u001b[0mkey\u001b[0m\u001b[0;34m)\u001b[0m\u001b[0;34m\u001b[0m\u001b[0;34m\u001b[0m\u001b[0m\n\u001b[0;32m-> 6130\u001b[0;31m                 \u001b[0;32mraise\u001b[0m \u001b[0mKeyError\u001b[0m\u001b[0;34m(\u001b[0m\u001b[0;34mf\"None of [{key}] are in the [{axis_name}]\"\u001b[0m\u001b[0;34m)\u001b[0m\u001b[0;34m\u001b[0m\u001b[0;34m\u001b[0m\u001b[0m\n\u001b[0m\u001b[1;32m   6131\u001b[0m \u001b[0;34m\u001b[0m\u001b[0m\n\u001b[1;32m   6132\u001b[0m             \u001b[0mnot_found\u001b[0m \u001b[0;34m=\u001b[0m \u001b[0mlist\u001b[0m\u001b[0;34m(\u001b[0m\u001b[0mensure_index\u001b[0m\u001b[0;34m(\u001b[0m\u001b[0mkey\u001b[0m\u001b[0;34m)\u001b[0m\u001b[0;34m[\u001b[0m\u001b[0mmissing_mask\u001b[0m\u001b[0;34m.\u001b[0m\u001b[0mnonzero\u001b[0m\u001b[0;34m(\u001b[0m\u001b[0;34m)\u001b[0m\u001b[0;34m[\u001b[0m\u001b[0;36m0\u001b[0m\u001b[0;34m]\u001b[0m\u001b[0;34m]\u001b[0m\u001b[0;34m.\u001b[0m\u001b[0munique\u001b[0m\u001b[0;34m(\u001b[0m\u001b[0;34m)\u001b[0m\u001b[0;34m)\u001b[0m\u001b[0;34m\u001b[0m\u001b[0;34m\u001b[0m\u001b[0m\n",
            "\u001b[0;31mKeyError\u001b[0m: \"None of [Int64Index([   0,    1,    2,    3,    4,    5,    6,    7,    8,    9,\\n            ...\\n            4128, 4408, 6477, 5198, 1929, 4658, 6982,  849, 2719, 3979],\\n           dtype='int64', length=2400)] are in the [index]\""
          ]
        }
      ],
      "source": [
        "seed = 1\n",
        "batch_size = 32\n",
        "\n",
        "filenames_resampled, labels_resampled = resample_classes(filenames_arr, labels_arr, seed = seed)\n",
        "x_train, y_train, x_val, y_val, x_test, y_test = split_data(filenames_resampled, labels_resampled, train = 0.8, test = 0.15)\n",
        "\n",
        "print()\n",
        "count_split(x_train)\n",
        "count_split(x_val)\n",
        "count_split(x_test)\n",
        "print()\n",
        "\n",
        "# train_generator, validation_generator, test_generator = create_generators(x_train, y_train, x_val, y_val, x_test, y_test, batch_size = batch_size)"
      ]
    },
    {
      "cell_type": "markdown",
      "metadata": {
        "id": "3RFAPQerxj5d"
      },
      "source": [
        "## CNN"
      ]
    },
    {
      "cell_type": "code",
      "source": [
        "# create data generators\n",
        "train_generator, validation_generator, test_generator = create_generators(x_train, y_train, x_val, y_val, x_test, y_test, batch_size = batch_size, log = False)"
      ],
      "metadata": {
        "id": "Annq0ORw2d-O"
      },
      "execution_count": null,
      "outputs": []
    },
    {
      "cell_type": "code",
      "execution_count": null,
      "metadata": {
        "id": "I2rsHpz40FMw"
      },
      "outputs": [],
      "source": [
        "# create model\n",
        "def build_model():\n",
        "\n",
        "    model = models.Sequential()\n",
        "    model.add(layers.Conv2D(16, (3, 3), activation='relu', input_shape=(384, 512, 1)))\n",
        "    model.add(layers.MaxPooling2D((2, 2)))\n",
        "    model.add(layers.Conv2D(32, (3, 3), activation='relu'))\n",
        "    model.add(layers.MaxPooling2D((2, 2)))\n",
        "    model.add(layers.Conv2D(64, (3, 3), activation='relu'))\n",
        "    model.add(layers.MaxPooling2D((2, 2)))\n",
        "\n",
        "    model.add(layers.Flatten())\n",
        "    model.add(layers.Dense(128, activation='relu'))\n",
        "    model.add(layers.Dense(1, activation = 'sigmoid'))\n",
        "\n",
        "    # compile model with desired features\n",
        "    model.compile(\n",
        "        optimizer = \"adam\", loss = \"binary_crossentropy\",\n",
        "        metrics=['accuracy']\n",
        "    )\n",
        "\n",
        "    return model"
      ]
    },
    {
      "cell_type": "code",
      "execution_count": null,
      "metadata": {
        "id": "2TeCVESl0Kou"
      },
      "outputs": [],
      "source": [
        "# build the model\n",
        "cnn_model = build_model()"
      ]
    },
    {
      "cell_type": "code",
      "execution_count": null,
      "metadata": {
        "colab": {
          "base_uri": "https://localhost:8080/"
        },
        "id": "cqn7xDxKUkEg",
        "outputId": "3b75a3ea-5d7d-492b-dff7-9ed4aa339bba"
      },
      "outputs": [
        {
          "output_type": "stream",
          "name": "stdout",
          "text": [
            "Model: \"sequential_2\"\n",
            "_________________________________________________________________\n",
            " Layer (type)                Output Shape              Param #   \n",
            "=================================================================\n",
            " conv2d_6 (Conv2D)           (None, 382, 510, 16)      160       \n",
            "                                                                 \n",
            " max_pooling2d_6 (MaxPooling  (None, 191, 255, 16)     0         \n",
            " 2D)                                                             \n",
            "                                                                 \n",
            " conv2d_7 (Conv2D)           (None, 189, 253, 32)      4640      \n",
            "                                                                 \n",
            " max_pooling2d_7 (MaxPooling  (None, 94, 126, 32)      0         \n",
            " 2D)                                                             \n",
            "                                                                 \n",
            " conv2d_8 (Conv2D)           (None, 92, 124, 64)       18496     \n",
            "                                                                 \n",
            " max_pooling2d_8 (MaxPooling  (None, 46, 62, 64)       0         \n",
            " 2D)                                                             \n",
            "                                                                 \n",
            " flatten_2 (Flatten)         (None, 182528)            0         \n",
            "                                                                 \n",
            " dense_4 (Dense)             (None, 128)               23363712  \n",
            "                                                                 \n",
            " dense_5 (Dense)             (None, 1)                 129       \n",
            "                                                                 \n",
            "=================================================================\n",
            "Total params: 23,387,137\n",
            "Trainable params: 23,387,137\n",
            "Non-trainable params: 0\n",
            "_________________________________________________________________\n"
          ]
        }
      ],
      "source": [
        "# view model architecture\n",
        "cnn_model.summary()"
      ]
    },
    {
      "cell_type": "code",
      "execution_count": null,
      "metadata": {
        "colab": {
          "base_uri": "https://localhost:8080/"
        },
        "id": "7n3LFWNX0oJ2",
        "outputId": "e474c255-5bb1-46b6-a310-8a3b698fefea"
      },
      "outputs": [
        {
          "output_type": "stream",
          "name": "stdout",
          "text": [
            "Epoch 1/3\n",
            "60/60 [==============================] - 620s 10s/step - loss: 94.3399 - accuracy: 0.8047 - val_loss: 0.0404 - val_accuracy: 0.9896\n",
            "Epoch 2/3\n",
            "60/60 [==============================] - 504s 8s/step - loss: 0.0412 - accuracy: 0.9880 - val_loss: 0.0233 - val_accuracy: 0.9896\n",
            "Epoch 3/3\n",
            "60/60 [==============================] - 492s 8s/step - loss: 0.0063 - accuracy: 0.9984 - val_loss: 0.0205 - val_accuracy: 0.9896\n"
          ]
        }
      ],
      "source": [
        "cnn_fit = cnn_model.fit(\n",
        "    train_generator,\n",
        "    steps_per_epoch = int(x_train.shape[0] // batch_size),\n",
        "    # steps_per_epoch = 10,\n",
        "    epochs = 3,\n",
        "    verbose = 1,\n",
        "    validation_data = validation_generator,\n",
        "    validation_steps = int(x_val.shape[0] // batch_size)\n",
        "    # validation_steps = 3\n",
        ")"
      ]
    },
    {
      "cell_type": "code",
      "execution_count": null,
      "metadata": {
        "id": "tkw76jZoDjyN",
        "colab": {
          "base_uri": "https://localhost:8080/"
        },
        "outputId": "0e5bdc9c-f4f5-4beb-a046-d55b9680a993"
      },
      "outputs": [
        {
          "output_type": "stream",
          "name": "stdout",
          "text": [
            "12/12 [==============================] - 86s 7s/step\n"
          ]
        }
      ],
      "source": [
        "model_predict = cnn_model.predict(\n",
        "    test_generator,\n",
        ")"
      ]
    },
    {
      "cell_type": "code",
      "execution_count": null,
      "metadata": {
        "id": "DHhm9V2j78V0",
        "colab": {
          "base_uri": "https://localhost:8080/"
        },
        "outputId": "71728a26-84a5-4a76-89e2-ddb05f4c91a6"
      },
      "outputs": [
        {
          "output_type": "execute_result",
          "data": {
            "text/plain": [
              "361"
            ]
          },
          "metadata": {},
          "execution_count": 69
        }
      ],
      "source": [
        "# get class predictions\n",
        "predictions_cnn = model_predict > 0.5\n",
        "predictions_cnn = predictions_cnn.reshape(x_test.shape[0])\n",
        "predictions_cnn.shape[0]"
      ]
    },
    {
      "cell_type": "code",
      "source": [
        "set(list(predictions_cnn.reshape(predictions_cnn.shape[0])))"
      ],
      "metadata": {
        "colab": {
          "base_uri": "https://localhost:8080/"
        },
        "id": "wkSZfPT7rHTh",
        "outputId": "f62e154c-dd0c-498e-932f-9f35eb0db29f"
      },
      "execution_count": null,
      "outputs": [
        {
          "output_type": "execute_result",
          "data": {
            "text/plain": [
              "{False, True}"
            ]
          },
          "metadata": {},
          "execution_count": 70
        }
      ]
    },
    {
      "cell_type": "code",
      "execution_count": null,
      "metadata": {
        "id": "CoTUxBArKjTf",
        "colab": {
          "base_uri": "https://localhost:8080/",
          "height": 467
        },
        "outputId": "fad7a347-e5a3-4934-b1f5-fc50e9021375"
      },
      "outputs": [
        {
          "output_type": "execute_result",
          "data": {
            "text/plain": [
              "<sklearn.metrics._plot.confusion_matrix.ConfusionMatrixDisplay at 0x7eea46c18f10>"
            ]
          },
          "metadata": {},
          "execution_count": 71
        },
        {
          "output_type": "display_data",
          "data": {
            "text/plain": [
              "<Figure size 640x480 with 2 Axes>"
            ],
            "image/png": "[encoded data removed]"
          },
          "metadata": {}
        }
      ],
      "source": [
        "# plot confusion matrix\n",
        "metrics.ConfusionMatrixDisplay.from_predictions(y_test, predictions_cnn, cmap = \"GnBu\")"
      ]
    },
    {
      "cell_type": "code",
      "execution_count": null,
      "metadata": {
        "id": "cW4daMTuKnSX",
        "colab": {
          "base_uri": "https://localhost:8080/"
        },
        "outputId": "f779651e-e1ed-40a0-858a-aacdc42fef01"
      },
      "outputs": [
        {
          "output_type": "stream",
          "name": "stdout",
          "text": [
            "accuracy: 0.997229916897507\n",
            "precision: 0.9945054945054945\n",
            "sensitivity: 1.0\n",
            "specificity: 0.9944444444444445\n",
            "f1_score: 0.9972451790633609\n"
          ]
        }
      ],
      "source": [
        "### model evaluation metrics\n",
        "\n",
        "# (true positive + true negative)/total\n",
        "accuracy = sklearn.metrics.accuracy_score(y_test, predictions_cnn)\n",
        "print(\"accuracy: \" + str(accuracy))\n",
        "\n",
        "# true positive/(true positive + false positive)\n",
        "precision = sklearn.metrics.precision_score(y_test, predictions_cnn)\n",
        "print(\"precision: \" + str(precision))\n",
        "\n",
        "# true positive/(true positive + false negative)\n",
        "sensitivity = sklearn.metrics.recall_score(y_test, predictions_cnn)\n",
        "print(\"sensitivity: \" + str(sensitivity))\n",
        "\n",
        "# true negative/(true negative + false positive)\n",
        "specificity = sklearn.metrics.recall_score(y_test, predictions_cnn, pos_label = 0)\n",
        "print(\"specificity: \" + str(specificity))\n",
        "\n",
        "# 2 * (precision*recall)/(precision+recall)\n",
        "f1_score = 2*(precision*sensitivity)/(precision+sensitivity)\n",
        "print(\"f1_score: \" + str(f1_score))\n",
        "\n",
        "# no false positives means precision and specificity will be 100%"
      ]
    },
    {
      "cell_type": "code",
      "execution_count": null,
      "metadata": {
        "id": "8IScJl10KsS-",
        "colab": {
          "base_uri": "https://localhost:8080/"
        },
        "outputId": "d169f571-0d70-4f02-82c8-dd5aa4790b6b"
      },
      "outputs": [
        {
          "output_type": "stream",
          "name": "stderr",
          "text": [
            "WARNING:absl:Found untraced functions such as _jit_compiled_convolution_op, _jit_compiled_convolution_op, _jit_compiled_convolution_op, _update_step_xla while saving (showing 4 of 4). These functions will not be directly callable after loading.\n"
          ]
        }
      ],
      "source": [
        "# save model\n",
        "cnn_model.save('../Snakes-or-No-Snakes/2023-08-04_1200cumsum-lps')"
      ]
    },
    {
      "cell_type": "code",
      "execution_count": null,
      "metadata": {
        "colab": {
          "base_uri": "https://localhost:8080/",
          "height": 467
        },
        "id": "T39EubL9LCQd",
        "outputId": "3656cb3c-c50b-4703-95c0-4036626b1a87"
      },
      "outputs": [
        {
          "output_type": "execute_result",
          "data": {
            "text/plain": [
              "<matplotlib.legend.Legend at 0x7eea476375b0>"
            ]
          },
          "metadata": {},
          "execution_count": 74
        },
        {
          "output_type": "display_data",
          "data": {
            "text/plain": [
              "<Figure size 640x480 with 1 Axes>"
            ],
            "image/png": "[encoded data removed]"
          },
          "metadata": {}
        }
      ],
      "source": [
        "# plot accuracy across epochs\n",
        "plt.plot(cnn_fit.history['accuracy'], label='accuracy')\n",
        "plt.plot(cnn_fit.history['val_accuracy'], label = 'val_accuracy')\n",
        "plt.xlabel('Epoch')\n",
        "plt.ylabel('Accuracy')\n",
        "plt.ylim([0.5, 1.05])\n",
        "plt.legend(loc='lower right')"
      ]
    },
    {
      "cell_type": "code",
      "execution_count": null,
      "metadata": {
        "id": "PrpaIv-BRTaM"
      },
      "outputs": [],
      "source": []
    }
  ]
}